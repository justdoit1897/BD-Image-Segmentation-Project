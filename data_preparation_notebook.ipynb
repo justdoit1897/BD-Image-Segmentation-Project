{
 "cells": [
  {
   "attachments": {},
   "cell_type": "markdown",
   "metadata": {},
   "source": [
    "# **<center> IMPLEMENTAZIONE </center>**\n"
   ]
  },
  {
   "attachments": {},
   "cell_type": "markdown",
   "metadata": {},
   "source": [
    "Scopo di questo progetto è quello di creare un modello per segmentare automaticamente lo stomaco e l'intestino nelle scansioni MRI, basandosi su un data set di queste scansioni per trovare soluzioni creative di deep learning che aiutino i pazienti oncologici a ricevere cure migliori.\n",
    "\n",
    "Il processo di data mining è una pipeline che si compone delle seguenti fasi:\n",
    "\n",
    "1. Data collection\n",
    "\n",
    "2. Data preprocessing\n",
    "\n",
    "3. Analytical processing\n",
    "\n",
    "Seguiremo pertanto questa pipeline, suddividendo il notebook in **tre** parti principali e spiegando nel dettaglio le scelte fatte. "
   ]
  },
  {
   "attachments": {},
   "cell_type": "markdown",
   "metadata": {},
   "source": [
    "# **<center> DATA COLLECTION </center>**"
   ]
  },
  {
   "attachments": {},
   "cell_type": "markdown",
   "metadata": {},
   "source": [
    "Questa fase serve a ... ed è di fondamentale importanza perchè buone scelte in questa fase possono avere un impatto significativo sull'intero processo di data mining. "
   ]
  },
  {
   "attachments": {},
   "cell_type": "markdown",
   "metadata": {},
   "source": [
    "## Elenco importazioni"
   ]
  },
  {
   "cell_type": "code",
   "execution_count": 16,
   "metadata": {},
   "outputs": [],
   "source": [
    "import os\n",
    "import pandas as pd"
   ]
  },
  {
   "attachments": {},
   "cell_type": "markdown",
   "metadata": {},
   "source": [
    "## Definizione percorsi di base"
   ]
  },
  {
   "cell_type": "code",
   "execution_count": 17,
   "metadata": {},
   "outputs": [],
   "source": [
    "BASE_DIR = \"../BD-Image-Segmentation-Comp/\" \n",
    "TRAIN_DIR = os.path.join(BASE_DIR, 'train')\n",
    "TRAIN_CSV = os.path.join(BASE_DIR, 'train.csv')"
   ]
  },
  {
   "attachments": {},
   "cell_type": "markdown",
   "metadata": {},
   "source": [
    "Per gli algoritmi che prevedono casualità come, ad esempio, la costruzione dei batch, è necessaria la definizione di un seme che, per questioni di riproducibilità della run, abbiamo impostato ad un valore di default. "
   ]
  },
  {
   "cell_type": "code",
   "execution_count": 51,
   "metadata": {},
   "outputs": [],
   "source": [
    "SEED = 42"
   ]
  },
  {
   "attachments": {},
   "cell_type": "markdown",
   "metadata": {},
   "source": [
    "## Caricamento metadati"
   ]
  },
  {
   "attachments": {},
   "cell_type": "markdown",
   "metadata": {},
   "source": [
    "In questa fase importiamo il modello dal file `train.csv` al fine di ..."
   ]
  },
  {
   "cell_type": "code",
   "execution_count": 18,
   "metadata": {},
   "outputs": [
    {
     "data": {
      "text/html": [
       "<div>\n",
       "<style scoped>\n",
       "    .dataframe tbody tr th:only-of-type {\n",
       "        vertical-align: middle;\n",
       "    }\n",
       "\n",
       "    .dataframe tbody tr th {\n",
       "        vertical-align: top;\n",
       "    }\n",
       "\n",
       "    .dataframe thead th {\n",
       "        text-align: right;\n",
       "    }\n",
       "</style>\n",
       "<table border=\"1\" class=\"dataframe\">\n",
       "  <thead>\n",
       "    <tr style=\"text-align: right;\">\n",
       "      <th></th>\n",
       "      <th>id</th>\n",
       "      <th>class</th>\n",
       "      <th>segmentation</th>\n",
       "    </tr>\n",
       "  </thead>\n",
       "  <tbody>\n",
       "    <tr>\n",
       "      <th>0</th>\n",
       "      <td>case123_day20_slice_0001</td>\n",
       "      <td>large_bowel</td>\n",
       "      <td>NaN</td>\n",
       "    </tr>\n",
       "    <tr>\n",
       "      <th>1</th>\n",
       "      <td>case123_day20_slice_0001</td>\n",
       "      <td>small_bowel</td>\n",
       "      <td>NaN</td>\n",
       "    </tr>\n",
       "    <tr>\n",
       "      <th>2</th>\n",
       "      <td>case123_day20_slice_0001</td>\n",
       "      <td>stomach</td>\n",
       "      <td>NaN</td>\n",
       "    </tr>\n",
       "    <tr>\n",
       "      <th>3</th>\n",
       "      <td>case123_day20_slice_0002</td>\n",
       "      <td>large_bowel</td>\n",
       "      <td>NaN</td>\n",
       "    </tr>\n",
       "    <tr>\n",
       "      <th>4</th>\n",
       "      <td>case123_day20_slice_0002</td>\n",
       "      <td>small_bowel</td>\n",
       "      <td>NaN</td>\n",
       "    </tr>\n",
       "    <tr>\n",
       "      <th>5</th>\n",
       "      <td>case123_day20_slice_0002</td>\n",
       "      <td>stomach</td>\n",
       "      <td>NaN</td>\n",
       "    </tr>\n",
       "    <tr>\n",
       "      <th>6</th>\n",
       "      <td>case123_day20_slice_0003</td>\n",
       "      <td>large_bowel</td>\n",
       "      <td>NaN</td>\n",
       "    </tr>\n",
       "    <tr>\n",
       "      <th>7</th>\n",
       "      <td>case123_day20_slice_0003</td>\n",
       "      <td>small_bowel</td>\n",
       "      <td>NaN</td>\n",
       "    </tr>\n",
       "    <tr>\n",
       "      <th>8</th>\n",
       "      <td>case123_day20_slice_0003</td>\n",
       "      <td>stomach</td>\n",
       "      <td>NaN</td>\n",
       "    </tr>\n",
       "    <tr>\n",
       "      <th>9</th>\n",
       "      <td>case123_day20_slice_0004</td>\n",
       "      <td>large_bowel</td>\n",
       "      <td>NaN</td>\n",
       "    </tr>\n",
       "  </tbody>\n",
       "</table>\n",
       "</div>"
      ],
      "text/plain": [
       "                         id        class segmentation\n",
       "0  case123_day20_slice_0001  large_bowel          NaN\n",
       "1  case123_day20_slice_0001  small_bowel          NaN\n",
       "2  case123_day20_slice_0001      stomach          NaN\n",
       "3  case123_day20_slice_0002  large_bowel          NaN\n",
       "4  case123_day20_slice_0002  small_bowel          NaN\n",
       "5  case123_day20_slice_0002      stomach          NaN\n",
       "6  case123_day20_slice_0003  large_bowel          NaN\n",
       "7  case123_day20_slice_0003  small_bowel          NaN\n",
       "8  case123_day20_slice_0003      stomach          NaN\n",
       "9  case123_day20_slice_0004  large_bowel          NaN"
      ]
     },
     "execution_count": 18,
     "metadata": {},
     "output_type": "execute_result"
    }
   ],
   "source": [
    "# df stands for dataframe\n",
    "train_df = pd.read_csv(TRAIN_CSV)\n",
    "\n",
    "# Stampiamo le prime 10 righe del dataframe di partenza\n",
    "train_df.head(10)"
   ]
  },
  {
   "cell_type": "code",
   "execution_count": 19,
   "metadata": {},
   "outputs": [
    {
     "name": "stdout",
     "output_type": "stream",
     "text": [
      "<class 'pandas.core.frame.DataFrame'>\n",
      "RangeIndex: 115488 entries, 0 to 115487\n",
      "Data columns (total 3 columns):\n",
      " #   Column        Non-Null Count   Dtype \n",
      "---  ------        --------------   ----- \n",
      " 0   id            115488 non-null  object\n",
      " 1   class         115488 non-null  object\n",
      " 2   segmentation  33913 non-null   object\n",
      "dtypes: object(3)\n",
      "memory usage: 2.6+ MB\n"
     ]
    }
   ],
   "source": [
    "train_df.info()"
   ]
  },
  {
   "attachments": {},
   "cell_type": "markdown",
   "metadata": {},
   "source": [
    "Da una prima lettura, si evince che la maggior parte dei record non presenta alcuna segmentazione."
   ]
  },
  {
   "attachments": {},
   "cell_type": "markdown",
   "metadata": {},
   "source": [
    "# **<center> DATA PREPROCESSING </center>**"
   ]
  },
  {
   "attachments": {},
   "cell_type": "markdown",
   "metadata": {},
   "source": [
    "Finita la parte di data collection, segue la fase di **data preprocessing**, in cui ...\n",
    "\n",
    "Essa si compone dei seguenti passaggi:\n",
    "\n",
    "1. Feature extraction\n",
    "2. Data cleaning\n",
    "3. Feature selection and trasformation"
   ]
  },
  {
   "attachments": {},
   "cell_type": "markdown",
   "metadata": {},
   "source": [
    "## FEATURE EXTRACTION"
   ]
  },
  {
   "attachments": {},
   "cell_type": "markdown",
   "metadata": {},
   "source": [
    "Ci troviamo davanti grandi volumi di dati grezzi ed abbiamo poche indicazioni su come questi dovrebbero essere trasformati in database di feature significative."
   ]
  },
  {
   "attachments": {},
   "cell_type": "markdown",
   "metadata": {},
   "source": [
    "### Elenco importazioni"
   ]
  },
  {
   "cell_type": "code",
   "execution_count": 43,
   "metadata": {},
   "outputs": [],
   "source": [
    "import torch\n",
    "import numpy as np\n",
    "import matplotlib.pyplot as plt\n",
    "from PIL import Image\n",
    "from torchvision.transforms import ToTensor, Resize\n",
    "from torchvision.utils import make_grid\n",
    "from torch.utils.data import Dataset, DataLoader\n",
    "from glob import glob"
   ]
  },
  {
   "attachments": {},
   "cell_type": "markdown",
   "metadata": {},
   "source": [
    "### Preprocessing dei dati"
   ]
  },
  {
   "attachments": {},
   "cell_type": "markdown",
   "metadata": {},
   "source": [
    "Il primo passo consiste nell'estrarre gli id dei casi primari. Inoltre, dobbiamo trasformare le maschere di segmentazione in formato `str`, poiché i valori `NaN` saranno difficili da estrarre in altri modi.\n",
    "\n",
    "Creiamo una funzione ad hoc per modellare ed estrarre alcune informazioni preliminari, chiamata `data_preprocessing` che, ricevuto in input il dataframe non processato, fornisce in output un dataframe in cui vengono estratte:\n",
    "\n",
    "* la classe per la segmentazione\n",
    "\n",
    "* il numero del caso clinico\n",
    "\n",
    "* il giorno di valutazione del caso\n",
    "\n",
    "* un identificativo per il frame della scansione."
   ]
  },
  {
   "cell_type": "code",
   "execution_count": 21,
   "metadata": {},
   "outputs": [],
   "source": [
    "def data_preprocessing(df: pd.DataFrame) -> pd.DataFrame:\n",
    "    \n",
    "    df[\"segmentation\"] = df[\"segmentation\"].astype(\"str\")\n",
    "    \n",
    "    df[\"case_id\"] = df[\"id\"].apply(lambda x: x.split(\"_\")[0][4:])\n",
    "    \n",
    "    df[\"day_id\"] = df[\"id\"].apply(lambda x: x.split(\"_\")[1][3:])\n",
    "    \n",
    "    df[\"slice_id\"] = df[\"id\"].apply(lambda x: x.split(\"_\")[-1])\n",
    "    \n",
    "    return df"
   ]
  },
  {
   "attachments": {},
   "cell_type": "markdown",
   "metadata": {},
   "source": [
    "Il dataset appena formattato avrà quindi questa struttura:"
   ]
  },
  {
   "cell_type": "code",
   "execution_count": 22,
   "metadata": {},
   "outputs": [
    {
     "data": {
      "text/html": [
       "<div>\n",
       "<style scoped>\n",
       "    .dataframe tbody tr th:only-of-type {\n",
       "        vertical-align: middle;\n",
       "    }\n",
       "\n",
       "    .dataframe tbody tr th {\n",
       "        vertical-align: top;\n",
       "    }\n",
       "\n",
       "    .dataframe thead th {\n",
       "        text-align: right;\n",
       "    }\n",
       "</style>\n",
       "<table border=\"1\" class=\"dataframe\">\n",
       "  <thead>\n",
       "    <tr style=\"text-align: right;\">\n",
       "      <th></th>\n",
       "      <th>id</th>\n",
       "      <th>class</th>\n",
       "      <th>segmentation</th>\n",
       "      <th>case_id</th>\n",
       "      <th>day_id</th>\n",
       "      <th>slice_id</th>\n",
       "    </tr>\n",
       "  </thead>\n",
       "  <tbody>\n",
       "    <tr>\n",
       "      <th>0</th>\n",
       "      <td>case123_day20_slice_0001</td>\n",
       "      <td>large_bowel</td>\n",
       "      <td>nan</td>\n",
       "      <td>123</td>\n",
       "      <td>20</td>\n",
       "      <td>0001</td>\n",
       "    </tr>\n",
       "    <tr>\n",
       "      <th>1</th>\n",
       "      <td>case123_day20_slice_0001</td>\n",
       "      <td>small_bowel</td>\n",
       "      <td>nan</td>\n",
       "      <td>123</td>\n",
       "      <td>20</td>\n",
       "      <td>0001</td>\n",
       "    </tr>\n",
       "    <tr>\n",
       "      <th>2</th>\n",
       "      <td>case123_day20_slice_0001</td>\n",
       "      <td>stomach</td>\n",
       "      <td>nan</td>\n",
       "      <td>123</td>\n",
       "      <td>20</td>\n",
       "      <td>0001</td>\n",
       "    </tr>\n",
       "    <tr>\n",
       "      <th>3</th>\n",
       "      <td>case123_day20_slice_0002</td>\n",
       "      <td>large_bowel</td>\n",
       "      <td>nan</td>\n",
       "      <td>123</td>\n",
       "      <td>20</td>\n",
       "      <td>0002</td>\n",
       "    </tr>\n",
       "    <tr>\n",
       "      <th>4</th>\n",
       "      <td>case123_day20_slice_0002</td>\n",
       "      <td>small_bowel</td>\n",
       "      <td>nan</td>\n",
       "      <td>123</td>\n",
       "      <td>20</td>\n",
       "      <td>0002</td>\n",
       "    </tr>\n",
       "    <tr>\n",
       "      <th>5</th>\n",
       "      <td>case123_day20_slice_0002</td>\n",
       "      <td>stomach</td>\n",
       "      <td>nan</td>\n",
       "      <td>123</td>\n",
       "      <td>20</td>\n",
       "      <td>0002</td>\n",
       "    </tr>\n",
       "    <tr>\n",
       "      <th>6</th>\n",
       "      <td>case123_day20_slice_0003</td>\n",
       "      <td>large_bowel</td>\n",
       "      <td>nan</td>\n",
       "      <td>123</td>\n",
       "      <td>20</td>\n",
       "      <td>0003</td>\n",
       "    </tr>\n",
       "    <tr>\n",
       "      <th>7</th>\n",
       "      <td>case123_day20_slice_0003</td>\n",
       "      <td>small_bowel</td>\n",
       "      <td>nan</td>\n",
       "      <td>123</td>\n",
       "      <td>20</td>\n",
       "      <td>0003</td>\n",
       "    </tr>\n",
       "    <tr>\n",
       "      <th>8</th>\n",
       "      <td>case123_day20_slice_0003</td>\n",
       "      <td>stomach</td>\n",
       "      <td>nan</td>\n",
       "      <td>123</td>\n",
       "      <td>20</td>\n",
       "      <td>0003</td>\n",
       "    </tr>\n",
       "    <tr>\n",
       "      <th>9</th>\n",
       "      <td>case123_day20_slice_0004</td>\n",
       "      <td>large_bowel</td>\n",
       "      <td>nan</td>\n",
       "      <td>123</td>\n",
       "      <td>20</td>\n",
       "      <td>0004</td>\n",
       "    </tr>\n",
       "  </tbody>\n",
       "</table>\n",
       "</div>"
      ],
      "text/plain": [
       "                         id        class segmentation case_id day_id slice_id\n",
       "0  case123_day20_slice_0001  large_bowel          nan     123     20     0001\n",
       "1  case123_day20_slice_0001  small_bowel          nan     123     20     0001\n",
       "2  case123_day20_slice_0001      stomach          nan     123     20     0001\n",
       "3  case123_day20_slice_0002  large_bowel          nan     123     20     0002\n",
       "4  case123_day20_slice_0002  small_bowel          nan     123     20     0002\n",
       "5  case123_day20_slice_0002      stomach          nan     123     20     0002\n",
       "6  case123_day20_slice_0003  large_bowel          nan     123     20     0003\n",
       "7  case123_day20_slice_0003  small_bowel          nan     123     20     0003\n",
       "8  case123_day20_slice_0003      stomach          nan     123     20     0003\n",
       "9  case123_day20_slice_0004  large_bowel          nan     123     20     0004"
      ]
     },
     "execution_count": 22,
     "metadata": {},
     "output_type": "execute_result"
    }
   ],
   "source": [
    "train_df = data_preprocessing(train_df)\n",
    "\n",
    "# Stampiamo le prime 10 righe del dataframe processato\n",
    "train_df.head(10)"
   ]
  },
  {
   "attachments": {},
   "cell_type": "markdown",
   "metadata": {},
   "source": [
    "Creiamo la funzione `estrai_file_da_id` che, forniti in input il percorso di partenza (da cui costruire la struttura delle cartelle) e l'id del dataframe (da cui ricavare il file), ritorna la stringa del percorso relativo al file ricavato."
   ]
  },
  {
   "cell_type": "code",
   "execution_count": 23,
   "metadata": {},
   "outputs": [],
   "source": [
    "def estrai_file_da_id(base_dir: str, case_id: str) -> str:\n",
    "    \n",
    "    # Ricaviamo la cartella del caso a partire dall'id salvato nel dataframe, formattato\n",
    "    # sempre come \"caseXYZ_dayDD_slice_SSSS\"\n",
    "    case_folder = case_id.split(\"_\")[0]\n",
    "    \n",
    "    # In modo analogo, ricaviamo la cartella del giorno associato al caso appena estratto\n",
    "    # e l'inizio del nome del file dello slice relativo all'id salvato nel dataframe\n",
    "    day_folder = \"_\".join(case_id.split(\"_\")[:2])\n",
    "    file_starter = \"_\".join(case_id.split(\"_\")[2:])\n",
    "    \n",
    "    # Generiamo, a partire dalle info estratte, il percorso delle scansioni \n",
    "    folder = os.path.join(base_dir, case_folder, day_folder, \"scans\")\n",
    "    \n",
    "    # Ricaviamo i file con un nome avente struttura simile (i.e. che iniziano nello stesso\n",
    "    # modo)\n",
    "    file = glob(f\"{folder}/{file_starter}*\")\n",
    "    \n",
    "    # Poiché glob genera una lista, siamo forzati a considerare il primo file in modo\n",
    "    # esplicito, ma la glob restituirà sempre un solo file.\n",
    "    file = file[0]\n",
    "    \n",
    "    return file"
   ]
  },
  {
   "attachments": {},
   "cell_type": "markdown",
   "metadata": {},
   "source": [
    "Adesso, avendo creato un modo per ottenere gli id delle varie immagini, possiamo procedere all'estrazione dei percorsi."
   ]
  },
  {
   "cell_type": "code",
   "execution_count": 24,
   "metadata": {},
   "outputs": [
    {
     "data": {
      "text/html": [
       "<div>\n",
       "<style scoped>\n",
       "    .dataframe tbody tr th:only-of-type {\n",
       "        vertical-align: middle;\n",
       "    }\n",
       "\n",
       "    .dataframe tbody tr th {\n",
       "        vertical-align: top;\n",
       "    }\n",
       "\n",
       "    .dataframe thead th {\n",
       "        text-align: right;\n",
       "    }\n",
       "</style>\n",
       "<table border=\"1\" class=\"dataframe\">\n",
       "  <thead>\n",
       "    <tr style=\"text-align: right;\">\n",
       "      <th></th>\n",
       "      <th>id</th>\n",
       "      <th>class</th>\n",
       "      <th>segmentation</th>\n",
       "      <th>case_id</th>\n",
       "      <th>day_id</th>\n",
       "      <th>slice_id</th>\n",
       "      <th>path</th>\n",
       "    </tr>\n",
       "  </thead>\n",
       "  <tbody>\n",
       "    <tr>\n",
       "      <th>0</th>\n",
       "      <td>case123_day20_slice_0001</td>\n",
       "      <td>large_bowel</td>\n",
       "      <td>nan</td>\n",
       "      <td>123</td>\n",
       "      <td>20</td>\n",
       "      <td>0001</td>\n",
       "      <td>../BD-Image-Segmentation-Comp/train/case123/ca...</td>\n",
       "    </tr>\n",
       "    <tr>\n",
       "      <th>1</th>\n",
       "      <td>case123_day20_slice_0001</td>\n",
       "      <td>small_bowel</td>\n",
       "      <td>nan</td>\n",
       "      <td>123</td>\n",
       "      <td>20</td>\n",
       "      <td>0001</td>\n",
       "      <td>../BD-Image-Segmentation-Comp/train/case123/ca...</td>\n",
       "    </tr>\n",
       "    <tr>\n",
       "      <th>2</th>\n",
       "      <td>case123_day20_slice_0001</td>\n",
       "      <td>stomach</td>\n",
       "      <td>nan</td>\n",
       "      <td>123</td>\n",
       "      <td>20</td>\n",
       "      <td>0001</td>\n",
       "      <td>../BD-Image-Segmentation-Comp/train/case123/ca...</td>\n",
       "    </tr>\n",
       "    <tr>\n",
       "      <th>3</th>\n",
       "      <td>case123_day20_slice_0002</td>\n",
       "      <td>large_bowel</td>\n",
       "      <td>nan</td>\n",
       "      <td>123</td>\n",
       "      <td>20</td>\n",
       "      <td>0002</td>\n",
       "      <td>../BD-Image-Segmentation-Comp/train/case123/ca...</td>\n",
       "    </tr>\n",
       "    <tr>\n",
       "      <th>4</th>\n",
       "      <td>case123_day20_slice_0002</td>\n",
       "      <td>small_bowel</td>\n",
       "      <td>nan</td>\n",
       "      <td>123</td>\n",
       "      <td>20</td>\n",
       "      <td>0002</td>\n",
       "      <td>../BD-Image-Segmentation-Comp/train/case123/ca...</td>\n",
       "    </tr>\n",
       "    <tr>\n",
       "      <th>5</th>\n",
       "      <td>case123_day20_slice_0002</td>\n",
       "      <td>stomach</td>\n",
       "      <td>nan</td>\n",
       "      <td>123</td>\n",
       "      <td>20</td>\n",
       "      <td>0002</td>\n",
       "      <td>../BD-Image-Segmentation-Comp/train/case123/ca...</td>\n",
       "    </tr>\n",
       "    <tr>\n",
       "      <th>6</th>\n",
       "      <td>case123_day20_slice_0003</td>\n",
       "      <td>large_bowel</td>\n",
       "      <td>nan</td>\n",
       "      <td>123</td>\n",
       "      <td>20</td>\n",
       "      <td>0003</td>\n",
       "      <td>../BD-Image-Segmentation-Comp/train/case123/ca...</td>\n",
       "    </tr>\n",
       "    <tr>\n",
       "      <th>7</th>\n",
       "      <td>case123_day20_slice_0003</td>\n",
       "      <td>small_bowel</td>\n",
       "      <td>nan</td>\n",
       "      <td>123</td>\n",
       "      <td>20</td>\n",
       "      <td>0003</td>\n",
       "      <td>../BD-Image-Segmentation-Comp/train/case123/ca...</td>\n",
       "    </tr>\n",
       "    <tr>\n",
       "      <th>8</th>\n",
       "      <td>case123_day20_slice_0003</td>\n",
       "      <td>stomach</td>\n",
       "      <td>nan</td>\n",
       "      <td>123</td>\n",
       "      <td>20</td>\n",
       "      <td>0003</td>\n",
       "      <td>../BD-Image-Segmentation-Comp/train/case123/ca...</td>\n",
       "    </tr>\n",
       "    <tr>\n",
       "      <th>9</th>\n",
       "      <td>case123_day20_slice_0004</td>\n",
       "      <td>large_bowel</td>\n",
       "      <td>nan</td>\n",
       "      <td>123</td>\n",
       "      <td>20</td>\n",
       "      <td>0004</td>\n",
       "      <td>../BD-Image-Segmentation-Comp/train/case123/ca...</td>\n",
       "    </tr>\n",
       "  </tbody>\n",
       "</table>\n",
       "</div>"
      ],
      "text/plain": [
       "                         id        class segmentation case_id day_id slice_id  \\\n",
       "0  case123_day20_slice_0001  large_bowel          nan     123     20     0001   \n",
       "1  case123_day20_slice_0001  small_bowel          nan     123     20     0001   \n",
       "2  case123_day20_slice_0001      stomach          nan     123     20     0001   \n",
       "3  case123_day20_slice_0002  large_bowel          nan     123     20     0002   \n",
       "4  case123_day20_slice_0002  small_bowel          nan     123     20     0002   \n",
       "5  case123_day20_slice_0002      stomach          nan     123     20     0002   \n",
       "6  case123_day20_slice_0003  large_bowel          nan     123     20     0003   \n",
       "7  case123_day20_slice_0003  small_bowel          nan     123     20     0003   \n",
       "8  case123_day20_slice_0003      stomach          nan     123     20     0003   \n",
       "9  case123_day20_slice_0004  large_bowel          nan     123     20     0004   \n",
       "\n",
       "                                                path  \n",
       "0  ../BD-Image-Segmentation-Comp/train/case123/ca...  \n",
       "1  ../BD-Image-Segmentation-Comp/train/case123/ca...  \n",
       "2  ../BD-Image-Segmentation-Comp/train/case123/ca...  \n",
       "3  ../BD-Image-Segmentation-Comp/train/case123/ca...  \n",
       "4  ../BD-Image-Segmentation-Comp/train/case123/ca...  \n",
       "5  ../BD-Image-Segmentation-Comp/train/case123/ca...  \n",
       "6  ../BD-Image-Segmentation-Comp/train/case123/ca...  \n",
       "7  ../BD-Image-Segmentation-Comp/train/case123/ca...  \n",
       "8  ../BD-Image-Segmentation-Comp/train/case123/ca...  \n",
       "9  ../BD-Image-Segmentation-Comp/train/case123/ca...  "
      ]
     },
     "execution_count": 24,
     "metadata": {},
     "output_type": "execute_result"
    }
   ],
   "source": [
    "train_df[\"path\"] = train_df[\"id\"].apply(lambda x: estrai_file_da_id(TRAIN_DIR, x))\n",
    "\n",
    "# Stampiamo le prime 10 righe del dataframe processato\n",
    "train_df.head(10)"
   ]
  },
  {
   "attachments": {},
   "cell_type": "markdown",
   "metadata": {},
   "source": [
    "A partire dai percorsi dei file estratti, possiamo accedere a nuove informazioni, come l'**altezza** e la **larghezza** delle immagini, che andiamo ad usare come ulteriori chiavi del dataframe."
   ]
  },
  {
   "cell_type": "code",
   "execution_count": 25,
   "metadata": {},
   "outputs": [
    {
     "data": {
      "text/html": [
       "<div>\n",
       "<style scoped>\n",
       "    .dataframe tbody tr th:only-of-type {\n",
       "        vertical-align: middle;\n",
       "    }\n",
       "\n",
       "    .dataframe tbody tr th {\n",
       "        vertical-align: top;\n",
       "    }\n",
       "\n",
       "    .dataframe thead th {\n",
       "        text-align: right;\n",
       "    }\n",
       "</style>\n",
       "<table border=\"1\" class=\"dataframe\">\n",
       "  <thead>\n",
       "    <tr style=\"text-align: right;\">\n",
       "      <th></th>\n",
       "      <th>id</th>\n",
       "      <th>class</th>\n",
       "      <th>segmentation</th>\n",
       "      <th>case_id</th>\n",
       "      <th>day_id</th>\n",
       "      <th>slice_id</th>\n",
       "      <th>path</th>\n",
       "      <th>height</th>\n",
       "      <th>width</th>\n",
       "    </tr>\n",
       "  </thead>\n",
       "  <tbody>\n",
       "    <tr>\n",
       "      <th>0</th>\n",
       "      <td>case123_day20_slice_0001</td>\n",
       "      <td>large_bowel</td>\n",
       "      <td>nan</td>\n",
       "      <td>123</td>\n",
       "      <td>20</td>\n",
       "      <td>0001</td>\n",
       "      <td>../BD-Image-Segmentation-Comp/train/case123/ca...</td>\n",
       "      <td>266</td>\n",
       "      <td>266</td>\n",
       "    </tr>\n",
       "    <tr>\n",
       "      <th>1</th>\n",
       "      <td>case123_day20_slice_0001</td>\n",
       "      <td>small_bowel</td>\n",
       "      <td>nan</td>\n",
       "      <td>123</td>\n",
       "      <td>20</td>\n",
       "      <td>0001</td>\n",
       "      <td>../BD-Image-Segmentation-Comp/train/case123/ca...</td>\n",
       "      <td>266</td>\n",
       "      <td>266</td>\n",
       "    </tr>\n",
       "    <tr>\n",
       "      <th>2</th>\n",
       "      <td>case123_day20_slice_0001</td>\n",
       "      <td>stomach</td>\n",
       "      <td>nan</td>\n",
       "      <td>123</td>\n",
       "      <td>20</td>\n",
       "      <td>0001</td>\n",
       "      <td>../BD-Image-Segmentation-Comp/train/case123/ca...</td>\n",
       "      <td>266</td>\n",
       "      <td>266</td>\n",
       "    </tr>\n",
       "    <tr>\n",
       "      <th>3</th>\n",
       "      <td>case123_day20_slice_0002</td>\n",
       "      <td>large_bowel</td>\n",
       "      <td>nan</td>\n",
       "      <td>123</td>\n",
       "      <td>20</td>\n",
       "      <td>0002</td>\n",
       "      <td>../BD-Image-Segmentation-Comp/train/case123/ca...</td>\n",
       "      <td>266</td>\n",
       "      <td>266</td>\n",
       "    </tr>\n",
       "    <tr>\n",
       "      <th>4</th>\n",
       "      <td>case123_day20_slice_0002</td>\n",
       "      <td>small_bowel</td>\n",
       "      <td>nan</td>\n",
       "      <td>123</td>\n",
       "      <td>20</td>\n",
       "      <td>0002</td>\n",
       "      <td>../BD-Image-Segmentation-Comp/train/case123/ca...</td>\n",
       "      <td>266</td>\n",
       "      <td>266</td>\n",
       "    </tr>\n",
       "    <tr>\n",
       "      <th>5</th>\n",
       "      <td>case123_day20_slice_0002</td>\n",
       "      <td>stomach</td>\n",
       "      <td>nan</td>\n",
       "      <td>123</td>\n",
       "      <td>20</td>\n",
       "      <td>0002</td>\n",
       "      <td>../BD-Image-Segmentation-Comp/train/case123/ca...</td>\n",
       "      <td>266</td>\n",
       "      <td>266</td>\n",
       "    </tr>\n",
       "    <tr>\n",
       "      <th>6</th>\n",
       "      <td>case123_day20_slice_0003</td>\n",
       "      <td>large_bowel</td>\n",
       "      <td>nan</td>\n",
       "      <td>123</td>\n",
       "      <td>20</td>\n",
       "      <td>0003</td>\n",
       "      <td>../BD-Image-Segmentation-Comp/train/case123/ca...</td>\n",
       "      <td>266</td>\n",
       "      <td>266</td>\n",
       "    </tr>\n",
       "    <tr>\n",
       "      <th>7</th>\n",
       "      <td>case123_day20_slice_0003</td>\n",
       "      <td>small_bowel</td>\n",
       "      <td>nan</td>\n",
       "      <td>123</td>\n",
       "      <td>20</td>\n",
       "      <td>0003</td>\n",
       "      <td>../BD-Image-Segmentation-Comp/train/case123/ca...</td>\n",
       "      <td>266</td>\n",
       "      <td>266</td>\n",
       "    </tr>\n",
       "    <tr>\n",
       "      <th>8</th>\n",
       "      <td>case123_day20_slice_0003</td>\n",
       "      <td>stomach</td>\n",
       "      <td>nan</td>\n",
       "      <td>123</td>\n",
       "      <td>20</td>\n",
       "      <td>0003</td>\n",
       "      <td>../BD-Image-Segmentation-Comp/train/case123/ca...</td>\n",
       "      <td>266</td>\n",
       "      <td>266</td>\n",
       "    </tr>\n",
       "    <tr>\n",
       "      <th>9</th>\n",
       "      <td>case123_day20_slice_0004</td>\n",
       "      <td>large_bowel</td>\n",
       "      <td>nan</td>\n",
       "      <td>123</td>\n",
       "      <td>20</td>\n",
       "      <td>0004</td>\n",
       "      <td>../BD-Image-Segmentation-Comp/train/case123/ca...</td>\n",
       "      <td>266</td>\n",
       "      <td>266</td>\n",
       "    </tr>\n",
       "  </tbody>\n",
       "</table>\n",
       "</div>"
      ],
      "text/plain": [
       "                         id        class segmentation case_id day_id slice_id  \\\n",
       "0  case123_day20_slice_0001  large_bowel          nan     123     20     0001   \n",
       "1  case123_day20_slice_0001  small_bowel          nan     123     20     0001   \n",
       "2  case123_day20_slice_0001      stomach          nan     123     20     0001   \n",
       "3  case123_day20_slice_0002  large_bowel          nan     123     20     0002   \n",
       "4  case123_day20_slice_0002  small_bowel          nan     123     20     0002   \n",
       "5  case123_day20_slice_0002      stomach          nan     123     20     0002   \n",
       "6  case123_day20_slice_0003  large_bowel          nan     123     20     0003   \n",
       "7  case123_day20_slice_0003  small_bowel          nan     123     20     0003   \n",
       "8  case123_day20_slice_0003      stomach          nan     123     20     0003   \n",
       "9  case123_day20_slice_0004  large_bowel          nan     123     20     0004   \n",
       "\n",
       "                                                path  height  width  \n",
       "0  ../BD-Image-Segmentation-Comp/train/case123/ca...     266    266  \n",
       "1  ../BD-Image-Segmentation-Comp/train/case123/ca...     266    266  \n",
       "2  ../BD-Image-Segmentation-Comp/train/case123/ca...     266    266  \n",
       "3  ../BD-Image-Segmentation-Comp/train/case123/ca...     266    266  \n",
       "4  ../BD-Image-Segmentation-Comp/train/case123/ca...     266    266  \n",
       "5  ../BD-Image-Segmentation-Comp/train/case123/ca...     266    266  \n",
       "6  ../BD-Image-Segmentation-Comp/train/case123/ca...     266    266  \n",
       "7  ../BD-Image-Segmentation-Comp/train/case123/ca...     266    266  \n",
       "8  ../BD-Image-Segmentation-Comp/train/case123/ca...     266    266  \n",
       "9  ../BD-Image-Segmentation-Comp/train/case123/ca...     266    266  "
      ]
     },
     "execution_count": 25,
     "metadata": {},
     "output_type": "execute_result"
    }
   ],
   "source": [
    "train_df[\"height\"] = train_df[\"path\"].apply(lambda x: os.path.split(x)[-1].split(\"_\")[2]).astype(\"int\")\n",
    "train_df[\"width\"] = train_df[\"path\"].apply(lambda x: os.path.split(x)[-1].split(\"_\")[3]).astype(\"int\")\n",
    "\n",
    "train_df.head(10)"
   ]
  },
  {
   "attachments": {},
   "cell_type": "markdown",
   "metadata": {},
   "source": [
    "Per la fase di classificazione, piuttosto che usare delle categorie, preferiamo passare ad etichette numeriche, in modo da agevolarci in lavoro in seguito. "
   ]
  },
  {
   "cell_type": "code",
   "execution_count": 26,
   "metadata": {},
   "outputs": [
    {
     "data": {
      "text/html": [
       "<div>\n",
       "<style scoped>\n",
       "    .dataframe tbody tr th:only-of-type {\n",
       "        vertical-align: middle;\n",
       "    }\n",
       "\n",
       "    .dataframe tbody tr th {\n",
       "        vertical-align: top;\n",
       "    }\n",
       "\n",
       "    .dataframe thead th {\n",
       "        text-align: right;\n",
       "    }\n",
       "</style>\n",
       "<table border=\"1\" class=\"dataframe\">\n",
       "  <thead>\n",
       "    <tr style=\"text-align: right;\">\n",
       "      <th></th>\n",
       "      <th>id</th>\n",
       "      <th>class</th>\n",
       "      <th>segmentation</th>\n",
       "      <th>case_id</th>\n",
       "      <th>day_id</th>\n",
       "      <th>slice_id</th>\n",
       "      <th>path</th>\n",
       "      <th>height</th>\n",
       "      <th>width</th>\n",
       "    </tr>\n",
       "  </thead>\n",
       "  <tbody>\n",
       "    <tr>\n",
       "      <th>0</th>\n",
       "      <td>case123_day20_slice_0001</td>\n",
       "      <td>0</td>\n",
       "      <td>nan</td>\n",
       "      <td>123</td>\n",
       "      <td>20</td>\n",
       "      <td>0001</td>\n",
       "      <td>../BD-Image-Segmentation-Comp/train/case123/ca...</td>\n",
       "      <td>266</td>\n",
       "      <td>266</td>\n",
       "    </tr>\n",
       "    <tr>\n",
       "      <th>1</th>\n",
       "      <td>case123_day20_slice_0001</td>\n",
       "      <td>1</td>\n",
       "      <td>nan</td>\n",
       "      <td>123</td>\n",
       "      <td>20</td>\n",
       "      <td>0001</td>\n",
       "      <td>../BD-Image-Segmentation-Comp/train/case123/ca...</td>\n",
       "      <td>266</td>\n",
       "      <td>266</td>\n",
       "    </tr>\n",
       "    <tr>\n",
       "      <th>2</th>\n",
       "      <td>case123_day20_slice_0001</td>\n",
       "      <td>2</td>\n",
       "      <td>nan</td>\n",
       "      <td>123</td>\n",
       "      <td>20</td>\n",
       "      <td>0001</td>\n",
       "      <td>../BD-Image-Segmentation-Comp/train/case123/ca...</td>\n",
       "      <td>266</td>\n",
       "      <td>266</td>\n",
       "    </tr>\n",
       "    <tr>\n",
       "      <th>3</th>\n",
       "      <td>case123_day20_slice_0002</td>\n",
       "      <td>0</td>\n",
       "      <td>nan</td>\n",
       "      <td>123</td>\n",
       "      <td>20</td>\n",
       "      <td>0002</td>\n",
       "      <td>../BD-Image-Segmentation-Comp/train/case123/ca...</td>\n",
       "      <td>266</td>\n",
       "      <td>266</td>\n",
       "    </tr>\n",
       "    <tr>\n",
       "      <th>4</th>\n",
       "      <td>case123_day20_slice_0002</td>\n",
       "      <td>1</td>\n",
       "      <td>nan</td>\n",
       "      <td>123</td>\n",
       "      <td>20</td>\n",
       "      <td>0002</td>\n",
       "      <td>../BD-Image-Segmentation-Comp/train/case123/ca...</td>\n",
       "      <td>266</td>\n",
       "      <td>266</td>\n",
       "    </tr>\n",
       "    <tr>\n",
       "      <th>5</th>\n",
       "      <td>case123_day20_slice_0002</td>\n",
       "      <td>2</td>\n",
       "      <td>nan</td>\n",
       "      <td>123</td>\n",
       "      <td>20</td>\n",
       "      <td>0002</td>\n",
       "      <td>../BD-Image-Segmentation-Comp/train/case123/ca...</td>\n",
       "      <td>266</td>\n",
       "      <td>266</td>\n",
       "    </tr>\n",
       "    <tr>\n",
       "      <th>6</th>\n",
       "      <td>case123_day20_slice_0003</td>\n",
       "      <td>0</td>\n",
       "      <td>nan</td>\n",
       "      <td>123</td>\n",
       "      <td>20</td>\n",
       "      <td>0003</td>\n",
       "      <td>../BD-Image-Segmentation-Comp/train/case123/ca...</td>\n",
       "      <td>266</td>\n",
       "      <td>266</td>\n",
       "    </tr>\n",
       "    <tr>\n",
       "      <th>7</th>\n",
       "      <td>case123_day20_slice_0003</td>\n",
       "      <td>1</td>\n",
       "      <td>nan</td>\n",
       "      <td>123</td>\n",
       "      <td>20</td>\n",
       "      <td>0003</td>\n",
       "      <td>../BD-Image-Segmentation-Comp/train/case123/ca...</td>\n",
       "      <td>266</td>\n",
       "      <td>266</td>\n",
       "    </tr>\n",
       "    <tr>\n",
       "      <th>8</th>\n",
       "      <td>case123_day20_slice_0003</td>\n",
       "      <td>2</td>\n",
       "      <td>nan</td>\n",
       "      <td>123</td>\n",
       "      <td>20</td>\n",
       "      <td>0003</td>\n",
       "      <td>../BD-Image-Segmentation-Comp/train/case123/ca...</td>\n",
       "      <td>266</td>\n",
       "      <td>266</td>\n",
       "    </tr>\n",
       "    <tr>\n",
       "      <th>9</th>\n",
       "      <td>case123_day20_slice_0004</td>\n",
       "      <td>0</td>\n",
       "      <td>nan</td>\n",
       "      <td>123</td>\n",
       "      <td>20</td>\n",
       "      <td>0004</td>\n",
       "      <td>../BD-Image-Segmentation-Comp/train/case123/ca...</td>\n",
       "      <td>266</td>\n",
       "      <td>266</td>\n",
       "    </tr>\n",
       "  </tbody>\n",
       "</table>\n",
       "</div>"
      ],
      "text/plain": [
       "                         id  class segmentation case_id day_id slice_id  \\\n",
       "0  case123_day20_slice_0001      0          nan     123     20     0001   \n",
       "1  case123_day20_slice_0001      1          nan     123     20     0001   \n",
       "2  case123_day20_slice_0001      2          nan     123     20     0001   \n",
       "3  case123_day20_slice_0002      0          nan     123     20     0002   \n",
       "4  case123_day20_slice_0002      1          nan     123     20     0002   \n",
       "5  case123_day20_slice_0002      2          nan     123     20     0002   \n",
       "6  case123_day20_slice_0003      0          nan     123     20     0003   \n",
       "7  case123_day20_slice_0003      1          nan     123     20     0003   \n",
       "8  case123_day20_slice_0003      2          nan     123     20     0003   \n",
       "9  case123_day20_slice_0004      0          nan     123     20     0004   \n",
       "\n",
       "                                                path  height  width  \n",
       "0  ../BD-Image-Segmentation-Comp/train/case123/ca...     266    266  \n",
       "1  ../BD-Image-Segmentation-Comp/train/case123/ca...     266    266  \n",
       "2  ../BD-Image-Segmentation-Comp/train/case123/ca...     266    266  \n",
       "3  ../BD-Image-Segmentation-Comp/train/case123/ca...     266    266  \n",
       "4  ../BD-Image-Segmentation-Comp/train/case123/ca...     266    266  \n",
       "5  ../BD-Image-Segmentation-Comp/train/case123/ca...     266    266  \n",
       "6  ../BD-Image-Segmentation-Comp/train/case123/ca...     266    266  \n",
       "7  ../BD-Image-Segmentation-Comp/train/case123/ca...     266    266  \n",
       "8  ../BD-Image-Segmentation-Comp/train/case123/ca...     266    266  \n",
       "9  ../BD-Image-Segmentation-Comp/train/case123/ca...     266    266  "
      ]
     },
     "execution_count": 26,
     "metadata": {},
     "output_type": "execute_result"
    }
   ],
   "source": [
    "class_names = train_df[\"class\"].unique()\n",
    "\n",
    "for index, label in enumerate(class_names):\n",
    "    train_df[\"class\"].replace(label, index, inplace = True)\n",
    "\n",
    "train_df.head(10)"
   ]
  },
  {
   "attachments": {},
   "cell_type": "markdown",
   "metadata": {},
   "source": [
    "### Generazione delle maschere"
   ]
  },
  {
   "attachments": {},
   "cell_type": "markdown",
   "metadata": {},
   "source": [
    "La **maschera di segmentazione** che viene fornita è in formato **RLE** (**R**un **L**enght **E**ncoding). \n",
    "La codifica run-length (RLE) è una semplice forma di compressione dei dati senza perdita di informazioni, che viene eseguita su sequenze con lo stesso valore che si verificano più volte consecutive. Codifica la sequenza per memorizzare un solo valore e il relativo conteggio.\n",
    "\n",
    "Consideriamo, ad esempio, una porzione di maschera presa dal file `train.csv`:\n",
    "**<center>24031 5 24296 7 24561 8 24825 10</center>** \n",
    "\n",
    "Gli elementi di posto **pari** indicano i valori dei vari pixel, mentre gli elementi di posto **dispari** indicano la \"lunghezza\", ovvero di quanto vanno ripetuti i pixel che li precedono.\n",
    "\n",
    "Nel nostro caso, il pixel **24031** andrà ripetuto **5** volte, il pixel **24296** andrà ripeturo **7** volte e così via.\n",
    "\n",
    "Per sfruttare la codifica RLE delle maschere, procediamo all'implementazione delle funzioni per:\n",
    "\n",
    "* estrarre le informazioni di codifica RLE per una singola immagine\n",
    "\n",
    "* definire i pixel sotto la maschera di una singola immagine\n",
    "\n",
    "* preparare le maschere"
   ]
  },
  {
   "attachments": {},
   "cell_type": "markdown",
   "metadata": {},
   "source": [
    "Creiamo quindi la funzione `prepare_mask_data` che, data in input una stringa (che contiene informazioni separate da spazi) produce in output ... .\n",
    "\n",
    "Tale funzione ci sarà utile per estrarre le informazioni di codifica RLE per una singola immagine."
   ]
  },
  {
   "cell_type": "code",
   "execution_count": 27,
   "metadata": {},
   "outputs": [],
   "source": [
    "def prepare_mask_data(string: str) -> tuple[list[int], list[int]]:\n",
    "    \n",
    "    # Data una stringa passata in input, sfruttiamo il fatto che gli elementi\n",
    "    # sono separati da spazi \n",
    "    all_values = map(int, string.split(\" \"))\n",
    "    \n",
    "    # Definiamo le due liste contenenti i pixel di inizio della run\n",
    "    # e le lunghezze delle run\n",
    "    starterIndex, pixelCount = [], []\n",
    "    \n",
    "    for index, value in enumerate(all_values):\n",
    "        \n",
    "        # Sfruttiamo il fatto che la RLE presenta, come valore di indice\n",
    "        # pari, la lunghezza di una run e, come valore di indice dispari,\n",
    "        # il pixel da cui ha inizio la run.\n",
    "        if index % 2:\n",
    "            \n",
    "            # i valori pari vanno in pixelCount\n",
    "            pixelCount.append(value)\n",
    "        else:\n",
    "            \n",
    "            # i valori dispari vanno in starterIndex\n",
    "            starterIndex.append(value)\n",
    "            \n",
    "    return starterIndex, pixelCount"
   ]
  },
  {
   "attachments": {},
   "cell_type": "markdown",
   "metadata": {},
   "source": [
    "Creiamo la funzione `indici_posizione_pixel` che, forniti in input una lista di pixel da cui inizia la run di una RLE e una lista di lunghezze delle run di una RLE, produce in output una lista dei pixel coperti dalla maschera.\n",
    "\n",
    "Tale funzione ci sarà utile per determinare,in modo globale, tutti i pixel coperti da una maschera."
   ]
  },
  {
   "cell_type": "code",
   "execution_count": 28,
   "metadata": {},
   "outputs": [],
   "source": [
    "def indici_posizione_pixel(indexes: list[int], counts: list[int]) -> list:\n",
    "    \n",
    "    # Definiamo una lista da riempire coi pixel dell'immagine che sono coperti da una maschera\n",
    "    final_arr = []\n",
    "    \n",
    "    for index, counts in zip(indexes, counts):\n",
    "        # Incrementiamo la lista con il numero specifico dei pixel coperti dalla maschera\n",
    "        # (es. starterIndex[i] = 10, pixelCount[i] = 20 => verranno coperti i pixel in 10...30)\n",
    "        final_arr += [index + i for i in range(counts)]\n",
    "        \n",
    "    return final_arr"
   ]
  },
  {
   "attachments": {},
   "cell_type": "markdown",
   "metadata": {},
   "source": [
    "Definiamo anche la funzione `prepare_mask` che, forniti in input una stringa da cui decodificare le informazioni sulla maschera in RLE, l'altezza e la larghezza di un'immagine, fornisce in output la maschera associata a quell'immagine. \n",
    "\n",
    "Tale funzione verrà usata per preparare la maschera associata a un'immagine."
   ]
  },
  {
   "cell_type": "code",
   "execution_count": 29,
   "metadata": {},
   "outputs": [],
   "source": [
    "def prepare_mask(string: str, height: int, width: int) -> np.ndarray:\n",
    "    \n",
    "    # Generiamo gli array necessari a definire le maschere\n",
    "    indexes, counts = prepare_mask_data(string)\n",
    "    \n",
    "    # Definiamo la lista degli indici dei pixel che sono coperti da maschera\n",
    "    pos_pixel_indexes = indici_posizione_pixel(indexes, counts)\n",
    "    \n",
    "    # Generiamo un numpy array (inizialmente appiattito)\n",
    "    mask_array = np.zeros(height * width)\n",
    "    \n",
    "    # Si sostituiscono i valori del suddetto array con degli 1, sulla base\n",
    "    # dei pixel appartenenti alla maschera\n",
    "    mask_array[pos_pixel_indexes] = 1\n",
    "    \n",
    "    # Viene restituita la maschera nella forma opportuna (w x h)\n",
    "    return mask_array.reshape(width, height)"
   ]
  },
  {
   "attachments": {},
   "cell_type": "markdown",
   "metadata": {},
   "source": [
    "Implementiamo, poi, una semplice funzione per il caricamento delle immagini."
   ]
  },
  {
   "cell_type": "code",
   "execution_count": 30,
   "metadata": {},
   "outputs": [],
   "source": [
    "def carica_immagine(path: str) -> Image:\n",
    "    \"\"\"Funzione per il caricamento di un'immagine e la sua conversione\n",
    "    in RGB\n",
    "\n",
    "    Args:\n",
    "        path (str): percorso da cui caricare l'immagine\n",
    "\n",
    "    Returns:\n",
    "        Image: oggetto PIL.Image rappresentativo dell'immagine in RGB\n",
    "    \"\"\"\n",
    "    \n",
    "    # Sfruttando Pillow, carichiamo l'immagine associata al percorso e la\n",
    "    # convertiamo in RGB\n",
    "    image = Image.open(path).convert('RGB')\n",
    "    \n",
    "    return image"
   ]
  },
  {
   "attachments": {},
   "cell_type": "markdown",
   "metadata": {},
   "source": [
    "Per la data preparation, definiamo innanzitutto una classe UWDataset che estende la classe Dataset di pytorch."
   ]
  },
  {
   "cell_type": "code",
   "execution_count": 31,
   "metadata": {},
   "outputs": [],
   "source": [
    "class UWDataset(Dataset):\n",
    "    \n",
    "    # Costruttore della classe\n",
    "    def __init__(self, meta_df, h=256, w=256):\n",
    "        super().__init__()\n",
    "        self.meta_df = meta_df\n",
    "        self.h = h\n",
    "        self.w = w\n",
    "        self.resize = Resize((h, w))\n",
    "        \n",
    "    # Override della proprietà __len__, intesa come lunghezza del dataframe\n",
    "    # associato    \n",
    "    def __len__(self):\n",
    "        return len(self.meta_df)\n",
    "    \n",
    "    # Override della proprietà __getitem__, che restituisce la coppia\n",
    "    # (immagine, maschera)\n",
    "    def __getitem__(self, index):\n",
    "        \n",
    "        # Recuperiamo il percorso dell'immagine, contenuta nel campo path del dataframe\n",
    "        path = self.meta_df.loc[index, \"path\"]\n",
    "        \n",
    "        # Carichiamo l'immagine dal percorso appena ottenuto\n",
    "        image = carica_immagine(path)\n",
    "        \n",
    "        # Carichiamo l'altezza e la larghezza delle maschere originali\n",
    "        mask_h, mask_w = self.meta_df.loc[index, \"height\"], self.meta_df.loc[index, \"width\"]\n",
    "        \n",
    "        # Estraiamo, quindi, la codifica della segmentazione e carichiamo la maschera\n",
    "        mask_string = self.meta_df.loc[index, \"segmentation\"]\n",
    "        main_mask_channel = self.carica_maschera(string=mask_string, h=mask_h, w=mask_w)\n",
    "        \n",
    "        # Per essere utilizzabili in pytorch, dobbiamo trasformare l'immagine e la maschera\n",
    "        # in tensori, usando la funzione ToTensor\n",
    "        # updating those in tensor format\n",
    "        image = ToTensor()(self.resize(image))\n",
    "        main_mask_channel = ToTensor()(self.resize(main_mask_channel))\n",
    "        \n",
    "        # Carichiamo, infine, la maschera originale e l'etichetta di classe\n",
    "        mask = torch.zeros((3, self.h, self.w))\n",
    "        class_label = self.meta_df.loc[index, \"class\"]\n",
    "        mask[class_label, ...] = main_mask_channel\n",
    "        \n",
    "        return image, mask\n",
    "    \n",
    "    def carica_maschera(self, string: str, h: int, w: int) -> Image:\n",
    "        \"\"\"Funzione per caricare un'immagine rappresentativa della maschera.\n",
    "\n",
    "        Args:\n",
    "            string (str): stringa rappresentante la codifica RLE della maschera\n",
    "            h (int): altezza della maschera\n",
    "            w (int): larghezza della maschera\n",
    "\n",
    "        Returns:\n",
    "            Image: immagine rappresentativa della maschera\n",
    "        \"\"\"\n",
    "        # Controlliamo se la codifica della maschera sia valida oppure un NaN\n",
    "        if string != \"nan\":\n",
    "            # Se la codifica è valida, restituiamo la maschera attraverso la funzione\n",
    "            # prepare_mask definita in precedenza            \n",
    "            return Image.fromarray(prepare_mask(string, h, w))\n",
    "        # Altrimenti, la maschera sarà una matrice di 0\n",
    "        return Image.fromarray(np.zeros((h, w)))"
   ]
  },
  {
   "attachments": {},
   "cell_type": "markdown",
   "metadata": {},
   "source": [
    "Carichiamo il dataset e, per avere una prova del corretto funzionamento di quanto detto, prendiamo un elemento dal dataset, stampiamo le dimensioni dell'immagine **194** e della relativa maschera."
   ]
  },
  {
   "cell_type": "code",
   "execution_count": 38,
   "metadata": {},
   "outputs": [
    {
     "name": "stdout",
     "output_type": "stream",
     "text": [
      "\n",
      "--- Lunghezza del dataset : 115488 ---\n"
     ]
    },
    {
     "data": {
      "text/plain": [
       "(torch.Size([3, 256, 256]), torch.Size([3, 256, 256]))"
      ]
     },
     "execution_count": 38,
     "metadata": {},
     "output_type": "execute_result"
    }
   ],
   "source": [
    "    \n",
    "ds = UWDataset(train_df)\n",
    "print(f\"\\n--- Lunghezza del dataset : {len(ds)} ---\")\n",
    "\n",
    "image, mask = ds[194]\n",
    "image.shape, mask.shape"
   ]
  },
  {
   "attachments": {},
   "cell_type": "markdown",
   "metadata": {},
   "source": [
    "Adesso, diamo una dimostrazione visiva di quanto ottenuto."
   ]
  },
  {
   "cell_type": "code",
   "execution_count": 48,
   "metadata": {},
   "outputs": [
    {
     "data": {
      "image/png": "[encoded data removed]",
      "text/plain": [
       "<Figure size 2000x2000 with 1 Axes>"
      ]
     },
     "metadata": {},
     "output_type": "display_data"
    }
   ],
   "source": [
    "combined_im_mask = torch.cat([image, mask], dim=2)\n",
    "\n",
    "def show_image(tensor_image: torch.Tensor, name: str):\n",
    "    \"\"\"Funzione per visualizzare un'immagine definita da un Tensor\n",
    "\n",
    "    Args:\n",
    "        tensor_image (torch.Tensor): tensore dell'immagine da mostrare\n",
    "        name (str): titolo dell'immagine\n",
    "    \"\"\"\n",
    "    plt.figure(figsize=(20, 20))\n",
    "    plt.imshow(tensor_image.permute(1,2,0))\n",
    "    plt.title(name, size=30)\n",
    "    plt.show()\n",
    "\n",
    "show_image(combined_im_mask, \"\\nImmagine e Maschera relativa\\n\")"
   ]
  },
  {
   "attachments": {},
   "cell_type": "markdown",
   "metadata": {},
   "source": [
    "Dobbiamo fare una divisione del training set per ricavare un validation set: proviamo con percentuale 90-10.\n",
    "\n",
    "Calcoliamo la dimensione del training set e, successivamente, la sottraiamo alla lunghezza del dataset, ottenendo la dimensione del validation set."
   ]
  },
  {
   "cell_type": "code",
   "execution_count": 49,
   "metadata": {},
   "outputs": [],
   "source": [
    "train_size = int(len(ds)*0.9)\n",
    "\n",
    "val_size = len(ds) - train_size"
   ]
  },
  {
   "attachments": {},
   "cell_type": "markdown",
   "metadata": {},
   "source": [
    "Sfruttando pytorch, implementiamo la divisione"
   ]
  },
  {
   "cell_type": "code",
   "execution_count": 52,
   "metadata": {},
   "outputs": [
    {
     "name": "stdout",
     "output_type": "stream",
     "text": [
      "Length of the training dataset : 103939\n",
      "Length of the validation dataset : 11549\n"
     ]
    }
   ],
   "source": [
    "train_ds, val_ds = torch.utils.data.random_split(ds, [train_size, val_size], generator=torch.Generator().manual_seed(SEED))\n",
    "print(f\"Length of the training dataset : {len(train_ds)}\")\n",
    "print(f\"Length of the validation dataset : {len(val_ds)}\")"
   ]
  },
  {
   "attachments": {},
   "cell_type": "markdown",
   "metadata": {},
   "source": [
    "## DATA CLEANING"
   ]
  },
  {
   "attachments": {},
   "cell_type": "markdown",
   "metadata": {},
   "source": [
    "## FEATURE SELECTION AND TRASFORMATION"
   ]
  }
 ],
 "metadata": {
  "kernelspec": {
   "display_name": "big_data",
   "language": "python",
   "name": "python3"
  },
  "language_info": {
   "codemirror_mode": {
    "name": "ipython",
    "version": 3
   },
   "file_extension": ".py",
   "mimetype": "text/x-python",
   "name": "python",
   "nbconvert_exporter": "python",
   "pygments_lexer": "ipython3",
   "version": "3.10.7"
  },
  "orig_nbformat": 4,
  "vscode": {
   "interpreter": {
    "hash": "db96dcb7501e2dc5ccc40e111d3b8aa3045a6ecb3a7f5ba88d1471cc4d737ff5"
   }
  }
 },
 "nbformat": 4,
 "nbformat_minor": 2
}
