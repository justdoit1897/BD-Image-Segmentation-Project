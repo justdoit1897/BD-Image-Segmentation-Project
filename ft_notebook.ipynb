{
 "cells": [
  {
   "attachments": {},
   "cell_type": "markdown",
   "metadata": {},
   "source": [
    "# UW-Madison GI Tract Image Segmentation - Fardella, Tortorici"
   ]
  },
  {
   "attachments": {},
   "cell_type": "markdown",
   "metadata": {},
   "source": [
    "## Descrizione del problema"
   ]
  },
  {
   "attachments": {},
   "cell_type": "markdown",
   "metadata": {},
   "source": [
    "Nel 2019, si stima che in tutto il mondo siano state diagnosticate 5 milioni di persone con un **tumore del tratto gastrointestinale**. Di questi pazienti, circa la metà può essere sottoposta a radioterapia, di solito somministrata per 10-15 minuti al giorno per 1-6 settimane. \n",
    "\n",
    "Gli oncologi radioterapisti cercano di somministrare dosi elevate di radiazioni utilizzando fasci di raggi X puntati sui tumori, evitando lo stomaco e l'intestino. Con le nuove tecnologie, come i **sistemi integrati di risonanza magnetica e acceleratore lineare**, noti anche come *MR-Linac*, gli oncologi sono in grado di visualizzare la posizione giornaliera del tumore e dell'intestino, che può variare di giorno in giorno. \n",
    "\n",
    "In queste scansioni, gli oncologi radioterapisti devono delineare **manualmente** la posizione dello stomaco e dell'intestino per regolare la direzione dei fasci di raggi X in modo da **aumentare** la dose erogata al tumore ed **evitare** lo stomaco e l'intestino. Si tratta di un processo lungo e laborioso che può prolungare i trattamenti da 15 minuti al giorno a un'ora al giorno, il che può essere difficile da tollerare per i pazienti, a meno che *il deep learning non aiuti ad automatizzare il processo di segmentazione*. Un metodo per segmentare lo stomaco e l'intestino renderebbe i trattamenti molto più veloci e consentirebbe a un maggior numero di pazienti di ricevere un trattamento più efficace.\n",
    "\n",
    "L'**UW-Madison Carbone Cancer Center** è un pioniere della radioterapia basata sulla risonanza magnetica e dal 2015 tratta i pazienti con *radioterapia guidata dalla risonanza magnetica in base alla loro anatomia quotidiana*.\n",
    "\n",
    "L'obiettivo è creare un modello per segmentare automaticamente lo stomaco e l'intestino nelle scansioni MRI, basandosi su un data set di queste scansioni per trovare soluzioni creative di deep learning che aiutino i pazienti oncologici a ricevere cure migliori.\n",
    "\n",
    "![Tumore allo stomaco](./pics/pic_001.jpeg \"Tumore allo stomaco\")\n",
    "\n",
    "In questa figura, il tumore (linea spessa rosa) è vicino allo stomaco (linea spessa rossa). Al tumore vengono indirizzate dosi elevate di radiazioni, evitando lo stomaco. I livelli di dose sono rappresentati dall'arcobaleno dei contorni, con le dosi più alte rappresentate dal rosso e quelle più basse dal verde.\n",
    "\n",
    "Il cancro è già abbastanza pesante, ma la soluzione al problema permetterebbe agli oncologi radioterapisti di somministrare in modo sicuro dosi più elevate di radiazioni ai tumori, evitando lo stomaco e l'intestino. Questo renderà più veloci i trattamenti quotidiani dei pazienti oncologici e consentirà loro di ottenere cure più efficaci con meno effetti collaterali e un migliore controllo del cancro a lungo termine."
   ]
  },
  {
   "attachments": {},
   "cell_type": "markdown",
   "metadata": {},
   "source": [
    "### *Valutazione*"
   ]
  },
  {
   "attachments": {},
   "cell_type": "markdown",
   "metadata": {},
   "source": [
    "La bontà della nostra soluzione viene valutata tramite il coefficiente di Dice e la distanza 3D di Hausdorff. \n",
    "\n",
    "Il **coefficiente di Dice** può essere utilizzato per confrontare il rapporto tra i pixel di una segmentazione prevista e la corrispondente *ground truth*, secondo la seguente legge:\n",
    "\n",
    "$$\n",
    "D_c = \\begin{cases} \n",
    "0 && X\\wedge Y vuoti \\\\\n",
    "2\\cdot \\frac{|X\\cap Y|}{|X|+|Y|} && altrimenti\n",
    "\\end{cases}\n",
    "$$\n",
    "\n",
    "dove $X$ è l'insieme dei *pixel previsti* e $Y$ è la *ground truth*. \n",
    "\n",
    "La **distanza di Hausdorff** è un metodo per calcolare la distanza tra due oggetti di segmentazione A e B, considerando il **punto più lontano di A** dal **punto più vicino di B**.\n",
    "Per applicare Hausdorff in 3D, costruiamo volumi 3D, combinando ogni segmentazione 2D con una profondità di slice come coordinata Z, per poi calcolare la distanza (ai fini della competizione la profondità di slice è settata a 0.1. Le posizioni previste/attese dei pixel sono normalizzate con la dimensione dell’immagine, in modo da ottenere un punteggio in $\\left[ 0-1\\right]$.\n",
    "\n",
    "Successivamente, vengono combinate le due metriche, con un peso di $0.4$ per il coefficiente Dice e un peso di $0.6$ per la distanza di Hausdorff."
   ]
  },
  {
   "attachments": {},
   "cell_type": "markdown",
   "metadata": {},
   "source": [
    "### *Dataset*"
   ]
  },
  {
   "attachments": {},
   "cell_type": "markdown",
   "metadata": {},
   "source": [
    "Le annotazioni di addestramento sono fornite come **maschere codificate in RLE** e le immagini sono in formato `.png` a 16 bit e in **scala di grigi**.\n",
    "\n",
    "Ogni caso nel dataset è rappresentato da *più serie di slice di scansione* (ogni serie è identificata dal giorno in cui è stata effettuata la scansione). Alcuni dati sono divisi per tempo (i primi giorni di un caso sono nel training set, i giorni successivi sono nel test set), mentre altri sono divisi per caso - l'intero caso è nel training set o nel test set. \n",
    "\n",
    "L'obiettivo che ci si pone (sulla base della [competizione](https://www.kaggle.com/competitions/uw-madison-gi-tract-image-segmentation) da cui è tratto il problema) è quello di essere in grado di generalizzare sia casi parzialmente visti che **interamente non visti**.\n",
    "\n",
    "Per la definizione dei singoli set, non avendo a disposizione un test set, abbiamo adottato una suddivisione 90%-10% dei dati in nostro possesso tra training set e test set."
   ]
  },
  {
   "attachments": {},
   "cell_type": "markdown",
   "metadata": {},
   "source": [
    "## Progettazione"
   ]
  },
  {
   "attachments": {},
   "cell_type": "markdown",
   "metadata": {},
   "source": [
    "`-- TO-DO --`"
   ]
  },
  {
   "attachments": {},
   "cell_type": "markdown",
   "metadata": {},
   "source": [
    "### 1. *Data Preparation*"
   ]
  },
  {
   "cell_type": "code",
   "execution_count": 26,
   "metadata": {},
   "outputs": [],
   "source": [
    "import os\n",
    "import pandas as pd\n",
    "\n",
    "BASE_DIR = '../.venv/fardella_tortorici/BD-Image-Seg-Dataset'\n",
    "TRAIN_DIR = os.path.join(BASE_DIR, 'train')\n",
    "TRAIN_CSV = os.path.join(BASE_DIR, 'train.csv')"
   ]
  },
  {
   "attachments": {},
   "cell_type": "markdown",
   "metadata": {},
   "source": [
    "```python\n",
    "# Si risolve interamente con l'approccio trovato sul web?\n",
    "```\n",
    "Come primo passo, abbiamo provveduto a importare i set necessari al training e al testing, sfruttando la libreria Pandas, nello specifico la funzione `read_csv(filepath_or_buffer)`, cui abbiamo passato in input il percorso al file `submission.csv`, per ottenere un dataframe che, se vuoto, comporta l'abilitazione di una modalità *debug*."
   ]
  },
  {
   "cell_type": "code",
   "execution_count": 27,
   "metadata": {},
   "outputs": [],
   "source": [
    "TEST_DIR = os.path.join(BASE_DIR, 'test')\n",
    "SUBMISSION_CSV = os.path.join(BASE_DIR, 'submission.csv')\n",
    "\n",
    "submission_df = pd.read_csv(SUBMISSION_CSV)\n",
    "if not len(submission_df):\n",
    "    debug = True\n",
    "    submission_df = pd.read_csv(SUBMISSION_CSV)\n",
    "    submission_df = submission_df.drop(columns=['class','predicted']).drop_duplicates()\n",
    "else:\n",
    "    debug = False\n",
    "    submission_df = submission_df.drop(columns=['class','predicted']).drop_duplicates()"
   ]
  },
  {
   "attachments": {},
   "cell_type": "markdown",
   "metadata": {},
   "source": [
    "Successivamente, abbiamo estratto da ogni riga del dataframe appena importato dei metadati di interesse attraverso la funzione utility `get_metadata(row)`, nello specifico il numero del caso (`case`), il giorno di monitoraggio (`day`) e la sezione della scansione di interesse (`slice`)."
   ]
  },
  {
   "cell_type": "code",
   "execution_count": 28,
   "metadata": {},
   "outputs": [],
   "source": [
    "def get_metadata(row):\n",
    "    \"\"\"Funzione usata per estrarre dei metadati da una riga rappresentante uno\n",
    "    specifico frammento di uno specifico caso in uno specifico giorno\n",
    "\n",
    "    Args:\n",
    "        row (list[str]): la riga del dataframe da cui estrarre i metadati\n",
    "\n",
    "    Returns:\n",
    "        list[str]: la riga passata in input da cui sono stati estratti i metadati\n",
    "    \"\"\"\n",
    "    \n",
    "    data = row['id'].split('_')\n",
    "    case = int(data[0].replace('case',''))\n",
    "    day = int(data[1].replace('day',''))\n",
    "    slice_ = int(data[-1])\n",
    "    row['case'] = case\n",
    "    row['day'] = day\n",
    "    row['slice'] = slice_\n",
    "    return row\n",
    "\n",
    "submission_df = submission_df.apply(lambda x: get_metadata(x),axis=1)"
   ]
  },
  {
   "attachments": {},
   "cell_type": "markdown",
   "metadata": {},
   "source": [
    "Ottenendo una rappresentazione del dataframe delle submission così fatto."
   ]
  },
  {
   "cell_type": "code",
   "execution_count": 29,
   "metadata": {},
   "outputs": [
    {
     "name": "stdout",
     "output_type": "stream",
     "text": [
      "\n",
      "--- SUBMISSION DATAFRAME ---\n",
      "\n"
     ]
    },
    {
     "data": {
      "text/html": [
       "<div>\n",
       "<style scoped>\n",
       "    .dataframe tbody tr th:only-of-type {\n",
       "        vertical-align: middle;\n",
       "    }\n",
       "\n",
       "    .dataframe tbody tr th {\n",
       "        vertical-align: top;\n",
       "    }\n",
       "\n",
       "    .dataframe thead th {\n",
       "        text-align: right;\n",
       "    }\n",
       "</style>\n",
       "<table border=\"1\" class=\"dataframe\">\n",
       "  <thead>\n",
       "    <tr style=\"text-align: right;\">\n",
       "      <th></th>\n",
       "      <th>id</th>\n",
       "      <th>case</th>\n",
       "      <th>day</th>\n",
       "      <th>slice</th>\n",
       "    </tr>\n",
       "  </thead>\n",
       "  <tbody>\n",
       "    <tr>\n",
       "      <th>0</th>\n",
       "      <td>case2_day1_slice_0001</td>\n",
       "      <td>2</td>\n",
       "      <td>1</td>\n",
       "      <td>1</td>\n",
       "    </tr>\n",
       "    <tr>\n",
       "      <th>3</th>\n",
       "      <td>case2_day1_slice_0002</td>\n",
       "      <td>2</td>\n",
       "      <td>1</td>\n",
       "      <td>2</td>\n",
       "    </tr>\n",
       "    <tr>\n",
       "      <th>6</th>\n",
       "      <td>case2_day1_slice_0003</td>\n",
       "      <td>2</td>\n",
       "      <td>1</td>\n",
       "      <td>3</td>\n",
       "    </tr>\n",
       "    <tr>\n",
       "      <th>9</th>\n",
       "      <td>case2_day1_slice_0004</td>\n",
       "      <td>2</td>\n",
       "      <td>1</td>\n",
       "      <td>4</td>\n",
       "    </tr>\n",
       "    <tr>\n",
       "      <th>12</th>\n",
       "      <td>case2_day1_slice_0005</td>\n",
       "      <td>2</td>\n",
       "      <td>1</td>\n",
       "      <td>5</td>\n",
       "    </tr>\n",
       "  </tbody>\n",
       "</table>\n",
       "</div>"
      ],
      "text/plain": [
       "                       id  case  day  slice\n",
       "0   case2_day1_slice_0001     2    1      1\n",
       "3   case2_day1_slice_0002     2    1      2\n",
       "6   case2_day1_slice_0003     2    1      3\n",
       "9   case2_day1_slice_0004     2    1      4\n",
       "12  case2_day1_slice_0005     2    1      5"
      ]
     },
     "execution_count": 29,
     "metadata": {},
     "output_type": "execute_result"
    }
   ],
   "source": [
    "print(\"\\n--- SUBMISSION DATAFRAME ---\\n\")\n",
    "submission_df.head(5)"
   ]
  },
  {
   "attachments": {},
   "cell_type": "markdown",
   "metadata": {},
   "source": [
    "Dopodiché, abbiamo importato i percorsi di tutte le scansioni del training set, attraverso la funzione `glob`, e ne abbiamo ricavato un secondo dataframe, la cui unica colonna è il percorso dell'immagine stessa"
   ]
  },
  {
   "cell_type": "code",
   "execution_count": 30,
   "metadata": {},
   "outputs": [],
   "source": [
    "from glob import glob\n",
    "\n",
    "paths = glob(os.path.join(TRAIN_DIR, '**', '*png'), recursive=True)\n",
    "\n",
    "path_df = pd.DataFrame(paths, columns=['image_path'])"
   ]
  },
  {
   "attachments": {},
   "cell_type": "markdown",
   "metadata": {},
   "source": [
    "Attraverso una seconda funzione ausiliaria `path2info(row)`, abbiamo modellato il dataframe del training set in modo da mostrare caratteristiche di interesse come le dimensioni dell'immagine, il caso specifico, il giorno di monitoraggio e la porzione di scansione di interesse, oltre a un `image_id` univoco per l'immagine"
   ]
  },
  {
   "cell_type": "code",
   "execution_count": 31,
   "metadata": {},
   "outputs": [],
   "source": [
    "def path2info(row):\n",
    "    path = row['image_path']\n",
    "    # print(path)\n",
    "    path = path.replace(\"\\\\\", \"/\")\n",
    "    data = path.split('/')\n",
    "    slice_ = int(data[-1].split('_')[1])\n",
    "    case = int(data[-3].split('_')[0].replace('case',''))\n",
    "    day = int(data[-3].split('_')[1].replace('day',''))\n",
    "    width = int(data[-1].split('_')[2])\n",
    "    height = int(data[-1].split('_')[3])\n",
    "    row['image_id'] = \"case%s_day%s_slice_%s\" % (case, day, str(slice_).zfill(4))\n",
    "    # print(row['image_id'])\n",
    "    row['height'] = height\n",
    "    row['width'] = width\n",
    "    row['case'] = case\n",
    "    row['day'] = day\n",
    "    row['slice'] = slice_\n",
    "    return row\n",
    "\n",
    "path_df = path_df.apply(lambda x: path2info(x), axis=1)"
   ]
  },
  {
   "attachments": {},
   "cell_type": "markdown",
   "metadata": {},
   "source": [
    "Ottenendo un dataframe dei percorsi così fatto:"
   ]
  },
  {
   "cell_type": "code",
   "execution_count": 32,
   "metadata": {},
   "outputs": [
    {
     "name": "stdout",
     "output_type": "stream",
     "text": [
      "\n",
      "--- PATHS DATAFRAME ---\n",
      "\n"
     ]
    },
    {
     "data": {
      "text/html": [
       "<div>\n",
       "<style scoped>\n",
       "    .dataframe tbody tr th:only-of-type {\n",
       "        vertical-align: middle;\n",
       "    }\n",
       "\n",
       "    .dataframe tbody tr th {\n",
       "        vertical-align: top;\n",
       "    }\n",
       "\n",
       "    .dataframe thead th {\n",
       "        text-align: right;\n",
       "    }\n",
       "</style>\n",
       "<table border=\"1\" class=\"dataframe\">\n",
       "  <thead>\n",
       "    <tr style=\"text-align: right;\">\n",
       "      <th></th>\n",
       "      <th>image_path</th>\n",
       "      <th>image_id</th>\n",
       "      <th>height</th>\n",
       "      <th>width</th>\n",
       "      <th>case</th>\n",
       "      <th>day</th>\n",
       "      <th>slice</th>\n",
       "    </tr>\n",
       "  </thead>\n",
       "  <tbody>\n",
       "    <tr>\n",
       "      <th>0</th>\n",
       "      <td>../.venv/fardella_tortorici/BD-Image-Seg-Datas...</td>\n",
       "      <td>case22_day0_slice_0087</td>\n",
       "      <td>266</td>\n",
       "      <td>266</td>\n",
       "      <td>22</td>\n",
       "      <td>0</td>\n",
       "      <td>87</td>\n",
       "    </tr>\n",
       "    <tr>\n",
       "      <th>1</th>\n",
       "      <td>../.venv/fardella_tortorici/BD-Image-Seg-Datas...</td>\n",
       "      <td>case22_day0_slice_0002</td>\n",
       "      <td>266</td>\n",
       "      <td>266</td>\n",
       "      <td>22</td>\n",
       "      <td>0</td>\n",
       "      <td>2</td>\n",
       "    </tr>\n",
       "    <tr>\n",
       "      <th>2</th>\n",
       "      <td>../.venv/fardella_tortorici/BD-Image-Seg-Datas...</td>\n",
       "      <td>case22_day0_slice_0080</td>\n",
       "      <td>266</td>\n",
       "      <td>266</td>\n",
       "      <td>22</td>\n",
       "      <td>0</td>\n",
       "      <td>80</td>\n",
       "    </tr>\n",
       "    <tr>\n",
       "      <th>3</th>\n",
       "      <td>../.venv/fardella_tortorici/BD-Image-Seg-Datas...</td>\n",
       "      <td>case22_day0_slice_0029</td>\n",
       "      <td>266</td>\n",
       "      <td>266</td>\n",
       "      <td>22</td>\n",
       "      <td>0</td>\n",
       "      <td>29</td>\n",
       "    </tr>\n",
       "    <tr>\n",
       "      <th>4</th>\n",
       "      <td>../.venv/fardella_tortorici/BD-Image-Seg-Datas...</td>\n",
       "      <td>case22_day0_slice_0125</td>\n",
       "      <td>266</td>\n",
       "      <td>266</td>\n",
       "      <td>22</td>\n",
       "      <td>0</td>\n",
       "      <td>125</td>\n",
       "    </tr>\n",
       "  </tbody>\n",
       "</table>\n",
       "</div>"
      ],
      "text/plain": [
       "                                          image_path                image_id  \\\n",
       "0  ../.venv/fardella_tortorici/BD-Image-Seg-Datas...  case22_day0_slice_0087   \n",
       "1  ../.venv/fardella_tortorici/BD-Image-Seg-Datas...  case22_day0_slice_0002   \n",
       "2  ../.venv/fardella_tortorici/BD-Image-Seg-Datas...  case22_day0_slice_0080   \n",
       "3  ../.venv/fardella_tortorici/BD-Image-Seg-Datas...  case22_day0_slice_0029   \n",
       "4  ../.venv/fardella_tortorici/BD-Image-Seg-Datas...  case22_day0_slice_0125   \n",
       "\n",
       "   height  width  case  day  slice  \n",
       "0     266    266    22    0     87  \n",
       "1     266    266    22    0      2  \n",
       "2     266    266    22    0     80  \n",
       "3     266    266    22    0     29  \n",
       "4     266    266    22    0    125  "
      ]
     },
     "execution_count": 32,
     "metadata": {},
     "output_type": "execute_result"
    }
   ],
   "source": [
    "print(\"\\n--- PATHS DATAFRAME ---\\n\")\n",
    "path_df.head(5)"
   ]
  },
  {
   "attachments": {},
   "cell_type": "markdown",
   "metadata": {},
   "source": [
    "Infine, abbiamo effettuato l'unione tra i due dataframe definiti in precedenza, sfruttando l'uguaglianza sui valori di `case`, `day` e `slice`, ottenendo un dataframe così fatto:"
   ]
  },
  {
   "cell_type": "code",
   "execution_count": 33,
   "metadata": {},
   "outputs": [
    {
     "name": "stdout",
     "output_type": "stream",
     "text": [
      "\n",
      "--- MERGED PATHS DATAFRAME ---\n",
      "\n"
     ]
    },
    {
     "data": {
      "text/html": [
       "<div>\n",
       "<style scoped>\n",
       "    .dataframe tbody tr th:only-of-type {\n",
       "        vertical-align: middle;\n",
       "    }\n",
       "\n",
       "    .dataframe tbody tr th {\n",
       "        vertical-align: top;\n",
       "    }\n",
       "\n",
       "    .dataframe thead th {\n",
       "        text-align: right;\n",
       "    }\n",
       "</style>\n",
       "<table border=\"1\" class=\"dataframe\">\n",
       "  <thead>\n",
       "    <tr style=\"text-align: right;\">\n",
       "      <th></th>\n",
       "      <th>image_path</th>\n",
       "      <th>image_id</th>\n",
       "      <th>height</th>\n",
       "      <th>width</th>\n",
       "      <th>case</th>\n",
       "      <th>day</th>\n",
       "      <th>slice</th>\n",
       "      <th>id</th>\n",
       "    </tr>\n",
       "  </thead>\n",
       "  <tbody>\n",
       "    <tr>\n",
       "      <th>0</th>\n",
       "      <td>../.venv/fardella_tortorici/BD-Image-Seg-Datas...</td>\n",
       "      <td>case22_day0_slice_0087</td>\n",
       "      <td>266</td>\n",
       "      <td>266</td>\n",
       "      <td>22</td>\n",
       "      <td>0</td>\n",
       "      <td>87</td>\n",
       "      <td>NaN</td>\n",
       "    </tr>\n",
       "    <tr>\n",
       "      <th>1</th>\n",
       "      <td>../.venv/fardella_tortorici/BD-Image-Seg-Datas...</td>\n",
       "      <td>case22_day0_slice_0002</td>\n",
       "      <td>266</td>\n",
       "      <td>266</td>\n",
       "      <td>22</td>\n",
       "      <td>0</td>\n",
       "      <td>2</td>\n",
       "      <td>NaN</td>\n",
       "    </tr>\n",
       "    <tr>\n",
       "      <th>2</th>\n",
       "      <td>../.venv/fardella_tortorici/BD-Image-Seg-Datas...</td>\n",
       "      <td>case22_day0_slice_0080</td>\n",
       "      <td>266</td>\n",
       "      <td>266</td>\n",
       "      <td>22</td>\n",
       "      <td>0</td>\n",
       "      <td>80</td>\n",
       "      <td>NaN</td>\n",
       "    </tr>\n",
       "    <tr>\n",
       "      <th>3</th>\n",
       "      <td>../.venv/fardella_tortorici/BD-Image-Seg-Datas...</td>\n",
       "      <td>case22_day0_slice_0029</td>\n",
       "      <td>266</td>\n",
       "      <td>266</td>\n",
       "      <td>22</td>\n",
       "      <td>0</td>\n",
       "      <td>29</td>\n",
       "      <td>NaN</td>\n",
       "    </tr>\n",
       "    <tr>\n",
       "      <th>4</th>\n",
       "      <td>../.venv/fardella_tortorici/BD-Image-Seg-Datas...</td>\n",
       "      <td>case22_day0_slice_0125</td>\n",
       "      <td>266</td>\n",
       "      <td>266</td>\n",
       "      <td>22</td>\n",
       "      <td>0</td>\n",
       "      <td>125</td>\n",
       "      <td>NaN</td>\n",
       "    </tr>\n",
       "  </tbody>\n",
       "</table>\n",
       "</div>"
      ],
      "text/plain": [
       "                                          image_path                image_id  \\\n",
       "0  ../.venv/fardella_tortorici/BD-Image-Seg-Datas...  case22_day0_slice_0087   \n",
       "1  ../.venv/fardella_tortorici/BD-Image-Seg-Datas...  case22_day0_slice_0002   \n",
       "2  ../.venv/fardella_tortorici/BD-Image-Seg-Datas...  case22_day0_slice_0080   \n",
       "3  ../.venv/fardella_tortorici/BD-Image-Seg-Datas...  case22_day0_slice_0029   \n",
       "4  ../.venv/fardella_tortorici/BD-Image-Seg-Datas...  case22_day0_slice_0125   \n",
       "\n",
       "   height  width  case  day  slice   id  \n",
       "0     266    266    22    0     87  NaN  \n",
       "1     266    266    22    0      2  NaN  \n",
       "2     266    266    22    0     80  NaN  \n",
       "3     266    266    22    0     29  NaN  \n",
       "4     266    266    22    0    125  NaN  "
      ]
     },
     "execution_count": 33,
     "metadata": {},
     "output_type": "execute_result"
    }
   ],
   "source": [
    "path_df = path_df.merge(submission_df, on=['case','day','slice'], how='left')\n",
    "\n",
    "print('\\n--- MERGED PATHS DATAFRAME ---\\n')\n",
    "path_df.head(5)"
   ]
  },
  {
   "cell_type": "code",
   "execution_count": null,
   "metadata": {},
   "outputs": [],
   "source": [
    "path_df.drop(labels='id')"
   ]
  },
  {
   "attachments": {},
   "cell_type": "markdown",
   "metadata": {},
   "source": [
    "#### 1. Features Extraction"
   ]
  },
  {
   "attachments": {},
   "cell_type": "markdown",
   "metadata": {},
   "source": [
    "#### 2. Data Cleaning"
   ]
  },
  {
   "attachments": {},
   "cell_type": "markdown",
   "metadata": {},
   "source": [
    "#### 3. Features Selection & Transformation"
   ]
  },
  {
   "attachments": {},
   "cell_type": "markdown",
   "metadata": {},
   "source": [
    "### 2. *Data Analysis*"
   ]
  },
  {
   "attachments": {},
   "cell_type": "markdown",
   "metadata": {},
   "source": [
    "```python\n",
    "# Va fatta? Quante metriche potrebbero andare bene visto che siamo in due?\n",
    "```"
   ]
  },
  {
   "attachments": {},
   "cell_type": "markdown",
   "metadata": {},
   "source": [
    "### 3. *Classificazione*"
   ]
  },
  {
   "attachments": {},
   "cell_type": "markdown",
   "metadata": {},
   "source": [
    "#### 1. Architettura Utilizzata"
   ]
  },
  {
   "attachments": {},
   "cell_type": "markdown",
   "metadata": {},
   "source": [
    "```python\n",
    "# Potrebbe aver senso una rete convoluzionale?\n",
    "```"
   ]
  },
  {
   "attachments": {},
   "cell_type": "markdown",
   "metadata": {},
   "source": [
    "#### 2. Implementazione"
   ]
  },
  {
   "attachments": {},
   "cell_type": "markdown",
   "metadata": {},
   "source": [
    "#### 3. Risultati"
   ]
  }
 ],
 "metadata": {
  "kernelspec": {
   "display_name": "Python 3",
   "language": "python",
   "name": "python3"
  },
  "language_info": {
   "codemirror_mode": {
    "name": "ipython",
    "version": 3
   },
   "file_extension": ".py",
   "mimetype": "text/x-python",
   "name": "python",
   "nbconvert_exporter": "python",
   "pygments_lexer": "ipython3",
   "version": "3.10.6"
  },
  "orig_nbformat": 4,
  "vscode": {
   "interpreter": {
    "hash": "916dbcbb3f70747c44a77c7bcd40155683ae19c65e1c03b4aa3499c5328201f1"
   }
  }
 },
 "nbformat": 4,
 "nbformat_minor": 2
}
