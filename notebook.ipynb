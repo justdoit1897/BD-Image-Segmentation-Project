{
 "cells": [
  {
   "attachments": {},
   "cell_type": "markdown",
   "metadata": {},
   "source": [
    "# <center>STYLING DEL NOTEBOOK</center>"
   ]
  },
  {
   "cell_type": "code",
   "execution_count": null,
   "metadata": {},
   "outputs": [],
   "source": [
    "from IPython.core.display import HTML\n",
    "\n",
    "HTML(\"\"\"<style>\n",
    "    @import url('https://fonts.googleapis.com/css?family=Montserrat&display=swap');\n",
    "     \n",
    "    * {\n",
    "        font-family: 'Montserrat', 'Arial', sans-serif;\n",
    "        text-align: left;\n",
    "        line-height: 2em;\n",
    "    }\n",
    "\n",
    "</style>\"\"\")"
   ]
  },
  {
   "attachments": {},
   "cell_type": "markdown",
   "metadata": {},
   "source": [
    "# <center>ELENCO IMPORT</center>"
   ]
  },
  {
   "cell_type": "code",
   "execution_count": 37,
   "metadata": {},
   "outputs": [],
   "source": [
    "import os\n",
    "import numpy as np\n",
    "import pandas as pd\n",
    "import matplotlib.pyplot as plt\n",
    "import glob\n",
    "import cv2 as cv\n",
    "import math\n",
    "\n",
    "from itertools import zip_longest \n",
    "from IPython.display import display"
   ]
  },
  {
   "attachments": {},
   "cell_type": "markdown",
   "metadata": {},
   "source": [
    "# <center>IMPOSTAZIONE PERCORSI</center>"
   ]
  },
  {
   "cell_type": "code",
   "execution_count": 38,
   "metadata": {},
   "outputs": [],
   "source": [
    "BASE_DIR = \"../BD-Image-Segmentation-Comp/\" \n",
    "TRAIN_DIR = os.path.join(BASE_DIR, 'train')\n",
    "TRAIN_CSV = os.path.join(BASE_DIR, 'train.csv')"
   ]
  },
  {
   "attachments": {},
   "cell_type": "markdown",
   "metadata": {},
   "source": [
    "# <center>1 &dash; OPERAZIONI SUL FILE **train.csv**</center>"
   ]
  },
  {
   "attachments": {},
   "cell_type": "markdown",
   "metadata": {},
   "source": [
    "## CONSIDERAZIONI PRELIMINARI"
   ]
  },
  {
   "attachments": {},
   "cell_type": "markdown",
   "metadata": {},
   "source": [
    "Inizialmente, proviamo ad aprire il contenuto del file **train.csv**, fornito dai creatori della competizione, per osservarne il contenuto e avere una comprensione preliminare del problema."
   ]
  },
  {
   "cell_type": "code",
   "execution_count": 39,
   "metadata": {},
   "outputs": [
    {
     "data": {
      "text/html": [
       "<div>\n",
       "<style scoped>\n",
       "    .dataframe tbody tr th:only-of-type {\n",
       "        vertical-align: middle;\n",
       "    }\n",
       "\n",
       "    .dataframe tbody tr th {\n",
       "        vertical-align: top;\n",
       "    }\n",
       "\n",
       "    .dataframe thead th {\n",
       "        text-align: right;\n",
       "    }\n",
       "</style>\n",
       "<table border=\"1\" class=\"dataframe\">\n",
       "  <thead>\n",
       "    <tr style=\"text-align: right;\">\n",
       "      <th></th>\n",
       "      <th>id</th>\n",
       "      <th>class</th>\n",
       "      <th>segmentation</th>\n",
       "    </tr>\n",
       "  </thead>\n",
       "  <tbody>\n",
       "    <tr>\n",
       "      <th>0</th>\n",
       "      <td>case123_day20_slice_0001</td>\n",
       "      <td>large_bowel</td>\n",
       "      <td>NaN</td>\n",
       "    </tr>\n",
       "    <tr>\n",
       "      <th>1</th>\n",
       "      <td>case123_day20_slice_0001</td>\n",
       "      <td>small_bowel</td>\n",
       "      <td>NaN</td>\n",
       "    </tr>\n",
       "    <tr>\n",
       "      <th>2</th>\n",
       "      <td>case123_day20_slice_0001</td>\n",
       "      <td>stomach</td>\n",
       "      <td>NaN</td>\n",
       "    </tr>\n",
       "    <tr>\n",
       "      <th>3</th>\n",
       "      <td>case123_day20_slice_0002</td>\n",
       "      <td>large_bowel</td>\n",
       "      <td>NaN</td>\n",
       "    </tr>\n",
       "    <tr>\n",
       "      <th>4</th>\n",
       "      <td>case123_day20_slice_0002</td>\n",
       "      <td>small_bowel</td>\n",
       "      <td>NaN</td>\n",
       "    </tr>\n",
       "  </tbody>\n",
       "</table>\n",
       "</div>"
      ],
      "text/plain": [
       "                         id        class segmentation\n",
       "0  case123_day20_slice_0001  large_bowel          NaN\n",
       "1  case123_day20_slice_0001  small_bowel          NaN\n",
       "2  case123_day20_slice_0001      stomach          NaN\n",
       "3  case123_day20_slice_0002  large_bowel          NaN\n",
       "4  case123_day20_slice_0002  small_bowel          NaN"
      ]
     },
     "execution_count": 39,
     "metadata": {},
     "output_type": "execute_result"
    }
   ],
   "source": [
    "train_df = pd.read_csv(TRAIN_CSV)\n",
    "\n",
    "train_df.head()"
   ]
  },
  {
   "cell_type": "code",
   "execution_count": 40,
   "metadata": {},
   "outputs": [
    {
     "data": {
      "text/plain": [
       "115488"
      ]
     },
     "execution_count": 40,
     "metadata": {},
     "output_type": "execute_result"
    }
   ],
   "source": [
    "len(train_df)"
   ]
  },
  {
   "attachments": {},
   "cell_type": "markdown",
   "metadata": {},
   "source": [
    "Il file presenta una struttura formata da 115488 righe per 3 colonne, ossia:\n",
    "\n",
    "* **id**, ossia l'identificativo associato ad un frame dell'acquisizione fatta in un dato giorno per uno specifico caso;\n",
    "* **class**, cio&eacute; l'organo presente nella scansione;\n",
    "* **segmentation**, ossia il segmento di immagine corrispondente all'organo individuato nella classe.\n",
    "\n",
    "La prima cosa che vogliamo andare a vedere è, per ogni classe, il numero di elementi del training set ad essa."
   ]
  },
  {
   "cell_type": "code",
   "execution_count": 41,
   "metadata": {},
   "outputs": [
    {
     "data": {
      "text/plain": [
       "array([38496, 38496, 38496])"
      ]
     },
     "execution_count": 41,
     "metadata": {},
     "output_type": "execute_result"
    }
   ],
   "source": [
    "class_counts = train_df['class'].value_counts()\n",
    "\n",
    "class_counts.values"
   ]
  },
  {
   "attachments": {},
   "cell_type": "markdown",
   "metadata": {},
   "source": [
    "Creazione del grafico a barre con colori personalizzati per ogni classe"
   ]
  },
  {
   "cell_type": "code",
   "execution_count": 42,
   "metadata": {},
   "outputs": [
    {
     "data": {
      "image/png": "[encoded data removed]",
      "text/plain": [
       "<Figure size 640x480 with 1 Axes>"
      ]
     },
     "metadata": {},
     "output_type": "display_data"
    }
   ],
   "source": [
    "colors = ['red', 'green', 'blue']\n",
    "plt.bar(class_counts.index, class_counts.values, color=[colors[i] for i in range(len(class_counts))])\n",
    "\n",
    "# Aggiunta delle etichette dell'asse x e y e del titolo del grafico\n",
    "plt.xlabel('Class')\n",
    "plt.ylabel('Number of Instances')\n",
    "plt.title('Number of Instances per Class')\n",
    "\n",
    "# Mostrare il grafico\n",
    "plt.show()"
   ]
  },
  {
   "attachments": {},
   "cell_type": "markdown",
   "metadata": {},
   "source": [
    "Quello che notiamo è che il numero di elementi appartenenti ad ogni classe, **large_bowel**, **small_bowel** e **stomach**, è lo stesso, 38496, cosa ipotizzabile *ad occhio* nel dataframe precedentemente importato.\n",
    "\n",
    "L'altra colonna rilevante del dataframe è quella di *segmentation*, che viene usata per indicare le maschere corrispondenti all'organo classificato. Come prima cosa, vogliamo evidenziare solo le istanze del DataFrame che hanno una segmentazione non nulla (i.e. diversa da NaN)."
   ]
  },
  {
   "cell_type": "code",
   "execution_count": 43,
   "metadata": {},
   "outputs": [
    {
     "data": {
      "image/png": "[encoded data removed]",
      "text/plain": [
       "<Figure size 640x480 with 1 Axes>"
      ]
     },
     "metadata": {},
     "output_type": "display_data"
    }
   ],
   "source": [
    "# Eliminazione delle righe con valori mancanti nella colonna \"segmentation\"\n",
    "df_filtered = train_df.dropna(subset=['segmentation'])\n",
    "\n",
    "# Calcolo del numero di istanze per ogni classe nella colonna \"class\" del DataFrame filtrato\n",
    "class_counts = df_filtered['class'].value_counts()\n",
    "\n",
    "# Creazione del grafico a barre con colori personalizzati per ogni classe\n",
    "colors = ['red', 'green', 'blue']\n",
    "plt.bar(class_counts.index, class_counts.values, color=[colors[i] for i in range(len(class_counts))])\n",
    "\n",
    "# Aggiunta delle etichette dell'asse x e y e del titolo del grafico\n",
    "plt.xlabel('Class')\n",
    "plt.ylabel('Number of Instances')\n",
    "plt.title('Number of Instances per Class (with non-null segmentation)')\n",
    "\n",
    "# Mostrare il grafico\n",
    "plt.show()"
   ]
  },
  {
   "attachments": {},
   "cell_type": "markdown",
   "metadata": {},
   "source": [
    "Abbiamo costruito, a partire dal dataframe originale, un secondo dataframe, chiamato *df_filtered* tramite la funzione \n",
    "`dropna()` di `pandas.Dataframe` per eliminare le righe con valori mancanti (i.e. NaN) nella colonna *segmentation*.\n",
    "\n",
    "Successivamente, in maniera analoga al calcolo delle istanze di classe, abbiamo utilizzato il dataframe appena creato per calcolare il numero \n",
    "di istanze per ogni classe nella colonna *class*, utilizzando la funzione `value_counts()` di `pandas.Dataframe`. \n",
    "\n",
    "Infine, abbiamo creato un grafico a barre con i risultati e abbiamo aggiunto le etichette dell'asse x, dell'asse y e del titolo del grafico."
   ]
  },
  {
   "attachments": {},
   "cell_type": "markdown",
   "metadata": {},
   "source": [
    "## PRIMA PREPARAZIONE"
   ]
  },
  {
   "attachments": {},
   "cell_type": "markdown",
   "metadata": {},
   "source": [
    "L'obiettivo di questa seconda parte di operazioni sul file **train.csv** è quello di estrarre delle informazioni che possano tornare utili in fase di analisi del problema e di eventuali operazioni di *data cleaning* (visto l'elevato numero di slice prive di maschere è facile aspettarsi un calo drastico delle dimensioni del dataset).\n",
    "\n",
    "Inizialmente, effettuiamo una semplice conversione di notazione per la classificazione: piuttosto che usare una label categorica, passiamo ad una classificazione per valori interi discreti."
   ]
  },
  {
   "cell_type": "code",
   "execution_count": 44,
   "metadata": {},
   "outputs": [],
   "source": [
    "class_mapping = {'large_bowel': 0, 'small_bowel': 1, 'stomach': 2}\n",
    "\n",
    "train_df['class'] = train_df['class'].replace(class_mapping)"
   ]
  },
  {
   "attachments": {},
   "cell_type": "markdown",
   "metadata": {},
   "source": [
    "Successivamente, a partire dalla colonna **id** del dataframe di partenza, si può osservare come ogni riga contenga informazioni circa la categorizzazione per numero del **caso** clinico, per **giornata** di osservazione e per **numero di frame** dell'acquisizione. L'obiettivo diventa, quindi, quello di estrarre le suddette informazioni e di rielaborare il dataframe.\n",
    "\n",
    "Inizialmente, elaboriamo, per ogni riga, il valore di **id**, in modo da estrarre una lista di informazioni"
   ]
  },
  {
   "cell_type": "code",
   "execution_count": 45,
   "metadata": {},
   "outputs": [
    {
     "name": "stdout",
     "output_type": "stream",
     "text": [
      "              0      1      2     3\n",
      "0       case123  day20  slice  0001\n",
      "1       case123  day20  slice  0001\n",
      "2       case123  day20  slice  0001\n",
      "3       case123  day20  slice  0002\n",
      "4       case123  day20  slice  0002\n",
      "...         ...    ...    ...   ...\n",
      "115483   case30   day0  slice  0143\n",
      "115484   case30   day0  slice  0143\n",
      "115485   case30   day0  slice  0144\n",
      "115486   case30   day0  slice  0144\n",
      "115487   case30   day0  slice  0144\n",
      "\n",
      "[115488 rows x 4 columns]\n"
     ]
    }
   ],
   "source": [
    "splits = train_df['id'].str.split(\"_\", n = 4, expand = True)\n",
    "\n",
    "print(splits)"
   ]
  },
  {
   "attachments": {},
   "cell_type": "markdown",
   "metadata": {},
   "source": [
    "Come si può vedere nella tabella precedente, le informazioni che possiamo estrarre si trovano nei chunk 0, 1 e 3. \n",
    "\n",
    "Ciò che ci interessa è, però, dare un'impostazione ai dati più quantitativa, per cui dobbiamo estrarre dai chunk 0 e 1, rispettivamente, il numero del caso e della giornata di osservazione, mentre il chunk 3 va solo inteso come un numero intero, per eliminare gli 0 iniziali."
   ]
  },
  {
   "cell_type": "code",
   "execution_count": 46,
   "metadata": {},
   "outputs": [
    {
     "data": {
      "text/html": [
       "<div>\n",
       "<style scoped>\n",
       "    .dataframe tbody tr th:only-of-type {\n",
       "        vertical-align: middle;\n",
       "    }\n",
       "\n",
       "    .dataframe tbody tr th {\n",
       "        vertical-align: top;\n",
       "    }\n",
       "\n",
       "    .dataframe thead th {\n",
       "        text-align: right;\n",
       "    }\n",
       "</style>\n",
       "<table border=\"1\" class=\"dataframe\">\n",
       "  <thead>\n",
       "    <tr style=\"text-align: right;\">\n",
       "      <th></th>\n",
       "      <th>id</th>\n",
       "      <th>class</th>\n",
       "      <th>segmentation</th>\n",
       "      <th>case_id</th>\n",
       "      <th>day_id</th>\n",
       "      <th>slice_id</th>\n",
       "    </tr>\n",
       "  </thead>\n",
       "  <tbody>\n",
       "    <tr>\n",
       "      <th>0</th>\n",
       "      <td>case123_day20_slice_0001</td>\n",
       "      <td>0</td>\n",
       "      <td>NaN</td>\n",
       "      <td>123</td>\n",
       "      <td>20</td>\n",
       "      <td>1</td>\n",
       "    </tr>\n",
       "    <tr>\n",
       "      <th>1</th>\n",
       "      <td>case123_day20_slice_0001</td>\n",
       "      <td>1</td>\n",
       "      <td>NaN</td>\n",
       "      <td>123</td>\n",
       "      <td>20</td>\n",
       "      <td>1</td>\n",
       "    </tr>\n",
       "    <tr>\n",
       "      <th>2</th>\n",
       "      <td>case123_day20_slice_0001</td>\n",
       "      <td>2</td>\n",
       "      <td>NaN</td>\n",
       "      <td>123</td>\n",
       "      <td>20</td>\n",
       "      <td>1</td>\n",
       "    </tr>\n",
       "    <tr>\n",
       "      <th>3</th>\n",
       "      <td>case123_day20_slice_0002</td>\n",
       "      <td>0</td>\n",
       "      <td>NaN</td>\n",
       "      <td>123</td>\n",
       "      <td>20</td>\n",
       "      <td>2</td>\n",
       "    </tr>\n",
       "    <tr>\n",
       "      <th>4</th>\n",
       "      <td>case123_day20_slice_0002</td>\n",
       "      <td>1</td>\n",
       "      <td>NaN</td>\n",
       "      <td>123</td>\n",
       "      <td>20</td>\n",
       "      <td>2</td>\n",
       "    </tr>\n",
       "  </tbody>\n",
       "</table>\n",
       "</div>"
      ],
      "text/plain": [
       "                         id  class segmentation  case_id  day_id  slice_id\n",
       "0  case123_day20_slice_0001      0          NaN      123      20         1\n",
       "1  case123_day20_slice_0001      1          NaN      123      20         1\n",
       "2  case123_day20_slice_0001      2          NaN      123      20         1\n",
       "3  case123_day20_slice_0002      0          NaN      123      20         2\n",
       "4  case123_day20_slice_0002      1          NaN      123      20         2"
      ]
     },
     "execution_count": 46,
     "metadata": {},
     "output_type": "execute_result"
    }
   ],
   "source": [
    "train_df['case_id'] = splits[0]\n",
    "train_df['day_id'] = splits[1]\n",
    "train_df['slice_id'] = splits[3].astype(int)\n",
    "\n",
    "train_df['case_id'] = train_df['case_id'].str.replace('case', '').astype(int) \n",
    "train_df['day_id'] = train_df['day_id'].str.replace('day', '').astype(int)\n",
    "\n",
    "train_df.head()"
   ]
  },
  {
   "attachments": {},
   "cell_type": "markdown",
   "metadata": {},
   "source": [
    "Adesso vogliamo compattare il dataframe, in modo che la singola riga contenga le informazioni della coppia `(class, segmentation)` per la tripla `(large_bowel, small_bowel, stomach)`, e ordinarlo in ordine crescente per numero del caso, giornata di osservazione e identificativo della scansione. Per farlo, dobbiamo:\n",
    "\n",
    "* Rimuovere le colonne *class* e *segmentation* e salvarlo in due liste opportune"
   ]
  },
  {
   "cell_type": "code",
   "execution_count": 47,
   "metadata": {},
   "outputs": [],
   "source": [
    "classe = train_df.pop('class')\n",
    "segmentation = train_df.pop('segmentation')"
   ]
  },
  {
   "attachments": {},
   "cell_type": "markdown",
   "metadata": {},
   "source": [
    "* Raggruppare gli elementi in gruppi da tre e rimuovere i duplicati per *id*"
   ]
  },
  {
   "cell_type": "code",
   "execution_count": 48,
   "metadata": {},
   "outputs": [],
   "source": [
    "grouped_segmentation = list(zip_longest(*[iter(segmentation)]*3, fillvalue=None))\n",
    "grouped_class = list(zip_longest(*[iter(classe)]*3, fillvalue=None))\n",
    "\n",
    "train_df = train_df.drop_duplicates(subset=['id'])\n",
    "\n",
    "train_df.insert(len(train_df.columns), 'class', grouped_class)\n",
    "train_df.insert(len(train_df.columns), 'segmentation', grouped_segmentation)"
   ]
  },
  {
   "attachments": {},
   "cell_type": "markdown",
   "metadata": {},
   "source": [
    "* Ordinare il dataframe per *case_id*, *day_id* e *slice_id*"
   ]
  },
  {
   "cell_type": "code",
   "execution_count": 49,
   "metadata": {},
   "outputs": [
    {
     "data": {
      "text/html": [
       "<div>\n",
       "<style scoped>\n",
       "    .dataframe tbody tr th:only-of-type {\n",
       "        vertical-align: middle;\n",
       "    }\n",
       "\n",
       "    .dataframe tbody tr th {\n",
       "        vertical-align: top;\n",
       "    }\n",
       "\n",
       "    .dataframe thead th {\n",
       "        text-align: right;\n",
       "    }\n",
       "</style>\n",
       "<table border=\"1\" class=\"dataframe\">\n",
       "  <thead>\n",
       "    <tr style=\"text-align: right;\">\n",
       "      <th></th>\n",
       "      <th>id</th>\n",
       "      <th>case_id</th>\n",
       "      <th>day_id</th>\n",
       "      <th>slice_id</th>\n",
       "      <th>class</th>\n",
       "      <th>segmentation</th>\n",
       "    </tr>\n",
       "  </thead>\n",
       "  <tbody>\n",
       "    <tr>\n",
       "      <th>0</th>\n",
       "      <td>case2_day1_slice_0001</td>\n",
       "      <td>2</td>\n",
       "      <td>1</td>\n",
       "      <td>1</td>\n",
       "      <td>(0, 1, 2)</td>\n",
       "      <td>(nan, nan, nan)</td>\n",
       "    </tr>\n",
       "    <tr>\n",
       "      <th>1</th>\n",
       "      <td>case2_day1_slice_0002</td>\n",
       "      <td>2</td>\n",
       "      <td>1</td>\n",
       "      <td>2</td>\n",
       "      <td>(0, 1, 2)</td>\n",
       "      <td>(nan, nan, nan)</td>\n",
       "    </tr>\n",
       "    <tr>\n",
       "      <th>2</th>\n",
       "      <td>case2_day1_slice_0003</td>\n",
       "      <td>2</td>\n",
       "      <td>1</td>\n",
       "      <td>3</td>\n",
       "      <td>(0, 1, 2)</td>\n",
       "      <td>(nan, nan, nan)</td>\n",
       "    </tr>\n",
       "    <tr>\n",
       "      <th>3</th>\n",
       "      <td>case2_day1_slice_0004</td>\n",
       "      <td>2</td>\n",
       "      <td>1</td>\n",
       "      <td>4</td>\n",
       "      <td>(0, 1, 2)</td>\n",
       "      <td>(nan, nan, nan)</td>\n",
       "    </tr>\n",
       "    <tr>\n",
       "      <th>4</th>\n",
       "      <td>case2_day1_slice_0005</td>\n",
       "      <td>2</td>\n",
       "      <td>1</td>\n",
       "      <td>5</td>\n",
       "      <td>(0, 1, 2)</td>\n",
       "      <td>(nan, nan, nan)</td>\n",
       "    </tr>\n",
       "  </tbody>\n",
       "</table>\n",
       "</div>"
      ],
      "text/plain": [
       "                      id  case_id  day_id  slice_id      class  \\\n",
       "0  case2_day1_slice_0001        2       1         1  (0, 1, 2)   \n",
       "1  case2_day1_slice_0002        2       1         2  (0, 1, 2)   \n",
       "2  case2_day1_slice_0003        2       1         3  (0, 1, 2)   \n",
       "3  case2_day1_slice_0004        2       1         4  (0, 1, 2)   \n",
       "4  case2_day1_slice_0005        2       1         5  (0, 1, 2)   \n",
       "\n",
       "      segmentation  \n",
       "0  (nan, nan, nan)  \n",
       "1  (nan, nan, nan)  \n",
       "2  (nan, nan, nan)  \n",
       "3  (nan, nan, nan)  \n",
       "4  (nan, nan, nan)  "
      ]
     },
     "execution_count": 49,
     "metadata": {},
     "output_type": "execute_result"
    }
   ],
   "source": [
    "train_df = train_df.sort_values(by=['case_id', 'day_id', 'slice_id'], ascending=True).reset_index(drop=True)\n",
    "\n",
    "train_df.head()"
   ]
  },
  {
   "attachments": {},
   "cell_type": "markdown",
   "metadata": {},
   "source": [
    "# <center>2 &dash; RACCOLTA E INVENTARIO DELLE IMMAGINI</center>"
   ]
  },
  {
   "attachments": {},
   "cell_type": "markdown",
   "metadata": {},
   "source": [
    "Dopo aver osservato alcuni aspetti interessanti sui dati forniti dal problema, vogliamo andare ad indagare maggiormente sulle immagini delle varie scansioni. Per evitare di avere un dataframe poco leggibile, umanamente parlando, ricorriamo ad un secondo dataframe, realizzato da zero, a partire dai percorsi estratti dalla cartella *train* e associati alle *scans*."
   ]
  },
  {
   "cell_type": "code",
   "execution_count": 50,
   "metadata": {},
   "outputs": [
    {
     "data": {
      "text/html": [
       "<div>\n",
       "<style scoped>\n",
       "    .dataframe tbody tr th:only-of-type {\n",
       "        vertical-align: middle;\n",
       "    }\n",
       "\n",
       "    .dataframe tbody tr th {\n",
       "        vertical-align: top;\n",
       "    }\n",
       "\n",
       "    .dataframe thead th {\n",
       "        text-align: right;\n",
       "    }\n",
       "</style>\n",
       "<table border=\"1\" class=\"dataframe\">\n",
       "  <thead>\n",
       "    <tr style=\"text-align: right;\">\n",
       "      <th></th>\n",
       "      <th>path</th>\n",
       "    </tr>\n",
       "  </thead>\n",
       "  <tbody>\n",
       "    <tr>\n",
       "      <th>0</th>\n",
       "      <td>../BD-Image-Segmentation-Comp/train/case22/cas...</td>\n",
       "    </tr>\n",
       "    <tr>\n",
       "      <th>1</th>\n",
       "      <td>../BD-Image-Segmentation-Comp/train/case22/cas...</td>\n",
       "    </tr>\n",
       "    <tr>\n",
       "      <th>2</th>\n",
       "      <td>../BD-Image-Segmentation-Comp/train/case22/cas...</td>\n",
       "    </tr>\n",
       "    <tr>\n",
       "      <th>3</th>\n",
       "      <td>../BD-Image-Segmentation-Comp/train/case22/cas...</td>\n",
       "    </tr>\n",
       "    <tr>\n",
       "      <th>4</th>\n",
       "      <td>../BD-Image-Segmentation-Comp/train/case22/cas...</td>\n",
       "    </tr>\n",
       "  </tbody>\n",
       "</table>\n",
       "</div>"
      ],
      "text/plain": [
       "                                                path\n",
       "0  ../BD-Image-Segmentation-Comp/train/case22/cas...\n",
       "1  ../BD-Image-Segmentation-Comp/train/case22/cas...\n",
       "2  ../BD-Image-Segmentation-Comp/train/case22/cas...\n",
       "3  ../BD-Image-Segmentation-Comp/train/case22/cas...\n",
       "4  ../BD-Image-Segmentation-Comp/train/case22/cas..."
      ]
     },
     "execution_count": 50,
     "metadata": {},
     "output_type": "execute_result"
    }
   ],
   "source": [
    "list_slices = glob.glob(TRAIN_DIR+'/*/*/scans/*.png')\n",
    "\n",
    "image_details = pd.DataFrame({'path':list_slices})\n",
    "\n",
    "image_details.head()"
   ]
  },
  {
   "attachments": {},
   "cell_type": "markdown",
   "metadata": {},
   "source": [
    "Adesso, a partire dai persorsi individuati, possiamo andare ad estrarre le informazioni che ci interessa possano essere associati alle singole immagini:\n",
    "\n",
    "1. **Numero del caso**\n",
    "2. **Giorno di osservazione**\n",
    "3. **Numero della slice**\n",
    "4. **Altezza dell'immagine**\n",
    "5. **Larghezza dell'immagine**\n",
    "6. **Altezza del singolo pixel**\n",
    "7. **Larghezza del singolo pixel**"
   ]
  },
  {
   "cell_type": "code",
   "execution_count": 51,
   "metadata": {},
   "outputs": [],
   "source": [
    "splits = image_details['path'].str.split(\"/\", n = 7, expand = True)\n",
    "\n",
    "image_details[['case_id', 'day_id']] = splits[4].str.split(\"_\", expand = True)\n",
    "\n",
    "image_details['case_id'] = image_details['case_id'].str.replace('case', '').astype(int) \n",
    "image_details['day_id'] = image_details['day_id'].str.replace('day', '').astype(int)\n",
    "\n",
    "image_details['slice_name'] = splits[6]\n",
    "\n",
    "slice_info = image_details['slice_name'].str.split(n=6, expand=True, pat=\"_\")\n",
    "\n",
    "image_details['slice_id'] = slice_info[1].astype(int)\n",
    "\n",
    "image_details['width'] = slice_info[2].astype(int)\n",
    "image_details['height'] = slice_info[3].astype(int)\n",
    "\n",
    "image_details['width_px'] = slice_info[4].astype(float)\n",
    "\n",
    "image_details['height_px'] = slice_info[5].str.replace('.png', '', regex=False).astype(float)\n",
    "\n",
    "splits[5] = splits[5].str.replace('scans', 'masks')\n",
    "splits[6] = splits[6].str.replace('slice', 'mask_slice')\n",
    "\n",
    "percorsi_cartelle = splits.drop(columns=[6])\n",
    "percorsi_cartelle = percorsi_cartelle.apply(lambda x: '/'.join(x.astype(str)), axis=1)\n",
    "\n",
    "percorsi_maschere = splits.apply(lambda x: '/'.join(x.astype(str)), axis=1)\n",
    "\n",
    "image_details.insert(1, 'mask_path', percorsi_maschere)"
   ]
  },
  {
   "attachments": {},
   "cell_type": "markdown",
   "metadata": {},
   "source": [
    "Ordiniamo, quindi, in ordine **crescente** per numero del caso, giornata di osservazione e numero della slice, il dataframe appena costruito."
   ]
  },
  {
   "cell_type": "code",
   "execution_count": 52,
   "metadata": {},
   "outputs": [
    {
     "data": {
      "text/html": [
       "<div>\n",
       "<style scoped>\n",
       "    .dataframe tbody tr th:only-of-type {\n",
       "        vertical-align: middle;\n",
       "    }\n",
       "\n",
       "    .dataframe tbody tr th {\n",
       "        vertical-align: top;\n",
       "    }\n",
       "\n",
       "    .dataframe thead th {\n",
       "        text-align: right;\n",
       "    }\n",
       "</style>\n",
       "<table border=\"1\" class=\"dataframe\">\n",
       "  <thead>\n",
       "    <tr style=\"text-align: right;\">\n",
       "      <th></th>\n",
       "      <th>path</th>\n",
       "      <th>mask_path</th>\n",
       "      <th>case_id</th>\n",
       "      <th>day_id</th>\n",
       "      <th>slice_name</th>\n",
       "      <th>slice_id</th>\n",
       "      <th>width</th>\n",
       "      <th>height</th>\n",
       "      <th>width_px</th>\n",
       "      <th>height_px</th>\n",
       "    </tr>\n",
       "  </thead>\n",
       "  <tbody>\n",
       "    <tr>\n",
       "      <th>0</th>\n",
       "      <td>../BD-Image-Segmentation-Comp/train/case2/case...</td>\n",
       "      <td>../BD-Image-Segmentation-Comp/train/case2/case...</td>\n",
       "      <td>2</td>\n",
       "      <td>1</td>\n",
       "      <td>slice_0001_266_266_1.50_1.50.png</td>\n",
       "      <td>1</td>\n",
       "      <td>266</td>\n",
       "      <td>266</td>\n",
       "      <td>1.5</td>\n",
       "      <td>1.5</td>\n",
       "    </tr>\n",
       "    <tr>\n",
       "      <th>1</th>\n",
       "      <td>../BD-Image-Segmentation-Comp/train/case2/case...</td>\n",
       "      <td>../BD-Image-Segmentation-Comp/train/case2/case...</td>\n",
       "      <td>2</td>\n",
       "      <td>1</td>\n",
       "      <td>slice_0002_266_266_1.50_1.50.png</td>\n",
       "      <td>2</td>\n",
       "      <td>266</td>\n",
       "      <td>266</td>\n",
       "      <td>1.5</td>\n",
       "      <td>1.5</td>\n",
       "    </tr>\n",
       "    <tr>\n",
       "      <th>2</th>\n",
       "      <td>../BD-Image-Segmentation-Comp/train/case2/case...</td>\n",
       "      <td>../BD-Image-Segmentation-Comp/train/case2/case...</td>\n",
       "      <td>2</td>\n",
       "      <td>1</td>\n",
       "      <td>slice_0003_266_266_1.50_1.50.png</td>\n",
       "      <td>3</td>\n",
       "      <td>266</td>\n",
       "      <td>266</td>\n",
       "      <td>1.5</td>\n",
       "      <td>1.5</td>\n",
       "    </tr>\n",
       "    <tr>\n",
       "      <th>3</th>\n",
       "      <td>../BD-Image-Segmentation-Comp/train/case2/case...</td>\n",
       "      <td>../BD-Image-Segmentation-Comp/train/case2/case...</td>\n",
       "      <td>2</td>\n",
       "      <td>1</td>\n",
       "      <td>slice_0004_266_266_1.50_1.50.png</td>\n",
       "      <td>4</td>\n",
       "      <td>266</td>\n",
       "      <td>266</td>\n",
       "      <td>1.5</td>\n",
       "      <td>1.5</td>\n",
       "    </tr>\n",
       "    <tr>\n",
       "      <th>4</th>\n",
       "      <td>../BD-Image-Segmentation-Comp/train/case2/case...</td>\n",
       "      <td>../BD-Image-Segmentation-Comp/train/case2/case...</td>\n",
       "      <td>2</td>\n",
       "      <td>1</td>\n",
       "      <td>slice_0005_266_266_1.50_1.50.png</td>\n",
       "      <td>5</td>\n",
       "      <td>266</td>\n",
       "      <td>266</td>\n",
       "      <td>1.5</td>\n",
       "      <td>1.5</td>\n",
       "    </tr>\n",
       "  </tbody>\n",
       "</table>\n",
       "</div>"
      ],
      "text/plain": [
       "                                                path  \\\n",
       "0  ../BD-Image-Segmentation-Comp/train/case2/case...   \n",
       "1  ../BD-Image-Segmentation-Comp/train/case2/case...   \n",
       "2  ../BD-Image-Segmentation-Comp/train/case2/case...   \n",
       "3  ../BD-Image-Segmentation-Comp/train/case2/case...   \n",
       "4  ../BD-Image-Segmentation-Comp/train/case2/case...   \n",
       "\n",
       "                                           mask_path  case_id  day_id  \\\n",
       "0  ../BD-Image-Segmentation-Comp/train/case2/case...        2       1   \n",
       "1  ../BD-Image-Segmentation-Comp/train/case2/case...        2       1   \n",
       "2  ../BD-Image-Segmentation-Comp/train/case2/case...        2       1   \n",
       "3  ../BD-Image-Segmentation-Comp/train/case2/case...        2       1   \n",
       "4  ../BD-Image-Segmentation-Comp/train/case2/case...        2       1   \n",
       "\n",
       "                         slice_name  slice_id  width  height  width_px  \\\n",
       "0  slice_0001_266_266_1.50_1.50.png         1    266     266       1.5   \n",
       "1  slice_0002_266_266_1.50_1.50.png         2    266     266       1.5   \n",
       "2  slice_0003_266_266_1.50_1.50.png         3    266     266       1.5   \n",
       "3  slice_0004_266_266_1.50_1.50.png         4    266     266       1.5   \n",
       "4  slice_0005_266_266_1.50_1.50.png         5    266     266       1.5   \n",
       "\n",
       "   height_px  \n",
       "0        1.5  \n",
       "1        1.5  \n",
       "2        1.5  \n",
       "3        1.5  \n",
       "4        1.5  "
      ]
     },
     "execution_count": 52,
     "metadata": {},
     "output_type": "execute_result"
    }
   ],
   "source": [
    "image_details = image_details.sort_values(by=['case_id', 'day_id', 'slice_id'], ascending=True).reset_index(drop=True)\n",
    "\n",
    "image_details.head()"
   ]
  },
  {
   "attachments": {},
   "cell_type": "markdown",
   "metadata": {},
   "source": [
    "# <center>3 &dash; STATISTICA DELLE IMMAGINI</center>"
   ]
  },
  {
   "attachments": {},
   "cell_type": "markdown",
   "metadata": {},
   "source": [
    "A seguito di ispezione visiva, abbiamo notato che alcune immagini erano, di base, qualitativamente migliori di altre. Quello che abbiamo fatto, allora, è stato cercare di trovare qualche correlazione tra le caratteristiche dell'immagine e la sua qualità."
   ]
  },
  {
   "attachments": {},
   "cell_type": "markdown",
   "metadata": {},
   "source": [
    "## DISTRIBUZIONE DELLE IMMAGINI IN BASE ALLA PROFONDIT&Agrave; DEI PIXEL"
   ]
  },
  {
   "attachments": {},
   "cell_type": "markdown",
   "metadata": {},
   "source": [
    "Il dataframe ci permette di evidenziare, di base, la presenza di due possibili valori per la profondità delle immagini, ossia $1.50\\text{ mm}$ e $1.63\\text{ mm}$. Innanzitutto, abbiamo pensato fosse cosa buona andare ad evidenziare la distribuzione delle immagini sulla base dei suddetti valori."
   ]
  },
  {
   "cell_type": "code",
   "execution_count": 53,
   "metadata": {},
   "outputs": [
    {
     "name": "stdout",
     "output_type": "stream",
     "text": [
      "Il numero di immagini con pixel di altezza e larghezza pari a 1.50 mm è 37296\n",
      "Il numero di immagini con pixel di altezza e larghezza pari a 1.63 mm è 1200\n",
      "Il numero complessivo di immagini è 38496, esattamente pari a 37296 + 1200\n"
     ]
    }
   ],
   "source": [
    "num_images_150 = image_details.loc[(image_details['width_px'] == 1.50) & (image_details['height_px'] == 1.50)].shape[0]\n",
    "print(f\"Il numero di immagini con pixel di altezza e larghezza pari a 1.50 mm è {num_images_150}\")\n",
    "\n",
    "num_images_163 = image_details.loc[(image_details['width_px'] == 1.63) & (image_details['height_px'] == 1.63)].shape[0]\n",
    "print(f\"Il numero di immagini con pixel di altezza e larghezza pari a 1.63 mm è {num_images_163}\")\n",
    "\n",
    "print(f\"Il numero complessivo di immagini è {len(image_details)}, esattamente pari a {num_images_150} + {num_images_163}\")"
   ]
  },
  {
   "attachments": {},
   "cell_type": "markdown",
   "metadata": {},
   "source": [
    "Avendo controllato che la somma di entrambi i numeri resituisse esattamente 38496, il numero complessivo di immagini, abbiamo rappresentato in grafico tale distribuzione."
   ]
  },
  {
   "cell_type": "code",
   "execution_count": 54,
   "metadata": {},
   "outputs": [
    {
     "data": {
      "image/png": "[encoded data removed]",
      "text/plain": [
       "<Figure size 640x480 with 1 Axes>"
      ]
     },
     "metadata": {},
     "output_type": "display_data"
    }
   ],
   "source": [
    "labels = ['1.50 mm', '1.63 mm']\n",
    "num_images = [num_images_150, num_images_163]\n",
    "\n",
    "colors = ['blue', 'orange']\n",
    "\n",
    "fig, ax = plt.subplots()\n",
    "ax.bar(labels, num_images, color=colors)\n",
    "\n",
    "ax.set_title('Numero di slice per larghezza e altezza dei pixel')\n",
    "ax.set_xlabel('Larghezza e altezza pixel (in mm)')\n",
    "ax.set_ylabel('Numero di slice')\n",
    "\n",
    "plt.show()"
   ]
  },
  {
   "attachments": {},
   "cell_type": "markdown",
   "metadata": {},
   "source": [
    "L'attenzione verso la profondità dei pixel si giustifica anche attraverso un'intuizione seguita a un'ispezione visiva delle immagini: abbiamo notato che le immagini con pixel profondi $1.63 \\text{ mm}$ sono tendenzialmente di **qualità superiore** rispetto a quelle con pixel profondi $1.50 \\text{ mm}$.\n",
    "\n",
    "Forniamo una prova visiva di quanto affermato."
   ]
  },
  {
   "cell_type": "code",
   "execution_count": 55,
   "metadata": {},
   "outputs": [
    {
     "data": {
      "image/png": "[encoded data removed]",
      "text/plain": [
       "<Figure size 1000x500 with 2 Axes>"
      ]
     },
     "metadata": {},
     "output_type": "display_data"
    }
   ],
   "source": [
    "\n",
    "import cv2\n",
    "\n",
    "im_150 = cv2.imread('../BD-Image-Segmentation-Comp/train/case2/case2_day1/scans/slice_0012_266_266_1.50_1.50.png')\n",
    "im_163 = cv2.imread('../BD-Image-Segmentation-Comp/train/case34/case34_day0/scans/slice_0012_276_276_1.63_1.63.png')\n",
    "\n",
    "fig, (ax1, ax2) = plt.subplots(1, 2, figsize=(10, 5))\n",
    "ax1.imshow(im_150)\n",
    "ax2.imshow(im_163)\n",
    "\n",
    "ax1.set_title(\"Prof. Pixel = 1.50 mm\")\n",
    "ax2.set_title(\"Prof. Pixel = 1.63 mm\")\n",
    "\n",
    "plt.show()"
   ]
  },
  {
   "attachments": {},
   "cell_type": "markdown",
   "metadata": {},
   "source": [
    "Vogliamo, pertanto continuare ad indagare sulle relazioni legate alla profondità dei pixel."
   ]
  },
  {
   "attachments": {},
   "cell_type": "markdown",
   "metadata": {},
   "source": [
    "## RELAZIONI TRA PROFONDIT&Agrave; DEI PIXEL E DIMENSIONI DELL'IMMAGINE"
   ]
  },
  {
   "attachments": {},
   "cell_type": "markdown",
   "metadata": {},
   "source": [
    "In questa seconda parte dell'indagine statistica, vogliamo andare a vedere anche quale sia l'associazione tra la dimensione dei pixel e la risultante dimensione complessiva dell'immagine, così come se questa possa avere un layout quadrato o in landscape.\n",
    "\n",
    "Per poter fare delle considerazioni, dobbiamo innanzitutto, vedere, per ogni dimensione del pixel, quali valori di altezza e larghezza globali si ottengono."
   ]
  },
  {
   "cell_type": "code",
   "execution_count": 56,
   "metadata": {},
   "outputs": [
    {
     "name": "stdout",
     "output_type": "stream",
     "text": [
      "Le immagini associate a una profondità del pixel 1.5 mm hanno una larghezza (in pixel) tra [266 360 234]\n",
      "Le immagini associate a una profondità del pixel 1.5 mm hanno un'altezza (in pixel) tra [266 310 234]\n",
      "Le immagini associate a una profondità del pixel 1.63 mm hanno una larghezza (in pixel) tra [276]\n",
      "Le immagini associate a una profondità del pixel 1.63 mm hanno un'altezza' (in pixel) tra [276]\n"
     ]
    }
   ],
   "source": [
    "widths_px_1_50 = image_details[(image_details['width_px'] == 1.5) & (image_details['height_px'] == 1.5)]['width'].unique()\n",
    "print(f\"Le immagini associate a una profondità del pixel 1.5 mm hanno una larghezza (in pixel) tra {widths_px_1_50}\")\n",
    "\n",
    "heights_px_1_50 = image_details[(image_details['width_px'] == 1.5) & (image_details['height_px'] == 1.5)]['height'].unique()\n",
    "print(f\"Le immagini associate a una profondità del pixel 1.5 mm hanno un'altezza (in pixel) tra {heights_px_1_50}\")\n",
    "\n",
    "widths_px_1_63 = image_details[(image_details['width_px'] == 1.63) & (image_details['height_px'] == 1.63)]['width'].unique()\n",
    "print(f\"Le immagini associate a una profondità del pixel 1.63 mm hanno una larghezza (in pixel) tra {widths_px_1_63}\")\n",
    "\n",
    "heights_px_1_63 = image_details[(image_details['width_px'] == 1.63) & (image_details['height_px'] == 1.63)]['height'].unique()\n",
    "print(f\"Le immagini associate a una profondità del pixel 1.63 mm hanno un'altezza' (in pixel) tra {heights_px_1_63}\")"
   ]
  },
  {
   "attachments": {},
   "cell_type": "markdown",
   "metadata": {},
   "source": [
    "Si evince che le slice con profondità dei pixel pari a $1.50 \\text{ mm}$ hanno dimensione variabile, mentre quelle a profondità pari a $1.63 \\text{ mm}$ hanno tutte la stessa dimensione $\\left(276\\times 276\\right)$ "
   ]
  },
  {
   "attachments": {},
   "cell_type": "markdown",
   "metadata": {},
   "source": [
    "## STATISTICA DELLE DIMENSIONI GLOBALI DELLE IMMAGINI"
   ]
  },
  {
   "attachments": {},
   "cell_type": "markdown",
   "metadata": {},
   "source": [
    "Visto quanto provato nel paragrafo precedente, abbiamo pensato avesse senso indagare su quali fossero le dimensioni delle slice nel dataset. Motivati da questa curiosità, e ricercando possibili correlazioni statistiche con la qualità dell'immagine/con la presenza di segmentazione, abbiamo individuato, per ogni dimensione, i valori corrispondenti per l'altra dimensione.\n",
    "\n",
    "Come prima cosa, abbiamo analizzato le immagini in cui almeno una dimensione è $266 \\text{ px}$:"
   ]
  },
  {
   "cell_type": "code",
   "execution_count": 57,
   "metadata": {},
   "outputs": [
    {
     "name": "stdout",
     "output_type": "stream",
     "text": [
      "Il numero di immagini con larghezza 266 px è: 25920\n",
      "Il numero di immagini con altezza 266 px è: 25920\n",
      "Il numero di immagini 266x266 è: 25920\n"
     ]
    }
   ],
   "source": [
    "num_images_266_width = image_details.loc[(image_details['width'] == 266)].shape[0]\n",
    "print(\"Il numero di immagini con larghezza 266 px è:\", num_images_266_width)\n",
    "\n",
    "num_images_266_height = image_details.loc[(image_details['height'] == 266)].shape[0]\n",
    "print(\"Il numero di immagini con altezza 266 px è:\", num_images_266_height)\n",
    "\n",
    "num_images_266x266 = image_details.loc[(image_details['width'] == 266) & (image_details['height'] == 266)].shape[0]\n",
    "print(\"Il numero di immagini 266x266 è:\", num_images_266x266)"
   ]
  },
  {
   "attachments": {},
   "cell_type": "markdown",
   "metadata": {},
   "source": [
    "Ne abbiamo dedotto che le immagini con altezza o larghezza $266 \\text{ px}$ sono **quadrate**. Abbiamo, quindi, continuato l'analisi con le immagini in cui almeno una dimensione era $234 \\text{ px}$:"
   ]
  },
  {
   "cell_type": "code",
   "execution_count": 58,
   "metadata": {},
   "outputs": [
    {
     "name": "stdout",
     "output_type": "stream",
     "text": [
      "Il numero di immagini con larghezza 234 px è: 144\n",
      "Il numero di immagini con altezza 234 px è: 144\n",
      "Il numero di immagini 234x234 è: 144\n"
     ]
    }
   ],
   "source": [
    "num_images_234_width = image_details.loc[(image_details['width'] == 234)].shape[0]\n",
    "print(\"Il numero di immagini con larghezza 234 px è:\", num_images_234_width)\n",
    "\n",
    "num_images_234_height = image_details.loc[(image_details['height'] == 234)].shape[0]\n",
    "print(\"Il numero di immagini con altezza 234 px è:\", num_images_234_height)\n",
    "\n",
    "num_images_234x234 = image_details.loc[(image_details['width'] == 234) & (image_details['height'] == 234)].shape[0]\n",
    "print(\"Il numero di immagini 234x234 è:\", num_images_234x234)"
   ]
  },
  {
   "attachments": {},
   "cell_type": "markdown",
   "metadata": {},
   "source": [
    "Anche qui, si è evidenziato come una dimensione a $234 \\text{ px}$ sia associata a immagini **quadrate**. &Egrave; banale affermare che le rimanenti immagini a profondità $1.50 \\text{ mm}$ sono **rettangolari** $\\left( 360\\times 310 \\right)$.<br>\n",
    "Nel seguente listato, andiamo a provare quanto affermato:"
   ]
  },
  {
   "cell_type": "code",
   "execution_count": 59,
   "metadata": {},
   "outputs": [
    {
     "name": "stdout",
     "output_type": "stream",
     "text": [
      "Il numero di immagini con larghezza 360 px è: 11232\n",
      "Il numero di immagini con altezza 310 px è: 11232\n",
      "Il numero di immagini 360x310 è: 11232\n",
      "Il totale delle slice con profondità dei pixel di 1.50 mm è: 37296\n"
     ]
    }
   ],
   "source": [
    "num_images_360_width = image_details.loc[(image_details['width'] == 360)].shape[0]\n",
    "print(f\"Il numero di immagini con larghezza 360 px è: {num_images_360_width}\")\n",
    "\n",
    "num_images_310_height = image_details.loc[(image_details['height'] == 310)].shape[0]\n",
    "print(f\"Il numero di immagini con altezza 310 px è: {num_images_310_height}\")\n",
    "\n",
    "num_images_360x310 = image_details.loc[(image_details['width'] == 360) & (image_details['height'] == 310)].shape[0]\n",
    "print(f\"Il numero di immagini 360x310 è: {num_images_360x310}\")\n",
    "\n",
    "tot_slice = num_images_266x266 + num_images_234x234 + num_images_360x310\n",
    "print(f\"Il totale delle slice con profondità dei pixel di 1.50 mm è: {tot_slice}\")"
   ]
  },
  {
   "attachments": {},
   "cell_type": "markdown",
   "metadata": {},
   "source": [
    "Adesso mostriamo, graficamente, quanto affermato in questa sezione."
   ]
  },
  {
   "cell_type": "code",
   "execution_count": 60,
   "metadata": {},
   "outputs": [
    {
     "data": {
      "image/png": "[encoded data removed]",
      "text/plain": [
       "<Figure size 640x480 with 1 Axes>"
      ]
     },
     "metadata": {},
     "output_type": "display_data"
    }
   ],
   "source": [
    "labels = ['234x234', '266x266', '360x310']\n",
    "num_slices = [num_images_234x234, num_images_266x266, num_images_360x310]\n",
    "colors = ['blue', 'orange', 'grey']\n",
    "\n",
    "plt.bar(labels, num_slices, color=colors)\n",
    "plt.title('Numero di slice per larghezza e altezza dei pixel con profondità 1.50 mm')\n",
    "plt.xlabel('Larghezza e altezza pixel (in px)')\n",
    "plt.ylabel('Numero di slice')\n",
    "\n",
    "plt.show()"
   ]
  },
  {
   "attachments": {},
   "cell_type": "markdown",
   "metadata": {},
   "source": [
    "## STATISTICA DELLA SEGMENTAZIONE"
   ]
  },
  {
   "attachments": {},
   "cell_type": "markdown",
   "metadata": {},
   "source": [
    "Avendo evidenziato quelle che sono le possibili dimensioni per le slice del dataset, abbiamo pensato fosse utile ricercare quante immagini, per ogni dimensione, presentassero segmentazione, cercando di trovare una qualche correlazione con la qualità dell'immagine.\n",
    "\n",
    "Dal dataframe *image_details* abbiamo estratto le righe le cui slice hanno data dimensione e abbiamo calcolato i numeri relativi alla segmentazione:\n",
    "\n",
    "* $234\\times234$"
   ]
  },
  {
   "cell_type": "code",
   "execution_count": 61,
   "metadata": {},
   "outputs": [
    {
     "data": {
      "text/html": [
       "<div>\n",
       "<style scoped>\n",
       "    .dataframe tbody tr th:only-of-type {\n",
       "        vertical-align: middle;\n",
       "    }\n",
       "\n",
       "    .dataframe tbody tr th {\n",
       "        vertical-align: top;\n",
       "    }\n",
       "\n",
       "    .dataframe thead th {\n",
       "        text-align: right;\n",
       "    }\n",
       "</style>\n",
       "<table border=\"1\" class=\"dataframe\">\n",
       "  <thead>\n",
       "    <tr style=\"text-align: right;\">\n",
       "      <th></th>\n",
       "      <th>path</th>\n",
       "      <th>mask_path</th>\n",
       "      <th>case_id</th>\n",
       "      <th>day_id</th>\n",
       "      <th>slice_name</th>\n",
       "      <th>slice_id</th>\n",
       "      <th>width</th>\n",
       "      <th>height</th>\n",
       "      <th>width_px</th>\n",
       "      <th>height_px</th>\n",
       "    </tr>\n",
       "  </thead>\n",
       "  <tbody>\n",
       "    <tr>\n",
       "      <th>0</th>\n",
       "      <td>../BD-Image-Segmentation-Comp/train/case139/ca...</td>\n",
       "      <td>../BD-Image-Segmentation-Comp/train/case139/ca...</td>\n",
       "      <td>139</td>\n",
       "      <td>0</td>\n",
       "      <td>slice_0001_234_234_1.50_1.50.png</td>\n",
       "      <td>1</td>\n",
       "      <td>234</td>\n",
       "      <td>234</td>\n",
       "      <td>1.5</td>\n",
       "      <td>1.5</td>\n",
       "    </tr>\n",
       "    <tr>\n",
       "      <th>1</th>\n",
       "      <td>../BD-Image-Segmentation-Comp/train/case139/ca...</td>\n",
       "      <td>../BD-Image-Segmentation-Comp/train/case139/ca...</td>\n",
       "      <td>139</td>\n",
       "      <td>0</td>\n",
       "      <td>slice_0002_234_234_1.50_1.50.png</td>\n",
       "      <td>2</td>\n",
       "      <td>234</td>\n",
       "      <td>234</td>\n",
       "      <td>1.5</td>\n",
       "      <td>1.5</td>\n",
       "    </tr>\n",
       "    <tr>\n",
       "      <th>2</th>\n",
       "      <td>../BD-Image-Segmentation-Comp/train/case139/ca...</td>\n",
       "      <td>../BD-Image-Segmentation-Comp/train/case139/ca...</td>\n",
       "      <td>139</td>\n",
       "      <td>0</td>\n",
       "      <td>slice_0003_234_234_1.50_1.50.png</td>\n",
       "      <td>3</td>\n",
       "      <td>234</td>\n",
       "      <td>234</td>\n",
       "      <td>1.5</td>\n",
       "      <td>1.5</td>\n",
       "    </tr>\n",
       "    <tr>\n",
       "      <th>3</th>\n",
       "      <td>../BD-Image-Segmentation-Comp/train/case139/ca...</td>\n",
       "      <td>../BD-Image-Segmentation-Comp/train/case139/ca...</td>\n",
       "      <td>139</td>\n",
       "      <td>0</td>\n",
       "      <td>slice_0004_234_234_1.50_1.50.png</td>\n",
       "      <td>4</td>\n",
       "      <td>234</td>\n",
       "      <td>234</td>\n",
       "      <td>1.5</td>\n",
       "      <td>1.5</td>\n",
       "    </tr>\n",
       "    <tr>\n",
       "      <th>4</th>\n",
       "      <td>../BD-Image-Segmentation-Comp/train/case139/ca...</td>\n",
       "      <td>../BD-Image-Segmentation-Comp/train/case139/ca...</td>\n",
       "      <td>139</td>\n",
       "      <td>0</td>\n",
       "      <td>slice_0005_234_234_1.50_1.50.png</td>\n",
       "      <td>5</td>\n",
       "      <td>234</td>\n",
       "      <td>234</td>\n",
       "      <td>1.5</td>\n",
       "      <td>1.5</td>\n",
       "    </tr>\n",
       "  </tbody>\n",
       "</table>\n",
       "</div>"
      ],
      "text/plain": [
       "                                                path  \\\n",
       "0  ../BD-Image-Segmentation-Comp/train/case139/ca...   \n",
       "1  ../BD-Image-Segmentation-Comp/train/case139/ca...   \n",
       "2  ../BD-Image-Segmentation-Comp/train/case139/ca...   \n",
       "3  ../BD-Image-Segmentation-Comp/train/case139/ca...   \n",
       "4  ../BD-Image-Segmentation-Comp/train/case139/ca...   \n",
       "\n",
       "                                           mask_path  case_id  day_id  \\\n",
       "0  ../BD-Image-Segmentation-Comp/train/case139/ca...      139       0   \n",
       "1  ../BD-Image-Segmentation-Comp/train/case139/ca...      139       0   \n",
       "2  ../BD-Image-Segmentation-Comp/train/case139/ca...      139       0   \n",
       "3  ../BD-Image-Segmentation-Comp/train/case139/ca...      139       0   \n",
       "4  ../BD-Image-Segmentation-Comp/train/case139/ca...      139       0   \n",
       "\n",
       "                         slice_name  slice_id  width  height  width_px  \\\n",
       "0  slice_0001_234_234_1.50_1.50.png         1    234     234       1.5   \n",
       "1  slice_0002_234_234_1.50_1.50.png         2    234     234       1.5   \n",
       "2  slice_0003_234_234_1.50_1.50.png         3    234     234       1.5   \n",
       "3  slice_0004_234_234_1.50_1.50.png         4    234     234       1.5   \n",
       "4  slice_0005_234_234_1.50_1.50.png         5    234     234       1.5   \n",
       "\n",
       "   height_px  \n",
       "0        1.5  \n",
       "1        1.5  \n",
       "2        1.5  \n",
       "3        1.5  \n",
       "4        1.5  "
      ]
     },
     "execution_count": 61,
     "metadata": {},
     "output_type": "execute_result"
    }
   ],
   "source": [
    "image_details_234x234 = image_details[(image_details['width'] == 234) & (image_details['height'] == 234)].reset_index().drop(columns='index')\n",
    "image_details_234x234.head()"
   ]
  },
  {
   "cell_type": "code",
   "execution_count": 62,
   "metadata": {},
   "outputs": [
    {
     "name": "stdout",
     "output_type": "stream",
     "text": [
      "\n",
      "Il numero di righe con colonna 'segmentation' diversa da (nan, nan, nan) è 56.\n",
      "\n",
      "Il numero delle righe totali è 144.\n",
      "\n",
      "Ci sono esattamente 88 slice di dimensione 234x234 con maschere totalmente vuote.\n",
      "\n",
      "La percentuale di slice di dimensione 234x234 con maschere totalmente vuote è pari al 61.1111%\n"
     ]
    }
   ],
   "source": [
    "image_details_234x234_w_seg = image_details_234x234.merge(train_df, on=['case_id', 'day_id', 'slice_id']).drop_duplicates()\n",
    "\n",
    "count_234 = 0\n",
    "for i in range(len(image_details_234x234_w_seg)):\n",
    "    is_nan = True\n",
    "    for j in range(len(image_details_234x234_w_seg['segmentation'][i])):\n",
    "        if not pd.isna(image_details_234x234_w_seg['segmentation'][i][j]):\n",
    "            is_nan = False\n",
    "            break\n",
    "    if is_nan:\n",
    "        count_234 += 1\n",
    "\n",
    "segmented_234 = image_details_234x234_w_seg.shape[0] - count_234\n",
    "\n",
    "print(f\"\\nIl numero di righe con colonna 'segmentation' diversa da (nan, nan, nan) è {segmented_234}.\")\n",
    "print(f\"\\nIl numero delle righe totali è {image_details_234x234.shape[0]}.\")\n",
    "print(f\"\\nCi sono esattamente {count_234} slice di dimensione 234x234 con maschere totalmente vuote.\")\n",
    "print(f\"\\nLa percentuale di slice di dimensione 234x234 con maschere totalmente vuote è pari al {round(count_234/image_details_234x234_w_seg.shape[0]*100, 4)}%\")"
   ]
  },
  {
   "attachments": {},
   "cell_type": "markdown",
   "metadata": {},
   "source": [
    "* $266\\times266$"
   ]
  },
  {
   "cell_type": "code",
   "execution_count": 63,
   "metadata": {},
   "outputs": [
    {
     "data": {
      "text/html": [
       "<div>\n",
       "<style scoped>\n",
       "    .dataframe tbody tr th:only-of-type {\n",
       "        vertical-align: middle;\n",
       "    }\n",
       "\n",
       "    .dataframe tbody tr th {\n",
       "        vertical-align: top;\n",
       "    }\n",
       "\n",
       "    .dataframe thead th {\n",
       "        text-align: right;\n",
       "    }\n",
       "</style>\n",
       "<table border=\"1\" class=\"dataframe\">\n",
       "  <thead>\n",
       "    <tr style=\"text-align: right;\">\n",
       "      <th></th>\n",
       "      <th>path</th>\n",
       "      <th>mask_path</th>\n",
       "      <th>case_id</th>\n",
       "      <th>day_id</th>\n",
       "      <th>slice_name</th>\n",
       "      <th>slice_id</th>\n",
       "      <th>width</th>\n",
       "      <th>height</th>\n",
       "      <th>width_px</th>\n",
       "      <th>height_px</th>\n",
       "    </tr>\n",
       "  </thead>\n",
       "  <tbody>\n",
       "    <tr>\n",
       "      <th>0</th>\n",
       "      <td>../BD-Image-Segmentation-Comp/train/case2/case...</td>\n",
       "      <td>../BD-Image-Segmentation-Comp/train/case2/case...</td>\n",
       "      <td>2</td>\n",
       "      <td>1</td>\n",
       "      <td>slice_0001_266_266_1.50_1.50.png</td>\n",
       "      <td>1</td>\n",
       "      <td>266</td>\n",
       "      <td>266</td>\n",
       "      <td>1.5</td>\n",
       "      <td>1.5</td>\n",
       "    </tr>\n",
       "    <tr>\n",
       "      <th>1</th>\n",
       "      <td>../BD-Image-Segmentation-Comp/train/case2/case...</td>\n",
       "      <td>../BD-Image-Segmentation-Comp/train/case2/case...</td>\n",
       "      <td>2</td>\n",
       "      <td>1</td>\n",
       "      <td>slice_0002_266_266_1.50_1.50.png</td>\n",
       "      <td>2</td>\n",
       "      <td>266</td>\n",
       "      <td>266</td>\n",
       "      <td>1.5</td>\n",
       "      <td>1.5</td>\n",
       "    </tr>\n",
       "    <tr>\n",
       "      <th>2</th>\n",
       "      <td>../BD-Image-Segmentation-Comp/train/case2/case...</td>\n",
       "      <td>../BD-Image-Segmentation-Comp/train/case2/case...</td>\n",
       "      <td>2</td>\n",
       "      <td>1</td>\n",
       "      <td>slice_0003_266_266_1.50_1.50.png</td>\n",
       "      <td>3</td>\n",
       "      <td>266</td>\n",
       "      <td>266</td>\n",
       "      <td>1.5</td>\n",
       "      <td>1.5</td>\n",
       "    </tr>\n",
       "    <tr>\n",
       "      <th>3</th>\n",
       "      <td>../BD-Image-Segmentation-Comp/train/case2/case...</td>\n",
       "      <td>../BD-Image-Segmentation-Comp/train/case2/case...</td>\n",
       "      <td>2</td>\n",
       "      <td>1</td>\n",
       "      <td>slice_0004_266_266_1.50_1.50.png</td>\n",
       "      <td>4</td>\n",
       "      <td>266</td>\n",
       "      <td>266</td>\n",
       "      <td>1.5</td>\n",
       "      <td>1.5</td>\n",
       "    </tr>\n",
       "    <tr>\n",
       "      <th>4</th>\n",
       "      <td>../BD-Image-Segmentation-Comp/train/case2/case...</td>\n",
       "      <td>../BD-Image-Segmentation-Comp/train/case2/case...</td>\n",
       "      <td>2</td>\n",
       "      <td>1</td>\n",
       "      <td>slice_0005_266_266_1.50_1.50.png</td>\n",
       "      <td>5</td>\n",
       "      <td>266</td>\n",
       "      <td>266</td>\n",
       "      <td>1.5</td>\n",
       "      <td>1.5</td>\n",
       "    </tr>\n",
       "  </tbody>\n",
       "</table>\n",
       "</div>"
      ],
      "text/plain": [
       "                                                path  \\\n",
       "0  ../BD-Image-Segmentation-Comp/train/case2/case...   \n",
       "1  ../BD-Image-Segmentation-Comp/train/case2/case...   \n",
       "2  ../BD-Image-Segmentation-Comp/train/case2/case...   \n",
       "3  ../BD-Image-Segmentation-Comp/train/case2/case...   \n",
       "4  ../BD-Image-Segmentation-Comp/train/case2/case...   \n",
       "\n",
       "                                           mask_path  case_id  day_id  \\\n",
       "0  ../BD-Image-Segmentation-Comp/train/case2/case...        2       1   \n",
       "1  ../BD-Image-Segmentation-Comp/train/case2/case...        2       1   \n",
       "2  ../BD-Image-Segmentation-Comp/train/case2/case...        2       1   \n",
       "3  ../BD-Image-Segmentation-Comp/train/case2/case...        2       1   \n",
       "4  ../BD-Image-Segmentation-Comp/train/case2/case...        2       1   \n",
       "\n",
       "                         slice_name  slice_id  width  height  width_px  \\\n",
       "0  slice_0001_266_266_1.50_1.50.png         1    266     266       1.5   \n",
       "1  slice_0002_266_266_1.50_1.50.png         2    266     266       1.5   \n",
       "2  slice_0003_266_266_1.50_1.50.png         3    266     266       1.5   \n",
       "3  slice_0004_266_266_1.50_1.50.png         4    266     266       1.5   \n",
       "4  slice_0005_266_266_1.50_1.50.png         5    266     266       1.5   \n",
       "\n",
       "   height_px  \n",
       "0        1.5  \n",
       "1        1.5  \n",
       "2        1.5  \n",
       "3        1.5  \n",
       "4        1.5  "
      ]
     },
     "execution_count": 63,
     "metadata": {},
     "output_type": "execute_result"
    }
   ],
   "source": [
    "image_details_266x266 = image_details[(image_details['width'] == 266) & (image_details['height'] == 266)].reset_index().drop(columns='index')\n",
    "image_details_266x266.head()"
   ]
  },
  {
   "cell_type": "code",
   "execution_count": 64,
   "metadata": {},
   "outputs": [
    {
     "name": "stdout",
     "output_type": "stream",
     "text": [
      "\n",
      "Il numero di righe con colonna 'segmentation' diversa da (nan, nan, nan) è 10955.\n",
      "\n",
      "Il numero delle righe totali è 25920.\n",
      "\n",
      "Ci sono esattamente 14965 slice di dimensione 266x266 con maschere totalmente vuote.\n",
      "\n",
      "La percentuale di slice di dimensione 266x266 con maschere totalmente vuote è pari al 57.7353%\n"
     ]
    }
   ],
   "source": [
    "image_details_266x266_w_seg = image_details_266x266.merge(train_df, on=['case_id', 'day_id', 'slice_id']).drop_duplicates()\n",
    "\n",
    "count_266 = 0\n",
    "for i in range(len(image_details_266x266_w_seg)):\n",
    "    is_nan = True\n",
    "    for j in range(len(image_details_266x266_w_seg['segmentation'][i])):\n",
    "        if not pd.isna(image_details_266x266_w_seg['segmentation'][i][j]):\n",
    "            is_nan = False\n",
    "            break\n",
    "    if is_nan:\n",
    "        count_266 += 1\n",
    "\n",
    "segmented_266 = image_details_266x266_w_seg.shape[0] - count_266\n",
    "\n",
    "print(f\"\\nIl numero di righe con colonna 'segmentation' diversa da (nan, nan, nan) è {segmented_266}.\")\n",
    "print(f\"\\nIl numero delle righe totali è {image_details_266x266_w_seg.shape[0]}.\")\n",
    "print(f\"\\nCi sono esattamente {count_266} slice di dimensione 266x266 con maschere totalmente vuote.\")\n",
    "print(f\"\\nLa percentuale di slice di dimensione 266x266 con maschere totalmente vuote è pari al {round(count_266/image_details_266x266_w_seg.shape[0]*100, 4)}%\")"
   ]
  },
  {
   "attachments": {},
   "cell_type": "markdown",
   "metadata": {},
   "source": [
    "* $276\\times276$"
   ]
  },
  {
   "cell_type": "code",
   "execution_count": 65,
   "metadata": {},
   "outputs": [
    {
     "data": {
      "text/html": [
       "<div>\n",
       "<style scoped>\n",
       "    .dataframe tbody tr th:only-of-type {\n",
       "        vertical-align: middle;\n",
       "    }\n",
       "\n",
       "    .dataframe tbody tr th {\n",
       "        vertical-align: top;\n",
       "    }\n",
       "\n",
       "    .dataframe thead th {\n",
       "        text-align: right;\n",
       "    }\n",
       "</style>\n",
       "<table border=\"1\" class=\"dataframe\">\n",
       "  <thead>\n",
       "    <tr style=\"text-align: right;\">\n",
       "      <th></th>\n",
       "      <th>path</th>\n",
       "      <th>mask_path</th>\n",
       "      <th>case_id</th>\n",
       "      <th>day_id</th>\n",
       "      <th>slice_name</th>\n",
       "      <th>slice_id</th>\n",
       "      <th>width</th>\n",
       "      <th>height</th>\n",
       "      <th>width_px</th>\n",
       "      <th>height_px</th>\n",
       "    </tr>\n",
       "  </thead>\n",
       "  <tbody>\n",
       "    <tr>\n",
       "      <th>0</th>\n",
       "      <td>../BD-Image-Segmentation-Comp/train/case34/cas...</td>\n",
       "      <td>../BD-Image-Segmentation-Comp/train/case34/cas...</td>\n",
       "      <td>34</td>\n",
       "      <td>0</td>\n",
       "      <td>slice_0001_276_276_1.63_1.63.png</td>\n",
       "      <td>1</td>\n",
       "      <td>276</td>\n",
       "      <td>276</td>\n",
       "      <td>1.63</td>\n",
       "      <td>1.63</td>\n",
       "    </tr>\n",
       "    <tr>\n",
       "      <th>1</th>\n",
       "      <td>../BD-Image-Segmentation-Comp/train/case34/cas...</td>\n",
       "      <td>../BD-Image-Segmentation-Comp/train/case34/cas...</td>\n",
       "      <td>34</td>\n",
       "      <td>0</td>\n",
       "      <td>slice_0002_276_276_1.63_1.63.png</td>\n",
       "      <td>2</td>\n",
       "      <td>276</td>\n",
       "      <td>276</td>\n",
       "      <td>1.63</td>\n",
       "      <td>1.63</td>\n",
       "    </tr>\n",
       "    <tr>\n",
       "      <th>2</th>\n",
       "      <td>../BD-Image-Segmentation-Comp/train/case34/cas...</td>\n",
       "      <td>../BD-Image-Segmentation-Comp/train/case34/cas...</td>\n",
       "      <td>34</td>\n",
       "      <td>0</td>\n",
       "      <td>slice_0003_276_276_1.63_1.63.png</td>\n",
       "      <td>3</td>\n",
       "      <td>276</td>\n",
       "      <td>276</td>\n",
       "      <td>1.63</td>\n",
       "      <td>1.63</td>\n",
       "    </tr>\n",
       "    <tr>\n",
       "      <th>3</th>\n",
       "      <td>../BD-Image-Segmentation-Comp/train/case34/cas...</td>\n",
       "      <td>../BD-Image-Segmentation-Comp/train/case34/cas...</td>\n",
       "      <td>34</td>\n",
       "      <td>0</td>\n",
       "      <td>slice_0004_276_276_1.63_1.63.png</td>\n",
       "      <td>4</td>\n",
       "      <td>276</td>\n",
       "      <td>276</td>\n",
       "      <td>1.63</td>\n",
       "      <td>1.63</td>\n",
       "    </tr>\n",
       "    <tr>\n",
       "      <th>4</th>\n",
       "      <td>../BD-Image-Segmentation-Comp/train/case34/cas...</td>\n",
       "      <td>../BD-Image-Segmentation-Comp/train/case34/cas...</td>\n",
       "      <td>34</td>\n",
       "      <td>0</td>\n",
       "      <td>slice_0005_276_276_1.63_1.63.png</td>\n",
       "      <td>5</td>\n",
       "      <td>276</td>\n",
       "      <td>276</td>\n",
       "      <td>1.63</td>\n",
       "      <td>1.63</td>\n",
       "    </tr>\n",
       "  </tbody>\n",
       "</table>\n",
       "</div>"
      ],
      "text/plain": [
       "                                                path  \\\n",
       "0  ../BD-Image-Segmentation-Comp/train/case34/cas...   \n",
       "1  ../BD-Image-Segmentation-Comp/train/case34/cas...   \n",
       "2  ../BD-Image-Segmentation-Comp/train/case34/cas...   \n",
       "3  ../BD-Image-Segmentation-Comp/train/case34/cas...   \n",
       "4  ../BD-Image-Segmentation-Comp/train/case34/cas...   \n",
       "\n",
       "                                           mask_path  case_id  day_id  \\\n",
       "0  ../BD-Image-Segmentation-Comp/train/case34/cas...       34       0   \n",
       "1  ../BD-Image-Segmentation-Comp/train/case34/cas...       34       0   \n",
       "2  ../BD-Image-Segmentation-Comp/train/case34/cas...       34       0   \n",
       "3  ../BD-Image-Segmentation-Comp/train/case34/cas...       34       0   \n",
       "4  ../BD-Image-Segmentation-Comp/train/case34/cas...       34       0   \n",
       "\n",
       "                         slice_name  slice_id  width  height  width_px  \\\n",
       "0  slice_0001_276_276_1.63_1.63.png         1    276     276      1.63   \n",
       "1  slice_0002_276_276_1.63_1.63.png         2    276     276      1.63   \n",
       "2  slice_0003_276_276_1.63_1.63.png         3    276     276      1.63   \n",
       "3  slice_0004_276_276_1.63_1.63.png         4    276     276      1.63   \n",
       "4  slice_0005_276_276_1.63_1.63.png         5    276     276      1.63   \n",
       "\n",
       "   height_px  \n",
       "0       1.63  \n",
       "1       1.63  \n",
       "2       1.63  \n",
       "3       1.63  \n",
       "4       1.63  "
      ]
     },
     "execution_count": 65,
     "metadata": {},
     "output_type": "execute_result"
    }
   ],
   "source": [
    "image_details_276x276 = image_details[(image_details['width'] == 276) & (image_details['height'] == 276)].reset_index().drop(columns='index')\n",
    "image_details_276x276.head()"
   ]
  },
  {
   "cell_type": "code",
   "execution_count": 66,
   "metadata": {},
   "outputs": [
    {
     "name": "stdout",
     "output_type": "stream",
     "text": [
      "\n",
      "Il numero di righe con colonna 'segmentation' diversa da (nan, nan, nan) è 718.\n",
      "\n",
      "Il numero delle righe totali è 1200.\n",
      "\n",
      "Ci sono esattamente 482 slice di dimensione 276x276 con maschere totalmente vuote.\n",
      "\n",
      "La percentuale di slice di dimensione 276x276 con maschere totalmente vuote è pari al 40%\n"
     ]
    }
   ],
   "source": [
    "image_details_276x276_w_seg = image_details_276x276.merge(train_df, on=['case_id', 'day_id', 'slice_id']).drop_duplicates()\n",
    "\n",
    "count_276 = 0\n",
    "for i in range(len(image_details_276x276_w_seg)):\n",
    "    is_nan = True\n",
    "    for j in range(len(image_details_276x276_w_seg['segmentation'][i])):\n",
    "        if not pd.isna(image_details_276x276_w_seg['segmentation'][i][j]):\n",
    "            is_nan = False\n",
    "            break\n",
    "    if is_nan:\n",
    "        count_276 += 1\n",
    "\n",
    "segmented_276 = image_details_276x276_w_seg.shape[0] - count_276\n",
    "\n",
    "print(f\"\\nIl numero di righe con colonna 'segmentation' diversa da (nan, nan, nan) è {segmented_276}.\")\n",
    "print(f\"\\nIl numero delle righe totali è {image_details_276x276_w_seg.shape[0]}.\")\n",
    "print(f\"\\nCi sono esattamente {count_276} slice di dimensione 276x276 con maschere totalmente vuote.\")\n",
    "print(f\"\\nLa percentuale di slice di dimensione 276x276 con maschere totalmente vuote è pari al {round(count_276/image_details_276x276_w_seg.shape[0]*100)}%\")"
   ]
  },
  {
   "attachments": {},
   "cell_type": "markdown",
   "metadata": {},
   "source": [
    "* $360\\times310$"
   ]
  },
  {
   "cell_type": "code",
   "execution_count": 67,
   "metadata": {},
   "outputs": [
    {
     "data": {
      "text/html": [
       "<div>\n",
       "<style scoped>\n",
       "    .dataframe tbody tr th:only-of-type {\n",
       "        vertical-align: middle;\n",
       "    }\n",
       "\n",
       "    .dataframe tbody tr th {\n",
       "        vertical-align: top;\n",
       "    }\n",
       "\n",
       "    .dataframe thead th {\n",
       "        text-align: right;\n",
       "    }\n",
       "</style>\n",
       "<table border=\"1\" class=\"dataframe\">\n",
       "  <thead>\n",
       "    <tr style=\"text-align: right;\">\n",
       "      <th></th>\n",
       "      <th>path</th>\n",
       "      <th>mask_path</th>\n",
       "      <th>case_id</th>\n",
       "      <th>day_id</th>\n",
       "      <th>slice_name</th>\n",
       "      <th>slice_id</th>\n",
       "      <th>width</th>\n",
       "      <th>height</th>\n",
       "      <th>width_px</th>\n",
       "      <th>height_px</th>\n",
       "    </tr>\n",
       "  </thead>\n",
       "  <tbody>\n",
       "    <tr>\n",
       "      <th>0</th>\n",
       "      <td>../BD-Image-Segmentation-Comp/train/case6/case...</td>\n",
       "      <td>../BD-Image-Segmentation-Comp/train/case6/case...</td>\n",
       "      <td>6</td>\n",
       "      <td>0</td>\n",
       "      <td>slice_0001_360_310_1.50_1.50.png</td>\n",
       "      <td>1</td>\n",
       "      <td>360</td>\n",
       "      <td>310</td>\n",
       "      <td>1.5</td>\n",
       "      <td>1.5</td>\n",
       "    </tr>\n",
       "    <tr>\n",
       "      <th>1</th>\n",
       "      <td>../BD-Image-Segmentation-Comp/train/case6/case...</td>\n",
       "      <td>../BD-Image-Segmentation-Comp/train/case6/case...</td>\n",
       "      <td>6</td>\n",
       "      <td>0</td>\n",
       "      <td>slice_0002_360_310_1.50_1.50.png</td>\n",
       "      <td>2</td>\n",
       "      <td>360</td>\n",
       "      <td>310</td>\n",
       "      <td>1.5</td>\n",
       "      <td>1.5</td>\n",
       "    </tr>\n",
       "    <tr>\n",
       "      <th>2</th>\n",
       "      <td>../BD-Image-Segmentation-Comp/train/case6/case...</td>\n",
       "      <td>../BD-Image-Segmentation-Comp/train/case6/case...</td>\n",
       "      <td>6</td>\n",
       "      <td>0</td>\n",
       "      <td>slice_0003_360_310_1.50_1.50.png</td>\n",
       "      <td>3</td>\n",
       "      <td>360</td>\n",
       "      <td>310</td>\n",
       "      <td>1.5</td>\n",
       "      <td>1.5</td>\n",
       "    </tr>\n",
       "    <tr>\n",
       "      <th>3</th>\n",
       "      <td>../BD-Image-Segmentation-Comp/train/case6/case...</td>\n",
       "      <td>../BD-Image-Segmentation-Comp/train/case6/case...</td>\n",
       "      <td>6</td>\n",
       "      <td>0</td>\n",
       "      <td>slice_0004_360_310_1.50_1.50.png</td>\n",
       "      <td>4</td>\n",
       "      <td>360</td>\n",
       "      <td>310</td>\n",
       "      <td>1.5</td>\n",
       "      <td>1.5</td>\n",
       "    </tr>\n",
       "    <tr>\n",
       "      <th>4</th>\n",
       "      <td>../BD-Image-Segmentation-Comp/train/case6/case...</td>\n",
       "      <td>../BD-Image-Segmentation-Comp/train/case6/case...</td>\n",
       "      <td>6</td>\n",
       "      <td>0</td>\n",
       "      <td>slice_0005_360_310_1.50_1.50.png</td>\n",
       "      <td>5</td>\n",
       "      <td>360</td>\n",
       "      <td>310</td>\n",
       "      <td>1.5</td>\n",
       "      <td>1.5</td>\n",
       "    </tr>\n",
       "  </tbody>\n",
       "</table>\n",
       "</div>"
      ],
      "text/plain": [
       "                                                path  \\\n",
       "0  ../BD-Image-Segmentation-Comp/train/case6/case...   \n",
       "1  ../BD-Image-Segmentation-Comp/train/case6/case...   \n",
       "2  ../BD-Image-Segmentation-Comp/train/case6/case...   \n",
       "3  ../BD-Image-Segmentation-Comp/train/case6/case...   \n",
       "4  ../BD-Image-Segmentation-Comp/train/case6/case...   \n",
       "\n",
       "                                           mask_path  case_id  day_id  \\\n",
       "0  ../BD-Image-Segmentation-Comp/train/case6/case...        6       0   \n",
       "1  ../BD-Image-Segmentation-Comp/train/case6/case...        6       0   \n",
       "2  ../BD-Image-Segmentation-Comp/train/case6/case...        6       0   \n",
       "3  ../BD-Image-Segmentation-Comp/train/case6/case...        6       0   \n",
       "4  ../BD-Image-Segmentation-Comp/train/case6/case...        6       0   \n",
       "\n",
       "                         slice_name  slice_id  width  height  width_px  \\\n",
       "0  slice_0001_360_310_1.50_1.50.png         1    360     310       1.5   \n",
       "1  slice_0002_360_310_1.50_1.50.png         2    360     310       1.5   \n",
       "2  slice_0003_360_310_1.50_1.50.png         3    360     310       1.5   \n",
       "3  slice_0004_360_310_1.50_1.50.png         4    360     310       1.5   \n",
       "4  slice_0005_360_310_1.50_1.50.png         5    360     310       1.5   \n",
       "\n",
       "   height_px  \n",
       "0        1.5  \n",
       "1        1.5  \n",
       "2        1.5  \n",
       "3        1.5  \n",
       "4        1.5  "
      ]
     },
     "execution_count": 67,
     "metadata": {},
     "output_type": "execute_result"
    }
   ],
   "source": [
    "image_details_360x310 = image_details[(image_details['width'] == 360) & (image_details['height'] == 310)].reset_index().drop(columns='index')\n",
    "image_details_360x310.head()"
   ]
  },
  {
   "cell_type": "code",
   "execution_count": 68,
   "metadata": {},
   "outputs": [
    {
     "name": "stdout",
     "output_type": "stream",
     "text": [
      "\n",
      "Il numero di righe con colonna 'segmentation' diversa da (nan, nan, nan) è 4861.\n",
      "\n",
      "Il numero delle righe totali è 11232.\n",
      "\n",
      "Ci sono esattamente 6371 slice di dimensione 360x310 con maschere totalmente vuote.\n",
      "\n",
      "La percentuale di slice di dimensione 360x310 con maschere totalmente vuote è pari al 57%\n"
     ]
    }
   ],
   "source": [
    "image_details_360x310_w_seg = image_details_360x310.merge(train_df, on=['case_id', 'day_id', 'slice_id']).drop_duplicates()\n",
    "\n",
    "count_360 = 0\n",
    "for i in range(len(image_details_360x310_w_seg)):\n",
    "    is_nan = True\n",
    "    for j in range(len(image_details_360x310_w_seg['segmentation'][i])):\n",
    "        if not pd.isna(image_details_360x310_w_seg['segmentation'][i][j]):\n",
    "            is_nan = False\n",
    "            break\n",
    "    if is_nan:\n",
    "        count_360 += 1\n",
    "        \n",
    "segmented_360 = image_details_360x310_w_seg.shape[0] - count_360\n",
    "\n",
    "print(f\"\\nIl numero di righe con colonna 'segmentation' diversa da (nan, nan, nan) è {segmented_360}.\")\n",
    "print(f\"\\nIl numero delle righe totali è {image_details_360x310_w_seg.shape[0]}.\")\n",
    "print(f\"\\nCi sono esattamente {count_360} slice di dimensione 360x310 con maschere totalmente vuote.\")\n",
    "print(f\"\\nLa percentuale di slice di dimensione 360x310 con maschere totalmente vuote è pari al {round(count_360/image_details_360x310_w_seg.shape[0]*100)}%\")"
   ]
  },
  {
   "attachments": {},
   "cell_type": "markdown",
   "metadata": {},
   "source": [
    "Si evince che:\n",
    "\n",
    "1.  le immagini che contengono, in percentuale, la **maggior frequenza di segmentazioni** sono quelle da $276\\times276$ ($60\\ \\%$);\n",
    "2.  le immagini che congengono la **maggior frequenza di segmentazioni totalmente vuote** sono quelle da $234\\times234$ ($61.1111\\ \\%$);\n",
    "3.  le immagini che contengono il **maggior numero di immagini segmentate**, in valore assoluto, sono quelle da $266\\times266$  ($10955$);\n",
    "4.  le immagini che contengono il **minor numero di immagini segmentate** sono quelle da $234\\times234$ ($56$).\n",
    "\n",
    "Osserviamo graficamente, quanto visto analiticamente:\n"
   ]
  },
  {
   "cell_type": "code",
   "execution_count": 69,
   "metadata": {},
   "outputs": [
    {
     "data": {
      "image/png": "[encoded data removed]",
      "text/plain": [
       "<Figure size 1500x500 with 3 Axes>"
      ]
     },
     "metadata": {},
     "output_type": "display_data"
    }
   ],
   "source": [
    "labels = ['234x234', '266x266', '276x276', '360x310']\n",
    "counters1 = [count_234, count_266, count_276, count_360]\n",
    "counters2 = [segmented_234, segmented_266, segmented_276, segmented_360]\n",
    "counters3 = [(count_234 + segmented_234), (count_266 + segmented_266), (count_276 + segmented_276), (count_360 + segmented_360)]\n",
    "colors = ['red', 'green', 'blue', 'orange']\n",
    "lower_bound = 0\n",
    "upper_bound = count_266 + segmented_266 + 1000\n",
    "\n",
    "fig, (ax1, ax2, ax3) = plt.subplots(1, 3, figsize=(15, 5))\n",
    "\n",
    "ax1.bar(labels, counters1, color=colors)\n",
    "ax1.set_ybound(lower_bound, upper_bound)\n",
    "ax1.set_title('N° di maschere vuote per dimensione slice')\n",
    "ax1.set_ylabel('Numero di slice')\n",
    "\n",
    "ax2.bar(labels, counters2, color=colors)\n",
    "ax2.set_ybound(lower_bound, upper_bound)\n",
    "ax2.set_title('N° di segmentazioni per dimensione slice')\n",
    "ax2.set_xlabel('Larghezza e altezza slice (in px)')\n",
    "\n",
    "ax3.bar(labels, counters3, color=colors)\n",
    "ax3.set_ybound(lower_bound, upper_bound)\n",
    "ax3.set_title('Totale')\n",
    "\n",
    "plt.show()"
   ]
  },
  {
   "attachments": {},
   "cell_type": "markdown",
   "metadata": {},
   "source": [
    "# <center>4 &dash; OPERAZIONI SULLE MASCHERE</center>"
   ]
  },
  {
   "attachments": {},
   "cell_type": "markdown",
   "metadata": {},
   "source": [
    "Avendo visto, nei paragrafi precedenti, l'esistenza di una colonna per la segmentazione degli organi all'interno delle scansioni e dopo averne evidenziato la distribuzione, in funzione delle dimensioni delle immagini, in questa sezione ci occuperemo di tutte le operazioni che abbiamo ritenuto necessarie per l'elaborazione delle maschere.\n",
    "\n",
    "Come stabilito in fase di presentazione della competizione, le maschere di segmentazione del training set sono state fornite secondo la codifica **run-length**. \n",
    "\n",
    "Questa codifica (da ora RLE) è una semplice forma di **compressione** dei dati **senza perdita** di informazioni, che viene eseguita su sequenze con lo stesso valore che si verificano più volte consecutive. Codifica la sequenza per memorizzare un solo valore e il relativo conteggio.\n",
    "\n",
    "Consideriamo, ad esempio, una porzione di maschera presa dal file `train.csv`:\n",
    "**<center>24031 5 24296 7 24561 8 24825 10</center>** \n",
    "\n",
    "Contando da 0, gli elementi di posto **pari** indicano la posizione dei vari pixel nell'immagine vettorizzata, mentre gli elementi di posto **dispari** indicano la **lunghezza della run**, ovvero quante volte (meno uno) deve essere ripetuto il valore del pixel di riferimento.\n",
    "\n",
    "Nel nostro esempio, il pixel **24031** andrà ripetuto **4** volte, il pixel **24296** andrà ripeturo **6** volte e così via.\n",
    "\n",
    "Per sfruttare la codifica RLE delle maschere, procediamo all'implementazione delle funzioni per:\n",
    "\n",
    "* creare una maschera vuota\n",
    "* decodificare una stringa RLE\n",
    "* codificare un'immagine in una stringa RLE\n",
    "\n",
    "Tali funzioni sulle maschere sono state implementate in un modulo chiamato `mask_ops`."
   ]
  },
  {
   "attachments": {},
   "cell_type": "markdown",
   "metadata": {},
   "source": [
    "## CREAZIONE MASCHERA VUOTA"
   ]
  },
  {
   "cell_type": "code",
   "execution_count": null,
   "metadata": {},
   "outputs": [],
   "source": [
    "def crea_maschera_vuota(path: str, width: int, height: int):\n",
    "    \"\"\"Funzione usata per creare un segnaposto per una maschera\n",
    "    in un dato percorso\n",
    "\n",
    "    Args:\n",
    "        path (str): percorso in cui salvare la maschera vuota\n",
    "        width (int): larghezza desiderata per la maschera\n",
    "        height (int): altezza desiderata per la maschera\n",
    "    \"\"\"\n",
    "    # Creo una maschera vuota con le dimensioni dei pixel calcolate\n",
    "    mask = np.zeros((height, width, 3), dtype=np.uint8)\n",
    "\n",
    "    cv.imwrite(path, mask)"
   ]
  },
  {
   "attachments": {},
   "cell_type": "markdown",
   "metadata": {},
   "source": [
    "&Egrave; una funzione molto semplice che serve a generare una maschera di larghezza e altezza desiderate, e a salvarla nel percorso specificato.\n",
    "\n",
    "Tornerà utile per generare le maschere presenti nel dataset."
   ]
  },
  {
   "attachments": {},
   "cell_type": "markdown",
   "metadata": {},
   "source": [
    "## DECODIFICA **RLE**"
   ]
  },
  {
   "cell_type": "code",
   "execution_count": 71,
   "metadata": {},
   "outputs": [],
   "source": [
    "def rle_to_image(rle_code: str, height: int, width: int) -> np.ndarray:\n",
    "    \"\"\"Funzione usata per convertire una maschera codificata RLE in \n",
    "    un'immagine di data altezza e larghezza\n",
    "\n",
    "    Args:\n",
    "        rle_code (str): stringa rappresentativa della segmentazione RLE\n",
    "        height (int): altezza desiderata per l'immagine\n",
    "        width (int): larghezza desiderata per l'immagine\n",
    "\n",
    "    Returns:\n",
    "        np.ndarray: immagine della maschera associata alla stringa RLE\n",
    "    \"\"\"\n",
    "    # Verifica se la codifica è 'nan'\n",
    "    \n",
    "    if isinstance(rle_code, float) and math.isnan(rle_code):\n",
    "        return np.zeros((height, width), dtype=np.uint8)\n",
    "    \n",
    "    # Trasforma la stringa in una lista di numeri interi e genera\n",
    "    # un array NumPy fatto da coppie di interi (secondo la notazione RLE)\n",
    "    rle_numbers = [int(i) for i in rle_code.split()]\n",
    "    rle_pairs = np.array(rle_numbers).reshape(-1, 2)\n",
    "\n",
    "    # Crea un'immagine vuota\n",
    "    img = np.zeros(height*width, dtype=np.uint8)\n",
    "\n",
    "    # Colora i pixel coperti dalla maschera\n",
    "    for index, length in rle_pairs:\n",
    "        index -= 1\n",
    "        img[index:index+length] = 255\n",
    "\n",
    "    # Ridimensiona l'immagine e la restituisce\n",
    "    return img.reshape((height, width))"
   ]
  },
  {
   "attachments": {},
   "cell_type": "markdown",
   "metadata": {},
   "source": [
    "Osserviamo, in questo esempio, la funzione al lavoro:"
   ]
  },
  {
   "cell_type": "code",
   "execution_count": 77,
   "metadata": {},
   "outputs": [
    {
     "data": {
      "image/png": "[encoded data removed]",
      "text/plain": [
       "<Figure size 700x700 with 1 Axes>"
      ]
     },
     "metadata": {},
     "output_type": "display_data"
    }
   ],
   "source": [
    "rle_string = '22547 4 22822 11 23096 15 23371 17 23646 19 23921 21 24197 20 24473 17 24749 15 25026 13 ' +\\\n",
    "'25302 13 25579 22 25856 22 26134 21 26411 21 26688 21 26965 22 27241 22 27518 22 27794 22 28070 23 ' +\\\n",
    "'28346 9 28357 12 28622 9 28633 12 28899 7 28909 12 29175 7 29185 12 29452 4 29461 12 29737 12 30013 12 ' +\\\n",
    "'30289 11 30565 11 30842 9 31119 7 36644 4 36918 8 37193 9 37469 10 37745 10 38021 10 38297 10 38573 10 ' +\\\n",
    "'38849 10 39125 10 39402 8 39679 6'\n",
    "\n",
    "rle_dec_width = 276\n",
    "rle_dec_height = 276\n",
    "\n",
    "rle_dec_mask = rle_to_image(rle_string, rle_dec_height, rle_dec_width)\n",
    "\n",
    "fig, ax = plt.subplots(nrows=1, ncols=1, figsize=(7,7))\n",
    "\n",
    "ax.set_title('Case 34, Day 0, Slice 50 - Segm. Mask for Large Bowel')\n",
    "\n",
    "plt.imshow(rle_dec_mask)\n",
    "plt.show()\n"
   ]
  },
  {
   "attachments": {},
   "cell_type": "markdown",
   "metadata": {},
   "source": [
    "## CODIFICA **RLE**"
   ]
  },
  {
   "cell_type": "code",
   "execution_count": 91,
   "metadata": {},
   "outputs": [],
   "source": [
    "def rle_encode(mask: np.ndarray) -> str:\n",
    "    \"\"\"Funzione usata per generare una codifica RLE a partire da una maschera binaria\n",
    "\n",
    "    Args:\n",
    "        mask (np.ndarray): maschera binaria da codificare in RLE\n",
    "\n",
    "    Returns:\n",
    "        str: codifica RLE della maschera\n",
    "    \"\"\"\n",
    "    \n",
    "    rle_string = \"\"\n",
    "    \n",
    "    mask = mask.flatten()\n",
    "\n",
    "    # Si aggiunge uno zero-padding alla maschera per evitare problemi di indicizzazione\n",
    "    padded_mask = np.pad(mask, (1,), mode=\"constant\")\n",
    "\n",
    "    # Inizializza l'indice corrente a 0\n",
    "    current_index = 0\n",
    "    \n",
    "    # Inizializza la lunghezza corrente a 0\n",
    "    current_length = 0\n",
    "\n",
    "    # Itera attraverso ciascun pixel della riga\n",
    "    for pixel in padded_mask:\n",
    "        # Se il pixel è 1 e il pixel precedente era 0, inizia una nuova sequenza\n",
    "        if pixel == 1 and padded_mask[current_index - 1] == 0:\n",
    "            rle_string += str(current_index) + \" \"\n",
    "            current_length = 1\n",
    "        # Se il pixel è 1 e il pixel precedente era 1, aumenta la lunghezza della sequenza corrente\n",
    "        elif pixel == 1 and padded_mask[current_index - 1] == 1:\n",
    "            current_length += 1\n",
    "        # Se il pixel è 0 e il pixel precedente era 1, termina la sequenza corrente\n",
    "        elif pixel == 0 and padded_mask[current_index - 1] == 1:\n",
    "            rle_string += str(current_length) + \" \"\n",
    "            current_length = 0\n",
    "        \n",
    "        # Incrementa l'indice corrente\n",
    "        current_index += 1\n",
    "\n",
    "    # Se c'è ancora una sequenza attiva alla fine della riga, termina la sequenza\n",
    "    if current_length != 0:\n",
    "        rle_string += str(current_length) + \" \"\n",
    "\n",
    "    # Restituisci la stringa RLE\n",
    "    return rle_string"
   ]
  },
  {
   "attachments": {},
   "cell_type": "markdown",
   "metadata": {},
   "source": [
    "Osserviamo, in quello che segue, come la funzione codifichi esattamente la maschera dell'esempio precedente"
   ]
  },
  {
   "cell_type": "code",
   "execution_count": 98,
   "metadata": {},
   "outputs": [
    {
     "name": "stdout",
     "output_type": "stream",
     "text": [
      "Maschera codificata come:\n",
      "22547 4 22822 11 23096 15 23371 17 23646 19 23921 21 24197 20 24473 17 24749 15 25026 13 25302 13 25579 22 25856 22 26134 21 26411 21 26688 21 26965 22 27241 22 27518 22 27794 22 28070 23 28346 9 28357 12 28622 9 28633 12 28899 7 28909 12 29175 7 29185 12 29452 4 29461 12 29737 12 30013 12 30289 11 30565 11 30842 9 31119 7 36644 4 36918 8 37193 9 37469 10 37745 10 38021 10 38297 10 38573 10 38849 10 39125 10 39402 8 39679 6 \n",
      "Stringa originale:\n",
      "22547 4 22822 11 23096 15 23371 17 23646 19 23921 21 24197 20 24473 17 24749 15 25026 13 25302 13 25579 22 25856 22 26134 21 26411 21 26688 21 26965 22 27241 22 27518 22 27794 22 28070 23 28346 9 28357 12 28622 9 28633 12 28899 7 28909 12 29175 7 29185 12 29452 4 29461 12 29737 12 30013 12 30289 11 30565 11 30842 9 31119 7 36644 4 36918 8 37193 9 37469 10 37745 10 38021 10 38297 10 38573 10 38849 10 39125 10 39402 8 39679 6\n",
      "\n"
     ]
    }
   ],
   "source": [
    "encoded_mask = rle_encode(rle_dec_mask/255)\n",
    "\n",
    "print(f\"Maschera codificata come:\\n{encoded_mask}\")\n",
    "\n",
    "\n",
    "print(f\"Stringa originale:\\n{rle_string}\\n\")"
   ]
  }
 ],
 "metadata": {
  "kernelspec": {
   "display_name": "big_data",
   "language": "python",
   "name": "python3"
  },
  "language_info": {
   "codemirror_mode": {
    "name": "ipython",
    "version": 3
   },
   "file_extension": ".py",
   "mimetype": "text/x-python",
   "name": "python",
   "nbconvert_exporter": "python",
   "pygments_lexer": "ipython3",
   "version": "3.10.6"
  },
  "orig_nbformat": 4,
  "vscode": {
   "interpreter": {
    "hash": "db96dcb7501e2dc5ccc40e111d3b8aa3045a6ecb3a7f5ba88d1471cc4d737ff5"
   }
  }
 },
 "nbformat": 4,
 "nbformat_minor": 2
}
