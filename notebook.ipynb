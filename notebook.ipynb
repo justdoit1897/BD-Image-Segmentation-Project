{
 "cells": [
  {
   "attachments": {},
   "cell_type": "markdown",
   "metadata": {},
   "source": [
    "# <center>STYLING DEL NOTEBOOK</center>"
   ]
  },
  {
   "cell_type": "code",
   "execution_count": 4,
   "metadata": {},
   "outputs": [
    {
     "data": {
      "text/html": [
       "<style>\n",
       "    @import url('https://fonts.googleapis.com/css?family=Montserrat&display=swap');\n",
       "     \n",
       "    * {\n",
       "        font-family: 'Montserrat', 'Arial', sans-serif;\n",
       "        text-align: left;\n",
       "        line-height: 2em;\n",
       "    }\n",
       "    \n",
       "    h1 { \n",
       "        text-align: center;\n",
       "        text-transform: uppercase;\n",
       "    }\n",
       "\n",
       "</style>"
      ],
      "text/plain": [
       "<IPython.core.display.HTML object>"
      ]
     },
     "execution_count": 4,
     "metadata": {},
     "output_type": "execute_result"
    }
   ],
   "source": [
    "from IPython.core.display import HTML\n",
    "\n",
    "HTML(\"\"\"<style>\n",
    "    @import url('https://fonts.googleapis.com/css?family=Montserrat&display=swap');\n",
    "     \n",
    "    * {\n",
    "        font-family: 'Montserrat', 'Arial', sans-serif;\n",
    "        text-align: left;\n",
    "        line-height: 2em;\n",
    "    }\n",
    "    \n",
    "    h1 { \n",
    "        text-align: center;\n",
    "        text-transform: uppercase;\n",
    "    }\n",
    "\n",
    "</style>\"\"\")"
   ]
  },
  {
   "cell_type": "code",
   "execution_count": null,
   "metadata": {},
   "outputs": [],
   "source": [
    "bar_format_red = \"{l_bar}\\x1b[31m{bar}\\x1b[0m{r_bar}]\"\n",
    "bar_format_green = \"{l_bar}\\x1b[32m{bar}\\x1b[0m{r_bar}]\"\n",
    "bar_format_yellow = \"{l_bar}\\x1b[33m{bar}\\x1b[0m{r_bar}]\"\n",
    "bar_format_blue = \"{l_bar}\\x1b[34m{bar}\\x1b[0m{r_bar}]\"\n",
    "bar_format_magenta = \"{l_bar}\\x1b[35m{bar}\\x1b[0m{r_bar}]\"\n",
    "bar_format_cyan = \"{l_bar}\\x1b[36m{bar}\\x1b[0m{r_bar}]\""
   ]
  },
  {
   "attachments": {},
   "cell_type": "markdown",
   "metadata": {},
   "source": [
    "# <center>DESCRIZIONE DEL PROBLEMA</center>"
   ]
  },
  {
   "attachments": {},
   "cell_type": "markdown",
   "metadata": {},
   "source": [
    "Nel 2019, si stima che in tutto il mondo siano state diagnosticate 5 milioni di persone con un **tumore del tratto gastrointestinale**. Di questi pazienti, circa la metà può essere sottoposta a radioterapia, di solito somministrata per 10-15 minuti al giorno per 1-6 settimane. \n",
    "\n",
    "Gli oncologi radioterapisti cercano di somministrare dosi elevate di radiazioni utilizzando fasci di raggi X puntati sui tumori, evitando lo stomaco e l'intestino. Con le nuove tecnologie, come i **sistemi integrati di risonanza magnetica e acceleratore lineare**, noti anche come *MR-Linac*, gli oncologi sono in grado di visualizzare la posizione giornaliera del tumore e dell'intestino, che può variare di giorno in giorno. \n",
    "\n",
    "In queste scansioni, gli oncologi radioterapisti devono delineare **manualmente** la posizione dello stomaco e dell'intestino per regolare la direzione dei fasci di raggi X in modo da **aumentare** la dose erogata al tumore ed **evitare** lo stomaco e l'intestino. Si tratta di un processo lungo e laborioso che può prolungare i trattamenti da 15 minuti al giorno a un'ora al giorno, il che può essere difficile da tollerare per i pazienti, a meno che *il deep learning non aiuti ad automatizzare il processo di segmentazione*. Un metodo per segmentare lo stomaco e l'intestino renderebbe i trattamenti molto più veloci e consentirebbe a un maggior numero di pazienti di ricevere un trattamento più efficace.\n",
    "\n",
    "L'**UW-Madison Carbone Cancer Center** è un pioniere della radioterapia basata sulla risonanza magnetica e dal 2015 tratta i pazienti con *radioterapia guidata dalla risonanza magnetica in base alla loro anatomia quotidiana*.\n",
    "\n",
    "L'obiettivo è creare un modello per segmentare automaticamente lo stomaco e l'intestino nelle scansioni MRI, basandosi su un data set di queste scansioni per trovare soluzioni creative di deep learning che aiutino i pazienti oncologici a ricevere cure migliori.\n",
    "\n",
    "<center><img src=\"./pics/pic_001.jpeg\" alt = \"Tumore allo stomaco\" style=\"width:350px; height:350px;\"/></center> \n",
    "\n",
    "In questa figura, il tumore (linea spessa rosa) è vicino allo stomaco (linea spessa rossa). Al tumore vengono indirizzate dosi elevate di radiazioni, evitando lo stomaco. I livelli di dose sono rappresentati dall'arcobaleno dei contorni, con le dosi più alte rappresentate dal rosso e quelle più basse dal verde.\n",
    "\n",
    "Il cancro è già abbastanza pesante, ma la soluzione al problema permetterebbe agli oncologi radioterapisti di somministrare in modo sicuro dosi più elevate di radiazioni ai tumori, evitando lo stomaco e l'intestino. Questo renderà più veloci i trattamenti quotidiani dei pazienti oncologici e consentirà loro di ottenere cure più efficaci con meno effetti collaterali e un migliore controllo del cancro a lungo termine."
   ]
  },
  {
   "attachments": {},
   "cell_type": "markdown",
   "metadata": {},
   "source": [
    "## *Valutazione*"
   ]
  },
  {
   "attachments": {},
   "cell_type": "markdown",
   "metadata": {},
   "source": [
    "La bontà della nostra soluzione viene valutata tramite il coefficiente di Dice e la distanza 3D di Hausdorff. \n",
    "\n",
    "Il **coefficiente di Dice** può essere utilizzato per confrontare il rapporto tra i pixel di una segmentazione prevista e la corrispondente *ground truth*, secondo la seguente legge:\n",
    "\n",
    "$$\n",
    "D_c = \\begin{cases} \n",
    "0 && X\\wedge Y vuoti \\\\\n",
    "2\\cdot \\frac{|X\\cap Y|}{|X|+|Y|} && altrimenti\n",
    "\\end{cases}\n",
    "$$\n",
    "\n",
    "dove $X$ è l'insieme dei *pixel previsti* e $Y$ è la *ground truth*. \n",
    "\n",
    "La **distanza di Hausdorff** è un metodo per calcolare la distanza tra due oggetti di segmentazione A e B, considerando il **punto più lontano di A** dal **punto più vicino di B**.\n",
    "Per applicare Hausdorff in 3D, costruiamo volumi 3D, combinando ogni segmentazione 2D con una profondità di slice come coordinata Z, per poi calcolare la distanza (ai fini della competizione la profondità di slice è settata a 0.1. Le posizioni previste/attese dei pixel sono normalizzate con la dimensione dell’immagine, in modo da ottenere un punteggio in $\\left[ 0-1\\right]$.\n",
    "\n",
    "Successivamente, vengono combinate le due metriche, con un peso di $0.4$ per il coefficiente Dice e un peso di $0.6$ per la distanza di Hausdorff."
   ]
  },
  {
   "cell_type": "markdown",
   "metadata": {},
   "source": [
    "## *Dataset*"
   ]
  },
  {
   "attachments": {},
   "cell_type": "markdown",
   "metadata": {},
   "source": [
    "Le annotazioni di addestramento sono fornite come **maschere codificate in RLE** e le immagini sono in formato `*.png` a 16 bit e in **scala di grigi**.\n",
    "\n",
    "Ogni caso nel dataset è rappresentato da *più serie di slice di scansione* (ogni serie è identificata dal giorno in cui è stata effettuata la scansione). Alcuni dati sono divisi per tempo (i primi giorni di un caso sono nel training set, i giorni successivi sono nel test set), mentre altri sono divisi per caso - l'intero caso è nel training set o nel test set. \n",
    "\n",
    "L'obiettivo che ci si pone (sulla base della [competizione](https://www.kaggle.com/competitions/uw-madison-gi-tract-image-segmentation) da cui è tratto il problema) è quello di essere in grado di generalizzare sia casi parzialmente visti che **interamente non visti**.\n",
    "\n",
    "Per la definizione dei singoli set, non avendo a disposizione un test set, abbiamo adottato una suddivisione **90%-10%** dei dati in nostro possesso tra training set e test set."
   ]
  },
  {
   "attachments": {},
   "cell_type": "markdown",
   "metadata": {},
   "source": [
    "# <center>ELENCO IMPORT</center>"
   ]
  },
  {
   "cell_type": "code",
   "execution_count": 3,
   "metadata": {},
   "outputs": [],
   "source": [
    "import cv2 as cv\n",
    "import glob\n",
    "import math\n",
    "import matplotlib.pyplot as plt\n",
    "import numpy as np\n",
    "import os\n",
    "import pandas as pd\n",
    "import random\n",
    "import tensorflow as tf\n",
    "\n",
    "from itertools import zip_longest \n",
    "from IPython.display import display\n",
    "from keras import layers\n",
    "from tqdm import tqdm\n",
    "\n",
    "os.environ[\"QT_QPA_PLATFORM\"] = \"xcb\""
   ]
  },
  {
   "attachments": {},
   "cell_type": "markdown",
   "metadata": {},
   "source": [
    "# <center>IMPOSTAZIONE PERCORSI</center>"
   ]
  },
  {
   "cell_type": "code",
   "execution_count": 4,
   "metadata": {},
   "outputs": [],
   "source": [
    "BASE_DIR = \"../BD-Image-Segmentation-Comp/\" \n",
    "TRAIN_DIR = os.path.join(BASE_DIR, 'train')\n",
    "TRAIN_CSV = os.path.join(BASE_DIR, 'train.csv')"
   ]
  },
  {
   "attachments": {},
   "cell_type": "markdown",
   "metadata": {},
   "source": [
    "# <center>1 &dash; OPERAZIONI SUL FILE `train.csv` </center>"
   ]
  },
  {
   "attachments": {},
   "cell_type": "markdown",
   "metadata": {},
   "source": [
    "<h2 style=\"text-transform:uppercase\">considerazioni preliminari</h2>"
   ]
  },
  {
   "attachments": {},
   "cell_type": "markdown",
   "metadata": {},
   "source": [
    "Inizialmente, proviamo ad aprire il contenuto del file **train.csv**, fornito dai creatori della competizione, per osservarne il contenuto e avere una comprensione preliminare del problema."
   ]
  },
  {
   "cell_type": "code",
   "execution_count": 5,
   "metadata": {},
   "outputs": [
    {
     "data": {
      "text/html": [
       "<div>\n",
       "<style scoped>\n",
       "    .dataframe tbody tr th:only-of-type {\n",
       "        vertical-align: middle;\n",
       "    }\n",
       "\n",
       "    .dataframe tbody tr th {\n",
       "        vertical-align: top;\n",
       "    }\n",
       "\n",
       "    .dataframe thead th {\n",
       "        text-align: right;\n",
       "    }\n",
       "</style>\n",
       "<table border=\"1\" class=\"dataframe\">\n",
       "  <thead>\n",
       "    <tr style=\"text-align: right;\">\n",
       "      <th></th>\n",
       "      <th>id</th>\n",
       "      <th>class</th>\n",
       "      <th>segmentation</th>\n",
       "    </tr>\n",
       "  </thead>\n",
       "  <tbody>\n",
       "    <tr>\n",
       "      <th>0</th>\n",
       "      <td>case123_day20_slice_0001</td>\n",
       "      <td>large_bowel</td>\n",
       "      <td>NaN</td>\n",
       "    </tr>\n",
       "    <tr>\n",
       "      <th>1</th>\n",
       "      <td>case123_day20_slice_0001</td>\n",
       "      <td>small_bowel</td>\n",
       "      <td>NaN</td>\n",
       "    </tr>\n",
       "    <tr>\n",
       "      <th>2</th>\n",
       "      <td>case123_day20_slice_0001</td>\n",
       "      <td>stomach</td>\n",
       "      <td>NaN</td>\n",
       "    </tr>\n",
       "    <tr>\n",
       "      <th>3</th>\n",
       "      <td>case123_day20_slice_0002</td>\n",
       "      <td>large_bowel</td>\n",
       "      <td>NaN</td>\n",
       "    </tr>\n",
       "    <tr>\n",
       "      <th>4</th>\n",
       "      <td>case123_day20_slice_0002</td>\n",
       "      <td>small_bowel</td>\n",
       "      <td>NaN</td>\n",
       "    </tr>\n",
       "  </tbody>\n",
       "</table>\n",
       "</div>"
      ],
      "text/plain": [
       "                         id        class segmentation\n",
       "0  case123_day20_slice_0001  large_bowel          NaN\n",
       "1  case123_day20_slice_0001  small_bowel          NaN\n",
       "2  case123_day20_slice_0001      stomach          NaN\n",
       "3  case123_day20_slice_0002  large_bowel          NaN\n",
       "4  case123_day20_slice_0002  small_bowel          NaN"
      ]
     },
     "execution_count": 5,
     "metadata": {},
     "output_type": "execute_result"
    }
   ],
   "source": [
    "train_df = pd.read_csv(TRAIN_CSV)\n",
    "\n",
    "train_df.head()"
   ]
  },
  {
   "cell_type": "code",
   "execution_count": 6,
   "metadata": {},
   "outputs": [
    {
     "data": {
      "text/plain": [
       "115488"
      ]
     },
     "execution_count": 6,
     "metadata": {},
     "output_type": "execute_result"
    }
   ],
   "source": [
    "len(train_df)"
   ]
  },
  {
   "attachments": {},
   "cell_type": "markdown",
   "metadata": {},
   "source": [
    "Il file presenta una struttura formata da 115488 righe per 3 colonne, ossia:\n",
    "\n",
    "* **id**, ossia l'identificativo associato ad un frame dell'acquisizione fatta in un dato giorno per uno specifico caso;\n",
    "* **class**, cio&eacute; l'organo presente nella scansione;\n",
    "* **segmentation**, ossia il segmento di immagine corrispondente all'organo individuato nella classe.\n",
    "\n",
    "La prima cosa che vogliamo andare a vedere è, per ogni classe, il numero di elementi del training set ad essa."
   ]
  },
  {
   "cell_type": "code",
   "execution_count": 7,
   "metadata": {},
   "outputs": [
    {
     "data": {
      "text/plain": [
       "array([38496, 38496, 38496])"
      ]
     },
     "execution_count": 7,
     "metadata": {},
     "output_type": "execute_result"
    }
   ],
   "source": [
    "class_counts = train_df['class'].value_counts()\n",
    "\n",
    "class_counts.values"
   ]
  },
  {
   "attachments": {},
   "cell_type": "markdown",
   "metadata": {},
   "source": [
    "Creazione del grafico a barre con colori personalizzati per ogni classe"
   ]
  },
  {
   "cell_type": "code",
   "execution_count": 8,
   "metadata": {},
   "outputs": [
    {
     "data": {
      "image/png": "[encoded data removed]",
      "text/plain": [
       "<Figure size 640x480 with 1 Axes>"
      ]
     },
     "metadata": {},
     "output_type": "display_data"
    }
   ],
   "source": [
    "colors = ['red', 'green', 'blue']\n",
    "plt.bar(class_counts.index, class_counts.values, color=[colors[i] for i in range(len(class_counts))])\n",
    "\n",
    "# Aggiunta delle etichette dell'asse x e y e del titolo del grafico\n",
    "plt.xlabel('Classe')\n",
    "plt.ylabel('Numero di Istanze')\n",
    "plt.title('Numero di Istanze per Classe')\n",
    "\n",
    "# Mostrare il grafico\n",
    "plt.show()"
   ]
  },
  {
   "attachments": {},
   "cell_type": "markdown",
   "metadata": {},
   "source": [
    "Quello che notiamo è che il numero di elementi appartenenti ad ogni classe, **large_bowel**, **small_bowel** e **stomach**, è lo stesso, 38496, cosa ipotizzabile *ad occhio* nel dataframe precedentemente importato.\n",
    "\n",
    "L'altra colonna rilevante del dataframe è quella di *segmentation*, che viene usata per indicare le maschere corrispondenti all'organo classificato. Come prima cosa, vogliamo evidenziare solo le istanze del DataFrame che hanno una segmentazione non nulla (i.e. diversa da NaN)."
   ]
  },
  {
   "cell_type": "code",
   "execution_count": 9,
   "metadata": {},
   "outputs": [
    {
     "data": {
      "image/png": "[encoded data removed]",
      "text/plain": [
       "<Figure size 640x480 with 1 Axes>"
      ]
     },
     "metadata": {},
     "output_type": "display_data"
    }
   ],
   "source": [
    "# Eliminazione delle righe con valori mancanti nella colonna \"segmentation\"\n",
    "df_filtered = train_df.dropna(subset=['segmentation'])\n",
    "\n",
    "# Calcolo del numero di istanze per ogni classe nella colonna \"class\" del DataFrame filtrato\n",
    "class_counts = df_filtered['class'].value_counts()\n",
    "\n",
    "# Creazione del grafico a barre con colori personalizzati per ogni classe\n",
    "colors = ['red', 'green', 'blue']\n",
    "plt.bar(class_counts.index, class_counts.values, color=[colors[i] for i in range(len(class_counts))])\n",
    "\n",
    "# Aggiunta delle etichette dell'asse x e y e del titolo del grafico\n",
    "plt.xlabel('Classe')\n",
    "plt.ylabel('Numero di Istanze')\n",
    "plt.title('Numero di Istanze per Classe (con segmentazione non nulla)')\n",
    "\n",
    "# Mostrare il grafico\n",
    "plt.show()"
   ]
  },
  {
   "attachments": {},
   "cell_type": "markdown",
   "metadata": {},
   "source": [
    "Abbiamo costruito, a partire dal dataframe originale, un secondo dataframe, chiamato *df_filtered* tramite la funzione \n",
    "`dropna()` di `pandas.Dataframe` per eliminare le righe con valori mancanti (i.e. NaN) nella colonna *segmentation*.\n",
    "\n",
    "Successivamente, in maniera analoga al calcolo delle istanze di classe, abbiamo utilizzato il dataframe appena creato per calcolare il numero \n",
    "di istanze per ogni classe nella colonna *class*, utilizzando la funzione `value_counts()` di `pandas.Dataframe`. \n",
    "\n",
    "Infine, abbiamo creato un grafico a barre con i risultati e abbiamo aggiunto le etichette dell'asse x, dell'asse y e del titolo del grafico."
   ]
  },
  {
   "attachments": {},
   "cell_type": "markdown",
   "metadata": {},
   "source": [
    "<h2 style=\"text-transform:uppercase\">prima preparazione</h2>"
   ]
  },
  {
   "attachments": {},
   "cell_type": "markdown",
   "metadata": {},
   "source": [
    "L'obiettivo di questa seconda parte di operazioni sul file **train.csv** è quello di estrarre delle informazioni che possano tornare utili in fase di analisi del problema e di eventuali operazioni di *data cleaning* (visto l'elevato numero di slice prive di maschere è facile aspettarsi un calo drastico delle dimensioni del dataset).\n",
    "\n",
    "Inizialmente, effettuiamo una semplice conversione di notazione per la classificazione: piuttosto che usare una label categorica, passiamo ad una classificazione per valori interi discreti."
   ]
  },
  {
   "cell_type": "code",
   "execution_count": 10,
   "metadata": {},
   "outputs": [],
   "source": [
    "class_mapping = {'large_bowel': 0, 'small_bowel': 1, 'stomach': 2}\n",
    "\n",
    "train_df['class'] = train_df['class'].replace(class_mapping)"
   ]
  },
  {
   "attachments": {},
   "cell_type": "markdown",
   "metadata": {},
   "source": [
    "Successivamente, a partire dalla colonna **id** del dataframe di partenza, si può osservare come ogni riga contenga informazioni circa la categorizzazione per numero del **caso** clinico, per **giornata** di osservazione e per **numero di frame** dell'acquisizione. L'obiettivo diventa, quindi, quello di estrarre le suddette informazioni e di rielaborare il dataframe.\n",
    "\n",
    "Inizialmente, elaboriamo, per ogni riga, il valore di **id**, in modo da estrarre una lista di informazioni"
   ]
  },
  {
   "cell_type": "code",
   "execution_count": 11,
   "metadata": {},
   "outputs": [
    {
     "data": {
      "text/html": [
       "<div>\n",
       "<style scoped>\n",
       "    .dataframe tbody tr th:only-of-type {\n",
       "        vertical-align: middle;\n",
       "    }\n",
       "\n",
       "    .dataframe tbody tr th {\n",
       "        vertical-align: top;\n",
       "    }\n",
       "\n",
       "    .dataframe thead th {\n",
       "        text-align: right;\n",
       "    }\n",
       "</style>\n",
       "<table border=\"1\" class=\"dataframe\">\n",
       "  <thead>\n",
       "    <tr style=\"text-align: right;\">\n",
       "      <th></th>\n",
       "      <th>0</th>\n",
       "      <th>1</th>\n",
       "      <th>2</th>\n",
       "      <th>3</th>\n",
       "    </tr>\n",
       "  </thead>\n",
       "  <tbody>\n",
       "    <tr>\n",
       "      <th>0</th>\n",
       "      <td>case123</td>\n",
       "      <td>day20</td>\n",
       "      <td>slice</td>\n",
       "      <td>0001</td>\n",
       "    </tr>\n",
       "    <tr>\n",
       "      <th>1</th>\n",
       "      <td>case123</td>\n",
       "      <td>day20</td>\n",
       "      <td>slice</td>\n",
       "      <td>0001</td>\n",
       "    </tr>\n",
       "    <tr>\n",
       "      <th>2</th>\n",
       "      <td>case123</td>\n",
       "      <td>day20</td>\n",
       "      <td>slice</td>\n",
       "      <td>0001</td>\n",
       "    </tr>\n",
       "    <tr>\n",
       "      <th>3</th>\n",
       "      <td>case123</td>\n",
       "      <td>day20</td>\n",
       "      <td>slice</td>\n",
       "      <td>0002</td>\n",
       "    </tr>\n",
       "    <tr>\n",
       "      <th>4</th>\n",
       "      <td>case123</td>\n",
       "      <td>day20</td>\n",
       "      <td>slice</td>\n",
       "      <td>0002</td>\n",
       "    </tr>\n",
       "  </tbody>\n",
       "</table>\n",
       "</div>"
      ],
      "text/plain": [
       "         0      1      2     3\n",
       "0  case123  day20  slice  0001\n",
       "1  case123  day20  slice  0001\n",
       "2  case123  day20  slice  0001\n",
       "3  case123  day20  slice  0002\n",
       "4  case123  day20  slice  0002"
      ]
     },
     "execution_count": 11,
     "metadata": {},
     "output_type": "execute_result"
    }
   ],
   "source": [
    "splits = train_df['id'].str.split(\"_\", n = 4, expand = True)\n",
    "\n",
    "splits.head()"
   ]
  },
  {
   "attachments": {},
   "cell_type": "markdown",
   "metadata": {},
   "source": [
    "Come si può vedere nella tabella precedente, le informazioni che possiamo estrarre si trovano nei chunk 0, 1 e 3. \n",
    "\n",
    "Ciò che ci interessa è, però, dare un'impostazione ai dati più quantitativa, per cui dobbiamo estrarre dai chunk 0 e 1, rispettivamente, il numero del caso e della giornata di osservazione, mentre il chunk 3 va solo inteso come un numero intero, per eliminare gli 0 iniziali."
   ]
  },
  {
   "cell_type": "code",
   "execution_count": 12,
   "metadata": {},
   "outputs": [
    {
     "data": {
      "text/html": [
       "<div>\n",
       "<style scoped>\n",
       "    .dataframe tbody tr th:only-of-type {\n",
       "        vertical-align: middle;\n",
       "    }\n",
       "\n",
       "    .dataframe tbody tr th {\n",
       "        vertical-align: top;\n",
       "    }\n",
       "\n",
       "    .dataframe thead th {\n",
       "        text-align: right;\n",
       "    }\n",
       "</style>\n",
       "<table border=\"1\" class=\"dataframe\">\n",
       "  <thead>\n",
       "    <tr style=\"text-align: right;\">\n",
       "      <th></th>\n",
       "      <th>id</th>\n",
       "      <th>class</th>\n",
       "      <th>segmentation</th>\n",
       "      <th>case_id</th>\n",
       "      <th>day_id</th>\n",
       "      <th>slice_id</th>\n",
       "    </tr>\n",
       "  </thead>\n",
       "  <tbody>\n",
       "    <tr>\n",
       "      <th>0</th>\n",
       "      <td>case123_day20_slice_0001</td>\n",
       "      <td>0</td>\n",
       "      <td>NaN</td>\n",
       "      <td>123</td>\n",
       "      <td>20</td>\n",
       "      <td>1</td>\n",
       "    </tr>\n",
       "    <tr>\n",
       "      <th>1</th>\n",
       "      <td>case123_day20_slice_0001</td>\n",
       "      <td>1</td>\n",
       "      <td>NaN</td>\n",
       "      <td>123</td>\n",
       "      <td>20</td>\n",
       "      <td>1</td>\n",
       "    </tr>\n",
       "    <tr>\n",
       "      <th>2</th>\n",
       "      <td>case123_day20_slice_0001</td>\n",
       "      <td>2</td>\n",
       "      <td>NaN</td>\n",
       "      <td>123</td>\n",
       "      <td>20</td>\n",
       "      <td>1</td>\n",
       "    </tr>\n",
       "    <tr>\n",
       "      <th>3</th>\n",
       "      <td>case123_day20_slice_0002</td>\n",
       "      <td>0</td>\n",
       "      <td>NaN</td>\n",
       "      <td>123</td>\n",
       "      <td>20</td>\n",
       "      <td>2</td>\n",
       "    </tr>\n",
       "    <tr>\n",
       "      <th>4</th>\n",
       "      <td>case123_day20_slice_0002</td>\n",
       "      <td>1</td>\n",
       "      <td>NaN</td>\n",
       "      <td>123</td>\n",
       "      <td>20</td>\n",
       "      <td>2</td>\n",
       "    </tr>\n",
       "  </tbody>\n",
       "</table>\n",
       "</div>"
      ],
      "text/plain": [
       "                         id  class segmentation  case_id  day_id  slice_id\n",
       "0  case123_day20_slice_0001      0          NaN      123      20         1\n",
       "1  case123_day20_slice_0001      1          NaN      123      20         1\n",
       "2  case123_day20_slice_0001      2          NaN      123      20         1\n",
       "3  case123_day20_slice_0002      0          NaN      123      20         2\n",
       "4  case123_day20_slice_0002      1          NaN      123      20         2"
      ]
     },
     "execution_count": 12,
     "metadata": {},
     "output_type": "execute_result"
    }
   ],
   "source": [
    "train_df['case_id'] = splits[0]\n",
    "train_df['day_id'] = splits[1]\n",
    "train_df['slice_id'] = splits[3].astype(int)\n",
    "\n",
    "train_df['case_id'] = train_df['case_id'].str.replace('case', '').astype(int) \n",
    "train_df['day_id'] = train_df['day_id'].str.replace('day', '').astype(int)\n",
    "\n",
    "train_df.head()"
   ]
  },
  {
   "cell_type": "code",
   "execution_count": 13,
   "metadata": {},
   "outputs": [
    {
     "name": "stdout",
     "output_type": "stream",
     "text": [
      "Il numero delle righe coincide! Non esistono quindi casi che non hanno ALMENO un attributo di segmentazione.\n"
     ]
    }
   ],
   "source": [
    "filtered = train_df.groupby(['case_id', 'day_id'])\n",
    "\n",
    "count = 0\n",
    "\n",
    "for group in filtered:\n",
    "    count_nan = 0\n",
    "    for element in group[1]['segmentation']:\n",
    "        if pd.isna(element):\n",
    "            count_nan += 1\n",
    "    if count_nan == len(group[1]):\n",
    "        print(group[0])\n",
    "    count_nan = 0\n",
    "    count += 1\n",
    "if(count == len(filtered)):\n",
    "    print(\"Il numero delle righe coincide! Non esistono quindi casi che non hanno ALMENO un attributo di segmentazione.\")"
   ]
  },
  {
   "attachments": {},
   "cell_type": "markdown",
   "metadata": {},
   "source": [
    "Adesso vogliamo compattare il dataframe, in modo che la singola riga contenga le informazioni della coppia `(class, segmentation)` per la tripla `(large_bowel, small_bowel, stomach)`, e ordinarlo in ordine crescente per numero del caso, giornata di osservazione e identificativo della scansione. Per farlo, dobbiamo:\n",
    "\n",
    "* Rimuovere le colonne *class* e *segmentation* e salvarlo in due liste opportune"
   ]
  },
  {
   "cell_type": "code",
   "execution_count": 14,
   "metadata": {},
   "outputs": [],
   "source": [
    "classe = train_df.pop('class')\n",
    "segmentation = train_df.pop('segmentation')"
   ]
  },
  {
   "attachments": {},
   "cell_type": "markdown",
   "metadata": {},
   "source": [
    "* Raggruppare gli elementi in gruppi da tre e rimuovere i duplicati per *id*"
   ]
  },
  {
   "cell_type": "code",
   "execution_count": 15,
   "metadata": {},
   "outputs": [],
   "source": [
    "grouped_segmentation = list(zip_longest(*[iter(segmentation)]*3, fillvalue=None))\n",
    "grouped_class = list(zip_longest(*[iter(classe)]*3, fillvalue=None))\n",
    "\n",
    "train_df = train_df.drop_duplicates(subset=['id'])\n",
    "\n",
    "train_df.insert(len(train_df.columns), 'class', grouped_class)\n",
    "train_df.insert(len(train_df.columns), 'segmentation', grouped_segmentation)"
   ]
  },
  {
   "attachments": {},
   "cell_type": "markdown",
   "metadata": {},
   "source": [
    "* Ordinare il dataframe per *case_id*, *day_id* e *slice_id*"
   ]
  },
  {
   "cell_type": "code",
   "execution_count": 16,
   "metadata": {},
   "outputs": [
    {
     "data": {
      "text/html": [
       "<div>\n",
       "<style scoped>\n",
       "    .dataframe tbody tr th:only-of-type {\n",
       "        vertical-align: middle;\n",
       "    }\n",
       "\n",
       "    .dataframe tbody tr th {\n",
       "        vertical-align: top;\n",
       "    }\n",
       "\n",
       "    .dataframe thead th {\n",
       "        text-align: right;\n",
       "    }\n",
       "</style>\n",
       "<table border=\"1\" class=\"dataframe\">\n",
       "  <thead>\n",
       "    <tr style=\"text-align: right;\">\n",
       "      <th></th>\n",
       "      <th>id</th>\n",
       "      <th>case_id</th>\n",
       "      <th>day_id</th>\n",
       "      <th>slice_id</th>\n",
       "      <th>class</th>\n",
       "      <th>segmentation</th>\n",
       "    </tr>\n",
       "  </thead>\n",
       "  <tbody>\n",
       "    <tr>\n",
       "      <th>0</th>\n",
       "      <td>case2_day1_slice_0001</td>\n",
       "      <td>2</td>\n",
       "      <td>1</td>\n",
       "      <td>1</td>\n",
       "      <td>(0, 1, 2)</td>\n",
       "      <td>(nan, nan, nan)</td>\n",
       "    </tr>\n",
       "    <tr>\n",
       "      <th>1</th>\n",
       "      <td>case2_day1_slice_0002</td>\n",
       "      <td>2</td>\n",
       "      <td>1</td>\n",
       "      <td>2</td>\n",
       "      <td>(0, 1, 2)</td>\n",
       "      <td>(nan, nan, nan)</td>\n",
       "    </tr>\n",
       "    <tr>\n",
       "      <th>2</th>\n",
       "      <td>case2_day1_slice_0003</td>\n",
       "      <td>2</td>\n",
       "      <td>1</td>\n",
       "      <td>3</td>\n",
       "      <td>(0, 1, 2)</td>\n",
       "      <td>(nan, nan, nan)</td>\n",
       "    </tr>\n",
       "    <tr>\n",
       "      <th>3</th>\n",
       "      <td>case2_day1_slice_0004</td>\n",
       "      <td>2</td>\n",
       "      <td>1</td>\n",
       "      <td>4</td>\n",
       "      <td>(0, 1, 2)</td>\n",
       "      <td>(nan, nan, nan)</td>\n",
       "    </tr>\n",
       "    <tr>\n",
       "      <th>4</th>\n",
       "      <td>case2_day1_slice_0005</td>\n",
       "      <td>2</td>\n",
       "      <td>1</td>\n",
       "      <td>5</td>\n",
       "      <td>(0, 1, 2)</td>\n",
       "      <td>(nan, nan, nan)</td>\n",
       "    </tr>\n",
       "  </tbody>\n",
       "</table>\n",
       "</div>"
      ],
      "text/plain": [
       "                      id  case_id  day_id  slice_id      class  \\\n",
       "0  case2_day1_slice_0001        2       1         1  (0, 1, 2)   \n",
       "1  case2_day1_slice_0002        2       1         2  (0, 1, 2)   \n",
       "2  case2_day1_slice_0003        2       1         3  (0, 1, 2)   \n",
       "3  case2_day1_slice_0004        2       1         4  (0, 1, 2)   \n",
       "4  case2_day1_slice_0005        2       1         5  (0, 1, 2)   \n",
       "\n",
       "      segmentation  \n",
       "0  (nan, nan, nan)  \n",
       "1  (nan, nan, nan)  \n",
       "2  (nan, nan, nan)  \n",
       "3  (nan, nan, nan)  \n",
       "4  (nan, nan, nan)  "
      ]
     },
     "execution_count": 16,
     "metadata": {},
     "output_type": "execute_result"
    }
   ],
   "source": [
    "train_df = train_df.sort_values(by=['case_id', 'day_id', 'slice_id'], ascending=True).reset_index(drop=True)\n",
    "\n",
    "train_df.head()"
   ]
  },
  {
   "attachments": {},
   "cell_type": "markdown",
   "metadata": {},
   "source": [
    "# <center>2 &dash; RACCOLTA E INVENTARIO DELLE IMMAGINI</center>"
   ]
  },
  {
   "attachments": {},
   "cell_type": "markdown",
   "metadata": {},
   "source": [
    "Dopo aver osservato alcuni aspetti interessanti sui dati forniti dal problema, vogliamo andare ad indagare maggiormente sulle immagini delle varie scansioni. Per evitare di avere un dataframe poco leggibile, umanamente parlando, ricorriamo ad un secondo dataframe, realizzato da zero, a partire dai percorsi estratti dalla cartella *train* e associati alle *scans*."
   ]
  },
  {
   "cell_type": "code",
   "execution_count": 17,
   "metadata": {},
   "outputs": [
    {
     "data": {
      "text/html": [
       "<div>\n",
       "<style scoped>\n",
       "    .dataframe tbody tr th:only-of-type {\n",
       "        vertical-align: middle;\n",
       "    }\n",
       "\n",
       "    .dataframe tbody tr th {\n",
       "        vertical-align: top;\n",
       "    }\n",
       "\n",
       "    .dataframe thead th {\n",
       "        text-align: right;\n",
       "    }\n",
       "</style>\n",
       "<table border=\"1\" class=\"dataframe\">\n",
       "  <thead>\n",
       "    <tr style=\"text-align: right;\">\n",
       "      <th></th>\n",
       "      <th>path</th>\n",
       "    </tr>\n",
       "  </thead>\n",
       "  <tbody>\n",
       "    <tr>\n",
       "      <th>0</th>\n",
       "      <td>../BD-Image-Segmentation-Comp/train/case22/cas...</td>\n",
       "    </tr>\n",
       "    <tr>\n",
       "      <th>1</th>\n",
       "      <td>../BD-Image-Segmentation-Comp/train/case22/cas...</td>\n",
       "    </tr>\n",
       "    <tr>\n",
       "      <th>2</th>\n",
       "      <td>../BD-Image-Segmentation-Comp/train/case22/cas...</td>\n",
       "    </tr>\n",
       "    <tr>\n",
       "      <th>3</th>\n",
       "      <td>../BD-Image-Segmentation-Comp/train/case22/cas...</td>\n",
       "    </tr>\n",
       "    <tr>\n",
       "      <th>4</th>\n",
       "      <td>../BD-Image-Segmentation-Comp/train/case22/cas...</td>\n",
       "    </tr>\n",
       "  </tbody>\n",
       "</table>\n",
       "</div>"
      ],
      "text/plain": [
       "                                                path\n",
       "0  ../BD-Image-Segmentation-Comp/train/case22/cas...\n",
       "1  ../BD-Image-Segmentation-Comp/train/case22/cas...\n",
       "2  ../BD-Image-Segmentation-Comp/train/case22/cas...\n",
       "3  ../BD-Image-Segmentation-Comp/train/case22/cas...\n",
       "4  ../BD-Image-Segmentation-Comp/train/case22/cas..."
      ]
     },
     "execution_count": 17,
     "metadata": {},
     "output_type": "execute_result"
    }
   ],
   "source": [
    "list_slices = glob.glob(TRAIN_DIR+'/*/*/scans/*.png')\n",
    "\n",
    "image_details = pd.DataFrame({'path':list_slices})\n",
    "\n",
    "image_details.head()"
   ]
  },
  {
   "attachments": {},
   "cell_type": "markdown",
   "metadata": {},
   "source": [
    "Adesso, a partire dai persorsi individuati, possiamo andare ad estrarre le informazioni che ci interessa possano essere associati alle singole immagini:\n",
    "\n",
    "1. **Numero del caso**\n",
    "2. **Giorno di osservazione**\n",
    "3. **Numero della slice**\n",
    "4. **Altezza dell'immagine**\n",
    "5. **Larghezza dell'immagine**\n",
    "6. **Altezza del singolo pixel**\n",
    "7. **Larghezza del singolo pixel**"
   ]
  },
  {
   "cell_type": "code",
   "execution_count": 18,
   "metadata": {},
   "outputs": [],
   "source": [
    "splits = image_details['path'].str.split(\"/\", n = 7, expand = True)\n",
    "\n",
    "image_details[['case_id', 'day_id']] = splits[4].str.split(\"_\", expand = True)\n",
    "\n",
    "image_details['case_id'] = image_details['case_id'].str.replace('case', '').astype(int) \n",
    "image_details['day_id'] = image_details['day_id'].str.replace('day', '').astype(int)\n",
    "\n",
    "image_details['slice_name'] = splits[6]\n",
    "\n",
    "slice_info = image_details['slice_name'].str.split(n=6, expand=True, pat=\"_\")\n",
    "\n",
    "image_details['slice_id'] = slice_info[1].astype(int)\n",
    "\n",
    "image_details['width'] = slice_info[2].astype(int)\n",
    "image_details['height'] = slice_info[3].astype(int)\n",
    "\n",
    "image_details['width_px'] = slice_info[4].astype(float)\n",
    "\n",
    "image_details['height_px'] = slice_info[5].str.replace('.png', '', regex=False).astype(float)\n",
    "\n",
    "splits[5] = splits[5].str.replace('scans', 'masks')\n",
    "splits[6] = splits[6].str.replace('slice', 'mask_slice')\n",
    "\n",
    "percorsi_cartelle = splits.drop(columns=[6])\n",
    "percorsi_cartelle = percorsi_cartelle.apply(lambda x: '/'.join(x.astype(str)), axis=1)\n",
    "\n",
    "percorsi_maschere = splits.apply(lambda x: '/'.join(x.astype(str)), axis=1)\n",
    "\n",
    "image_details.insert(1, 'mask_path', percorsi_maschere)"
   ]
  },
  {
   "attachments": {},
   "cell_type": "markdown",
   "metadata": {},
   "source": [
    "Ordiniamo, quindi, in ordine **crescente** per numero del caso, giornata di osservazione e numero della slice, il dataframe appena costruito."
   ]
  },
  {
   "cell_type": "code",
   "execution_count": 19,
   "metadata": {},
   "outputs": [
    {
     "data": {
      "text/html": [
       "<div>\n",
       "<style scoped>\n",
       "    .dataframe tbody tr th:only-of-type {\n",
       "        vertical-align: middle;\n",
       "    }\n",
       "\n",
       "    .dataframe tbody tr th {\n",
       "        vertical-align: top;\n",
       "    }\n",
       "\n",
       "    .dataframe thead th {\n",
       "        text-align: right;\n",
       "    }\n",
       "</style>\n",
       "<table border=\"1\" class=\"dataframe\">\n",
       "  <thead>\n",
       "    <tr style=\"text-align: right;\">\n",
       "      <th></th>\n",
       "      <th>path</th>\n",
       "      <th>mask_path</th>\n",
       "      <th>case_id</th>\n",
       "      <th>day_id</th>\n",
       "      <th>slice_name</th>\n",
       "      <th>slice_id</th>\n",
       "      <th>width</th>\n",
       "      <th>height</th>\n",
       "      <th>width_px</th>\n",
       "      <th>height_px</th>\n",
       "    </tr>\n",
       "  </thead>\n",
       "  <tbody>\n",
       "    <tr>\n",
       "      <th>0</th>\n",
       "      <td>../BD-Image-Segmentation-Comp/train/case2/case...</td>\n",
       "      <td>../BD-Image-Segmentation-Comp/train/case2/case...</td>\n",
       "      <td>2</td>\n",
       "      <td>1</td>\n",
       "      <td>slice_0001_266_266_1.50_1.50.png</td>\n",
       "      <td>1</td>\n",
       "      <td>266</td>\n",
       "      <td>266</td>\n",
       "      <td>1.5</td>\n",
       "      <td>1.5</td>\n",
       "    </tr>\n",
       "    <tr>\n",
       "      <th>1</th>\n",
       "      <td>../BD-Image-Segmentation-Comp/train/case2/case...</td>\n",
       "      <td>../BD-Image-Segmentation-Comp/train/case2/case...</td>\n",
       "      <td>2</td>\n",
       "      <td>1</td>\n",
       "      <td>slice_0002_266_266_1.50_1.50.png</td>\n",
       "      <td>2</td>\n",
       "      <td>266</td>\n",
       "      <td>266</td>\n",
       "      <td>1.5</td>\n",
       "      <td>1.5</td>\n",
       "    </tr>\n",
       "    <tr>\n",
       "      <th>2</th>\n",
       "      <td>../BD-Image-Segmentation-Comp/train/case2/case...</td>\n",
       "      <td>../BD-Image-Segmentation-Comp/train/case2/case...</td>\n",
       "      <td>2</td>\n",
       "      <td>1</td>\n",
       "      <td>slice_0003_266_266_1.50_1.50.png</td>\n",
       "      <td>3</td>\n",
       "      <td>266</td>\n",
       "      <td>266</td>\n",
       "      <td>1.5</td>\n",
       "      <td>1.5</td>\n",
       "    </tr>\n",
       "    <tr>\n",
       "      <th>3</th>\n",
       "      <td>../BD-Image-Segmentation-Comp/train/case2/case...</td>\n",
       "      <td>../BD-Image-Segmentation-Comp/train/case2/case...</td>\n",
       "      <td>2</td>\n",
       "      <td>1</td>\n",
       "      <td>slice_0004_266_266_1.50_1.50.png</td>\n",
       "      <td>4</td>\n",
       "      <td>266</td>\n",
       "      <td>266</td>\n",
       "      <td>1.5</td>\n",
       "      <td>1.5</td>\n",
       "    </tr>\n",
       "    <tr>\n",
       "      <th>4</th>\n",
       "      <td>../BD-Image-Segmentation-Comp/train/case2/case...</td>\n",
       "      <td>../BD-Image-Segmentation-Comp/train/case2/case...</td>\n",
       "      <td>2</td>\n",
       "      <td>1</td>\n",
       "      <td>slice_0005_266_266_1.50_1.50.png</td>\n",
       "      <td>5</td>\n",
       "      <td>266</td>\n",
       "      <td>266</td>\n",
       "      <td>1.5</td>\n",
       "      <td>1.5</td>\n",
       "    </tr>\n",
       "  </tbody>\n",
       "</table>\n",
       "</div>"
      ],
      "text/plain": [
       "                                                path  \\\n",
       "0  ../BD-Image-Segmentation-Comp/train/case2/case...   \n",
       "1  ../BD-Image-Segmentation-Comp/train/case2/case...   \n",
       "2  ../BD-Image-Segmentation-Comp/train/case2/case...   \n",
       "3  ../BD-Image-Segmentation-Comp/train/case2/case...   \n",
       "4  ../BD-Image-Segmentation-Comp/train/case2/case...   \n",
       "\n",
       "                                           mask_path  case_id  day_id  \\\n",
       "0  ../BD-Image-Segmentation-Comp/train/case2/case...        2       1   \n",
       "1  ../BD-Image-Segmentation-Comp/train/case2/case...        2       1   \n",
       "2  ../BD-Image-Segmentation-Comp/train/case2/case...        2       1   \n",
       "3  ../BD-Image-Segmentation-Comp/train/case2/case...        2       1   \n",
       "4  ../BD-Image-Segmentation-Comp/train/case2/case...        2       1   \n",
       "\n",
       "                         slice_name  slice_id  width  height  width_px  \\\n",
       "0  slice_0001_266_266_1.50_1.50.png         1    266     266       1.5   \n",
       "1  slice_0002_266_266_1.50_1.50.png         2    266     266       1.5   \n",
       "2  slice_0003_266_266_1.50_1.50.png         3    266     266       1.5   \n",
       "3  slice_0004_266_266_1.50_1.50.png         4    266     266       1.5   \n",
       "4  slice_0005_266_266_1.50_1.50.png         5    266     266       1.5   \n",
       "\n",
       "   height_px  \n",
       "0        1.5  \n",
       "1        1.5  \n",
       "2        1.5  \n",
       "3        1.5  \n",
       "4        1.5  "
      ]
     },
     "execution_count": 19,
     "metadata": {},
     "output_type": "execute_result"
    }
   ],
   "source": [
    "image_details = image_details.sort_values(by=['case_id', 'day_id', 'slice_id'], ascending=True).reset_index(drop=True)\n",
    "\n",
    "image_details.head()"
   ]
  },
  {
   "attachments": {},
   "cell_type": "markdown",
   "metadata": {},
   "source": [
    "# <center>3 &dash; STATISTICA DELLE IMMAGINI</center>"
   ]
  },
  {
   "attachments": {},
   "cell_type": "markdown",
   "metadata": {},
   "source": [
    "A seguito di ispezione visiva, abbiamo notato che alcune immagini erano, di base, qualitativamente migliori di altre. Quello che abbiamo fatto, allora, è stato cercare di trovare qualche correlazione tra le caratteristiche dell'immagine e la sua qualità."
   ]
  },
  {
   "attachments": {},
   "cell_type": "markdown",
   "metadata": {},
   "source": [
    "<h2 style=\"text-transform:uppercase\">distribuzioni delle immagini in base alla profondità dei pixel</h2>"
   ]
  },
  {
   "attachments": {},
   "cell_type": "markdown",
   "metadata": {},
   "source": [
    "Il dataframe ci permette di evidenziare, di base, la presenza di due possibili valori per la profondità delle immagini, ossia $1.50\\text{ mm}$ e $1.63\\text{ mm}$. Innanzitutto, abbiamo pensato fosse cosa buona andare ad evidenziare la distribuzione delle immagini sulla base dei suddetti valori."
   ]
  },
  {
   "cell_type": "code",
   "execution_count": 20,
   "metadata": {},
   "outputs": [
    {
     "name": "stdout",
     "output_type": "stream",
     "text": [
      "Il numero di immagini con pixel di altezza e larghezza pari a 1.50 mm è 37296\n",
      "Il numero di immagini con pixel di altezza e larghezza pari a 1.63 mm è 1200\n",
      "Il numero complessivo di immagini è 38496, esattamente pari a 37296 + 1200\n"
     ]
    }
   ],
   "source": [
    "num_images_150 = image_details.loc[(image_details['width_px'] == 1.50) & (image_details['height_px'] == 1.50)].shape[0]\n",
    "print(f\"Il numero di immagini con pixel di profondità pari a 1.50 mm è {num_images_150}\")\n",
    "\n",
    "num_images_163 = image_details.loc[(image_details['width_px'] == 1.63) & (image_details['height_px'] == 1.63)].shape[0]\n",
    "print(f\"Il numero di immagini con pixel di profondità pari a 1.63 mm è {num_images_163}\")\n",
    "\n",
    "print(f\"Il numero complessivo di immagini è {len(image_details)}, esattamente pari a {num_images_150} + {num_images_163}\")"
   ]
  },
  {
   "attachments": {},
   "cell_type": "markdown",
   "metadata": {},
   "source": [
    "Avendo controllato che la somma di entrambi i numeri resituisse esattamente 38496, il numero complessivo di immagini, abbiamo rappresentato in grafico tale distribuzione."
   ]
  },
  {
   "cell_type": "code",
   "execution_count": 21,
   "metadata": {},
   "outputs": [
    {
     "data": {
      "image/png": "[encoded data removed]",
      "text/plain": [
       "<Figure size 640x480 with 1 Axes>"
      ]
     },
     "metadata": {},
     "output_type": "display_data"
    }
   ],
   "source": [
    "labels = ['1.50 mm', '1.63 mm']\n",
    "num_images = [num_images_150, num_images_163]\n",
    "\n",
    "colors = ['blue', 'orange']\n",
    "\n",
    "fig, ax = plt.subplots()\n",
    "ax.bar(labels, num_images, color=colors)\n",
    "\n",
    "ax.set_title('Numero di slice per profondità dei pixel')\n",
    "ax.set_xlabel('Profondità pixel (in mm)')\n",
    "ax.set_ylabel('Numero di slice')\n",
    "\n",
    "plt.show()"
   ]
  },
  {
   "attachments": {},
   "cell_type": "markdown",
   "metadata": {},
   "source": [
    "L'attenzione verso la profondità dei pixel si giustifica anche attraverso un'intuizione seguita a un'ispezione visiva delle immagini: abbiamo notato che le immagini con pixel profondi $1.63 \\text{ mm}$ sono tendenzialmente di **qualità superiore** rispetto a quelle con pixel profondi $1.50 \\text{ mm}$.\n",
    "\n",
    "Forniamo una prova visiva di quanto affermato."
   ]
  },
  {
   "cell_type": "code",
   "execution_count": 22,
   "metadata": {},
   "outputs": [
    {
     "data": {
      "image/png": "[encoded data removed]",
      "text/plain": [
       "<Figure size 1000x500 with 2 Axes>"
      ]
     },
     "metadata": {},
     "output_type": "display_data"
    }
   ],
   "source": [
    "im_150 = cv.imread('../BD-Image-Segmentation-Comp/train/case2/case2_day1/scans/slice_0012_266_266_1.50_1.50.png')\n",
    "im_163 = cv.imread('../BD-Image-Segmentation-Comp/train/case34/case34_day0/scans/slice_0012_276_276_1.63_1.63.png')\n",
    "\n",
    "fig, (ax1, ax2) = plt.subplots(1, 2, figsize=(10, 5))\n",
    "ax1.imshow(im_150)\n",
    "ax2.imshow(im_163)\n",
    "\n",
    "ax1.set_title(\"Prof. Pixel = 1.50 mm\")\n",
    "ax2.set_title(\"Prof. Pixel = 1.63 mm\")\n",
    "\n",
    "plt.show()"
   ]
  },
  {
   "attachments": {},
   "cell_type": "markdown",
   "metadata": {},
   "source": [
    "Vogliamo, pertanto continuare ad indagare sulle relazioni legate alla profondità dei pixel."
   ]
  },
  {
   "attachments": {},
   "cell_type": "markdown",
   "metadata": {},
   "source": [
    "<h2 style=\"text-transform:uppercase\">relazioni tra profondità dei pixel e dimensioni dell'immagine</h2>"
   ]
  },
  {
   "attachments": {},
   "cell_type": "markdown",
   "metadata": {},
   "source": [
    "In questa seconda parte dell'indagine statistica, vogliamo andare a vedere anche quale sia l'associazione tra la dimensione dei pixel e la risultante dimensione complessiva dell'immagine, così come se questa possa avere un layout quadrato o in landscape.\n",
    "\n",
    "Per poter fare delle considerazioni, dobbiamo innanzitutto, vedere, per ogni dimensione del pixel, quali valori di altezza e larghezza globali si ottengono."
   ]
  },
  {
   "cell_type": "code",
   "execution_count": 23,
   "metadata": {},
   "outputs": [
    {
     "name": "stdout",
     "output_type": "stream",
     "text": [
      "Le immagini associate a una profondità del pixel 1.5 mm hanno una larghezza (in pixel) tra [266 360 234]\n",
      "Le immagini associate a una profondità del pixel 1.5 mm hanno un'altezza (in pixel) tra [266 310 234]\n",
      "Le immagini associate a una profondità del pixel 1.63 mm hanno una larghezza (in pixel) tra [276]\n",
      "Le immagini associate a una profondità del pixel 1.63 mm hanno un'altezza' (in pixel) tra [276]\n"
     ]
    }
   ],
   "source": [
    "widths_px_1_50 = image_details[(image_details['width_px'] == 1.5) & (image_details['height_px'] == 1.5)]['width'].unique()\n",
    "print(f\"Le immagini associate a una profondità del pixel 1.5 mm hanno una larghezza (in pixel) tra {widths_px_1_50}\")\n",
    "\n",
    "heights_px_1_50 = image_details[(image_details['width_px'] == 1.5) & (image_details['height_px'] == 1.5)]['height'].unique()\n",
    "print(f\"Le immagini associate a una profondità del pixel 1.5 mm hanno un'altezza (in pixel) tra {heights_px_1_50}\")\n",
    "\n",
    "widths_px_1_63 = image_details[(image_details['width_px'] == 1.63) & (image_details['height_px'] == 1.63)]['width'].unique()\n",
    "print(f\"Le immagini associate a una profondità del pixel 1.63 mm hanno una larghezza (in pixel) tra {widths_px_1_63}\")\n",
    "\n",
    "heights_px_1_63 = image_details[(image_details['width_px'] == 1.63) & (image_details['height_px'] == 1.63)]['height'].unique()\n",
    "print(f\"Le immagini associate a una profondità del pixel 1.63 mm hanno un'altezza' (in pixel) tra {heights_px_1_63}\")"
   ]
  },
  {
   "attachments": {},
   "cell_type": "markdown",
   "metadata": {},
   "source": [
    "Si evince che le slice con profondità dei pixel pari a $1.50 \\text{ mm}$ hanno dimensione variabile, mentre quelle a profondità pari a $1.63 \\text{ mm}$ hanno tutte la stessa dimensione $\\left(276\\times 276\\right)$ "
   ]
  },
  {
   "attachments": {},
   "cell_type": "markdown",
   "metadata": {},
   "source": [
    "<h2 style=\"text-transform:uppercase\">statistica delle dimensioni globali delle immagini</h2>"
   ]
  },
  {
   "attachments": {},
   "cell_type": "markdown",
   "metadata": {},
   "source": [
    "Visto quanto provato nel paragrafo precedente, abbiamo pensato avesse senso indagare su quali fossero le dimensioni delle slice nel dataset. Motivati da questa curiosità, e ricercando possibili correlazioni statistiche con la qualità dell'immagine/con la presenza di segmentazione, abbiamo individuato, per ogni dimensione, i valori corrispondenti per l'altra dimensione.\n",
    "\n",
    "Come prima cosa, abbiamo analizzato le immagini in cui almeno una dimensione è $266 \\text{ px}$:"
   ]
  },
  {
   "cell_type": "code",
   "execution_count": 24,
   "metadata": {},
   "outputs": [
    {
     "name": "stdout",
     "output_type": "stream",
     "text": [
      "Il numero di immagini con larghezza 266 px è: 25920\n",
      "Il numero di immagini con altezza 266 px è: 25920\n",
      "Il numero di immagini 266x266 è: 25920\n"
     ]
    }
   ],
   "source": [
    "num_images_266_width = image_details.loc[(image_details['width'] == 266)].shape[0]\n",
    "print(\"Il numero di immagini con larghezza 266 px è:\", num_images_266_width)\n",
    "\n",
    "num_images_266_height = image_details.loc[(image_details['height'] == 266)].shape[0]\n",
    "print(\"Il numero di immagini con altezza 266 px è:\", num_images_266_height)\n",
    "\n",
    "num_images_266x266 = image_details.loc[(image_details['width'] == 266) & (image_details['height'] == 266)].shape[0]\n",
    "print(\"Il numero di immagini 266x266 è:\", num_images_266x266)"
   ]
  },
  {
   "attachments": {},
   "cell_type": "markdown",
   "metadata": {},
   "source": [
    "Ne abbiamo dedotto che le immagini con altezza o larghezza $266 \\text{ px}$ sono **quadrate**. Abbiamo, quindi, continuato l'analisi con le immagini in cui almeno una dimensione era $234 \\text{ px}$:"
   ]
  },
  {
   "cell_type": "code",
   "execution_count": 25,
   "metadata": {},
   "outputs": [
    {
     "name": "stdout",
     "output_type": "stream",
     "text": [
      "Il numero di immagini con larghezza 234 px è: 144\n",
      "Il numero di immagini con altezza 234 px è: 144\n",
      "Il numero di immagini 234x234 è: 144\n"
     ]
    }
   ],
   "source": [
    "num_images_234_width = image_details.loc[(image_details['width'] == 234)].shape[0]\n",
    "print(\"Il numero di immagini con larghezza 234 px è:\", num_images_234_width)\n",
    "\n",
    "num_images_234_height = image_details.loc[(image_details['height'] == 234)].shape[0]\n",
    "print(\"Il numero di immagini con altezza 234 px è:\", num_images_234_height)\n",
    "\n",
    "num_images_234x234 = image_details.loc[(image_details['width'] == 234) & (image_details['height'] == 234)].shape[0]\n",
    "print(\"Il numero di immagini 234x234 è:\", num_images_234x234)"
   ]
  },
  {
   "attachments": {},
   "cell_type": "markdown",
   "metadata": {},
   "source": [
    "Anche qui, si è evidenziato come una dimensione a $234 \\text{ px}$ sia associata a immagini **quadrate**. &Egrave; banale affermare che le rimanenti immagini a profondità $1.50 \\text{ mm}$ sono **rettangolari** $\\left( 360\\times 310 \\right)$.<br>\n",
    "Nel seguente listato, andiamo a provare quanto affermato:"
   ]
  },
  {
   "cell_type": "code",
   "execution_count": 26,
   "metadata": {},
   "outputs": [
    {
     "name": "stdout",
     "output_type": "stream",
     "text": [
      "Il numero di immagini con larghezza 360 px è: 11232\n",
      "Il numero di immagini con altezza 310 px è: 11232\n",
      "Il numero di immagini 360x310 è: 11232\n",
      "Il totale delle slice con profondità dei pixel di 1.50 mm è: 37296\n"
     ]
    }
   ],
   "source": [
    "num_images_360_width = image_details.loc[(image_details['width'] == 360)].shape[0]\n",
    "print(f\"Il numero di immagini con larghezza 360 px è: {num_images_360_width}\")\n",
    "\n",
    "num_images_310_height = image_details.loc[(image_details['height'] == 310)].shape[0]\n",
    "print(f\"Il numero di immagini con altezza 310 px è: {num_images_310_height}\")\n",
    "\n",
    "num_images_360x310 = image_details.loc[(image_details['width'] == 360) & (image_details['height'] == 310)].shape[0]\n",
    "print(f\"Il numero di immagini 360x310 è: {num_images_360x310}\")\n",
    "\n",
    "tot_slice = num_images_266x266 + num_images_234x234 + num_images_360x310\n",
    "print(f\"Il totale delle slice con profondità dei pixel di 1.50 mm è: {tot_slice}\")"
   ]
  },
  {
   "attachments": {},
   "cell_type": "markdown",
   "metadata": {},
   "source": [
    "Adesso mostriamo, graficamente, quanto affermato in questa sezione."
   ]
  },
  {
   "cell_type": "code",
   "execution_count": 27,
   "metadata": {},
   "outputs": [
    {
     "data": {
      "image/png": "[encoded data removed]",
      "text/plain": [
       "<Figure size 640x480 with 1 Axes>"
      ]
     },
     "metadata": {},
     "output_type": "display_data"
    }
   ],
   "source": [
    "labels = ['234x234', '266x266', '360x310']\n",
    "num_slices = [num_images_234x234, num_images_266x266, num_images_360x310]\n",
    "colors = ['blue', 'orange', 'grey']\n",
    "\n",
    "plt.bar(labels, num_slices, color=colors)\n",
    "plt.title('Numero di slice per profondità dei pixel con profondità 1.50 mm')\n",
    "plt.xlabel('Larghezza e altezza slice (in px)')\n",
    "plt.ylabel('Numero di slice')\n",
    "\n",
    "plt.show()"
   ]
  },
  {
   "attachments": {},
   "cell_type": "markdown",
   "metadata": {},
   "source": [
    "## STATISTICA DELLA SEGMENTAZIONE"
   ]
  },
  {
   "attachments": {},
   "cell_type": "markdown",
   "metadata": {},
   "source": [
    "Avendo evidenziato quelle che sono le possibili dimensioni per le slice del dataset, abbiamo pensato fosse utile ricercare quante immagini, per ogni dimensione, presentassero segmentazione, cercando di trovare una qualche correlazione con la qualità dell'immagine.\n",
    "\n",
    "Dal dataframe *image_details* abbiamo estratto le righe le cui slice hanno data dimensione e abbiamo calcolato i numeri relativi alla segmentazione:\n",
    "\n",
    "* $234\\times234$"
   ]
  },
  {
   "cell_type": "code",
   "execution_count": 28,
   "metadata": {},
   "outputs": [
    {
     "data": {
      "text/html": [
       "<div>\n",
       "<style scoped>\n",
       "    .dataframe tbody tr th:only-of-type {\n",
       "        vertical-align: middle;\n",
       "    }\n",
       "\n",
       "    .dataframe tbody tr th {\n",
       "        vertical-align: top;\n",
       "    }\n",
       "\n",
       "    .dataframe thead th {\n",
       "        text-align: right;\n",
       "    }\n",
       "</style>\n",
       "<table border=\"1\" class=\"dataframe\">\n",
       "  <thead>\n",
       "    <tr style=\"text-align: right;\">\n",
       "      <th></th>\n",
       "      <th>path</th>\n",
       "      <th>mask_path</th>\n",
       "      <th>case_id</th>\n",
       "      <th>day_id</th>\n",
       "      <th>slice_name</th>\n",
       "      <th>slice_id</th>\n",
       "      <th>width</th>\n",
       "      <th>height</th>\n",
       "      <th>width_px</th>\n",
       "      <th>height_px</th>\n",
       "    </tr>\n",
       "  </thead>\n",
       "  <tbody>\n",
       "    <tr>\n",
       "      <th>0</th>\n",
       "      <td>../BD-Image-Segmentation-Comp/train/case139/ca...</td>\n",
       "      <td>../BD-Image-Segmentation-Comp/train/case139/ca...</td>\n",
       "      <td>139</td>\n",
       "      <td>0</td>\n",
       "      <td>slice_0001_234_234_1.50_1.50.png</td>\n",
       "      <td>1</td>\n",
       "      <td>234</td>\n",
       "      <td>234</td>\n",
       "      <td>1.5</td>\n",
       "      <td>1.5</td>\n",
       "    </tr>\n",
       "    <tr>\n",
       "      <th>1</th>\n",
       "      <td>../BD-Image-Segmentation-Comp/train/case139/ca...</td>\n",
       "      <td>../BD-Image-Segmentation-Comp/train/case139/ca...</td>\n",
       "      <td>139</td>\n",
       "      <td>0</td>\n",
       "      <td>slice_0002_234_234_1.50_1.50.png</td>\n",
       "      <td>2</td>\n",
       "      <td>234</td>\n",
       "      <td>234</td>\n",
       "      <td>1.5</td>\n",
       "      <td>1.5</td>\n",
       "    </tr>\n",
       "    <tr>\n",
       "      <th>2</th>\n",
       "      <td>../BD-Image-Segmentation-Comp/train/case139/ca...</td>\n",
       "      <td>../BD-Image-Segmentation-Comp/train/case139/ca...</td>\n",
       "      <td>139</td>\n",
       "      <td>0</td>\n",
       "      <td>slice_0003_234_234_1.50_1.50.png</td>\n",
       "      <td>3</td>\n",
       "      <td>234</td>\n",
       "      <td>234</td>\n",
       "      <td>1.5</td>\n",
       "      <td>1.5</td>\n",
       "    </tr>\n",
       "    <tr>\n",
       "      <th>3</th>\n",
       "      <td>../BD-Image-Segmentation-Comp/train/case139/ca...</td>\n",
       "      <td>../BD-Image-Segmentation-Comp/train/case139/ca...</td>\n",
       "      <td>139</td>\n",
       "      <td>0</td>\n",
       "      <td>slice_0004_234_234_1.50_1.50.png</td>\n",
       "      <td>4</td>\n",
       "      <td>234</td>\n",
       "      <td>234</td>\n",
       "      <td>1.5</td>\n",
       "      <td>1.5</td>\n",
       "    </tr>\n",
       "    <tr>\n",
       "      <th>4</th>\n",
       "      <td>../BD-Image-Segmentation-Comp/train/case139/ca...</td>\n",
       "      <td>../BD-Image-Segmentation-Comp/train/case139/ca...</td>\n",
       "      <td>139</td>\n",
       "      <td>0</td>\n",
       "      <td>slice_0005_234_234_1.50_1.50.png</td>\n",
       "      <td>5</td>\n",
       "      <td>234</td>\n",
       "      <td>234</td>\n",
       "      <td>1.5</td>\n",
       "      <td>1.5</td>\n",
       "    </tr>\n",
       "  </tbody>\n",
       "</table>\n",
       "</div>"
      ],
      "text/plain": [
       "                                                path  \\\n",
       "0  ../BD-Image-Segmentation-Comp/train/case139/ca...   \n",
       "1  ../BD-Image-Segmentation-Comp/train/case139/ca...   \n",
       "2  ../BD-Image-Segmentation-Comp/train/case139/ca...   \n",
       "3  ../BD-Image-Segmentation-Comp/train/case139/ca...   \n",
       "4  ../BD-Image-Segmentation-Comp/train/case139/ca...   \n",
       "\n",
       "                                           mask_path  case_id  day_id  \\\n",
       "0  ../BD-Image-Segmentation-Comp/train/case139/ca...      139       0   \n",
       "1  ../BD-Image-Segmentation-Comp/train/case139/ca...      139       0   \n",
       "2  ../BD-Image-Segmentation-Comp/train/case139/ca...      139       0   \n",
       "3  ../BD-Image-Segmentation-Comp/train/case139/ca...      139       0   \n",
       "4  ../BD-Image-Segmentation-Comp/train/case139/ca...      139       0   \n",
       "\n",
       "                         slice_name  slice_id  width  height  width_px  \\\n",
       "0  slice_0001_234_234_1.50_1.50.png         1    234     234       1.5   \n",
       "1  slice_0002_234_234_1.50_1.50.png         2    234     234       1.5   \n",
       "2  slice_0003_234_234_1.50_1.50.png         3    234     234       1.5   \n",
       "3  slice_0004_234_234_1.50_1.50.png         4    234     234       1.5   \n",
       "4  slice_0005_234_234_1.50_1.50.png         5    234     234       1.5   \n",
       "\n",
       "   height_px  \n",
       "0        1.5  \n",
       "1        1.5  \n",
       "2        1.5  \n",
       "3        1.5  \n",
       "4        1.5  "
      ]
     },
     "execution_count": 28,
     "metadata": {},
     "output_type": "execute_result"
    }
   ],
   "source": [
    "image_details_234x234 = image_details[(image_details['width'] == 234) & (image_details['height'] == 234)].reset_index().drop(columns='index')\n",
    "image_details_234x234.head()"
   ]
  },
  {
   "cell_type": "code",
   "execution_count": 29,
   "metadata": {},
   "outputs": [
    {
     "name": "stdout",
     "output_type": "stream",
     "text": [
      "\n",
      "Il numero di righe con colonna 'segmentation' diversa da (nan, nan, nan) è 56.\n",
      "\n",
      "Il numero delle righe totali è 144.\n",
      "\n",
      "Ci sono esattamente 88 slice di dimensione 234x234 con maschere totalmente vuote.\n",
      "\n",
      "La percentuale di slice di dimensione 234x234 con maschere totalmente vuote è pari al 61.1111%\n"
     ]
    }
   ],
   "source": [
    "image_details_234x234_w_seg = image_details_234x234.merge(train_df, on=['case_id', 'day_id', 'slice_id']).drop_duplicates()\n",
    "\n",
    "count_234 = 0\n",
    "for i in range(len(image_details_234x234_w_seg)):\n",
    "    is_nan = True\n",
    "    for j in range(len(image_details_234x234_w_seg['segmentation'][i])):\n",
    "        if not pd.isna(image_details_234x234_w_seg['segmentation'][i][j]):\n",
    "            is_nan = False\n",
    "            break\n",
    "    if is_nan:\n",
    "        count_234 += 1\n",
    "\n",
    "segmented_234 = image_details_234x234_w_seg.shape[0] - count_234\n",
    "\n",
    "print(f\"\\nIl numero di righe con colonna 'segmentation' diversa da (nan, nan, nan) è {segmented_234}.\")\n",
    "print(f\"\\nIl numero delle righe totali è {image_details_234x234.shape[0]}.\")\n",
    "print(f\"\\nCi sono esattamente {count_234} slice di dimensione 234x234 con maschere totalmente vuote.\")\n",
    "print(f\"\\nLa percentuale di slice di dimensione 234x234 con maschere totalmente vuote è pari al {round(count_234/image_details_234x234_w_seg.shape[0]*100, 4)}%\")"
   ]
  },
  {
   "attachments": {},
   "cell_type": "markdown",
   "metadata": {},
   "source": [
    "* $266\\times266$"
   ]
  },
  {
   "cell_type": "code",
   "execution_count": 30,
   "metadata": {},
   "outputs": [
    {
     "data": {
      "text/html": [
       "<div>\n",
       "<style scoped>\n",
       "    .dataframe tbody tr th:only-of-type {\n",
       "        vertical-align: middle;\n",
       "    }\n",
       "\n",
       "    .dataframe tbody tr th {\n",
       "        vertical-align: top;\n",
       "    }\n",
       "\n",
       "    .dataframe thead th {\n",
       "        text-align: right;\n",
       "    }\n",
       "</style>\n",
       "<table border=\"1\" class=\"dataframe\">\n",
       "  <thead>\n",
       "    <tr style=\"text-align: right;\">\n",
       "      <th></th>\n",
       "      <th>path</th>\n",
       "      <th>mask_path</th>\n",
       "      <th>case_id</th>\n",
       "      <th>day_id</th>\n",
       "      <th>slice_name</th>\n",
       "      <th>slice_id</th>\n",
       "      <th>width</th>\n",
       "      <th>height</th>\n",
       "      <th>width_px</th>\n",
       "      <th>height_px</th>\n",
       "    </tr>\n",
       "  </thead>\n",
       "  <tbody>\n",
       "    <tr>\n",
       "      <th>0</th>\n",
       "      <td>../BD-Image-Segmentation-Comp/train/case2/case...</td>\n",
       "      <td>../BD-Image-Segmentation-Comp/train/case2/case...</td>\n",
       "      <td>2</td>\n",
       "      <td>1</td>\n",
       "      <td>slice_0001_266_266_1.50_1.50.png</td>\n",
       "      <td>1</td>\n",
       "      <td>266</td>\n",
       "      <td>266</td>\n",
       "      <td>1.5</td>\n",
       "      <td>1.5</td>\n",
       "    </tr>\n",
       "    <tr>\n",
       "      <th>1</th>\n",
       "      <td>../BD-Image-Segmentation-Comp/train/case2/case...</td>\n",
       "      <td>../BD-Image-Segmentation-Comp/train/case2/case...</td>\n",
       "      <td>2</td>\n",
       "      <td>1</td>\n",
       "      <td>slice_0002_266_266_1.50_1.50.png</td>\n",
       "      <td>2</td>\n",
       "      <td>266</td>\n",
       "      <td>266</td>\n",
       "      <td>1.5</td>\n",
       "      <td>1.5</td>\n",
       "    </tr>\n",
       "    <tr>\n",
       "      <th>2</th>\n",
       "      <td>../BD-Image-Segmentation-Comp/train/case2/case...</td>\n",
       "      <td>../BD-Image-Segmentation-Comp/train/case2/case...</td>\n",
       "      <td>2</td>\n",
       "      <td>1</td>\n",
       "      <td>slice_0003_266_266_1.50_1.50.png</td>\n",
       "      <td>3</td>\n",
       "      <td>266</td>\n",
       "      <td>266</td>\n",
       "      <td>1.5</td>\n",
       "      <td>1.5</td>\n",
       "    </tr>\n",
       "    <tr>\n",
       "      <th>3</th>\n",
       "      <td>../BD-Image-Segmentation-Comp/train/case2/case...</td>\n",
       "      <td>../BD-Image-Segmentation-Comp/train/case2/case...</td>\n",
       "      <td>2</td>\n",
       "      <td>1</td>\n",
       "      <td>slice_0004_266_266_1.50_1.50.png</td>\n",
       "      <td>4</td>\n",
       "      <td>266</td>\n",
       "      <td>266</td>\n",
       "      <td>1.5</td>\n",
       "      <td>1.5</td>\n",
       "    </tr>\n",
       "    <tr>\n",
       "      <th>4</th>\n",
       "      <td>../BD-Image-Segmentation-Comp/train/case2/case...</td>\n",
       "      <td>../BD-Image-Segmentation-Comp/train/case2/case...</td>\n",
       "      <td>2</td>\n",
       "      <td>1</td>\n",
       "      <td>slice_0005_266_266_1.50_1.50.png</td>\n",
       "      <td>5</td>\n",
       "      <td>266</td>\n",
       "      <td>266</td>\n",
       "      <td>1.5</td>\n",
       "      <td>1.5</td>\n",
       "    </tr>\n",
       "  </tbody>\n",
       "</table>\n",
       "</div>"
      ],
      "text/plain": [
       "                                                path  \\\n",
       "0  ../BD-Image-Segmentation-Comp/train/case2/case...   \n",
       "1  ../BD-Image-Segmentation-Comp/train/case2/case...   \n",
       "2  ../BD-Image-Segmentation-Comp/train/case2/case...   \n",
       "3  ../BD-Image-Segmentation-Comp/train/case2/case...   \n",
       "4  ../BD-Image-Segmentation-Comp/train/case2/case...   \n",
       "\n",
       "                                           mask_path  case_id  day_id  \\\n",
       "0  ../BD-Image-Segmentation-Comp/train/case2/case...        2       1   \n",
       "1  ../BD-Image-Segmentation-Comp/train/case2/case...        2       1   \n",
       "2  ../BD-Image-Segmentation-Comp/train/case2/case...        2       1   \n",
       "3  ../BD-Image-Segmentation-Comp/train/case2/case...        2       1   \n",
       "4  ../BD-Image-Segmentation-Comp/train/case2/case...        2       1   \n",
       "\n",
       "                         slice_name  slice_id  width  height  width_px  \\\n",
       "0  slice_0001_266_266_1.50_1.50.png         1    266     266       1.5   \n",
       "1  slice_0002_266_266_1.50_1.50.png         2    266     266       1.5   \n",
       "2  slice_0003_266_266_1.50_1.50.png         3    266     266       1.5   \n",
       "3  slice_0004_266_266_1.50_1.50.png         4    266     266       1.5   \n",
       "4  slice_0005_266_266_1.50_1.50.png         5    266     266       1.5   \n",
       "\n",
       "   height_px  \n",
       "0        1.5  \n",
       "1        1.5  \n",
       "2        1.5  \n",
       "3        1.5  \n",
       "4        1.5  "
      ]
     },
     "execution_count": 30,
     "metadata": {},
     "output_type": "execute_result"
    }
   ],
   "source": [
    "image_details_266x266 = image_details[(image_details['width'] == 266) & (image_details['height'] == 266)].reset_index().drop(columns='index')\n",
    "image_details_266x266.head()"
   ]
  },
  {
   "cell_type": "code",
   "execution_count": 31,
   "metadata": {},
   "outputs": [
    {
     "name": "stdout",
     "output_type": "stream",
     "text": [
      "\n",
      "Il numero di record con l'attributo 'segmentation' diversa da (nan, nan, nan) è 10955.\n",
      "\n",
      "Il numero di record totali è 25920.\n",
      "\n",
      "Ci sono esattamente 14965 slice di dimensione 266x266 con maschere totalmente vuote.\n",
      "\n",
      "La percentuale di slice di dimensione 266x266 con maschere totalmente vuote è pari al 57.7353%\n"
     ]
    }
   ],
   "source": [
    "image_details_266x266_w_seg = image_details_266x266.merge(train_df, on=['case_id', 'day_id', 'slice_id']).drop_duplicates()\n",
    "\n",
    "count_266 = 0\n",
    "for i in range(len(image_details_266x266_w_seg)):\n",
    "    is_nan = True\n",
    "    for j in range(len(image_details_266x266_w_seg['segmentation'][i])):\n",
    "        if not pd.isna(image_details_266x266_w_seg['segmentation'][i][j]):\n",
    "            is_nan = False\n",
    "            break\n",
    "    if is_nan:\n",
    "        count_266 += 1\n",
    "\n",
    "segmented_266 = image_details_266x266_w_seg.shape[0] - count_266\n",
    "\n",
    "print(f\"\\nIl numero di record con l'attributo 'segmentation' diversa da (nan, nan, nan) è {segmented_266}.\")\n",
    "print(f\"\\nIl numero di record totali è {image_details_266x266_w_seg.shape[0]}.\")\n",
    "print(f\"\\nCi sono esattamente {count_266} slice di dimensione 266x266 con maschere totalmente vuote.\")\n",
    "print(f\"\\nLa percentuale di slice di dimensione 266x266 con maschere totalmente vuote è pari al {round(count_266/image_details_266x266_w_seg.shape[0]*100, 4)}%\")"
   ]
  },
  {
   "attachments": {},
   "cell_type": "markdown",
   "metadata": {},
   "source": [
    "* $276\\times276$"
   ]
  },
  {
   "cell_type": "code",
   "execution_count": 32,
   "metadata": {},
   "outputs": [
    {
     "data": {
      "text/html": [
       "<div>\n",
       "<style scoped>\n",
       "    .dataframe tbody tr th:only-of-type {\n",
       "        vertical-align: middle;\n",
       "    }\n",
       "\n",
       "    .dataframe tbody tr th {\n",
       "        vertical-align: top;\n",
       "    }\n",
       "\n",
       "    .dataframe thead th {\n",
       "        text-align: right;\n",
       "    }\n",
       "</style>\n",
       "<table border=\"1\" class=\"dataframe\">\n",
       "  <thead>\n",
       "    <tr style=\"text-align: right;\">\n",
       "      <th></th>\n",
       "      <th>path</th>\n",
       "      <th>mask_path</th>\n",
       "      <th>case_id</th>\n",
       "      <th>day_id</th>\n",
       "      <th>slice_name</th>\n",
       "      <th>slice_id</th>\n",
       "      <th>width</th>\n",
       "      <th>height</th>\n",
       "      <th>width_px</th>\n",
       "      <th>height_px</th>\n",
       "    </tr>\n",
       "  </thead>\n",
       "  <tbody>\n",
       "    <tr>\n",
       "      <th>0</th>\n",
       "      <td>../BD-Image-Segmentation-Comp/train/case34/cas...</td>\n",
       "      <td>../BD-Image-Segmentation-Comp/train/case34/cas...</td>\n",
       "      <td>34</td>\n",
       "      <td>0</td>\n",
       "      <td>slice_0001_276_276_1.63_1.63.png</td>\n",
       "      <td>1</td>\n",
       "      <td>276</td>\n",
       "      <td>276</td>\n",
       "      <td>1.63</td>\n",
       "      <td>1.63</td>\n",
       "    </tr>\n",
       "    <tr>\n",
       "      <th>1</th>\n",
       "      <td>../BD-Image-Segmentation-Comp/train/case34/cas...</td>\n",
       "      <td>../BD-Image-Segmentation-Comp/train/case34/cas...</td>\n",
       "      <td>34</td>\n",
       "      <td>0</td>\n",
       "      <td>slice_0002_276_276_1.63_1.63.png</td>\n",
       "      <td>2</td>\n",
       "      <td>276</td>\n",
       "      <td>276</td>\n",
       "      <td>1.63</td>\n",
       "      <td>1.63</td>\n",
       "    </tr>\n",
       "    <tr>\n",
       "      <th>2</th>\n",
       "      <td>../BD-Image-Segmentation-Comp/train/case34/cas...</td>\n",
       "      <td>../BD-Image-Segmentation-Comp/train/case34/cas...</td>\n",
       "      <td>34</td>\n",
       "      <td>0</td>\n",
       "      <td>slice_0003_276_276_1.63_1.63.png</td>\n",
       "      <td>3</td>\n",
       "      <td>276</td>\n",
       "      <td>276</td>\n",
       "      <td>1.63</td>\n",
       "      <td>1.63</td>\n",
       "    </tr>\n",
       "    <tr>\n",
       "      <th>3</th>\n",
       "      <td>../BD-Image-Segmentation-Comp/train/case34/cas...</td>\n",
       "      <td>../BD-Image-Segmentation-Comp/train/case34/cas...</td>\n",
       "      <td>34</td>\n",
       "      <td>0</td>\n",
       "      <td>slice_0004_276_276_1.63_1.63.png</td>\n",
       "      <td>4</td>\n",
       "      <td>276</td>\n",
       "      <td>276</td>\n",
       "      <td>1.63</td>\n",
       "      <td>1.63</td>\n",
       "    </tr>\n",
       "    <tr>\n",
       "      <th>4</th>\n",
       "      <td>../BD-Image-Segmentation-Comp/train/case34/cas...</td>\n",
       "      <td>../BD-Image-Segmentation-Comp/train/case34/cas...</td>\n",
       "      <td>34</td>\n",
       "      <td>0</td>\n",
       "      <td>slice_0005_276_276_1.63_1.63.png</td>\n",
       "      <td>5</td>\n",
       "      <td>276</td>\n",
       "      <td>276</td>\n",
       "      <td>1.63</td>\n",
       "      <td>1.63</td>\n",
       "    </tr>\n",
       "  </tbody>\n",
       "</table>\n",
       "</div>"
      ],
      "text/plain": [
       "                                                path  \\\n",
       "0  ../BD-Image-Segmentation-Comp/train/case34/cas...   \n",
       "1  ../BD-Image-Segmentation-Comp/train/case34/cas...   \n",
       "2  ../BD-Image-Segmentation-Comp/train/case34/cas...   \n",
       "3  ../BD-Image-Segmentation-Comp/train/case34/cas...   \n",
       "4  ../BD-Image-Segmentation-Comp/train/case34/cas...   \n",
       "\n",
       "                                           mask_path  case_id  day_id  \\\n",
       "0  ../BD-Image-Segmentation-Comp/train/case34/cas...       34       0   \n",
       "1  ../BD-Image-Segmentation-Comp/train/case34/cas...       34       0   \n",
       "2  ../BD-Image-Segmentation-Comp/train/case34/cas...       34       0   \n",
       "3  ../BD-Image-Segmentation-Comp/train/case34/cas...       34       0   \n",
       "4  ../BD-Image-Segmentation-Comp/train/case34/cas...       34       0   \n",
       "\n",
       "                         slice_name  slice_id  width  height  width_px  \\\n",
       "0  slice_0001_276_276_1.63_1.63.png         1    276     276      1.63   \n",
       "1  slice_0002_276_276_1.63_1.63.png         2    276     276      1.63   \n",
       "2  slice_0003_276_276_1.63_1.63.png         3    276     276      1.63   \n",
       "3  slice_0004_276_276_1.63_1.63.png         4    276     276      1.63   \n",
       "4  slice_0005_276_276_1.63_1.63.png         5    276     276      1.63   \n",
       "\n",
       "   height_px  \n",
       "0       1.63  \n",
       "1       1.63  \n",
       "2       1.63  \n",
       "3       1.63  \n",
       "4       1.63  "
      ]
     },
     "execution_count": 32,
     "metadata": {},
     "output_type": "execute_result"
    }
   ],
   "source": [
    "image_details_276x276 = image_details[(image_details['width'] == 276) & (image_details['height'] == 276)].reset_index().drop(columns='index')\n",
    "image_details_276x276.head()"
   ]
  },
  {
   "cell_type": "code",
   "execution_count": 33,
   "metadata": {},
   "outputs": [
    {
     "name": "stdout",
     "output_type": "stream",
     "text": [
      "\n",
      "Il numero di record con l'attributo 'segmentation' diversa da (nan, nan, nan) è 718.\n",
      "\n",
      "Il numero dei record totali è 1200.\n",
      "\n",
      "Ci sono esattamente 482 slice di dimensione 276x276 con maschere totalmente vuote.\n",
      "\n",
      "La percentuale di slice di dimensione 276x276 con maschere totalmente vuote è pari al 40%\n"
     ]
    }
   ],
   "source": [
    "image_details_276x276_w_seg = image_details_276x276.merge(train_df, on=['case_id', 'day_id', 'slice_id']).drop_duplicates()\n",
    "\n",
    "count_276 = 0\n",
    "for i in range(len(image_details_276x276_w_seg)):\n",
    "    is_nan = True\n",
    "    for j in range(len(image_details_276x276_w_seg['segmentation'][i])):\n",
    "        if not pd.isna(image_details_276x276_w_seg['segmentation'][i][j]):\n",
    "            is_nan = False\n",
    "            break\n",
    "    if is_nan:\n",
    "        count_276 += 1\n",
    "\n",
    "segmented_276 = image_details_276x276_w_seg.shape[0] - count_276\n",
    "\n",
    "print(f\"\\nIl numero di record con l'attributo 'segmentation' diversa da (nan, nan, nan) è {segmented_276}.\")\n",
    "print(f\"\\nIl numero dei record totali è {image_details_276x276_w_seg.shape[0]}.\")\n",
    "print(f\"\\nCi sono esattamente {count_276} slice di dimensione 276x276 con maschere totalmente vuote.\")\n",
    "print(f\"\\nLa percentuale di slice di dimensione 276x276 con maschere totalmente vuote è pari al {round(count_276/image_details_276x276_w_seg.shape[0]*100)}%\")"
   ]
  },
  {
   "attachments": {},
   "cell_type": "markdown",
   "metadata": {},
   "source": [
    "* $360\\times310$"
   ]
  },
  {
   "cell_type": "code",
   "execution_count": 34,
   "metadata": {},
   "outputs": [
    {
     "data": {
      "text/html": [
       "<div>\n",
       "<style scoped>\n",
       "    .dataframe tbody tr th:only-of-type {\n",
       "        vertical-align: middle;\n",
       "    }\n",
       "\n",
       "    .dataframe tbody tr th {\n",
       "        vertical-align: top;\n",
       "    }\n",
       "\n",
       "    .dataframe thead th {\n",
       "        text-align: right;\n",
       "    }\n",
       "</style>\n",
       "<table border=\"1\" class=\"dataframe\">\n",
       "  <thead>\n",
       "    <tr style=\"text-align: right;\">\n",
       "      <th></th>\n",
       "      <th>path</th>\n",
       "      <th>mask_path</th>\n",
       "      <th>case_id</th>\n",
       "      <th>day_id</th>\n",
       "      <th>slice_name</th>\n",
       "      <th>slice_id</th>\n",
       "      <th>width</th>\n",
       "      <th>height</th>\n",
       "      <th>width_px</th>\n",
       "      <th>height_px</th>\n",
       "    </tr>\n",
       "  </thead>\n",
       "  <tbody>\n",
       "    <tr>\n",
       "      <th>0</th>\n",
       "      <td>../BD-Image-Segmentation-Comp/train/case6/case...</td>\n",
       "      <td>../BD-Image-Segmentation-Comp/train/case6/case...</td>\n",
       "      <td>6</td>\n",
       "      <td>0</td>\n",
       "      <td>slice_0001_360_310_1.50_1.50.png</td>\n",
       "      <td>1</td>\n",
       "      <td>360</td>\n",
       "      <td>310</td>\n",
       "      <td>1.5</td>\n",
       "      <td>1.5</td>\n",
       "    </tr>\n",
       "    <tr>\n",
       "      <th>1</th>\n",
       "      <td>../BD-Image-Segmentation-Comp/train/case6/case...</td>\n",
       "      <td>../BD-Image-Segmentation-Comp/train/case6/case...</td>\n",
       "      <td>6</td>\n",
       "      <td>0</td>\n",
       "      <td>slice_0002_360_310_1.50_1.50.png</td>\n",
       "      <td>2</td>\n",
       "      <td>360</td>\n",
       "      <td>310</td>\n",
       "      <td>1.5</td>\n",
       "      <td>1.5</td>\n",
       "    </tr>\n",
       "    <tr>\n",
       "      <th>2</th>\n",
       "      <td>../BD-Image-Segmentation-Comp/train/case6/case...</td>\n",
       "      <td>../BD-Image-Segmentation-Comp/train/case6/case...</td>\n",
       "      <td>6</td>\n",
       "      <td>0</td>\n",
       "      <td>slice_0003_360_310_1.50_1.50.png</td>\n",
       "      <td>3</td>\n",
       "      <td>360</td>\n",
       "      <td>310</td>\n",
       "      <td>1.5</td>\n",
       "      <td>1.5</td>\n",
       "    </tr>\n",
       "    <tr>\n",
       "      <th>3</th>\n",
       "      <td>../BD-Image-Segmentation-Comp/train/case6/case...</td>\n",
       "      <td>../BD-Image-Segmentation-Comp/train/case6/case...</td>\n",
       "      <td>6</td>\n",
       "      <td>0</td>\n",
       "      <td>slice_0004_360_310_1.50_1.50.png</td>\n",
       "      <td>4</td>\n",
       "      <td>360</td>\n",
       "      <td>310</td>\n",
       "      <td>1.5</td>\n",
       "      <td>1.5</td>\n",
       "    </tr>\n",
       "    <tr>\n",
       "      <th>4</th>\n",
       "      <td>../BD-Image-Segmentation-Comp/train/case6/case...</td>\n",
       "      <td>../BD-Image-Segmentation-Comp/train/case6/case...</td>\n",
       "      <td>6</td>\n",
       "      <td>0</td>\n",
       "      <td>slice_0005_360_310_1.50_1.50.png</td>\n",
       "      <td>5</td>\n",
       "      <td>360</td>\n",
       "      <td>310</td>\n",
       "      <td>1.5</td>\n",
       "      <td>1.5</td>\n",
       "    </tr>\n",
       "  </tbody>\n",
       "</table>\n",
       "</div>"
      ],
      "text/plain": [
       "                                                path  \\\n",
       "0  ../BD-Image-Segmentation-Comp/train/case6/case...   \n",
       "1  ../BD-Image-Segmentation-Comp/train/case6/case...   \n",
       "2  ../BD-Image-Segmentation-Comp/train/case6/case...   \n",
       "3  ../BD-Image-Segmentation-Comp/train/case6/case...   \n",
       "4  ../BD-Image-Segmentation-Comp/train/case6/case...   \n",
       "\n",
       "                                           mask_path  case_id  day_id  \\\n",
       "0  ../BD-Image-Segmentation-Comp/train/case6/case...        6       0   \n",
       "1  ../BD-Image-Segmentation-Comp/train/case6/case...        6       0   \n",
       "2  ../BD-Image-Segmentation-Comp/train/case6/case...        6       0   \n",
       "3  ../BD-Image-Segmentation-Comp/train/case6/case...        6       0   \n",
       "4  ../BD-Image-Segmentation-Comp/train/case6/case...        6       0   \n",
       "\n",
       "                         slice_name  slice_id  width  height  width_px  \\\n",
       "0  slice_0001_360_310_1.50_1.50.png         1    360     310       1.5   \n",
       "1  slice_0002_360_310_1.50_1.50.png         2    360     310       1.5   \n",
       "2  slice_0003_360_310_1.50_1.50.png         3    360     310       1.5   \n",
       "3  slice_0004_360_310_1.50_1.50.png         4    360     310       1.5   \n",
       "4  slice_0005_360_310_1.50_1.50.png         5    360     310       1.5   \n",
       "\n",
       "   height_px  \n",
       "0        1.5  \n",
       "1        1.5  \n",
       "2        1.5  \n",
       "3        1.5  \n",
       "4        1.5  "
      ]
     },
     "execution_count": 34,
     "metadata": {},
     "output_type": "execute_result"
    }
   ],
   "source": [
    "image_details_360x310 = image_details[(image_details['width'] == 360) & (image_details['height'] == 310)].reset_index().drop(columns='index')\n",
    "image_details_360x310.head()"
   ]
  },
  {
   "cell_type": "code",
   "execution_count": 35,
   "metadata": {},
   "outputs": [
    {
     "name": "stdout",
     "output_type": "stream",
     "text": [
      "\n",
      "Il numero di record con l'attributo 'segmentation' diversa da (nan, nan, nan) è 4861.\n",
      "\n",
      "Il numero di record totali è 11232.\n",
      "\n",
      "Ci sono esattamente 6371 slice di dimensione 360x310 con maschere totalmente vuote.\n",
      "\n",
      "La percentuale di slice di dimensione 360x310 con maschere totalmente vuote è pari al 57%\n"
     ]
    }
   ],
   "source": [
    "image_details_360x310_w_seg = image_details_360x310.merge(train_df, on=['case_id', 'day_id', 'slice_id']).drop_duplicates()\n",
    "\n",
    "count_360 = 0\n",
    "for i in range(len(image_details_360x310_w_seg)):\n",
    "    is_nan = True\n",
    "    for j in range(len(image_details_360x310_w_seg['segmentation'][i])):\n",
    "        if not pd.isna(image_details_360x310_w_seg['segmentation'][i][j]):\n",
    "            is_nan = False\n",
    "            break\n",
    "    if is_nan:\n",
    "        count_360 += 1\n",
    "        \n",
    "segmented_360 = image_details_360x310_w_seg.shape[0] - count_360\n",
    "\n",
    "print(f\"\\nIl numero di record con l'attributo 'segmentation' diversa da (nan, nan, nan) è {segmented_360}.\")\n",
    "print(f\"\\nIl numero di record totali è {image_details_360x310_w_seg.shape[0]}.\")\n",
    "print(f\"\\nCi sono esattamente {count_360} slice di dimensione 360x310 con maschere totalmente vuote.\")\n",
    "print(f\"\\nLa percentuale di slice di dimensione 360x310 con maschere totalmente vuote è pari al {round(count_360/image_details_360x310_w_seg.shape[0]*100)}%\")"
   ]
  },
  {
   "attachments": {},
   "cell_type": "markdown",
   "metadata": {},
   "source": [
    "Si evince che:\n",
    "\n",
    "1.  le immagini che contengono, in percentuale, la **maggior frequenza di segmentazioni** sono quelle da $276\\times276$ ($60\\ \\%$);\n",
    "2.  le immagini che congengono la **maggior frequenza di segmentazioni totalmente vuote** sono quelle da $234\\times234$ ($61.1111\\ \\%$);\n",
    "3.  le immagini che contengono il **maggior numero di immagini segmentate**, in valore assoluto, sono quelle da $266\\times266$  ($10955$);\n",
    "4.  le immagini che contengono il **minor numero di immagini segmentate** sono quelle da $234\\times234$ ($56$).\n",
    "\n",
    "Osserviamo graficamente, quanto visto analiticamente:\n"
   ]
  },
  {
   "cell_type": "code",
   "execution_count": 36,
   "metadata": {},
   "outputs": [
    {
     "data": {
      "image/png": "[encoded data removed]",
      "text/plain": [
       "<Figure size 1500x500 with 3 Axes>"
      ]
     },
     "metadata": {},
     "output_type": "display_data"
    }
   ],
   "source": [
    "labels = ['234x234', '266x266', '276x276', '360x310']\n",
    "counters1 = [count_234, count_266, count_276, count_360]\n",
    "counters2 = [segmented_234, segmented_266, segmented_276, segmented_360]\n",
    "counters3 = [(count_234 + segmented_234), (count_266 + segmented_266), (count_276 + segmented_276), (count_360 + segmented_360)]\n",
    "colors = ['red', 'green', 'blue', 'orange']\n",
    "lower_bound = 0\n",
    "upper_bound = count_266 + segmented_266 + 1000\n",
    "\n",
    "fig, (ax1, ax2, ax3) = plt.subplots(1, 3, figsize=(15, 5))\n",
    "\n",
    "ax1.bar(labels, counters1, color=colors)\n",
    "ax1.set_ybound(lower_bound, upper_bound)\n",
    "ax1.set_title('N° di maschere vuote per dimensione slice')\n",
    "ax1.set_ylabel('Numero di slice')\n",
    "\n",
    "ax2.bar(labels, counters2, color=colors)\n",
    "ax2.set_ybound(lower_bound, upper_bound)\n",
    "ax2.set_title('N° di segmentazioni per dimensione slice')\n",
    "ax2.set_xlabel('Larghezza e altezza slice (in px)')\n",
    "\n",
    "ax3.bar(labels, counters3, color=colors)\n",
    "ax3.set_ybound(lower_bound, upper_bound)\n",
    "ax3.set_title('Totale')\n",
    "\n",
    "plt.show()"
   ]
  },
  {
   "attachments": {},
   "cell_type": "markdown",
   "metadata": {},
   "source": [
    "# <center><strong>4</strong> &dash; OPERAZIONI SULLE MASCHERE</center>"
   ]
  },
  {
   "attachments": {},
   "cell_type": "markdown",
   "metadata": {},
   "source": [
    "Avendo visto, nei paragrafi precedenti, l'esistenza di una colonna per la segmentazione degli organi all'interno delle scansioni e dopo averne evidenziato la distribuzione, in funzione delle dimensioni delle immagini, in questa sezione ci occuperemo di tutte le operazioni che abbiamo ritenuto necessarie per l'elaborazione delle maschere.\n",
    "\n",
    "Come stabilito in fase di presentazione della competizione, le maschere di segmentazione del training set sono state fornite secondo la codifica **run-length**. \n",
    "\n",
    "Questa codifica (da ora RLE) è una semplice forma di **compressione** dei dati **senza perdita** di informazioni, che viene eseguita su sequenze con lo stesso valore che si verificano più volte consecutive. Codifica la sequenza per memorizzare un solo valore e il relativo conteggio.\n",
    "\n",
    "Consideriamo, ad esempio, una porzione di maschera presa dal file `train.csv`:\n",
    "**<center>24031 5 24296 7 24561 8 24825 10</center>** \n",
    "\n",
    "Contando da 0, gli elementi di posto **pari** indicano la posizione dei vari pixel nell'immagine vettorizzata, mentre gli elementi di posto **dispari** indicano la **lunghezza della run**, ovvero quante volte (meno uno) deve essere ripetuto il valore del pixel di riferimento.\n",
    "\n",
    "Nel nostro esempio, il pixel **24031** andrà ripetuto **4** volte, il pixel **24296** andrà ripetuto **6** volte e così via.\n",
    "\n",
    "Per sfruttare la codifica RLE delle maschere, procediamo all'implementazione delle funzioni per:\n",
    "\n",
    "* creare una maschera vuota\n",
    "* decodificare una stringa RLE\n",
    "* codificare un'immagine in una stringa RLE\n",
    "\n",
    "Tali funzioni sulle maschere sono state implementate in un modulo chiamato `mask_ops`."
   ]
  },
  {
   "attachments": {},
   "cell_type": "markdown",
   "metadata": {},
   "source": [
    "<h2>Creazione maschera vuota</h2>"
   ]
  },
  {
   "cell_type": "code",
   "execution_count": 37,
   "metadata": {},
   "outputs": [],
   "source": [
    "def crea_maschera_vuota(path: str, width: int, height: int):\n",
    "    \"\"\"Funzione usata per creare un segnaposto per una maschera\n",
    "    in un dato percorso\n",
    "\n",
    "    Args:\n",
    "        path (str): percorso in cui salvare la maschera vuota\n",
    "        width (int): larghezza desiderata per la maschera\n",
    "        height (int): altezza desiderata per la maschera\n",
    "    \"\"\"\n",
    "    # Creo una maschera vuota con le dimensioni dei pixel calcolate\n",
    "    mask = np.zeros((height, width, 3), dtype=np.uint8)\n",
    "\n",
    "    cv.imwrite(path, mask)"
   ]
  },
  {
   "attachments": {},
   "cell_type": "markdown",
   "metadata": {},
   "source": [
    "&Egrave; una funzione molto semplice che serve a generare una maschera di larghezza e altezza desiderate, e a salvarla nel percorso specificato.\n",
    "\n",
    "Tornerà utile per generare le maschere presenti nel dataset."
   ]
  },
  {
   "attachments": {},
   "cell_type": "markdown",
   "metadata": {},
   "source": [
    "<h2>Decodifica <strong>RLE</strong></h2>"
   ]
  },
  {
   "cell_type": "code",
   "execution_count": 38,
   "metadata": {},
   "outputs": [],
   "source": [
    "def rle_to_image(rle_code: str, height: int, width: int) -> np.ndarray:\n",
    "    \"\"\"Funzione usata per convertire una maschera codificata RLE in \n",
    "    un'immagine di data altezza e larghezza\n",
    "\n",
    "    Args:\n",
    "        rle_code (str): stringa rappresentativa della segmentazione RLE\n",
    "        height (int): altezza desiderata per l'immagine\n",
    "        width (int): larghezza desiderata per l'immagine\n",
    "\n",
    "    Returns:\n",
    "        np.ndarray: immagine della maschera associata alla stringa RLE\n",
    "    \"\"\"\n",
    "    # Verifica se la codifica è 'nan'\n",
    "    \n",
    "    if isinstance(rle_code, float) and math.isnan(rle_code):\n",
    "        return np.zeros((height, width), dtype=np.uint8)\n",
    "    \n",
    "    # Trasforma la stringa in una lista di numeri interi e genera\n",
    "    # un array NumPy fatto da coppie di interi (secondo la notazione RLE)\n",
    "    rle_numbers = [int(i) for i in rle_code.split()]\n",
    "    rle_pairs = np.array(rle_numbers).reshape(-1, 2)\n",
    "\n",
    "    # Crea un'immagine vuota\n",
    "    img = np.zeros(height*width, dtype=np.uint8)\n",
    "\n",
    "    # Colora i pixel coperti dalla maschera\n",
    "    for index, length in rle_pairs:\n",
    "        index -= 1\n",
    "        img[index:index+length] = 255\n",
    "\n",
    "    # Ridimensiona l'immagine e la restituisce\n",
    "    return img.reshape((height, width))"
   ]
  },
  {
   "attachments": {},
   "cell_type": "markdown",
   "metadata": {},
   "source": [
    "Osserviamo, in questo esempio, la funzione al lavoro:"
   ]
  },
  {
   "cell_type": "code",
   "execution_count": 39,
   "metadata": {},
   "outputs": [
    {
     "data": {
      "image/png": "[encoded data removed]",
      "text/plain": [
       "<Figure size 500x500 with 1 Axes>"
      ]
     },
     "metadata": {},
     "output_type": "display_data"
    }
   ],
   "source": [
    "rle_string = '22547 4 22822 11 23096 15 23371 17 23646 19 23921 21 24197 20 24473 17 24749 15 25026 13 ' +\\\n",
    "'25302 13 25579 22 25856 22 26134 21 26411 21 26688 21 26965 22 27241 22 27518 22 27794 22 28070 23 ' +\\\n",
    "'28346 9 28357 12 28622 9 28633 12 28899 7 28909 12 29175 7 29185 12 29452 4 29461 12 29737 12 30013 12 ' +\\\n",
    "'30289 11 30565 11 30842 9 31119 7 36644 4 36918 8 37193 9 37469 10 37745 10 38021 10 38297 10 38573 10 ' +\\\n",
    "'38849 10 39125 10 39402 8 39679 6'\n",
    "\n",
    "rle_dec_width = 276\n",
    "rle_dec_height = 276\n",
    "\n",
    "rle_dec_mask = rle_to_image(rle_string, rle_dec_height, rle_dec_width)\n",
    "\n",
    "fig, ax = plt.subplots(nrows=1, ncols=1, figsize=(5,5))\n",
    "\n",
    "ax.set_title('Case 34, Day 0, Slice 50 - Segm. Mask for Large Bowel')\n",
    "\n",
    "plt.imshow(rle_dec_mask)\n",
    "plt.show()\n"
   ]
  },
  {
   "attachments": {},
   "cell_type": "markdown",
   "metadata": {},
   "source": [
    "<h2>Codifica <strong>RLE</strong></h2>"
   ]
  },
  {
   "cell_type": "code",
   "execution_count": 40,
   "metadata": {},
   "outputs": [],
   "source": [
    "def rle_encode(mask: np.ndarray) -> str:\n",
    "    \"\"\"Funzione usata per generare una codifica RLE a partire da una maschera binaria\n",
    "\n",
    "    Args:\n",
    "        mask (np.ndarray): maschera binaria da codificare in RLE\n",
    "\n",
    "    Returns:\n",
    "        str: codifica RLE della maschera\n",
    "    \"\"\"\n",
    "    \n",
    "    rle_string = \"\"\n",
    "    \n",
    "    mask = mask.flatten()\n",
    "\n",
    "    # Si aggiunge uno zero-padding alla maschera per evitare problemi di indicizzazione\n",
    "    padded_mask = np.pad(mask, (1,), mode=\"constant\")\n",
    "\n",
    "    # Inizializza l'indice corrente a 0\n",
    "    current_index = 0\n",
    "    \n",
    "    # Inizializza la lunghezza corrente a 0\n",
    "    current_length = 0\n",
    "\n",
    "    # Itera attraverso ciascun pixel della riga\n",
    "    for pixel in padded_mask:\n",
    "        # Se il pixel è 1 e il pixel precedente era 0, inizia una nuova sequenza\n",
    "        if pixel == 1 and padded_mask[current_index - 1] == 0:\n",
    "            rle_string += str(current_index) + \" \"\n",
    "            current_length = 1\n",
    "        # Se il pixel è 1 e il pixel precedente era 1, aumenta la lunghezza della sequenza corrente\n",
    "        elif pixel == 1 and padded_mask[current_index - 1] == 1:\n",
    "            current_length += 1\n",
    "        # Se il pixel è 0 e il pixel precedente era 1, termina la sequenza corrente\n",
    "        elif pixel == 0 and padded_mask[current_index - 1] == 1:\n",
    "            rle_string += str(current_length) + \" \"\n",
    "            current_length = 0\n",
    "        \n",
    "        # Incrementa l'indice corrente\n",
    "        current_index += 1\n",
    "\n",
    "    # Se c'è ancora una sequenza attiva alla fine della riga, termina la sequenza\n",
    "    if current_length != 0:\n",
    "        rle_string += str(current_length) + \" \"\n",
    "\n",
    "    # Restituisci la stringa RLE\n",
    "    return rle_string"
   ]
  },
  {
   "attachments": {},
   "cell_type": "markdown",
   "metadata": {},
   "source": [
    "Osserviamo, in quello che segue, come la funzione codifichi esattamente la maschera dell'esempio precedente"
   ]
  },
  {
   "cell_type": "code",
   "execution_count": 41,
   "metadata": {},
   "outputs": [
    {
     "name": "stdout",
     "output_type": "stream",
     "text": [
      "Maschera codificata come:\n",
      "22547 4 22822 11 23096 15 23371 17 23646 19 23921 21 24197 20 24473 17 24749 15 25026 13 25302 13 25579 22 25856 22 26134 21 26411 21 26688 21 26965 22 27241 22 27518 22 27794 22 28070 23 28346 9 28357 12 28622 9 28633 12 28899 7 28909 12 29175 7 29185 12 29452 4 29461 12 29737 12 30013 12 30289 11 30565 11 30842 9 31119 7 36644 4 36918 8 37193 9 37469 10 37745 10 38021 10 38297 10 38573 10 38849 10 39125 10 39402 8 39679 6 \n",
      "\n",
      "Stringa originale:\n",
      "22547 4 22822 11 23096 15 23371 17 23646 19 23921 21 24197 20 24473 17 24749 15 25026 13 25302 13 25579 22 25856 22 26134 21 26411 21 26688 21 26965 22 27241 22 27518 22 27794 22 28070 23 28346 9 28357 12 28622 9 28633 12 28899 7 28909 12 29175 7 29185 12 29452 4 29461 12 29737 12 30013 12 30289 11 30565 11 30842 9 31119 7 36644 4 36918 8 37193 9 37469 10 37745 10 38021 10 38297 10 38573 10 38849 10 39125 10 39402 8 39679 6\n",
      "\n"
     ]
    }
   ],
   "source": [
    "encoded_mask = rle_encode(rle_dec_mask/255)\n",
    "\n",
    "print(f\"Maschera codificata come:\\n{encoded_mask}\\n\")\n",
    "\n",
    "\n",
    "print(f\"Stringa originale:\\n{rle_string}\\n\")"
   ]
  },
  {
   "attachments": {},
   "cell_type": "markdown",
   "metadata": {},
   "source": [
    "Avendo ottenuto un modo di decodificare delle stringhe RLE, vista l'enorme mole di dati e il formato *a triple* del nostro dataframe, abbiamo ritenuto una buona idea la decodifica di tutte le segmentazioni per la generazione delle maschere di ogni immagine, salvata opportunamente nella cartella determinata da `mask_path` all'interno del dataframe.\n",
    "\n",
    "In questo modo, possiamo lavorare più immediatamente con le maschere e le immagini, senza doverle generare ad ogni esecuzione. In questo senso, abbiamo iterato su tutte le righe del dataframe **merged_df** (`row`), eseguendo la seguente porzione di codice:\n",
    "\n",
    "<div style=\"border: 2px solid #0369A0; background-color: #292929; width: 80%; margin: auto; padding: 15px 15px 15px 15px;\">\n",
    "\n",
    "```python\n",
    "mask_path = row['mask_path']\n",
    "\n",
    "red_segment = mop.rle_to_image(row['segmentation'][0], row['height'], row['width'])\n",
    "green_segment = mop.rle_to_image(row['segmentation'][1], row['height'], row['width'])\n",
    "blue_segment = mop.rle_to_image(row['segmentation'][2], row['height'], row['width'])\n",
    "\n",
    "merged_mask = cv.merge([red_segment, green_segment, blue_segment])\n",
    "\n",
    "cv.imwrite(mask_path, merged_mask)\n",
    "```\n",
    "\n",
    "</div>\n",
    "\n",
    "Nello specifico, generiamo le maschere per ogni canale RGB (gli indici della lista corrispondono con i valori di classe), per poi unire i tre canali in un'unica immagine, rappresentativa della maschera, opportunamente salvata secondo le modalità descritte in precedenza.\n",
    "\n",
    "<center><img src=\"./train/case2/case2_day1/masks/mask_slice_0078_266_266_1.50_1.50.png\" style=\"border: 2px solid #0369A0; width:350px; height:350px;\"/></center> "
   ]
  },
  {
   "attachments": {},
   "cell_type": "markdown",
   "metadata": {},
   "source": [
    "L'intenzione, avendo a disposizione le maschere, è quella di sovrapporle alle immagini, in modo da avere una migliore conoscenza del dominio in cui stiamo operando (i.e. saper individuare meglio a cosa corrisponde ogni segmento).\n",
    "\n",
    "Allo scopo, abbiamo previsto una funzione, <code>override_mask_on_img</code> (riportata nel listato seguente)."
   ]
  },
  {
   "cell_type": "code",
   "execution_count": 42,
   "metadata": {},
   "outputs": [],
   "source": [
    "def override_mask_on_img(mask_array: np.array, rgb_slice: cv.Mat) -> cv.Mat:\n",
    "    \"\"\"Funzione usata per sovrapporre una maschera ad un'immagine\n",
    "\n",
    "    Args:\n",
    "        mask_array (np.array): maschera da sovrapporre\n",
    "        rgb_slice (Mat): immagine su cui applicare la maschera\n",
    "\n",
    "    Returns:\n",
    "        Mat: immagine con maschera sovrapposta\n",
    "    \"\"\"\n",
    "    \n",
    "    bool_index = mask_array != (0, 0, 0)\n",
    "\n",
    "    rgb_slice[bool_index] = mask_array[bool_index]\n",
    "\n",
    "    return rgb_slice"
   ]
  },
  {
   "attachments": {},
   "cell_type": "markdown",
   "metadata": {},
   "source": [
    "Ecco un esempio di codice che mostra l'output della funzione appena descritta."
   ]
  },
  {
   "cell_type": "code",
   "execution_count": 47,
   "metadata": {},
   "outputs": [
    {
     "data": {
      "image/png": "[encoded data removed]",
      "text/plain": [
       "<Figure size 500x500 with 1 Axes>"
      ]
     },
     "metadata": {},
     "output_type": "display_data"
    }
   ],
   "source": [
    "mask = cv.cvtColor(cv.imread('./train/case2/case2_day2/masks/mask_slice_0081_266_266_1.50_1.50.png'), cv.COLOR_BGR2RGB)\n",
    "\n",
    "case_2_2_81 = cv.imread('./pics/2_2_81_equalised.png')\n",
    "\n",
    "final_img = override_mask_on_img(case_2_2_81, mask)/255\n",
    "\n",
    "# Definisco i nomi delle classi e i rispettivi colori\n",
    "class_names = ['Large bowel', 'Small bowel', 'Stomach']\n",
    "colors = [(1, 0, 0), (0, 1, 0), (0, 0, 1)]\n",
    "\n",
    "# Creo una figura vuota\n",
    "fig, ax = plt.subplots(figsize=(5,5))\n",
    "\n",
    "# Aggiungo una legenda con i nomi delle classi e i rispettivi colori\n",
    "legend_handles = [plt.Rectangle((0,0),1,1, color=c, ec=\"k\") for c in colors]\n",
    "ax.legend(legend_handles, class_names)\n",
    "\n",
    "# Mostra il risultato\n",
    "plt.imshow(final_img)\n",
    "plt.show()"
   ]
  },
  {
   "attachments": {},
   "cell_type": "markdown",
   "metadata": {},
   "source": [
    "# <center><strong>5</strong> &dash; OPERAZIONI SULLE IMMAGINI</center>"
   ]
  },
  {
   "attachments": {},
   "cell_type": "markdown",
   "metadata": {},
   "source": [
    "<h2>Equalizzazione delle immagini</h2>"
   ]
  },
  {
   "attachments": {},
   "cell_type": "markdown",
   "metadata": {},
   "source": [
    "Un appunto va fatto alla qualità media delle immagini, di cui abbiamo avuto un assaggio nelle sezioni precedenti: i casi in cui sono facilmente distinguibili gli elementi dell'immagine sono pochi, mentre è più generale il caso di immagini **totalmente nere** o **poco contrastate**.\n",
    "\n",
    "Si è reso necessario, allora, implementare una funzione che andasse a migliorare la qualità delle scansioni presenti nel dataset. Nello specifico uno strumento che ben si presta al miglioramento del contrasto per immagini monocromatiche è l'equalizzazione dell'istogramma: abbiamo pensato, infatti, che le immagini meno contrastate contenessero comunque dell'informazione e, semplicemente, la poca qualità visiva era data da un istogramma molto compattato sui neri; l'equalizzazione dell'istogramma permette di ottenere una distribuzione delle intensità **più uniforme**, con un conseguente miglioramento del contrasto.\n",
    "\n",
    "Da un punto di vista implementativo, abbiamo definito una funzione che, dato in input il percorso dell'immagine, la equalizzasse e sovrascrivesse l'originale con la versione migliorata."
   ]
  },
  {
   "cell_type": "code",
   "execution_count": 44,
   "metadata": {},
   "outputs": [],
   "source": [
    "def equalizza_immagini(path: str):\n",
    "    \n",
    "    \"\"\"Funzione usata per equalizzare un'immagine e sovrascriverla all'originale\n",
    "\n",
    "    Args:\n",
    "        path (str): percorso in cui salvare l'immagine\n",
    "    \"\"\"\n",
    "    \n",
    "    img = cv.imread(path, 0) \n",
    "\n",
    "    equ = cv.equalizeHist(img)\n",
    "    \n",
    "    cv.imwrite(path, equ)"
   ]
  },
  {
   "attachments": {},
   "cell_type": "markdown",
   "metadata": {},
   "source": [
    "Quello che abbiamo fatto è stato, quindi, iterare su tutte le righe del dataframe, equalizzando e sovrascrivendo tutte le immagini indicate in `path`, con il seguente listato:\n",
    "\n",
    "<div style=\"border: 2px solid #0369A0; background-color: #292929; width: 80%; margin: auto; padding: 15px 15px 15px 15px;\">\n",
    "\n",
    "```python\n",
    "for index, row in merged_df.iterrows():\n",
    "    \n",
    "    if row['is_equalized'] == False:\n",
    "        print(f\"Inizio equalizzazione...\\n\")    \n",
    "        \n",
    "        for index, row in tqdm(merged_df.iterrows(), total=len(merged_df)):\n",
    "            equalizza_immagini(row['path'])\n",
    "        \n",
    "        print(f\"\\nFine equalizzazione.\\n\")\n",
    "        row['is_equalized'] = True\n",
    "        \n",
    "    else:\n",
    "        print(\"Immagini già equalizzate\")\n",
    "        break\n",
    "```\n",
    "\n",
    "</div>\n",
    "\n",
    "Il risultato dell'equalizzazione è andato oltre le aspettative, dato che immagini quasi totalmente nere (una percentuale di pixel bianchi minima) sono poi risultate in immagini qualitativamente buone, come si può vedere nell'esempio seguente."
   ]
  },
  {
   "cell_type": "code",
   "execution_count": 45,
   "metadata": {},
   "outputs": [
    {
     "data": {
      "image/png": "[encoded data removed]",
      "text/plain": [
       "<Figure size 2000x500 with 4 Axes>"
      ]
     },
     "metadata": {},
     "output_type": "display_data"
    }
   ],
   "source": [
    "fig, (ax1, ax2, ax3, ax4) = plt.subplots(1,4,figsize=(20,5))\n",
    "\n",
    "ax1.set_title('Immagine originale')\n",
    "ax1.set_xlabel(\"Caso 2 - Giorno 2 - Slice 81\")\n",
    "ax2.set_title('Immagine equalizzata')\n",
    "ax3.set_title('Istogramma originale')\n",
    "ax4.set_title('Istogramma equalizzato')\n",
    "\n",
    "original = cv.imread('./pics/2_2_81_original.png')\n",
    "equalised = cv.imread('./pics/2_2_81_equalised.png')\n",
    "\n",
    "ax1.imshow(original)\n",
    "ax2.imshow(equalised)\n",
    "ax3.plot([_ for _ in range(256)], cv.calcHist([original], [0], None, [256], [0, 256]))\n",
    "ax4.plot([_ for _ in range(256)], cv.calcHist([equalised], [0], None, [256], [0, 256]))\n",
    "\n",
    "plt.show()"
   ]
  },
  {
   "attachments": {},
   "cell_type": "markdown",
   "metadata": {},
   "source": [
    "<h2> -- INSERIRE TITOLO -- </h2>"
   ]
  },
  {
   "cell_type": "code",
   "execution_count": 5,
   "metadata": {},
   "outputs": [],
   "source": [
    "import cv2 as cv\n",
    "import os\n",
    "os.environ[\"QT_QPA_PLATFORM\"] = \"xcb\"\n",
    "\n",
    "# Specifica i percorsi delle cartelle delle immagini\n",
    "path1 = \"../BD-Image-Segmentation-Comp/train/case2/case2_day1/masks/\"\n",
    "path2 = \"../BD-Image-Segmentation-Comp/train/case2/case2_day1/scans/\"\n",
    "# Crea una lista contenente tutte le immagini nella prima cartella\n",
    "img_list1 = os.listdir(path1)\n",
    "\n",
    "# Ordina la lista in ordine crescente di nome file\n",
    "img_list1.sort()\n",
    "\n",
    "# Crea una lista contenente tutte le immagini nella seconda cartella\n",
    "img_list2 = os.listdir(path2)\n",
    "\n",
    "# Ordina la lista in ordine crescente di nome file\n",
    "img_list2.sort()\n",
    "\n",
    "# Specifica il nome del file video di output\n",
    "video_name = \"video_output.avi\"\n",
    "\n",
    "# Specifica la larghezza e l'altezza del video\n",
    "width = 300\n",
    "height = 300\n",
    "\n",
    "# Inizializza l'oggetto VideoWriter\n",
    "fourcc = cv.VideoWriter_fourcc(*\"MJPG\")\n",
    "out = cv.VideoWriter(video_name, fourcc, 10.0, (width, height))\n",
    "\n",
    "# Loop attraverso tutte le immagini\n",
    "for i in range(min(len(img_list1), len(img_list2))):\n",
    "    # Leggi le immagini dalle due cartelle\n",
    "    img_path1 = os.path.join(path1, img_list1[i])\n",
    "    img1 = cv.imread(img_path1)\n",
    "\n",
    "    img_path2 = os.path.join(path2, img_list2[i])\n",
    "    img2 = cv.imread(img_path2)\n",
    "\n",
    "    # Ridimensiona le immagini alla dimensione desiderata\n",
    "    img1 = cv.resize(img1, (width, height))\n",
    "    img2 = cv.resize(img2, (width, height))\n",
    "\n",
    "    # Sovrapponi le due immagini\n",
    "    alpha = 0.5\n",
    "    beta = 1 - alpha\n",
    "    blended = cv.addWeighted(img1, alpha, img2, beta, 0)\n",
    "\n",
    "    # Aggiungi l'immagine sovrapposta al video\n",
    "    out.write(blended)\n",
    "\n",
    "# Chiudi l'oggetto VideoWriter\n",
    "out.release()\n",
    "\n",
    "# Visualizza il video\n",
    "cap = cv.VideoCapture(video_name)\n",
    "\n",
    "while(cap.isOpened()):\n",
    "    # Leggi un frame dal video\n",
    "    ret, frame = cap.read()\n",
    "\n",
    "    if ret:\n",
    "        # Visualizza il frame\n",
    "        cv.imshow('Video', frame)\n",
    "\n",
    "        # Aspetta l'input da tastiera per 25 millisecondi\n",
    "        # Se il tasto 'esc' viene premuto, esci dal loop\n",
    "        # Se il tasto 'barra spaziatrice' viene premuto, metti in pausa il video\n",
    "        key = cv.waitKey(25)\n",
    "        if key == 27:       # 27 corrisponde al codice ASCII per il tasto 'esc'\n",
    "            break\n",
    "        elif key == 32:     # 32 corrisponde al codice ASCII per la barra spaziatrice\n",
    "            cv.waitKey(-1)  # Aspetta l'input da tastiera indefinitivamente\n",
    "\n",
    "    else:\n",
    "        break\n",
    "\n",
    "# Rilascia tutte le risorse\n",
    "cap.release()\n",
    "cv.destroyAllWindows()"
   ]
  },
  {
   "cell_type": "markdown",
   "metadata": {},
   "source": []
  },
  {
   "attachments": {},
   "cell_type": "markdown",
   "metadata": {},
   "source": [
    "<h2> Cropping immagini rettangolari </h2>"
   ]
  },
  {
   "attachments": {},
   "cell_type": "markdown",
   "metadata": {},
   "source": [
    "Si è voluto ridimensionare le immagini rettangolari $360\\times310$ in immagini quadrate $310\\times310$, in modo da unificare il tutto e poter effettuare il resize in maniera uniforme. \n",
    "\n",
    "In particolare abbiamo scelto di mantenere le slice e le rispettive maschere all'interno della cartella `train` e di salvare la loro forma processata (che andrà in pasto alla rete neurale) in una nuova cartella `training`, che sarà a sua volta composta da due sottocartelle `scans` e `masks` dove verranno salvate, rispettivamente, solo le scansioni e le relative maschere che presentano segmentazione."
   ]
  },
  {
   "attachments": {},
   "cell_type": "markdown",
   "metadata": {},
   "source": [
    "<h3 style=\"text-transform:uppercase; text-align: center;\">definizione percorsi assoluti</h3>"
   ]
  },
  {
   "cell_type": "code",
   "execution_count": null,
   "metadata": {},
   "outputs": [],
   "source": [
    "PATH = './training'\n",
    "MASKS_PATH = PATH + '/masks/'\n",
    "SCANS_PATH = PATH + '/scans/'"
   ]
  },
  {
   "attachments": {},
   "cell_type": "markdown",
   "metadata": {},
   "source": [
    "<h3 style=\"text-transform:uppercase; text-align: center;\">creazione cartelle</h3>"
   ]
  },
  {
   "cell_type": "code",
   "execution_count": null,
   "metadata": {},
   "outputs": [],
   "source": [
    "if not os.path.exists(PATH):\n",
    "    os.mkdir(PATH) \n",
    "    print(\"\\nCartella training creata con successo!\\n\")\n",
    "    \n",
    "    if not os.path.exists(MASKS_PATH):\n",
    "        os.mkdir(MASKS_PATH) \n",
    "        print(\"\\nCartella training/masks creata con successo!\\n\")\n",
    "        \n",
    "    if not os.path.exists(SCANS_PATH):\n",
    "        os.mkdir(SCANS_PATH) \n",
    "        print(\"\\nCartella training/scans creata con successo!\\n\")"
   ]
  },
  {
   "attachments": {},
   "cell_type": "markdown",
   "metadata": {},
   "source": [
    "<h3 style=\"text-transform:uppercase; text-align: center;\">lettura dataframe, cropping e salvataggio immagini</h3>"
   ]
  },
  {
   "cell_type": "code",
   "execution_count": null,
   "metadata": {},
   "outputs": [],
   "source": [
    "merged_df = pd.read_csv('./merged_df.csv')\n",
    "\n",
    "merged_df_360x310 = merged_df[(merged_df['width'] == 360) & (merged_df['height'] == 310)].reset_index().drop(columns='index')\n",
    "\n",
    "for index, riga in tqdm(merged_df_360x310.iterrows(), total=len(merged_df_360x310)):\n",
    "    \n",
    "    if riga['segmentation'] != '(nan, nan, nan)':\n",
    "        \n",
    "        scan = cv.imread(riga['path'])[:, 25:335]\n",
    "        maschera = cv.imread(riga['mask_path'])[:, 25:335]\n",
    "    \n",
    "        cv.imwrite(SCANS_PATH + 'case' + str(riga['case_id']) + '_day' + str(riga['day_id']) + '_' + riga['slice_name'], scan)\n",
    "        cv.imwrite(MASKS_PATH + 'case' + str(riga['case_id']) + '_day' + str(riga['day_id']) + '_' + 'mask_' + riga['slice_name'], maschera)\n",
    "\n",
    "print(f\"\\nFine cropping.\\n\")"
   ]
  },
  {
   "attachments": {},
   "cell_type": "markdown",
   "metadata": {},
   "source": [
    "<h2>Ridimensionamento delle immagini</h2>"
   ]
  },
  {
   "attachments": {},
   "cell_type": "markdown",
   "metadata": {},
   "source": [
    "Come si evince dalle statistiche iniziali, le immagini hanno dimensione variabile. Pertanto, abbiamo voluto ridimensionare tutte le slice e le rispettive maschere in modo da avere immagini di dimensione fissa $200\\times200$."
   ]
  },
  {
   "attachments": {},
   "cell_type": "markdown",
   "metadata": {},
   "source": [
    "<h3 style=\"text-transform:uppercase; text-align: center;\">definizione costanti</h3>"
   ]
  },
  {
   "cell_type": "code",
   "execution_count": null,
   "metadata": {},
   "outputs": [],
   "source": [
    "ALTEZZA = 200\n",
    "LARGHEZZA = 200"
   ]
  },
  {
   "attachments": {},
   "cell_type": "markdown",
   "metadata": {},
   "source": [
    "<h3 style=\"text-transform:uppercase; text-align: center;\">definizione funzioni</h3>"
   ]
  },
  {
   "cell_type": "code",
   "execution_count": null,
   "metadata": {},
   "outputs": [],
   "source": [
    "def flip_coin():\n",
    "    return random.randint(0, 1)\n",
    "\n",
    "def do_skewing(slice, mask):\n",
    "    \n",
    "    rows, cols = slice.shape[:2]\n",
    "    \n",
    "    coin = flip_coin()\n",
    "    \n",
    "    if coin == 0:\n",
    "        # angolazione in gradi\n",
    "        angle = random.randint(-10, 10)\n",
    "        while angle == 0:\n",
    "            angle = random.randint(-10, 10)\n",
    "        # definisco la matrice di trasformazione affine\n",
    "        M = cv.getRotationMatrix2D((cols/2, rows/2), angle, 1)\n",
    "    \n",
    "    else:\n",
    "        \n",
    "        moneta = flip_coin()\n",
    "        \n",
    "        if(moneta == 0):\n",
    "            M = np.float32([[-1, 0, cols-1], [0, 1, 0]])\n",
    "        \n",
    "        else:\n",
    "            M = np.float32([[1, 0, 0], [0, -1, rows-1]])\n",
    "    \n",
    "    # applico lo skewing alla slice\n",
    "    skewed_slice = cv.warpAffine(slice, M, (cols, rows))\n",
    "    \n",
    "    # applico lo skewing alla maschera corrispondente\n",
    "    skewed_mask = cv.warpAffine(mask, M, (cols, rows))\n",
    "    \n",
    "    return skewed_slice, skewed_mask"
   ]
  },
  {
   "attachments": {},
   "cell_type": "markdown",
   "metadata": {},
   "source": [
    "La funzione `flip_coin` è stata pensata per fornire casualità ...\n",
    "\n",
    "La funzione `do_skewing`, invece, permette di effettuare lo skewing della slice e della rispettiva maschera in input, in modo da simulare eventuali imperfezioni al momento dell'acquisizione delle immagini.  "
   ]
  },
  {
   "cell_type": "code",
   "execution_count": null,
   "metadata": {},
   "outputs": [],
   "source": [
    "count_quadrate = 0\n",
    "count_rettangolari = 0\n",
    "\n",
    "for index, tupla in merged_df.iterrows():\n",
    "    \n",
    "    if (tupla['segmentation'] == '(nan, nan, nan)'):\n",
    "        \n",
    "        if(tupla['width'] == 360):\n",
    "            count_rettangolari += 1\n",
    "        else:\n",
    "            count_quadrate += 1\n",
    "\n",
    "soglia_quadrate = round(count_quadrate * 0.1)\n",
    "soglia_rettangolari = round(count_rettangolari * 0.1)\n",
    "\n",
    "counter_skewing = 0"
   ]
  },
  {
   "attachments": {},
   "cell_type": "markdown",
   "metadata": {},
   "source": [
    "Viene effettuato un conteggio delle immagini totali presenti nella directory `training`, al fine di poter estrapolare a quante coppie di immagini del dataset deve essere effettuato lo skewing. Si è scelta una percentuale pari al 10% del totale.\n",
    "\n",
    "Si procede quindi all'operazione di ridimensionamento delle slice quadrate."
   ]
  },
  {
   "cell_type": "code",
   "execution_count": null,
   "metadata": {},
   "outputs": [],
   "source": [
    "print(f\"\\n--- Inizio resize di maschere e slices. ---\")\n",
    "\n",
    "print(f\"\\n\\t1. Inizio resize di maschere e slices quadrate.\\n\")\n",
    "\n",
    "for index, riga in tqdm(merged_df[(merged_df['width'] != 360) & (merged_df['height'] != 310)].reset_index().drop(columns='index').iterrows(),\\\n",
    "    total=len(merged_df[(merged_df['width'] != 360) & (merged_df['height'] != 310)]), bar_format=bar_format_yellow):\n",
    "    \n",
    "    if riga['segmentation'] != '(nan, nan, nan)':\n",
    "    \n",
    "        scan = cv.imread(riga['path'])\n",
    "        maschera = cv.imread(riga['mask_path'])\n",
    "        \n",
    "        resized_scan = cv.resize(scan, [LARGHEZZA, ALTEZZA])\n",
    "        resized_mask = cv.resize(maschera, [LARGHEZZA, ALTEZZA])   \n",
    "        \n",
    "        coin = flip_coin()    \n",
    "        if (coin == 0):\n",
    "            if(counter_skewing != soglia_quadrate):\n",
    "                resized_scan, resized_mask = do_skewing(resized_scan, resized_mask)\n",
    "                counter_skewing += 1\n",
    "        \n",
    "        cv.imwrite(SCANS_PATH + 'case' + str(riga['case_id']) + '_day' + str(riga['day_id']) + '_' + riga['slice_name'], resized_scan)\n",
    "        cv.imwrite(MASKS_PATH + 'case' + str(riga['case_id']) + '_day' + str(riga['day_id']) + '_' + 'mask_' + riga['slice_name'], resized_mask)\n",
    "\n",
    "print(f\"\\nTotale immagini quadrate a cui è stato effettuato lo skewing: {counter_skewing}/{count_quadrate}\\n\")"
   ]
  },
  {
   "attachments": {},
   "cell_type": "markdown",
   "metadata": {},
   "source": [
    "Successivamente vengono ridimensionate anche le slice rettangolari."
   ]
  },
  {
   "cell_type": "code",
   "execution_count": null,
   "metadata": {},
   "outputs": [],
   "source": [
    "print(f\"\\n\\t2. Inizio resize di maschere e slices rettangolari.\\n\")\n",
    "\n",
    "counter_skewing = 0\n",
    "\n",
    "for index, riga in tqdm(merged_df[(merged_df['width'] == 360) & (merged_df['height'] == 310)].reset_index().drop(columns='index').iterrows(),\\\n",
    "    total=len(merged_df[(merged_df['width'] == 360) & (merged_df['height'] == 310)]), bar_format=bar_format_blue):\n",
    "    \n",
    "    if riga['segmentation'] != '(nan, nan, nan)':\n",
    "        scan = cv.imread(SCANS_PATH + 'case' + str(riga['case_id']) + '_day' + str(riga['day_id']) + '_' + riga['slice_name'])\n",
    "        maschera = cv.imread(MASKS_PATH + 'case' + str(riga['case_id']) + '_day' + str(riga['day_id']) + '_' + 'mask_' + riga['slice_name'])\n",
    "        \n",
    "        resized_scan = cv.resize(scan, [LARGHEZZA, ALTEZZA])\n",
    "        resized_mask = cv.resize(maschera, [LARGHEZZA, ALTEZZA])  \n",
    "        \n",
    "        coin = flip_coin() \n",
    "        \n",
    "        if (coin == 0):\n",
    "            if(counter_skewing != soglia_rettangolari):\n",
    "                resized_scan, resized_mask = do_skewing(resized_scan, resized_mask) \n",
    "                counter_skewing += 1\n",
    "        \n",
    "        cv.imwrite(SCANS_PATH + 'case' + str(riga['case_id']) + '_day' + str(riga['day_id']) + '_' + riga['slice_name'], resized_scan)\n",
    "        cv.imwrite(MASKS_PATH + 'case' + str(riga['case_id']) + '_day' + str(riga['day_id']) + '_' + 'mask_' + riga['slice_name'], resized_mask)\n",
    "        \n",
    "print(f\"\\nFine resize di maschere e slices.\\n\")\n",
    "\n",
    "print(f\"\\nTotale immagini rettangolari a cui è stato effettuato lo skewing: {counter_skewing}/{count_rettangolari}\\n\")"
   ]
  },
  {
   "attachments": {},
   "cell_type": "markdown",
   "metadata": {},
   "source": [
    "Alla fine dell'operazione di ridimensionamento, è tutto pronto per la generazione di un tensore da passare in input alla rete neurale."
   ]
  },
  {
   "attachments": {},
   "cell_type": "markdown",
   "metadata": {},
   "source": [
    "# <center style=\"text-transform:uppercase;\"><strong>6</strong> &dash; preparazione dei dati di addestramento</center>"
   ]
  },
  {
   "attachments": {},
   "cell_type": "markdown",
   "metadata": {},
   "source": [
    "Questa parte prevede:\n",
    "1.  generazione di un tensore ...\n",
    "2.  aaaa...\n",
    "3.  bbb\n",
    "... "
   ]
  },
  {
   "attachments": {},
   "cell_type": "markdown",
   "metadata": {},
   "source": [
    "<h2>Generazione del tensore</h2>"
   ]
  },
  {
   "cell_type": "code",
   "execution_count": null,
   "metadata": {},
   "outputs": [],
   "source": []
  },
  {
   "attachments": {},
   "cell_type": "markdown",
   "metadata": {},
   "source": [
    "# <center style=\"text-transform:uppercase;\"><strong>7</strong> &dash; creazione modello u-net 3d</center>"
   ]
  },
  {
   "attachments": {},
   "cell_type": "markdown",
   "metadata": {},
   "source": [
    "Si è optato a scegliere di addestrare una rete u-net... perchè dalla lettura di diversi paper, si è visto che è la cosa più indicata in ambito di segmentazione di immagini mediche nei tre canali...\n",
    "\n",
    "( FARE BRODO )\n",
    "\n",
    "'''\n",
    "\n",
    "<strong> DAL BUON PASQUALE, CHE RIPOSI IN PACE... :( </strong>\n",
    "\n",
    "Il codice definisce una rete neurale U-Net 3D per la segmentazione di immagini volumetriche in cui si utilizza la convoluzione tridimensionale. \n",
    "La U-Net 3D è una rete neurale convoluzionale in grado di segmentare volumi di immagini tridimensionali. La rete è composta da un'encoder e un decoder \n",
    "connessi da una serie di ponti di connessione, che consentono di preservare le informazioni spaziali e di migliorare la precisione della segmentazione.\n",
    "\n",
    "Il codice definisce la struttura della rete utilizzando il modulo layers di Keras. L'input della rete è un tensore con dimensioni (None, None, None, 1) \n",
    "che rappresenta un volume di immagini tridimensionale con canale di profondità 1. La rete ha un'architettura a U e prevede l'utilizzo di convoluzioni \n",
    "tridimensionali, max pooling tridimensionali, convoluzioni tridimensionali trasposte (up-sampling) e connessioni skip.\n",
    "\n",
    "La rete è composta da 9 blocchi convoluzionali, ognuno dei quali comprende due convoluzioni tridimensionali seguite da una funzione di attivazione ReLU. \n",
    "I primi quattro blocchi sono seguiti da una funzione di dropout con probabilità di dropout pari a 0,5. La rete termina con un blocco di convoluzione \n",
    "tridimensionale seguito da una funzione di attivazione softmax per produrre l'output finale della rete, che rappresenta la maschera segmentata \n",
    "dell'immagine volumetrica di input.\n",
    "\n",
    "'''"
   ]
  },
  {
   "cell_type": "code",
   "execution_count": null,
   "metadata": {},
   "outputs": [],
   "source": [
    "def get_unet_3d(input_shape):\n",
    "    \n",
    "    # Definizione della 3D U-Net\n",
    "    inputs = layers.Input(input_shape)\n",
    "\n",
    "    conv1 = layers.Conv3D(32, 3, activation='relu', padding='same')(inputs)\n",
    "    conv1 = layers.Conv3D(32, 3, activation='relu', padding='same')(conv1)\n",
    "\n",
    "    pool1 = layers.MaxPooling3D(pool_size=(2, 2, 2))(conv1)\n",
    "\n",
    "    conv2 = layers.Conv3D(64, 3, activation='relu', padding='same')(pool1)\n",
    "    conv2 = layers.Conv3D(64, 3, activation='relu', padding='same')(conv2)\n",
    "\n",
    "    pool2 = layers.MaxPooling3D(pool_size=(2, 2, 2))(conv2)\n",
    "\n",
    "    conv3 = layers.Conv3D(128, 3, activation='relu', padding='same')(pool2)\n",
    "    conv3 = layers.Conv3D(128, 3, activation='relu', padding='same')(conv3)\n",
    "\n",
    "    pool3 = layers.MaxPooling3D(pool_size=(2, 2, 2))(conv3)\n",
    "\n",
    "    conv4 = layers.Conv3D(256, 3, activation='relu', padding='same')(pool3)\n",
    "    conv4 = layers.Conv3D(256, 3, activation='relu', padding='same')(conv4)\n",
    "\n",
    "    drop4 = layers.Dropout(0.5)(conv4)\n",
    "\n",
    "    pool4 = layers.MaxPooling3D(pool_size=(2, 2, 2))(drop4)\n",
    "\n",
    "    conv5 = layers.Conv3D(512, 3, activation='relu', padding='same')(pool4)\n",
    "    conv5 = layers.Conv3D(512, 3, activation='relu', padding='same')(conv5)\n",
    "\n",
    "    drop5 = layers.Dropout(0.5)(conv5)\n",
    "\n",
    "    up6 = layers.Conv3D(256, 2, activation='relu', padding='same')(layers.UpSampling3D(size=(2, 2, 2))(drop5))\n",
    "\n",
    "    merge6 = layers.concatenate([drop4, up6], axis=-1)\n",
    "\n",
    "    conv6 = layers.Conv3D(256, 3, activation='relu', padding='same')(merge6)\n",
    "    conv6 = layers.Conv3D(256, 3, activation='relu', padding='same')(conv6)\n",
    "\n",
    "    up7 = layers.Conv3D(128, 2, activation='relu', padding='same')(layers.UpSampling3D(size=(2, 2, 2))(conv6))\n",
    "\n",
    "    merge7 = layers.concatenate([conv3, up7], axis=-1)\n",
    "\n",
    "    conv7 = layers.Conv3D(128, 3, activation='relu', padding='same')(merge7)\n",
    "    conv7 = layers.Conv3D(128, 3, activation='relu', padding='same')(conv7)\n",
    "\n",
    "    up8 = layers.Conv3D(64, 2, activation='relu', padding='same')(layers.UpSampling3D(size=(2, 2, 2))(conv7))\n",
    "\n",
    "    merge8 = layers.concatenate([conv2, up8], axis=-1)\n",
    "\n",
    "    conv8 = layers.Conv3D(64, 3, activation='relu', padding='same')(merge8)\n",
    "    conv8 = layers.Conv3D(64, 3, activation='relu', padding='same')(conv8)\n",
    "\n",
    "    up9 = layers.Conv3D(32, 2, activation='relu', padding='same')(layers.UpSampling3D(size=(2, 2, 2))(conv8))\n",
    "\n",
    "    merge9 = layers.concatenate([conv1, up9], axis=-1)\n",
    "\n",
    "    conv9 = layers.Conv3D(32, 3, activation='relu', padding='same')(merge9)\n",
    "    conv9 = layers.Conv3D(32, 3, activation='relu', padding='same')(conv9)\n",
    "    conv9 = layers.Conv3D(2, 3, activation='relu', padding='same')(conv9)\n",
    "\n",
    "    conv10 = layers.Conv3D(1, 1, activation='softmax')(conv9)\n",
    "\n",
    "    model = tf.keras.Model(inputs=inputs, outputs=conv10)\n",
    "    \n",
    "    return model"
   ]
  }
 ],
 "metadata": {
  "kernelspec": {
   "display_name": "big_data",
   "language": "python",
   "name": "python3"
  },
  "language_info": {
   "codemirror_mode": {
    "name": "ipython",
    "version": 3
   },
   "file_extension": ".py",
   "mimetype": "text/x-python",
   "name": "python",
   "nbconvert_exporter": "python",
   "pygments_lexer": "ipython3",
   "version": "3.10.7"
  },
  "orig_nbformat": 4,
  "vscode": {
   "interpreter": {
    "hash": "db96dcb7501e2dc5ccc40e111d3b8aa3045a6ecb3a7f5ba88d1471cc4d737ff5"
   }
  }
 },
 "nbformat": 4,
 "nbformat_minor": 2
}
