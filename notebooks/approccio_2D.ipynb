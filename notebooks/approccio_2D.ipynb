{
 "cells": [
  {
   "attachments": {},
   "cell_type": "markdown",
   "metadata": {},
   "source": [
    "<style>\n",
    "  .navbar {\n",
    "    background-color: #f7f7f7;\n",
    "    display: flex;\n",
    "    justify-content: space-between;\n",
    "    align-items: center;\n",
    "    overflow: hidden;\n",
    "    font-family: 'Montserrat', 'Arial', sans-serif;\n",
    "    padding: 10px;\n",
    "    height: 90px;\n",
    "    box-shadow: 0 2px 4px rgba(0,0,0,0.2);\n",
    "  }\n",
    "\n",
    "  .navbar a {\n",
    "    font-size: 18px;\n",
    "    text-align: center;\n",
    "    padding: 14px 16px;\n",
    "    text-decoration: none;\n",
    "    transition: color 0.3s ease-in-out;\n",
    "    color: #0f5b99\n",
    "  }\n",
    "\n",
    "  .navbar a:hover {\n",
    "    background-color: #eaeaea;\n",
    "    color: #ff5500;\n",
    "  }\n",
    "\n",
    "  .navbar img {\n",
    "    height: 'auto';\n",
    "    width: 300px\n",
    "  }\n",
    "</style>\n",
    "\n",
    "<div class=\"navbar\" id=\"inizio\">\n",
    "  <a href=\"descrizione_problema.html\">Descrizione del problema</a>\n",
    "  <a href=\"data_preprocessing.html\">Data Preprocessing</a>\n",
    "  <a href=\"approccio_3D.html\">Approccio 3D</a>\n",
    "  <a href=\"approccio_2D.html\">Approccio 2D</a>\n",
    "  <a href=\"https://www.unipa.it\"><img src=\"https://www.unipa.it/redazioneweb/.content/immagini/logo-unipa-2020.png\"></a>\n",
    "</div>\n"
   ]
  },
  {
   "attachments": {},
   "cell_type": "markdown",
   "metadata": {},
   "source": [
    "# <strong> <center> STYLING DEL NOTEBOOK </center> </strong>\n",
    "---"
   ]
  },
  {
   "cell_type": "code",
   "execution_count": 1,
   "metadata": {},
   "outputs": [
    {
     "data": {
      "text/html": [
       "\n",
       "        <style>\n",
       "            @import url('https://fonts.googleapis.com/css?family=Montserrat&display=swap');\n",
       "            \n",
       "            * {\n",
       "                font-family: 'Montserrat', 'Arial', sans-serif;\n",
       "            }\n",
       "\n",
       "        </style>\n",
       "    "
      ],
      "text/plain": [
       "<IPython.core.display.HTML object>"
      ]
     },
     "execution_count": 1,
     "metadata": {},
     "output_type": "execute_result"
    }
   ],
   "source": [
    "from IPython.core.display import HTML\n",
    "\n",
    "HTML(\"\"\"\n",
    "        <style>\n",
    "            @import url('https://fonts.googleapis.com/css?family=Montserrat&display=swap');\n",
    "            \n",
    "            * {\n",
    "                font-family: 'Montserrat', 'Arial', sans-serif;\n",
    "            }\n",
    "\n",
    "        </style>\n",
    "    \"\"\")"
   ]
  },
  {
   "attachments": {},
   "cell_type": "markdown",
   "metadata": {},
   "source": [
    "## Creazione delle progress bar personalizzate"
   ]
  },
  {
   "cell_type": "code",
   "execution_count": null,
   "metadata": {},
   "outputs": [],
   "source": [
    "bar_format_red = \"{l_bar}\\x1b[31m{bar}\\x1b[0m{r_bar}]\"\n",
    "bar_format_green = \"{l_bar}\\x1b[32m{bar}\\x1b[0m{r_bar}]\"\n",
    "bar_format_yellow = \"{l_bar}\\x1b[33m{bar}\\x1b[0m{r_bar}]\"\n",
    "bar_format_blue = \"{l_bar}\\x1b[34m{bar}\\x1b[0m{r_bar}]\"\n",
    "bar_format_magenta = \"{l_bar}\\x1b[35m{bar}\\x1b[0m{r_bar}]\"\n",
    "bar_format_cyan = \"{l_bar}\\x1b[36m{bar}\\x1b[0m{r_bar}]\""
   ]
  },
  {
   "attachments": {},
   "cell_type": "markdown",
   "metadata": {},
   "source": [
    "# <center id='paragrafo_9'> <strong> APPROCCIO 2D </strong> </center>\n",
    "---"
   ]
  },
  {
   "attachments": {},
   "cell_type": "markdown",
   "metadata": {},
   "source": [
    "In parallelo al secondo approccio con **U-Net 3D** abbiamo deciso, vista la poca quantità di volumi, di tentare anche un approccio bidimensionale "
   ]
  },
  {
   "attachments": {},
   "cell_type": "markdown",
   "metadata": {},
   "source": [
    "## Generazione del dataset"
   ]
  },
  {
   "attachments": {},
   "cell_type": "markdown",
   "metadata": {},
   "source": [
    "Al fine di poter caricare il dataset su una piattaforma di cloud computing come Kaggle o Colab, abbiamo deciso di generare il dataset in locale e di comprimerlo in un archivio zip, di dimensioni più ridotte e facilmente caricabile sul cloud senza che si verificasse la perdita di immagini."
   ]
  },
  {
   "attachments": {},
   "cell_type": "markdown",
   "metadata": {},
   "source": [
    "### Elenco `import`"
   ]
  },
  {
   "cell_type": "code",
   "execution_count": null,
   "metadata": {},
   "outputs": [],
   "source": [
    "import os\n",
    "import pandas as pd\n",
    "import cv2 as cv\n",
    "import matplotlib.pyplot as plt\n",
    "import numpy as np\n",
    "import zipfile\n",
    "\n",
    "from keras.utils import to_categorical\n",
    "from sklearn.model_selection import train_test_split\n",
    "from tqdm import tqdm"
   ]
  },
  {
   "attachments": {},
   "cell_type": "markdown",
   "metadata": {},
   "source": [
    "### Elenco `path`"
   ]
  },
  {
   "cell_type": "code",
   "execution_count": null,
   "metadata": {},
   "outputs": [],
   "source": [
    "DATAFRAMES_DIR = os.path.join('./dataframes/')\n",
    "DATASET_2D_DIR = os.path.join('./dataset_2D/')\n",
    "\n",
    "TRAINING_DIR = os.path.join(f'{DATASET_2D_DIR}train/')\n",
    "SLICES_TRAIN_DIR = os.path.join(f'{TRAINING_DIR}slices/')\n",
    "MASKS_TRAIN_DIR = os.path.join(f'{TRAINING_DIR}masks/')\n",
    "\n",
    "TEST_DIR = os.path.join(f'{DATASET_2D_DIR}test/')\n",
    "SLICES_TEST_DIR = os.path.join(f'{TEST_DIR}slices/')\n",
    "MASKS_TEST_DIR = os.path.join(f'{TEST_DIR}masks/')\n",
    "\n",
    "VALIDATION_DIR = os.path.join(f'{DATASET_2D_DIR}validation/')\n",
    "SLICES_VALIDATION_DIR = os.path.join(f'{VALIDATION_DIR}slices/')\n",
    "MASKS_VALIDATION_DIR = os.path.join(f'{VALIDATION_DIR}masks/')"
   ]
  },
  {
   "attachments": {},
   "cell_type": "markdown",
   "metadata": {},
   "source": [
    "### Creazione cartelle"
   ]
  },
  {
   "cell_type": "code",
   "execution_count": null,
   "metadata": {},
   "outputs": [],
   "source": [
    "if not os.path.exists(DATASET_2D_DIR):\n",
    "    os.mkdir(DATASET_2D_DIR) \n",
    "    os.mkdir(TRAINING_DIR) \n",
    "    os.mkdir(SLICES_TRAIN_DIR)\n",
    "    os.mkdir(MASKS_TRAIN_DIR)\n",
    "\n",
    "if not os.path.exists(TEST_DIR):\n",
    "    os.mkdir(TEST_DIR) \n",
    "    os.mkdir(SLICES_TEST_DIR)\n",
    "    os.mkdir(MASKS_TEST_DIR)\n",
    "\n",
    "if not os.path.exists(VALIDATION_DIR):\n",
    "    os.mkdir(VALIDATION_DIR) \n",
    "    os.mkdir(SLICES_VALIDATION_DIR)\n",
    "    os.mkdir(MASKS_VALIDATION_DIR)"
   ]
  },
  {
   "attachments": {},
   "cell_type": "markdown",
   "metadata": {},
   "source": [
    "### Considerazioni preliminari"
   ]
  },
  {
   "attachments": {},
   "cell_type": "markdown",
   "metadata": {},
   "source": [
    "Tutte le operazioni di processamento sono servite ad avere immagini della stessa dimensione e con una resa migliore. \n",
    "Nonostante ciò, hanno anche causato un effetto collaterale, per cui le intensità di grigio (che originariamente si attestavano su pochi livelli),\n",
    "sono state *smussate*, nel senso che il ricampionamento dovuto ai cambiamenti di risoluzione spaziale ha alterato alcuni pixel originariamente neri,\n",
    "facendo acquisire loro intensità intermedie rispetto a quelle dei pixel vicini. `BLA BLA BLA`\n",
    "\n",
    "Vediamo un esempio di quanto spiegato:"
   ]
  },
  {
   "cell_type": "code",
   "execution_count": null,
   "metadata": {},
   "outputs": [
    {
     "name": "stdout",
     "output_type": "stream",
     "text": [
      "Numero di classi presenti nella maschera: 157\n",
      "Valori unici presenti nella maschera: [  0   1   2   3   4   5   6   7   8   9  10  11  12  13  14  15  16  18\n",
      "  19  21  22  24  25  27  28  29  30  31  32  34  35  37  38  39  40  41\n",
      "  44  45  46  47  48  50  51  52  53  55  56  57  58  59  60  61  62  63\n",
      "  64  65  66  67  68  69  70  71  72  74  75  77  78  79  80  82  83  84\n",
      "  85  86  87  88  89  90  91  92  93  97  99 101 102 103 107 108 109 111\n",
      " 112 116 117 118 119 121 124 125 126 127 129 130 131 132 134 136 139 140\n",
      " 141 142 143 144 145 147 148 149 150 151 153 154 155 156 157 159 160 163\n",
      " 165 167 168 171 172 176 177 179 180 181 182 183 191 195 200 206 211 214\n",
      " 217 221 222 223 225 228 231 232 236 237 238 239 240]\n"
     ]
    }
   ],
   "source": [
    "img = cv.imread('../mask_slice_0067_266_266_1.50_1.50.png', cv.IMREAD_GRAYSCALE)\n",
    "\n",
    "unique_values = np.unique(img)\n",
    "num_classes = len(unique_values)\n",
    "\n",
    "print(f\"Numero di classi presenti nella maschera: {num_classes}\")\n",
    "print(f\"Valori unici presenti nella maschera: {unique_values}\")"
   ]
  },
  {
   "cell_type": "code",
   "execution_count": null,
   "metadata": {},
   "outputs": [
    {
     "name": "stdout",
     "output_type": "stream",
     "text": [
      "Numero di classi presenti nelle maschere: 4\n",
      "Valori unici presenti nelle maschere: [0 1 2 3]\n"
     ]
    }
   ],
   "source": [
    "new_img = np.zeros_like(img)\n",
    "\n",
    "new_img[img == 0] = 0\n",
    "new_img[img == 80] = 1\n",
    "new_img[img == 160] = 2\n",
    "new_img[img == 240] = 3\n",
    "\n",
    "unique_values = np.unique(new_img)\n",
    "num_classes = len(unique_values)\n",
    "\n",
    "print(f\"Numero di classi presenti nelle maschere: {num_classes}\")\n",
    "print(f\"Valori unici presenti nelle maschere: {unique_values}\")"
   ]
  },
  {
   "attachments": {},
   "cell_type": "markdown",
   "metadata": {},
   "source": [
    "Così facendo, abbiamo potuto usare la funzione `to_categorical` del modulo `keras.utils` per convertire un array di etichette in formato numerico in una matrice binaria.\n",
    "\n",
    "Questa funzione prende come **input** un **array di etichette numeriche** (nel nostro caso [0, 1, 2, 3]) e il **numero totale di classi possibili** (4), e restituisce in **output** una **matrice binaria** in cui ogni riga rappresenta un'etichetta e ogni colonna rappresenta una classe. \n",
    "\n",
    "L'elemento nella posizione **[i, j]** della matrice binaria è impostato su 1 se l'etichetta i-esima corrisponde alla classe j-esima, altrimenti è impostato su 0.\n",
    "\n",
    "Di seguito, mostriamo un esempio di quanto esposto."
   ]
  },
  {
   "cell_type": "code",
   "execution_count": null,
   "metadata": {},
   "outputs": [
    {
     "name": "stdout",
     "output_type": "stream",
     "text": [
      "(256, 256, 4)\n"
     ]
    },
    {
     "data": {
      "image/png": "[encoded data removed]",
      "text/plain": [
       "<Figure size 1000x1000 with 4 Axes>"
      ]
     },
     "metadata": {},
     "output_type": "display_data"
    }
   ],
   "source": [
    "new_img = to_categorical(np.asarray(new_img), num_classes=4)\n",
    "\n",
    "print(new_img.shape)\n",
    "\n",
    "class_0 = new_img[:, :, 0]\n",
    "class_1 = new_img[:, :, 1]\n",
    "class_2 = new_img[:, :, 2]\n",
    "class_3 = new_img[:, :, 3]\n",
    "\n",
    "fig, axs = plt.subplots(2, 2, figsize=(10, 10))\n",
    "\n",
    "axs[0, 0].imshow(class_0)\n",
    "axs[0, 0].set_title('Classe 0 - Background', fontweight='bold')\n",
    "\n",
    "axs[0, 1].imshow(class_1)\n",
    "axs[0, 1].set_title('Classe 1 - Large Bowel', fontweight='bold')\n",
    "\n",
    "axs[1, 0].imshow(class_2)\n",
    "axs[1, 0].set_title('Classe 2 - Small Bowel', fontweight='bold')\n",
    "\n",
    "axs[1, 1].imshow(class_3)\n",
    "axs[1, 1].set_title('Classe 3 - Stomach', fontweight='bold')\n",
    "\n",
    "plt.axis('off')\n",
    "\n",
    "# Visualizzazione dell'immagine\n",
    "plt.show()"
   ]
  },
  {
   "attachments": {},
   "cell_type": "markdown",
   "metadata": {},
   "source": [
    "Procediamo adesso alla generazione del dataset vera e propria."
   ]
  },
  {
   "cell_type": "code",
   "execution_count": null,
   "metadata": {},
   "outputs": [
    {
     "name": "stderr",
     "output_type": "stream",
     "text": [
      "100%|\u001b[31m██████████\u001b[0m| 16590/16590 [00:13<00:00, 1206.92it/s]]\n",
      "100%|\u001b[34m██████████\u001b[0m| 16590/16590 [00:21<00:00, 775.45it/s]] \n"
     ]
    },
    {
     "name": "stdout",
     "output_type": "stream",
     "text": [
      "(16590, 256, 256)\n",
      "(16590, 256, 256)\n"
     ]
    }
   ],
   "source": [
    "merged_df_w_segmentation = pd.read_csv(f'{DATAFRAMES_DIR}merged_df_w_segmentation.csv')\n",
    "\n",
    "slices = []\n",
    "masks = []\n",
    "\n",
    "for mask in tqdm(merged_df_w_segmentation['mask_path'], bar_format=bar_format_red):\n",
    "    img = cv.imread(mask, cv.IMREAD_GRAYSCALE)\n",
    "    masks.append(img)\n",
    "    \n",
    "for scan in tqdm(merged_df_w_segmentation['slice_path'], bar_format=bar_format_blue):\n",
    "    img = cv.imread(scan, cv.IMREAD_GRAYSCALE)\n",
    "    slices.append(img)\n",
    "    \n",
    "masks = np.array(masks)\n",
    "slices = np.array(slices)\n",
    "\n",
    "new_masks = np.zeros_like(masks)\n",
    "\n",
    "print(masks.shape)\n",
    "print(new_masks.shape)\n",
    "\n",
    "new_masks[masks == 0] = 0\n",
    "new_masks[masks == 80] = 1\n",
    "new_masks[masks == 160] = 2\n",
    "new_masks[masks == 240] = 3"
   ]
  },
  {
   "attachments": {},
   "cell_type": "markdown",
   "metadata": {},
   "source": [
    "### Train/Test/Validation split"
   ]
  },
  {
   "cell_type": "code",
   "execution_count": null,
   "metadata": {},
   "outputs": [
    {
     "name": "stdout",
     "output_type": "stream",
     "text": [
      "Saranno usate \u001b[1;34m2489\u001b[0m coppie (scansione, maschera) come \u001b[1;34mtest set\u001b[0m\n",
      "\n",
      "Saranno usate \u001b[1;34m12690\u001b[0m coppie (scansione, maschera) come \u001b[1;34mtraining set\u001b[0m\n",
      "\n",
      "Saranno usate \u001b[1;34m1411\u001b[0m coppie (scansione, maschera) \u001b[1;34mvalidation set\u001b[0m\n",
      "\n"
     ]
    }
   ],
   "source": [
    "x_train, x_test, y_train, y_test = train_test_split(slices, new_masks, test_size=0.15, random_state=11)\n",
    "  \n",
    "print(f'Saranno usate \\033[1;34m{len(x_test)}\\033[0m coppie (scansione, maschera) come \\033[1;34mtest set\\033[0m\\n')\n",
    "\n",
    "x_train, x_val, y_train, y_val = train_test_split(x_train, y_train, test_size=0.10, random_state=11)\n",
    "\n",
    "print(f'Saranno usate \\033[1;34m{len(x_train)}\\033[0m coppie (scansione, maschera) come \\033[1;34mtraining set\\033[0m\\n')\n",
    "\n",
    "print(f'Saranno usate \\033[1;34m{len(x_val)}\\033[0m coppie (scansione, maschera) \\033[1;34mvalidation set\\033[0m\\n')"
   ]
  },
  {
   "cell_type": "code",
   "execution_count": null,
   "metadata": {},
   "outputs": [
    {
     "name": "stdout",
     "output_type": "stream",
     "text": [
      "\n",
      "Inizio salvataggio \u001b[1;34mtraining set\u001b[0m.\n",
      "\n"
     ]
    },
    {
     "name": "stderr",
     "output_type": "stream",
     "text": [
      "100%|\u001b[34m██████████\u001b[0m| 12690/12690 [00:11<00:00, 1151.27it/s]]\n",
      "100%|\u001b[34m██████████\u001b[0m| 12690/12690 [00:05<00:00, 2332.63it/s]]\n"
     ]
    },
    {
     "name": "stdout",
     "output_type": "stream",
     "text": [
      "\n",
      "Fine salvataggio \u001b[1;34mtraining set\u001b[0m.\n",
      "\n",
      "\n",
      "Inizio salvataggio \u001b[1;32mtest set\u001b[0m.\n",
      "\n"
     ]
    },
    {
     "name": "stderr",
     "output_type": "stream",
     "text": [
      "100%|\u001b[32m██████████\u001b[0m| 2489/2489 [00:02<00:00, 1145.18it/s]]\n",
      "100%|\u001b[32m██████████\u001b[0m| 2489/2489 [00:01<00:00, 2472.24it/s]]\n"
     ]
    },
    {
     "name": "stdout",
     "output_type": "stream",
     "text": [
      "\n",
      "Fine salvataggio \u001b[1;32mtest set\u001b[0m.\n",
      "\n",
      "\n",
      "Inizio salvataggio \u001b[1;31mvalidation set\u001b[0m.\n",
      "\n"
     ]
    },
    {
     "name": "stderr",
     "output_type": "stream",
     "text": [
      "100%|\u001b[31m██████████\u001b[0m| 1411/1411 [00:01<00:00, 1194.53it/s]]\n",
      "100%|\u001b[31m██████████\u001b[0m| 1411/1411 [00:00<00:00, 2367.34it/s]]"
     ]
    },
    {
     "name": "stdout",
     "output_type": "stream",
     "text": [
      "\n",
      "Fine salvataggio \u001b[1;31mvalidation set\u001b[0m.\n",
      "\n"
     ]
    },
    {
     "name": "stderr",
     "output_type": "stream",
     "text": [
      "\n"
     ]
    }
   ],
   "source": [
    "CHUNK_SIZE = 1\n",
    "\n",
    "print(f'\\nInizio salvataggio \\033[1;34mtraining set\\033[0m.\\n')\n",
    "\n",
    "# Salvo i chunk di x_train\n",
    "for i in tqdm(range(0, len(x_train), CHUNK_SIZE), bar_format=bar_format_blue):\n",
    "    chunk = x_train[i:i+CHUNK_SIZE]\n",
    "    filename = os.path.join(SLICES_TRAIN_DIR, f'{i}.png')\n",
    "    chunk = chunk.squeeze()\n",
    "    cv.imwrite(filename, chunk)\n",
    "    \n",
    "# Salvo i chunk di y_train\n",
    "for i in tqdm(range(0, len(y_train), CHUNK_SIZE), bar_format=bar_format_blue):\n",
    "    chunk = y_train[i:i+CHUNK_SIZE]\n",
    "    filename = os.path.join(MASKS_TRAIN_DIR, f'{i}.png')\n",
    "    chunk = chunk.squeeze()\n",
    "    cv.imwrite(filename, chunk)\n",
    "\n",
    "print(f'\\nFine salvataggio \\033[1;34mtraining set\\033[0m.\\n')\n",
    "\n",
    "print(f'\\nInizio salvataggio \\033[1;32mtest set\\033[0m.\\n')\n",
    "\n",
    "# Salvo i chunk di x_test\n",
    "for i in tqdm(range(0, len(x_test), CHUNK_SIZE), bar_format=bar_format_green):\n",
    "    chunk = x_test[i:i+CHUNK_SIZE]\n",
    "    filename = os.path.join(SLICES_TEST_DIR, f'{i}.png')\n",
    "    chunk = chunk.squeeze()\n",
    "    cv.imwrite(filename, chunk)\n",
    "    \n",
    "# Salvo i chunk di y_test\n",
    "for i in tqdm(range(0, len(y_test), CHUNK_SIZE), bar_format=bar_format_green):\n",
    "    chunk = y_test[i:i+CHUNK_SIZE]\n",
    "    filename = os.path.join(MASKS_TEST_DIR, f'{i}.png')\n",
    "    chunk = chunk.squeeze()\n",
    "    cv.imwrite(filename, chunk)\n",
    "    \n",
    "print(f'\\nFine salvataggio \\033[1;32mtest set\\033[0m.\\n')\n",
    "\n",
    "print(f'\\nInizio salvataggio \\033[1;31mvalidation set\\033[0m.\\n')\n",
    "\n",
    "# Salvo i chunk di x_val\n",
    "for i in tqdm(range(0, len(x_val), CHUNK_SIZE), bar_format=bar_format_red):\n",
    "    chunk = x_val[i:i+CHUNK_SIZE]\n",
    "    filename = os.path.join(SLICES_VALIDATION_DIR, f'{i}.png')\n",
    "    chunk = chunk.squeeze()\n",
    "    cv.imwrite(filename, chunk)\n",
    "    \n",
    "# Salvo i chunk di y_val\n",
    "for i in tqdm(range(0, len(y_val), CHUNK_SIZE), bar_format=bar_format_red):\n",
    "    chunk = y_val[i:i+CHUNK_SIZE]\n",
    "    filename = os.path.join(MASKS_VALIDATION_DIR, f'{i}.png')\n",
    "    chunk = chunk.squeeze()\n",
    "    cv.imwrite(filename, chunk)\n",
    "\n",
    "print(f'\\nFine salvataggio \\033[1;31mvalidation set\\033[0m.\\n')"
   ]
  },
  {
   "attachments": {},
   "cell_type": "markdown",
   "metadata": {},
   "source": [
    "### Creazione archivio zip per caricamento sul cloud"
   ]
  },
  {
   "cell_type": "code",
   "execution_count": null,
   "metadata": {},
   "outputs": [],
   "source": [
    "def zipdir(path, ziph):\n",
    "    # Iterate over all the files in the directory and its subdirectories\n",
    "    for root, dirs, files in os.walk(path):\n",
    "        for file in files:\n",
    "            # Add the file to the zip archive\n",
    "            ziph.write(os.path.join(root, file))"
   ]
  },
  {
   "cell_type": "code",
   "execution_count": null,
   "metadata": {},
   "outputs": [
    {
     "name": "stdout",
     "output_type": "stream",
     "text": [
      "Inizio creazione archivio zip\n",
      "Fine creazione archivio zip\n"
     ]
    }
   ],
   "source": [
    "print(f'Inizio creazione archivio zip')\n",
    "# Specifo il nome dell'archivio zip\n",
    "zipfile_name = \"dataset_2D.zip\"\n",
    "\n",
    "# Creo l'archivio zip\n",
    "zipf = zipfile.ZipFile(zipfile_name, 'w', zipfile.ZIP_DEFLATED)\n",
    "zipdir(DATASET_2D_DIR, zipf)\n",
    "zipf.close()\n",
    "print(f'Fine creazione archivio zip')"
   ]
  },
  {
   "attachments": {},
   "cell_type": "markdown",
   "metadata": {},
   "source": [
    "## **U-Net 2D**"
   ]
  },
  {
   "attachments": {},
   "cell_type": "markdown",
   "metadata": {},
   "source": [
    "Analogamente all'approccio 3D, abbiamo deciso di utilizzare la **U-Net 2D**, che ben si presta per la segmentazione di immagini bidimensionali.\n",
    "\n",
    "Per addestrare il modello, sarà necessario definire una funzione di loss appropriata per il problema specifico. \n",
    "Nel nostro caso, la scelta è andata a rocadere sulla **categorical_crossentropy**, largamente utilizzata per la segmentazione multiclasse. \n",
    "Sarà anche necessario utilizzare come ottimizzatore **Adam** per minimizzare la funzione di loss durante l'addestramento.\n",
    "\n",
    "---\n",
    "\n",
    "L'architettura U-Net è composta da un **encoder**, un **bottleneck** e un **decoder**. \n",
    "1. L'encoder è una serie di blocchi convoluzionali seguiti da una max-pooling, che riducono la dimensione della feature map e aumentano il numero di filtri. Questi blocchi catturano le caratteristiche delle immagini di input a diverse scale. La max-pooling riduce la risoluzione spaziale delle feature map, ma mantiene le caratteristiche di alto livello.\n",
    "\n",
    "2. Il bottleneck è un blocco convoluzionale che riduce la dimensione della feature map in modo significativo, ma mantiene le caratteristiche di alto livello. Questo blocco è importante per ridurre il numero di parametri e prevenire l'overfitting.\n",
    "\n",
    "3. Il decoder è una serie di blocchi convoluzionali seguiti da una convoluzione trasposta, che ricostruisce la dimensione della feature map e riduce il numero di filtri. Questi blocchi fondono le informazioni delle feature map di diverse scale e ricostruiscono l'immagine di output. La convoluzione trasposta è utilizzata per aumentare la risoluzione spaziale della feature map.\n",
    "\n",
    "Infine, l'**output** è una convoluzione 2D con un kernel di dimensione $1\\times 1$ e una funzione di attivazione **softmax**, che restituisce una distribuzione di probabilità su tutte le classi di output.\n",
    "\n",
    "Nel nostro caso, l'implementazione del modello è stata **manuale**, basandoci sulla struttura appena descritta, secondo il listato seguente.\n",
    "\n",
    "Per il nostro caso d'uso, abbiamo stabilito che l'`input_shape` predefinito è `(256, 256, 1)`, che indica che l'input è una slice di dimensioni $256\\times 256$ in scala di grigi. Il parametro `num_classes` indica il numero di classi di output, mentre `filters` indica il numero di filtri per ciascuna convoluzione.\n",
    "\n",
    "Tutti gli elementi dei vari layer (`Conv2D`, `MaxPooling2D`, ecc.) sono stati importati dal modulo `keras.layers`, mentre l'oggetto `Input` e il modello vero e proprio `Model` sono stati importati dal modulo `keras`.\n",
    "\n",
    "<br>\n",
    "\n",
    "<center><img src=\"./unet_2D.png\" width=768/></center> \n",
    "\n",
    "<br>"
   ]
  },
  {
   "attachments": {},
   "cell_type": "markdown",
   "metadata": {},
   "source": [
    "### Elenco `import`"
   ]
  },
  {
   "cell_type": "code",
   "execution_count": null,
   "metadata": {},
   "outputs": [],
   "source": [
    "import cv2 as cv\n",
    "import matplotlib.pyplot as plt\n",
    "import numpy as np\n",
    "import os\n",
    "import random\n",
    "import tifffile as tiff\n",
    "\n",
    "from glob import glob\n",
    "from sklearn.model_selection import train_test_split\n",
    "from tqdm import tqdm\n",
    "\n",
    "# Keras\n",
    "from keras import backend as K\n",
    "from keras.callbacks import EarlyStopping, ModelCheckpoint\n",
    "from keras.layers import Activation, BatchNormalization, Concatenate, Conv2D, Conv2DTranspose, Input, MaxPool2D \n",
    "from keras.losses import CategoricalCrossentropy\n",
    "from keras.models import Model\n",
    "from keras.optimizers import Adam\n",
    "from keras.utils import Sequence, to_categorical\n",
    "\n",
    "# TensorFlow\n",
    "import tensorflow as tf\n",
    "from tensorflow.keras.optimizers.schedules import ExponentialDecay"
   ]
  },
  {
   "attachments": {},
   "cell_type": "markdown",
   "metadata": {},
   "source": [
    "### Elenco `path`"
   ]
  },
  {
   "cell_type": "code",
   "execution_count": null,
   "metadata": {},
   "outputs": [],
   "source": [
    "DATASET_DIR = '/kaggle/input/dataset-2d/dataset/'\n",
    "\n",
    "TRAINING_DIR = f'{DATASET_DIR}train/'\n",
    "SLICES_TRAIN_DIR = f'{TRAINING_DIR}slices/'\n",
    "MASKS_TRAIN_DIR = f'{TRAINING_DIR}masks/'\n",
    "\n",
    "VALIDATION_DIR = f'{DATASET_DIR}test/'\n",
    "SLICES_VALIDATION_DIR = f'{VALIDATION_DIR}slices'\n",
    "MASKS_VALIDATION_DIR = f'{VALIDATION_DIR}masks'\n",
    "\n",
    "CHECKPOINT_DIR = '/kaggle/working/model_checkpoint.hdf5'"
   ]
  },
  {
   "attachments": {},
   "cell_type": "markdown",
   "metadata": {},
   "source": [
    "### Modello"
   ]
  },
  {
   "cell_type": "code",
   "execution_count": null,
   "metadata": {},
   "outputs": [],
   "source": [
    "def conv_block(input, num_filters):\n",
    "    x = Conv2D(num_filters, 3, padding=\"same\")(input)\n",
    "    x = BatchNormalization()(x)\n",
    "    x = Activation(\"relu\")(x)\n",
    "\n",
    "    x = Conv2D(num_filters, 3, padding=\"same\")(x)\n",
    "    x = BatchNormalization()(x)\n",
    "    x = Activation(\"relu\")(x)\n",
    "\n",
    "    return x\n",
    "\n",
    "def encoder_block(input, num_filters):\n",
    "    x = conv_block(input, num_filters)\n",
    "    p = MaxPool2D((2, 2))(x)\n",
    "    return x, p\n",
    "\n",
    "def decoder_block(input, skip_features, num_filters):\n",
    "    x = Conv2DTranspose(num_filters, (2, 2), strides=2, padding=\"same\")(input)\n",
    "    x = Concatenate()([x, skip_features])\n",
    "    x = conv_block(x, num_filters)\n",
    "    return x"
   ]
  },
  {
   "cell_type": "code",
   "execution_count": null,
   "metadata": {},
   "outputs": [],
   "source": [
    "# parametri del modello\n",
    "num_classes = 4\n",
    "input_shape = (256,256,1)\n",
    "\n",
    "def unet_2d(input_shape=input_shape, n_classes=num_classes):\n",
    "    inputs = Input(input_shape)\n",
    "\n",
    "    s1, p1 = encoder_block(inputs, 64)\n",
    "    s2, p2 = encoder_block(p1, 128)\n",
    "    s3, p3 = encoder_block(p2, 256)\n",
    "    s4, p4 = encoder_block(p3, 512)\n",
    "\n",
    "    b1 = conv_block(p4, 1024) #Bridge\n",
    "\n",
    "    d1 = decoder_block(b1, s4, 512)\n",
    "    d2 = decoder_block(d1, s3, 256)\n",
    "    d3 = decoder_block(d2, s2, 128)\n",
    "    d4 = decoder_block(d3, s1, 64)\n",
    "\n",
    "    if n_classes == 1:\n",
    "        activation = 'sigmoid'\n",
    "    else:\n",
    "        activation = 'softmax'\n",
    "\n",
    "    outputs = Conv2D(n_classes, 1, padding=\"same\", activation=activation)(d4)  \n",
    "\n",
    "    model = Model(inputs, outputs, name=\"U-Net\")\n",
    "    \n",
    "    return model"
   ]
  },
  {
   "cell_type": "code",
   "execution_count": null,
   "metadata": {},
   "outputs": [
    {
     "name": "stdout",
     "output_type": "stream",
     "text": [
      "Model: \"U-Net\"\n",
      "__________________________________________________________________________________________________\n",
      " Layer (type)                   Output Shape         Param #     Connected to                     \n",
      "==================================================================================================\n",
      " input_1 (InputLayer)           [(None, 256, 256, 1  0           []                               \n",
      "                                )]                                                                \n",
      "                                                                                                  \n",
      " conv2d (Conv2D)                (None, 256, 256, 64  640         ['input_1[0][0]']                \n",
      "                                )                                                                 \n",
      "                                                                                                  \n",
      " batch_normalization (BatchNorm  (None, 256, 256, 64  256        ['conv2d[0][0]']                 \n",
      " alization)                     )                                                                 \n",
      "                                                                                                  \n",
      " activation (Activation)        (None, 256, 256, 64  0           ['batch_normalization[0][0]']    \n",
      "                                )                                                                 \n",
      "                                                                                                  \n",
      " conv2d_1 (Conv2D)              (None, 256, 256, 64  36928       ['activation[0][0]']             \n",
      "                                )                                                                 \n",
      "                                                                                                  \n",
      " batch_normalization_1 (BatchNo  (None, 256, 256, 64  256        ['conv2d_1[0][0]']               \n",
      " rmalization)                   )                                                                 \n",
      "                                                                                                  \n",
      " activation_1 (Activation)      (None, 256, 256, 64  0           ['batch_normalization_1[0][0]']  \n",
      "                                )                                                                 \n",
      "                                                                                                  \n",
      " max_pooling2d (MaxPooling2D)   (None, 128, 128, 64  0           ['activation_1[0][0]']           \n",
      "                                )                                                                 \n",
      "                                                                                                  \n",
      " conv2d_2 (Conv2D)              (None, 128, 128, 12  73856       ['max_pooling2d[0][0]']          \n",
      "                                8)                                                                \n",
      "                                                                                                  \n",
      " batch_normalization_2 (BatchNo  (None, 128, 128, 12  512        ['conv2d_2[0][0]']               \n",
      " rmalization)                   8)                                                                \n",
      "                                                                                                  \n",
      " activation_2 (Activation)      (None, 128, 128, 12  0           ['batch_normalization_2[0][0]']  \n",
      "                                8)                                                                \n",
      "                                                                                                  \n",
      " conv2d_3 (Conv2D)              (None, 128, 128, 12  147584      ['activation_2[0][0]']           \n",
      "                                8)                                                                \n",
      "                                                                                                  \n",
      " batch_normalization_3 (BatchNo  (None, 128, 128, 12  512        ['conv2d_3[0][0]']               \n",
      " rmalization)                   8)                                                                \n",
      "                                                                                                  \n",
      " activation_3 (Activation)      (None, 128, 128, 12  0           ['batch_normalization_3[0][0]']  \n",
      "                                8)                                                                \n",
      "                                                                                                  \n",
      " max_pooling2d_1 (MaxPooling2D)  (None, 64, 64, 128)  0          ['activation_3[0][0]']           \n",
      "                                                                                                  \n",
      " conv2d_4 (Conv2D)              (None, 64, 64, 256)  295168      ['max_pooling2d_1[0][0]']        \n",
      "                                                                                                  \n",
      " batch_normalization_4 (BatchNo  (None, 64, 64, 256)  1024       ['conv2d_4[0][0]']               \n",
      " rmalization)                                                                                     \n",
      "                                                                                                  \n",
      " activation_4 (Activation)      (None, 64, 64, 256)  0           ['batch_normalization_4[0][0]']  \n",
      "                                                                                                  \n",
      " conv2d_5 (Conv2D)              (None, 64, 64, 256)  590080      ['activation_4[0][0]']           \n",
      "                                                                                                  \n",
      " batch_normalization_5 (BatchNo  (None, 64, 64, 256)  1024       ['conv2d_5[0][0]']               \n",
      " rmalization)                                                                                     \n",
      "                                                                                                  \n",
      " activation_5 (Activation)      (None, 64, 64, 256)  0           ['batch_normalization_5[0][0]']  \n",
      "                                                                                                  \n",
      " max_pooling2d_2 (MaxPooling2D)  (None, 32, 32, 256)  0          ['activation_5[0][0]']           \n",
      "                                                                                                  \n",
      " conv2d_6 (Conv2D)              (None, 32, 32, 512)  1180160     ['max_pooling2d_2[0][0]']        \n",
      "                                                                                                  \n",
      " batch_normalization_6 (BatchNo  (None, 32, 32, 512)  2048       ['conv2d_6[0][0]']               \n",
      " rmalization)                                                                                     \n",
      "                                                                                                  \n",
      " activation_6 (Activation)      (None, 32, 32, 512)  0           ['batch_normalization_6[0][0]']  \n",
      "                                                                                                  \n",
      " conv2d_7 (Conv2D)              (None, 32, 32, 512)  2359808     ['activation_6[0][0]']           \n",
      "                                                                                                  \n",
      " batch_normalization_7 (BatchNo  (None, 32, 32, 512)  2048       ['conv2d_7[0][0]']               \n",
      " rmalization)                                                                                     \n",
      "                                                                                                  \n",
      " activation_7 (Activation)      (None, 32, 32, 512)  0           ['batch_normalization_7[0][0]']  \n",
      "                                                                                                  \n",
      " max_pooling2d_3 (MaxPooling2D)  (None, 16, 16, 512)  0          ['activation_7[0][0]']           \n",
      "                                                                                                  \n",
      " conv2d_8 (Conv2D)              (None, 16, 16, 1024  4719616     ['max_pooling2d_3[0][0]']        \n",
      "                                )                                                                 \n",
      "                                                                                                  \n",
      " batch_normalization_8 (BatchNo  (None, 16, 16, 1024  4096       ['conv2d_8[0][0]']               \n",
      " rmalization)                   )                                                                 \n",
      "                                                                                                  \n",
      " activation_8 (Activation)      (None, 16, 16, 1024  0           ['batch_normalization_8[0][0]']  \n",
      "                                )                                                                 \n",
      "                                                                                                  \n",
      " conv2d_9 (Conv2D)              (None, 16, 16, 1024  9438208     ['activation_8[0][0]']           \n",
      "                                )                                                                 \n",
      "                                                                                                  \n",
      " batch_normalization_9 (BatchNo  (None, 16, 16, 1024  4096       ['conv2d_9[0][0]']               \n",
      " rmalization)                   )                                                                 \n",
      "                                                                                                  \n",
      " activation_9 (Activation)      (None, 16, 16, 1024  0           ['batch_normalization_9[0][0]']  \n",
      "                                )                                                                 \n",
      "                                                                                                  \n",
      " conv2d_transpose (Conv2DTransp  (None, 32, 32, 512)  2097664    ['activation_9[0][0]']           \n",
      " ose)                                                                                             \n",
      "                                                                                                  \n",
      " concatenate (Concatenate)      (None, 32, 32, 1024  0           ['conv2d_transpose[0][0]',       \n",
      "                                )                                 'activation_7[0][0]']           \n",
      "                                                                                                  \n",
      " conv2d_10 (Conv2D)             (None, 32, 32, 512)  4719104     ['concatenate[0][0]']            \n",
      "                                                                                                  \n",
      " batch_normalization_10 (BatchN  (None, 32, 32, 512)  2048       ['conv2d_10[0][0]']              \n",
      " ormalization)                                                                                    \n",
      "                                                                                                  \n",
      " activation_10 (Activation)     (None, 32, 32, 512)  0           ['batch_normalization_10[0][0]'] \n",
      "                                                                                                  \n",
      " conv2d_11 (Conv2D)             (None, 32, 32, 512)  2359808     ['activation_10[0][0]']          \n",
      "                                                                                                  \n",
      " batch_normalization_11 (BatchN  (None, 32, 32, 512)  2048       ['conv2d_11[0][0]']              \n",
      " ormalization)                                                                                    \n",
      "                                                                                                  \n",
      " activation_11 (Activation)     (None, 32, 32, 512)  0           ['batch_normalization_11[0][0]'] \n",
      "                                                                                                  \n",
      " conv2d_transpose_1 (Conv2DTran  (None, 64, 64, 256)  524544     ['activation_11[0][0]']          \n",
      " spose)                                                                                           \n",
      "                                                                                                  \n",
      " concatenate_1 (Concatenate)    (None, 64, 64, 512)  0           ['conv2d_transpose_1[0][0]',     \n",
      "                                                                  'activation_5[0][0]']           \n",
      "                                                                                                  \n",
      " conv2d_12 (Conv2D)             (None, 64, 64, 256)  1179904     ['concatenate_1[0][0]']          \n",
      "                                                                                                  \n",
      " batch_normalization_12 (BatchN  (None, 64, 64, 256)  1024       ['conv2d_12[0][0]']              \n",
      " ormalization)                                                                                    \n",
      "                                                                                                  \n",
      " activation_12 (Activation)     (None, 64, 64, 256)  0           ['batch_normalization_12[0][0]'] \n",
      "                                                                                                  \n",
      " conv2d_13 (Conv2D)             (None, 64, 64, 256)  590080      ['activation_12[0][0]']          \n",
      "                                                                                                  \n",
      " batch_normalization_13 (BatchN  (None, 64, 64, 256)  1024       ['conv2d_13[0][0]']              \n",
      " ormalization)                                                                                    \n",
      "                                                                                                  \n",
      " activation_13 (Activation)     (None, 64, 64, 256)  0           ['batch_normalization_13[0][0]'] \n",
      "                                                                                                  \n",
      " conv2d_transpose_2 (Conv2DTran  (None, 128, 128, 12  131200     ['activation_13[0][0]']          \n",
      " spose)                         8)                                                                \n",
      "                                                                                                  \n",
      " concatenate_2 (Concatenate)    (None, 128, 128, 25  0           ['conv2d_transpose_2[0][0]',     \n",
      "                                6)                                'activation_3[0][0]']           \n",
      "                                                                                                  \n",
      " conv2d_14 (Conv2D)             (None, 128, 128, 12  295040      ['concatenate_2[0][0]']          \n",
      "                                8)                                                                \n",
      "                                                                                                  \n",
      " batch_normalization_14 (BatchN  (None, 128, 128, 12  512        ['conv2d_14[0][0]']              \n",
      " ormalization)                  8)                                                                \n",
      "                                                                                                  \n",
      " activation_14 (Activation)     (None, 128, 128, 12  0           ['batch_normalization_14[0][0]'] \n",
      "                                8)                                                                \n",
      "                                                                                                  \n",
      " conv2d_15 (Conv2D)             (None, 128, 128, 12  147584      ['activation_14[0][0]']          \n",
      "                                8)                                                                \n",
      "                                                                                                  \n",
      " batch_normalization_15 (BatchN  (None, 128, 128, 12  512        ['conv2d_15[0][0]']              \n",
      " ormalization)                  8)                                                                \n",
      "                                                                                                  \n",
      " activation_15 (Activation)     (None, 128, 128, 12  0           ['batch_normalization_15[0][0]'] \n",
      "                                8)                                                                \n",
      "                                                                                                  \n",
      " conv2d_transpose_3 (Conv2DTran  (None, 256, 256, 64  32832      ['activation_15[0][0]']          \n",
      " spose)                         )                                                                 \n",
      "                                                                                                  \n",
      " concatenate_3 (Concatenate)    (None, 256, 256, 12  0           ['conv2d_transpose_3[0][0]',     \n",
      "                                8)                                'activation_1[0][0]']           \n",
      "                                                                                                  \n",
      " conv2d_16 (Conv2D)             (None, 256, 256, 64  73792       ['concatenate_3[0][0]']          \n",
      "                                )                                                                 \n",
      "                                                                                                  \n",
      " batch_normalization_16 (BatchN  (None, 256, 256, 64  256        ['conv2d_16[0][0]']              \n",
      " ormalization)                  )                                                                 \n",
      "                                                                                                  \n",
      " activation_16 (Activation)     (None, 256, 256, 64  0           ['batch_normalization_16[0][0]'] \n",
      "                                )                                                                 \n",
      "                                                                                                  \n",
      " conv2d_17 (Conv2D)             (None, 256, 256, 64  36928       ['activation_16[0][0]']          \n",
      "                                )                                                                 \n",
      "                                                                                                  \n",
      " batch_normalization_17 (BatchN  (None, 256, 256, 64  256        ['conv2d_17[0][0]']              \n",
      " ormalization)                  )                                                                 \n",
      "                                                                                                  \n",
      " activation_17 (Activation)     (None, 256, 256, 64  0           ['batch_normalization_17[0][0]'] \n",
      "                                )                                                                 \n",
      "                                                                                                  \n",
      " conv2d_18 (Conv2D)             (None, 256, 256, 4)  260         ['activation_17[0][0]']          \n",
      "                                                                                                  \n",
      "==================================================================================================\n",
      "Total params: 31,054,340\n",
      "Trainable params: 31,042,564\n",
      "Non-trainable params: 11,776\n",
      "__________________________________________________________________________________________________\n"
     ]
    }
   ],
   "source": [
    "# costruiamo il modello\n",
    "unet_2d().summary()"
   ]
  },
  {
   "attachments": {},
   "cell_type": "markdown",
   "metadata": {},
   "source": [
    "### Metriche"
   ]
  },
  {
   "attachments": {},
   "cell_type": "markdown",
   "metadata": {},
   "source": [
    "Per rimanere coerenti ed avere un termine di paragone con l'approccio 3D, abbiamo scelto di utilizzare le stesse metriche proposte in precedenza."
   ]
  },
  {
   "cell_type": "code",
   "execution_count": null,
   "metadata": {},
   "outputs": [],
   "source": [
    "def dice_coefficient(y_true, y_pred, smooth=1, class_labels=[1, 2, 3]):\n",
    "    # If class_labels are provided, select only those classes from the input tensors.\n",
    "    if class_labels is not None:\n",
    "        y_true = tf.gather(y_true, class_labels, axis=-1)\n",
    "        y_pred = tf.gather(y_pred, class_labels, axis=-1)\n",
    "\n",
    "    # Flatten the tensors to compute the intersection and union.\n",
    "    y_true_f = tf.reshape(y_true, [-1])\n",
    "    y_pred_f = tf.reshape(y_pred, [-1])\n",
    "\n",
    "    # Compute the intersection.\n",
    "    intersection = tf.reduce_sum(y_true_f * y_pred_f)\n",
    "\n",
    "    # Compute the union.\n",
    "    union = tf.reduce_sum(y_true_f) + tf.reduce_sum(y_pred_f)\n",
    "\n",
    "    # Compute the Dice coefficient.\n",
    "    dice = (2. * intersection + smooth) / (union + smooth)\n",
    "\n",
    "    return dice\n",
    "\n",
    "def hausdorff_distance(y_true, y_pred):\n",
    "    \n",
    "    K.round(y_pred)\n",
    "    \n",
    "    d_forward = K.sqrt(K.sum(K.square(y_true - y_pred)))\n",
    "    d_backward = K.sqrt(K.sum(K.square(y_pred - y_true)))\n",
    "    return K.maximum(d_forward, d_backward)"
   ]
  },
  {
   "attachments": {},
   "cell_type": "markdown",
   "metadata": {},
   "source": [
    "### Data Generation & Augmentation"
   ]
  },
  {
   "cell_type": "code",
   "execution_count": null,
   "metadata": {},
   "outputs": [],
   "source": [
    "def add_rician_noise(img, noise_std=15):\n",
    "\n",
    "    '''\n",
    "    In questo caso, mean=0 perché il rumore gaussiano che viene generato ha media zero, ovvero è un rumore gaussiano bianco. \n",
    "    Il rumore di Rician viene generato come una combinazione di due rumori gaussiani, quindi se uno di questi rumori ha una \n",
    "    media diversa da zero, il rumore di Rician generato avrà una media diversa da zero. Tuttavia, per la maggior parte delle \n",
    "    applicazioni di aggiunta di rumore, si assume che il rumore abbia una media zero. In questo modo, il rumore aggiunto non \n",
    "    altera la distribuzione dei livelli di grigio dell'immagine originale.\n",
    "    '''\n",
    "\n",
    "    mean = 0\n",
    "\n",
    "    # Generazione del rumore di Rician (rumore gaussiano bianco)\n",
    "    noise = np.random.normal(mean, noise_std, img.shape)\n",
    "    noise = np.abs(noise + 1j * np.random.normal(mean, noise_std, img.shape))\n",
    "    noise = noise / np.sqrt(2)\n",
    "\n",
    "    # Aggiunta del rumore all'immagine\n",
    "    noisy_img = img + noise\n",
    "\n",
    "    return noisy_img\n",
    "\n",
    "def do_data_augmentation(scan:np.ndarray, mask:np.ndarray, debug=False):\n",
    "\n",
    "    \"\"\"\n",
    "    Funzione usata per la data augmentation.\n",
    "\n",
    "    Le trasformazioni avvengono in modo casuale per la coppia (scan, maschera).\n",
    "    Tra le trasformazioni possibili abbiamo:\n",
    "\n",
    "      - Rotazione +/- 15 gradi\n",
    "      - Traslazione +/- 5px\n",
    "      - Flip orizzontale\n",
    "      - Aggiunta del rumore di Rician (solo sulla scan)\n",
    "\n",
    "    Args:\n",
    "      scan (np.ndarray): scan su cui fare la augmentation\n",
    "      mask (np.ndarray): maschere su cui fare la augmentation\n",
    "\n",
    "    Returns:\n",
    "      Coppia (scan, maschera) aumentati\n",
    "\n",
    "    \"\"\"\n",
    "    \n",
    "    data_rotation = round(random.randint(-15, 15))\n",
    "    data_traslation_x = round(random.randint(-5, 5))\n",
    "    data_traslation_y = round(random.randint(-5, 5))\n",
    "    horizontal_flip = round(random.randint(0, 1))\n",
    "    adds_rician_noise = round(random.randint(0, 1))\n",
    "    \n",
    "    if debug is True:\n",
    "        print(f'Rotating of {data_rotation} degrees\\n')\n",
    "        print(f'Translating over (x,y) of ({data_traslation_x, data_traslation_y})\\n')\n",
    "        print(f'Does horizontal flip: {horizontal_flip}\\n')\n",
    "        print(f'Adds Rician noise: {adds_rician_noise}\\n')\n",
    "    \n",
    "    affine_trasl_matrix = np.float32(\n",
    "        [[1,0,data_traslation_x], \n",
    "        [0,1,data_traslation_y]]\n",
    "    )\n",
    "    \n",
    "    # Traslazione\n",
    "    scan = cv.warpAffine(scan, affine_trasl_matrix, (scan.shape[0], scan.shape[1]))\n",
    "    mask = cv.warpAffine(mask, affine_trasl_matrix, (mask.shape[0], mask.shape[1]))\n",
    "\n",
    "    # Rotazione\n",
    "    center = tuple([scan.shape[0]/2, scan.shape[1]/2])\n",
    "    rotation_matrix = cv.getRotationMatrix2D(center, data_rotation, 1.0)\n",
    "    mask = cv.warpAffine(mask, rotation_matrix, (mask.shape[0], mask.shape[1]))\n",
    "\n",
    "    # Flip orizzontale\n",
    "    if horizontal_flip == 1:\n",
    "        scan = cv.flip(scan, 1)\n",
    "        mask = cv.flip(mask, 1)\n",
    "  \n",
    "    # Aggiunta del rumore di Rician\n",
    "    if adds_rician_noise == 1:    \n",
    "        scan = add_rician_noise(scan)\n",
    "\n",
    "    return scan, mask"
   ]
  },
  {
   "cell_type": "code",
   "execution_count": null,
   "metadata": {},
   "outputs": [],
   "source": [
    "BATCH_SIZE = 32\n",
    "\n",
    "class BatchDataGenerator(Sequence):\n",
    "    \n",
    "  def __init__(self, slice_paths, label_paths, batch_size=BATCH_SIZE, img_size=(256, 256), shuffle=True):\n",
    "    self.slice_paths = slice_paths\n",
    "    self.label_paths = label_paths\n",
    "    self.batch_size = batch_size\n",
    "    self.img_size = img_size\n",
    "    self.shuffle = shuffle\n",
    "\n",
    "  def __len__(self):\n",
    "    return int(len(self.slice_paths) // self.batch_size)\n",
    "    \n",
    "  def __getitem__(self, index):\n",
    "    \n",
    "    # (batch_size, 256, 256, 1) -> 1 = scala di grigi  \n",
    "    x = np.empty((self.batch_size, *self.img_size, 1))\n",
    "    # (batch_size, 256, 256, 4) -> 4 = numero delle classi\n",
    "    y = np.empty((self.batch_size, *self.img_size, 4))\n",
    "    \n",
    "    batch_slice_paths = self.slice_paths[index*self.batch_size:(index+1)*self.batch_size]\n",
    "    batch_label_paths = self.label_paths[index*self.batch_size:(index+1)*self.batch_size]\n",
    "    \n",
    "    for i in range(len(batch_slice_paths)):\n",
    "        \n",
    "        # Carica l'immagine e la corrispondente label\n",
    "        img = cv.imread(batch_slice_paths[i], cv.IMREAD_GRAYSCALE)\n",
    "        label = cv.imread(batch_label_paths[i], cv.IMREAD_GRAYSCALE)\n",
    "\n",
    "        moneta = random.randint(0, 1)\n",
    "\n",
    "        if moneta == 0:\n",
    "          # Faccio la data augmentation\n",
    "          img, label = do_data_augmentation(img, label)\n",
    "\n",
    "        # Scaliamo le immagini nel range [0, 1]\n",
    "        img = np.asarray(img).astype(np.float32) / 255\n",
    "\n",
    "        # Impostiamo la shape dei tensori a (256, 256, 1)\n",
    "        img = np.expand_dims(img, -1)\n",
    "\n",
    "        # Convertiamo i vettori delle classi in matrici binarie\n",
    "        label = to_categorical(np.asarray(label), num_classes=4)\n",
    "        # (256, 256, 4)\n",
    "\n",
    "        # Memorizza la slice e l'etichetta nel batch\n",
    "        x[i,] = img\n",
    "        y[i,] = label\n",
    "\n",
    "    return x, y"
   ]
  },
  {
   "attachments": {},
   "cell_type": "markdown",
   "metadata": {},
   "source": [
    "<div style=\"display: flex; align-items: center; text-align: center\">\n",
    "  <img src=\"https://storage.googleapis.com/kaggle-competitions/kaggle/3136/media/kaggle-transparent.svg\" width='18%' height='18%'>\n",
    "  <h3 style=\"margin: 0 0 0 20px;\">Parametri del modello e addestramento</h3>\n",
    "</div>"
   ]
  },
  {
   "cell_type": "code",
   "execution_count": null,
   "metadata": {},
   "outputs": [],
   "source": [
    "train_generator = BatchDataGenerator(\n",
    "    slice_paths = glob('/kaggle/input/dataset-2d/dataset/train/slices/*.png'), \n",
    "    label_paths = glob('/kaggle/input/dataset-2d/dataset/train/masks/*.png')\n",
    ")\n",
    "\n",
    "validation_generator = BatchDataGenerator(\n",
    "    slice_paths = glob('/kaggle/input/dataset-2d/dataset/validation/slices/*.png'), \n",
    "    label_paths = glob('/kaggle/input/dataset-2d/dataset/validation/masks/*.png')\n",
    ")\n",
    "\n",
    "early_stopping = EarlyStopping(\n",
    "  monitor='val_loss', \n",
    "  patience=3, \n",
    "  min_delta=0.05\n",
    ")\n",
    "\n",
    "model_checkpoint = ModelCheckpoint(\n",
    "  filepath = CHECKPOINT_DIR,\n",
    "  monitor = 'val_loss', \n",
    "  save_best_only = True,\n",
    "  save_weights_only = False\n",
    ")\n",
    "\n",
    "initial_learning_rate = 0.0001\n",
    "\n",
    "decayed_lr = ExponentialDecay(\n",
    "    initial_learning_rate, \n",
    "    decay_steps=16, \n",
    "    decay_rate=0.96, \n",
    "    staircase=True\n",
    ")\n",
    "\n",
    "adam = Adam(\n",
    "  learning_rate=decayed_lr\n",
    ")"
   ]
  },
  {
   "cell_type": "code",
   "execution_count": null,
   "metadata": {},
   "outputs": [
    {
     "name": "stdout",
     "output_type": "stream",
     "text": [
      "\n",
      "Caricato il checkpoint in \u001b[1;34m/kaggle/working/model_checkpoint.hdf5\u001b[0m\n",
      "\n",
      "Epoch 1/300\n",
      "396/396 [==============================] - 500s 1s/step - loss: 0.0863 - hausdorff_distance: 302.3775 - dice_coefficient: 0.3219 - val_loss: 0.1131 - val_hausdorff_distance: 341.0198 - val_dice_coefficient: 0.2454\n",
      "Epoch 2/300\n",
      "396/396 [==============================] - 324s 817ms/step - loss: 0.0759 - hausdorff_distance: 287.3172 - dice_coefficient: 0.3960 - val_loss: 0.0740 - val_hausdorff_distance: 285.0484 - val_dice_coefficient: 0.4281\n",
      "Epoch 3/300\n",
      "396/396 [==============================] - 323s 814ms/step - loss: 0.0706 - hausdorff_distance: 278.4435 - dice_coefficient: 0.4359 - val_loss: 0.0742 - val_hausdorff_distance: 283.3763 - val_dice_coefficient: 0.4095\n",
      "Epoch 4/300\n",
      "396/396 [==============================] - 324s 818ms/step - loss: 0.0679 - hausdorff_distance: 274.3944 - dice_coefficient: 0.4564 - val_loss: 0.0681 - val_hausdorff_distance: 274.0427 - val_dice_coefficient: 0.4554\n",
      "\n",
      "Generato checkpoint in \u001b[1;34m/kaggle/working/model_checkpoint.hdf5\u001b[0m\n",
      "\n",
      "\n",
      "Caricato il checkpoint in \u001b[1;34m/kaggle/working/model_checkpoint.hdf5\u001b[0m\n",
      "\n",
      "Epoch 1/300\n",
      "396/396 [==============================] - 339s 850ms/step - loss: 0.0675 - hausdorff_distance: 273.2321 - dice_coefficient: 0.4601 - val_loss: 0.0703 - val_hausdorff_distance: 277.5604 - val_dice_coefficient: 0.4469\n",
      "Epoch 2/300\n",
      "396/396 [==============================] - 338s 853ms/step - loss: 0.0639 - hausdorff_distance: 267.2124 - dice_coefficient: 0.4869 - val_loss: 0.0653 - val_hausdorff_distance: 270.3011 - val_dice_coefficient: 0.4737\n",
      "Epoch 3/300\n",
      "396/396 [==============================] - 343s 864ms/step - loss: 0.0622 - hausdorff_distance: 264.4577 - dice_coefficient: 0.4994 - val_loss: 0.0623 - val_hausdorff_distance: 264.4404 - val_dice_coefficient: 0.4972\n",
      "Epoch 4/300\n",
      "396/396 [==============================] - 337s 851ms/step - loss: 0.0614 - hausdorff_distance: 263.1157 - dice_coefficient: 0.5053 - val_loss: 0.0631 - val_hausdorff_distance: 266.5044 - val_dice_coefficient: 0.4930\n",
      "\n",
      "Generato checkpoint in \u001b[1;34m/kaggle/working/model_checkpoint.hdf5\u001b[0m\n",
      "\n",
      "\n",
      "Caricato il checkpoint in \u001b[1;34m/kaggle/working/model_checkpoint.hdf5\u001b[0m\n",
      "\n",
      "Epoch 1/300\n",
      "396/396 [==============================] - 349s 875ms/step - loss: 0.0617 - hausdorff_distance: 263.5144 - dice_coefficient: 0.5035 - val_loss: 0.0610 - val_hausdorff_distance: 261.9417 - val_dice_coefficient: 0.5149\n",
      "Epoch 2/300\n",
      "197/396 [=============>................] - ETA: 2:47 - loss: 0.0614 - hausdorff_distance: 263.2359 - dice_coefficient: 0.5081"
     ]
    }
   ],
   "source": [
    "num_epochs = 300\n",
    "\n",
    "while True:\n",
    "    \n",
    "    model = unet_2d()\n",
    "\n",
    "    model.compile(optimizer=adam, metrics=[hausdorff_distance, dice_coefficient], loss='categorical_crossentropy')\n",
    "    #model.compile(optimizer=optimizer, metrics=[hausdorff_distance, dice_coefficient], loss='categorical_crossentropy')\n",
    "\n",
    "    if os.path.isfile(CHECKPOINT_DIR):\n",
    "        model.load_weights(CHECKPOINT_DIR)\n",
    "        print(f'\\nCaricato il checkpoint in \\033[1;34m{CHECKPOINT_DIR}\\033[0m\\n')\n",
    "  \n",
    "    # with device('/device:GPU:0'):\n",
    "    history = model.fit(\n",
    "        train_generator,\n",
    "        validation_data=[validation_generator],\n",
    "        epochs=num_epochs,\n",
    "        verbose = 1,\n",
    "      # workers = 2,\n",
    "        callbacks=[early_stopping, model_checkpoint]\n",
    "        #callbacks=[early_stopping, model_checkpoint, lr_callback]\n",
    "      )\n",
    "  \n",
    "    print(f'\\nGenerato checkpoint in \\033[1;34m{CHECKPOINT_DIR}\\033[0m\\n')"
   ]
  },
  {
   "attachments": {},
   "cell_type": "markdown",
   "metadata": {},
   "source": [
    "### Valutazioni sull'addestramento"
   ]
  },
  {
   "attachments": {},
   "cell_type": "markdown",
   "metadata": {},
   "source": [
    "### Test del modello"
   ]
  },
  {
   "attachments": {},
   "cell_type": "markdown",
   "metadata": {},
   "source": [
    "A partire dal modello addestrato, di cui abbiamo salvato il miglior checkpoint, possiamo procedere alla valutazione delle prestazioni in fase di predizione.\n",
    "\n",
    "Per far ciò, ricreiamo lo scheletro del modello (inteso come la dichiarazione e la compilazione dello stesso) e carichiamo i pesi con la funzione `load_weights` dell'oggetto `Model`"
   ]
  },
  {
   "cell_type": "code",
   "execution_count": null,
   "metadata": {},
   "outputs": [],
   "source": [
    "model_path = '/kaggle/working/model_checkpoint.hdf5'\n",
    "\n",
    "model = unet_2d()\n",
    "\n",
    "model.compile(optimizer=adam, metrics=[hausdorff_distance, dice_coefficient], loss='categorical_crossentropy')\n",
    "\n",
    "model.load_weights(model_path)"
   ]
  },
  {
   "attachments": {},
   "cell_type": "markdown",
   "metadata": {},
   "source": [
    "Carichiamo una slice dal test set e la maschera ad esso associata."
   ]
  },
  {
   "cell_type": "code",
   "execution_count": null,
   "metadata": {},
   "outputs": [],
   "source": [
    "mask_test_set = '/kaggle/input/dataset-2d/dataset/test/masks/'\n",
    "slice_test_set = '/kaggle/input/dataset-2d/dataset/test/slices/'\n",
    "\n",
    "slice = cv.imread(f'{slice_test_set}20.png', cv.IMREAD_GRAYSCALE)\n",
    "mask = cv.imread(f'{mask_test_set}20.png', cv.IMREAD_GRAYSCALE)"
   ]
  },
  {
   "attachments": {},
   "cell_type": "markdown",
   "metadata": {},
   "source": [
    "Processiamo slice e maschera allo stesso modo del data generator"
   ]
  },
  {
   "cell_type": "code",
   "execution_count": null,
   "metadata": {},
   "outputs": [],
   "source": [
    "new_mask = np.zeros_like(mask)\n",
    "\n",
    "new_mask[mask == 0] = 0\n",
    "new_mask[mask == 80] = 1\n",
    "new_mask[mask == 160] = 2\n",
    "new_mask[mask == 240] = 3\n",
    "\n",
    "# Scaliamo le immagini nel range [0, 1]\n",
    "slice = np.asarray(slice).astype(np.float32) / 255\n",
    "\n",
    "# Impostiamo la shape dei tensori a (256, 256, 1)\n",
    "slice = np.expand_dims(slice, -1)\n",
    "slice = np.expand_dims(slice, 0)\n",
    "\n",
    "# Convertiamo i vettori delle classi in matrici binarie\n",
    "mask = to_categorical(np.asarray(new_mask), num_classes=4)\n",
    "mask = np.expand_dims(mask, 0)"
   ]
  },
  {
   "attachments": {},
   "cell_type": "markdown",
   "metadata": {},
   "source": [
    "Effettuiamo, quindi, una valutazione delle prestazioni del modello sulla slice e la rispettiva maschera"
   ]
  },
  {
   "cell_type": "code",
   "execution_count": null,
   "metadata": {},
   "outputs": [
    {
     "name": "stdout",
     "output_type": "stream",
     "text": [
      "1/1 [==============================] - 3s 3s/step - loss: 0.0691 - hausdorff_distance: 55.2698 - dice_coefficient: 4.1668e-04\n"
     ]
    },
    {
     "data": {
      "text/plain": [
       "[0.06910017877817154, 55.269775390625, 0.0004166816361248493]"
      ]
     },
     "metadata": {},
     "output_type": "display_data"
    }
   ],
   "source": [
    "model.evaluate(slice, mask, batch_size = 1)"
   ]
  },
  {
   "attachments": {},
   "cell_type": "markdown",
   "metadata": {},
   "source": [
    "Osservando i valori ottenuti, possiamo dedurre che è il modello abbia fatto una discreta previsione della maschera di segmentazione.\n",
    "\n",
    "Passiamo, allora, alla generazione vera e propria della maschera predetta, usando il metodo `predict` dell'oggetto `Model`"
   ]
  },
  {
   "cell_type": "code",
   "execution_count": null,
   "metadata": {},
   "outputs": [
    {
     "name": "stdout",
     "output_type": "stream",
     "text": [
      "1/1 [==============================] - 2s 2s/step\n"
     ]
    }
   ],
   "source": [
    "mask_predict = model.predict(slice, batch_size = 1)[0]"
   ]
  },
  {
   "attachments": {},
   "cell_type": "markdown",
   "metadata": {},
   "source": [
    "Visualizziamo quindi le varie classi della predizione, in modo da poter dare anche una valutazione visiva."
   ]
  },
  {
   "cell_type": "code",
   "execution_count": null,
   "metadata": {},
   "outputs": [
    {
     "data": {
      "image/png": "[encoded data removed]",
      "text/plain": [
       "<Figure size 1000x1000 with 4 Axes>"
      ]
     },
     "metadata": {},
     "output_type": "display_data"
    }
   ],
   "source": [
    "class_0 = mask_predict[:, :, 0]\n",
    "class_1 = mask_predict[:, :, 1]\n",
    "class_2 = mask_predict[:, :, 2]\n",
    "class_3 = mask_predict[:, :, 3]\n",
    "\n",
    "fig, axs = plt.subplots(2, 2, figsize=(10, 10))\n",
    "\n",
    "axs[0, 0].imshow(class_0)\n",
    "axs[0, 0].set_title('Classe 0 - Background', fontweight='bold')\n",
    "\n",
    "axs[0, 1].imshow(class_1)\n",
    "axs[0, 1].set_title('Classe 1 - Large Bowel', fontweight='bold')\n",
    "\n",
    "axs[1, 0].imshow(class_2)\n",
    "axs[1, 0].set_title('Classe 2 - Small Bowel', fontweight='bold')\n",
    "\n",
    "axs[1, 1].imshow(class_3)\n",
    "axs[1, 1].set_title('Classe 3 - Stomach', fontweight='bold')\n",
    "\n",
    "plt.axis('off')\n",
    "\n",
    "# Visualizzazione dell'immagine\n",
    "plt.show()"
   ]
  },
  {
   "attachments": {},
   "cell_type": "markdown",
   "metadata": {},
   "source": [
    "Come si può notare, le classi di interesse hanno dei contorni \"sfocati\": questo avviene perchè l'output della rete è una distribuzione di probabilità per ogni pixel che ne indica l'appartenenza a una delle quattro classi. \n",
    "\n",
    "Usiamo quindi la funzione `argmax` di NumPy per generare un'immagine in cui ogni pixel è assegnato alla classe più probabile."
   ]
  },
  {
   "cell_type": "code",
   "execution_count": null,
   "metadata": {},
   "outputs": [],
   "source": [
    "predicted_classes = np.argmax(mask_predict, axis=-1)"
   ]
  },
  {
   "attachments": {},
   "cell_type": "markdown",
   "metadata": {},
   "source": [
    "Possiamo, arrivati a questo punto, confrontare il risultato della predizione con la ground truth con l'ausilio del modulo `pyplot` di `matplotlib`."
   ]
  },
  {
   "cell_type": "code",
   "execution_count": null,
   "metadata": {},
   "outputs": [
    {
     "data": {
      "image/png": "[encoded data removed]",
      "text/plain": [
       "<Figure size 1000x1000 with 2 Axes>"
      ]
     },
     "metadata": {},
     "output_type": "display_data"
    }
   ],
   "source": [
    "ground_truth = cv.imread(f'{mask_test_set}20.png', cv.IMREAD_GRAYSCALE)\n",
    "\n",
    "fig, axs = plt.subplots(1, 2, figsize=(10, 10))\n",
    "\n",
    "axs[0].imshow(predicted_classes)\n",
    "axs[0].set_title('Predicted Mask', fontweight='bold')\n",
    "\n",
    "axs[1].imshow(ground_truth)\n",
    "axs[1].set_title('Ground Truth', fontweight='bold')\n",
    "\n",
    "plt.show()"
   ]
  },
  {
   "attachments": {},
   "cell_type": "markdown",
   "metadata": {},
   "source": [
    "<style>\n",
    "  footer {\n",
    "    color: #0f5b99;\n",
    "    background-color: #f7f7f7;\n",
    "    display: flex;\n",
    "    justify-content: space-between;\n",
    "    align-items: center;\n",
    "    padding: 10px;\n",
    "    box-shadow: 0 2px 4px rgba(0,0,0,0.2);\n",
    "  }\n",
    "  \n",
    "  footer p {\n",
    "    font-family: 'Montserrat', 'Arial', sans-serif;\n",
    "    font-size: 16px;\n",
    "    margin: 10px;\n",
    "    text-shadow: 1px 1px #f7f7f7;\n",
    "  }\n",
    "  \n",
    "  .team {\n",
    "    text-align: left;\n",
    "  }\n",
    "  \n",
    "  .subject {\n",
    "    text-align: center;\n",
    "  }\n",
    "  \n",
    "  .professor {\n",
    "    text-align: right;\n",
    "  }\n",
    "</style>\n",
    "<a href=\"#inizio\">\n",
    "  <footer>\n",
    "    <p class=\"team\"><strong>Vincenzo Fardella</strong> & <strong>Mario Tortorici</strong></p>\n",
    "    <p class=\"subject\"><strong>Big Data</strong> &copy; <strong>2023</strong></p>\n",
    "    <p class=\"professor\">Prof. <strong>Roberto Pirrone</strong></p>\n",
    "  </footer>\n",
    "</a>"
   ]
  }
 ],
 "metadata": {
  "kernelspec": {
   "display_name": "big_data",
   "language": "python",
   "name": "python3"
  },
  "language_info": {
   "codemirror_mode": {
    "name": "ipython",
    "version": 3
   },
   "file_extension": ".py",
   "mimetype": "text/x-python",
   "name": "python",
   "nbconvert_exporter": "python",
   "pygments_lexer": "ipython3",
   "version": "3.10.6"
  },
  "orig_nbformat": 4
 },
 "nbformat": 4,
 "nbformat_minor": 2
}
