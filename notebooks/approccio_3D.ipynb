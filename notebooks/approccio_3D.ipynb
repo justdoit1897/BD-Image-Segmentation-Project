{
 "cells": [
  {
   "attachments": {},
   "cell_type": "markdown",
   "metadata": {},
   "source": [
    "<style>\n",
    "  .navbar {\n",
    "    background-color: #f7f7f7;\n",
    "    display: flex;\n",
    "    justify-content: space-between;\n",
    "    align-items: center;\n",
    "    overflow: hidden;\n",
    "    font-family: 'Montserrat', 'Arial', sans-serif;\n",
    "    padding: 10px;\n",
    "    height: 90px;\n",
    "    box-shadow: 0 2px 4px rgba(0,0,0,0.2);\n",
    "  }\n",
    "\n",
    "  .navbar a {\n",
    "    font-size: 18px;\n",
    "    text-align: center;\n",
    "    padding: 14px 16px;\n",
    "    text-decoration: none;\n",
    "    transition: color 0.3s ease-in-out;\n",
    "    color: #0f5b99\n",
    "  }\n",
    "\n",
    "  .navbar a:hover {\n",
    "    background-color: #eaeaea;\n",
    "    color: #ff5500;\n",
    "  }\n",
    "\n",
    "  .navbar img {\n",
    "    height: 'auto';\n",
    "    width: 300px\n",
    "  }\n",
    "</style>\n",
    "\n",
    "<div class=\"navbar\" id=\"inizio\">\n",
    "  <a href=\"descrizione_problema.ipynb\">Descrizione del problema</a>\n",
    "  <a href=\"data_preprocessing.ipynb\">Data Preprocessing</a>\n",
    "  <a href=\"approccio_3D.ipynb\">Approccio 3D</a>\n",
    "  <a href=\"approccio_2D.ipynb\">Approccio 2D</a>\n",
    "  <a href=\"https://www.unipa.it\"><img src=\"https://www.unipa.it/redazioneweb/.content/immagini/logo-unipa-2020.png\"></a>\n",
    "</div>\n"
   ]
  },
  {
   "attachments": {},
   "cell_type": "markdown",
   "metadata": {},
   "source": [
    "# <strong> <center> STYLING DEL NOTEBOOK </center> </strong>\n",
    "---"
   ]
  },
  {
   "cell_type": "code",
   "execution_count": null,
   "metadata": {},
   "outputs": [
    {
     "data": {
      "text/html": [
       "\n",
       "        <style>\n",
       "            @import url('https://fonts.googleapis.com/css?family=Montserrat&display=swap');\n",
       "            \n",
       "            * {\n",
       "                font-family: 'Montserrat', 'Arial', sans-serif;\n",
       "                text-align: left;\n",
       "                line-height: 2em;\n",
       "            }\n",
       "\n",
       "        </style>\n",
       "    "
      ],
      "text/plain": [
       "<IPython.core.display.HTML object>"
      ]
     },
     "metadata": {},
     "output_type": "display_data"
    }
   ],
   "source": [
    "from IPython.core.display import HTML\n",
    "\n",
    "HTML(\"\"\"\n",
    "        <style>\n",
    "            @import url('https://fonts.googleapis.com/css?family=Montserrat&display=swap');\n",
    "            \n",
    "            * {\n",
    "                font-family: 'Montserrat', 'Arial', sans-serif;\n",
    "                text-align: left;\n",
    "                line-height: 2em;\n",
    "            }\n",
    "\n",
    "        </style>\n",
    "    \"\"\")"
   ]
  },
  {
   "attachments": {},
   "cell_type": "markdown",
   "metadata": {},
   "source": [
    "## Creazione delle progress bar personalizzate"
   ]
  },
  {
   "cell_type": "code",
   "execution_count": null,
   "metadata": {},
   "outputs": [],
   "source": [
    "bar_format_red = \"{l_bar}\\x1b[31m{bar}\\x1b[0m{r_bar}]\"\n",
    "bar_format_green = \"{l_bar}\\x1b[32m{bar}\\x1b[0m{r_bar}]\"\n",
    "bar_format_yellow = \"{l_bar}\\x1b[33m{bar}\\x1b[0m{r_bar}]\"\n",
    "bar_format_blue = \"{l_bar}\\x1b[34m{bar}\\x1b[0m{r_bar}]\"\n",
    "bar_format_magenta = \"{l_bar}\\x1b[35m{bar}\\x1b[0m{r_bar}]\"\n",
    "bar_format_cyan = \"{l_bar}\\x1b[36m{bar}\\x1b[0m{r_bar}]\""
   ]
  },
  {
   "attachments": {},
   "cell_type": "markdown",
   "metadata": {},
   "source": [
    "# <center id='paragrafo_8'> <strong> APPROCCIO 3D </strong> </center>\n",
    "---"
   ]
  },
  {
   "attachments": {},
   "cell_type": "markdown",
   "metadata": {},
   "source": [
    "## Generazione dei volumi"
   ]
  },
  {
   "attachments": {},
   "cell_type": "markdown",
   "metadata": {},
   "source": [
    "BLA BLA BLA\n",
    "Non disponendo delle risorse di calcolo adeguate ai fini di un addestramento di una rete neurale, abbiamo deciso di proseguire la fase di trainig su **Google Colab**, ... \n",
    "\n",
    "Per poter esportare i volumi preprocessati senza perdita di informazione, abbiamo deciso di utilizzare un formato particolare, che ci consentisse di risparmiare memoria, BLA BLA BLA\n",
    "\n",
    "Il formato in questione è il `*.tiff`, BLA BLA BLA"
   ]
  },
  {
   "attachments": {},
   "cell_type": "markdown",
   "metadata": {},
   "source": [
    "La generazione dei volumi prevede che:\n",
    "\n",
    "1. Per ogni **gruppo** individuato:\n",
    "\n",
    "    1. Per ogni **riga** del gruppo:\n",
    "\n",
    "        1. Si carichi l'immagine di riferimento (scansione o maschera);\n",
    "\n",
    "        2. Si ridimensioni l'immagine nella forma desiderata (qui $128\\times 128$);\n",
    "\n",
    "        3. Si agganci l'immagine ridimensionata in una lista di immagini.\n",
    "        \n",
    "2. Si salvi la lista di immagini in formato `TIFF`.\n",
    "\n",
    "Per il salvataggio del volume, volendo minimizzare la dimensione dei file risultanti, abbiamo pensato fosse opportuno aggiungere un grado di compressione, ottenuto molto semplicemente aggiungendo il parametro `compression` al metodo `write` e impostandolo a `(DEFLATE, 6)`."
   ]
  },
  {
   "attachments": {},
   "cell_type": "markdown",
   "metadata": {},
   "source": [
    "### Elenco `import`"
   ]
  },
  {
   "cell_type": "code",
   "execution_count": null,
   "metadata": {},
   "outputs": [],
   "source": [
    "import os\n",
    "import pandas as pd\n",
    "import cv2\n",
    "import numpy as np\n",
    "import tifffile as tiff\n",
    "\n",
    "from tqdm import tqdm"
   ]
  },
  {
   "attachments": {},
   "cell_type": "markdown",
   "metadata": {},
   "source": [
    "### Elenco `path`"
   ]
  },
  {
   "cell_type": "code",
   "execution_count": null,
   "metadata": {},
   "outputs": [],
   "source": [
    "DATAFRAME_PATH = './dataframes/merged_df_w_segmentation.csv'\n",
    "VOLUMES_PATH = './dataset/'"
   ]
  },
  {
   "attachments": {},
   "cell_type": "markdown",
   "metadata": {},
   "source": [
    "### Creazione cartelle"
   ]
  },
  {
   "attachments": {},
   "cell_type": "markdown",
   "metadata": {},
   "source": [
    "Per automatizzare il processo di generazione di cartelle e sotto-cartelle, utilizziamo la libreria `os` per effettuare dei semplici controlli e, dipendentemente dall'esito, procedere alla creazione della struttura delle directory."
   ]
  },
  {
   "cell_type": "code",
   "execution_count": null,
   "metadata": {},
   "outputs": [],
   "source": [
    "if not os.path.isdir(VOLUMES_PATH):\n",
    "    os.mkdir(VOLUMES_PATH)\n",
    "    \n",
    "if not os.path.isdir(VOLUMES_PATH + 'slices'):\n",
    "    os.mkdir(VOLUMES_PATH + 'slices')\n",
    "    \n",
    "if not os.path.isdir(VOLUMES_PATH + 'masks'):    \n",
    "    os.mkdir(VOLUMES_PATH + 'masks')"
   ]
  },
  {
   "attachments": {},
   "cell_type": "markdown",
   "metadata": {},
   "source": [
    "### Elenco costanti"
   ]
  },
  {
   "cell_type": "code",
   "execution_count": null,
   "metadata": {},
   "outputs": [],
   "source": [
    "IMG_W = 128\n",
    "IMG_H = 128"
   ]
  },
  {
   "attachments": {},
   "cell_type": "markdown",
   "metadata": {},
   "source": [
    "Successivamente, si apre il dataframe associato al dataset privo di tutte le scansioni a segmentazione nulla e si raggruppano le righe per caso clinico e giornata di osservazione."
   ]
  },
  {
   "cell_type": "code",
   "execution_count": null,
   "metadata": {},
   "outputs": [],
   "source": [
    "merged_df = pd.read_csv(DATAFRAME_PATH)\n",
    "\n",
    "merged_df = merged_df.groupby(['case_id', 'day_id'])"
   ]
  },
  {
   "attachments": {},
   "cell_type": "markdown",
   "metadata": {},
   "source": [
    "### Scansioni"
   ]
  },
  {
   "cell_type": "code",
   "execution_count": null,
   "metadata": {},
   "outputs": [
    {
     "name": "stdout",
     "output_type": "stream",
     "text": [
      "Inizio Creazione \u001b[1;34mVolumi Slice\u001b[0m\n",
      "\n"
     ]
    },
    {
     "name": "stderr",
     "output_type": "stream",
     "text": [
      "100%|\u001b[34m██████████\u001b[0m| 274/274 [00:18<00:00, 14.82it/s]]"
     ]
    },
    {
     "name": "stdout",
     "output_type": "stream",
     "text": [
      "\n",
      "Fine Creazione \u001b[1;34mVolumi Slice\u001b[0m\n",
      "\n"
     ]
    },
    {
     "name": "stderr",
     "output_type": "stream",
     "text": [
      "\n"
     ]
    }
   ],
   "source": [
    "print(f'Inizio Creazione \\033[1;34mVolumi Slice\\033[0m\\n')\n",
    "\n",
    "for group, group_df in tqdm(merged_df, total=len(merged_df), bar_format=bar_format_blue):\n",
    "    case_id = group_df['case_id'].values[0]\n",
    "    day_id = group_df['day_id'].values[0]\n",
    "    volume = []\n",
    "    for loop_index, (row_index, row) in enumerate(group_df.iterrows()):\n",
    "        if loop_index == 0:\n",
    "            width = row['width']\n",
    "            height = row['height']\n",
    "        img = cv2.resize(cv2.imread(row['path'], cv2.IMREAD_GRAYSCALE), (IMG_W, IMG_H))        \n",
    "        volume.append(img)\n",
    "    depth = len(group_df)\n",
    "        \n",
    "    with tiff.TiffWriter(f\"{VOLUMES_PATH}slices/volume_{case_id}_{day_id}_128_128_{depth}.tif\", bigtiff=True) as tif:    \n",
    "        tif.write(np.array(volume), compression=('DEFLATE', 6))\n",
    "\n",
    "print(f'\\nFine Creazione \\033[1;34mVolumi Slice\\033[0m\\n')"
   ]
  },
  {
   "attachments": {},
   "cell_type": "markdown",
   "metadata": {},
   "source": [
    "### Maschere"
   ]
  },
  {
   "cell_type": "code",
   "execution_count": null,
   "metadata": {},
   "outputs": [
    {
     "name": "stdout",
     "output_type": "stream",
     "text": [
      "Inizio Creazione \u001b[1;32mVolumi Maschere\u001b[0m\n",
      "\n"
     ]
    },
    {
     "name": "stderr",
     "output_type": "stream",
     "text": [
      "100%|\u001b[32m██████████\u001b[0m| 274/274 [00:08<00:00, 34.10it/s]]"
     ]
    },
    {
     "name": "stdout",
     "output_type": "stream",
     "text": [
      "\n",
      "Fine Creazione \u001b[1;32mVolumi Maschere\u001b[0m\n",
      "\n"
     ]
    },
    {
     "name": "stderr",
     "output_type": "stream",
     "text": [
      "\n"
     ]
    }
   ],
   "source": [
    "print(f'Inizio Creazione \\033[1;32mVolumi Maschere\\033[0m\\n')\n",
    "\n",
    "for group, group_df in tqdm(merged_df, total=len(merged_df), bar_format=bar_format_green):\n",
    "    case_id = group_df['case_id'].values[0]\n",
    "    day_id = group_df['day_id'].values[0]    \n",
    "    volume = []\n",
    "    \n",
    "    for loop_index, (row_index, row) in enumerate(group_df.iterrows()):\n",
    "        if loop_index == 0:\n",
    "            width = row['width']\n",
    "            height = row['height']\n",
    "        img = cv2.resize(cv2.imread(row['mask_path'], cv2.IMREAD_GRAYSCALE), (IMG_W, IMG_H))\n",
    "        volume.append(img)\n",
    "    depth = len(group_df)\n",
    "        \n",
    "    with tiff.TiffWriter(f\"{VOLUMES_PATH}masks/volume_{case_id}_{day_id}_128_128_{depth}.tif\", bigtiff=True) as tif:    \n",
    "        tif.write(np.array(volume), compression=('DEFLATE', 6))\n",
    "\n",
    "print(f'\\nFine Creazione \\033[1;32mVolumi Maschere\\033[0m\\n')"
   ]
  },
  {
   "attachments": {},
   "cell_type": "markdown",
   "metadata": {},
   "source": [
    "## Considerazioni preliminari"
   ]
  },
  {
   "attachments": {},
   "cell_type": "markdown",
   "metadata": {},
   "source": [
    "A seguito dello studio effettuato per la struttura di rete Unet, abbiamo scoperto come questa fosse capace di gestire volumi di profondità variabile. Abbiamo cercato di capire, allora, se le profondità dei volumi fossero particolarmente soggette a variazioni, per cui abbiamo condotto un'analisi statistica \n",
    "\n",
    "Inizialmente abbiamo caricato il dataframe generato in fase di data preprocessing:"
   ]
  },
  {
   "cell_type": "code",
   "execution_count": null,
   "metadata": {},
   "outputs": [
    {
     "name": "stdout",
     "output_type": "stream",
     "text": [
      "DATAFRAME ORIGINALE:\n",
      "\n"
     ]
    },
    {
     "data": {
      "text/html": [
       "\n",
       "  <div id=\"df-678542f4-221c-4e5d-8351-23cfd55f2538\">\n",
       "    <div class=\"colab-df-container\">\n",
       "      <div>\n",
       "<style scoped>\n",
       "    .dataframe tbody tr th:only-of-type {\n",
       "        vertical-align: middle;\n",
       "    }\n",
       "\n",
       "    .dataframe tbody tr th {\n",
       "        vertical-align: top;\n",
       "    }\n",
       "\n",
       "    .dataframe thead th {\n",
       "        text-align: right;\n",
       "    }\n",
       "</style>\n",
       "<table border=\"1\" class=\"dataframe\">\n",
       "  <thead>\n",
       "    <tr style=\"text-align: right;\">\n",
       "      <th></th>\n",
       "      <th>id</th>\n",
       "      <th>case_id</th>\n",
       "      <th>day_id</th>\n",
       "      <th>slice_id</th>\n",
       "      <th>class</th>\n",
       "      <th>segmentation</th>\n",
       "      <th>path</th>\n",
       "      <th>mask_path</th>\n",
       "      <th>slice_name</th>\n",
       "      <th>width</th>\n",
       "      <th>height</th>\n",
       "      <th>width_px</th>\n",
       "      <th>height_px</th>\n",
       "      <th>is_created_mask</th>\n",
       "      <th>is_equalized</th>\n",
       "      <th>white_pixels</th>\n",
       "      <th>black_pixels</th>\n",
       "      <th>white_px/black_px</th>\n",
       "    </tr>\n",
       "  </thead>\n",
       "  <tbody>\n",
       "    <tr>\n",
       "      <th>0</th>\n",
       "      <td>case2_day1_slice_0001</td>\n",
       "      <td>2</td>\n",
       "      <td>1</td>\n",
       "      <td>1</td>\n",
       "      <td>(0, 1, 2)</td>\n",
       "      <td>(nan, nan, nan)</td>\n",
       "      <td>../BD-Image-Segmentation-Comp/train/case2/case...</td>\n",
       "      <td>../BD-Image-Segmentation-Comp/train/case2/case...</td>\n",
       "      <td>slice_0001_266_266_1.50_1.50.png</td>\n",
       "      <td>266</td>\n",
       "      <td>266</td>\n",
       "      <td>1.5</td>\n",
       "      <td>1.5</td>\n",
       "      <td>True</td>\n",
       "      <td>True</td>\n",
       "      <td>62.0</td>\n",
       "      <td>70694.0</td>\n",
       "      <td>0.000877</td>\n",
       "    </tr>\n",
       "    <tr>\n",
       "      <th>1</th>\n",
       "      <td>case2_day1_slice_0002</td>\n",
       "      <td>2</td>\n",
       "      <td>1</td>\n",
       "      <td>2</td>\n",
       "      <td>(0, 1, 2)</td>\n",
       "      <td>(nan, nan, nan)</td>\n",
       "      <td>../BD-Image-Segmentation-Comp/train/case2/case...</td>\n",
       "      <td>../BD-Image-Segmentation-Comp/train/case2/case...</td>\n",
       "      <td>slice_0002_266_266_1.50_1.50.png</td>\n",
       "      <td>266</td>\n",
       "      <td>266</td>\n",
       "      <td>1.5</td>\n",
       "      <td>1.5</td>\n",
       "      <td>True</td>\n",
       "      <td>True</td>\n",
       "      <td>63.0</td>\n",
       "      <td>70693.0</td>\n",
       "      <td>0.000891</td>\n",
       "    </tr>\n",
       "    <tr>\n",
       "      <th>2</th>\n",
       "      <td>case2_day1_slice_0003</td>\n",
       "      <td>2</td>\n",
       "      <td>1</td>\n",
       "      <td>3</td>\n",
       "      <td>(0, 1, 2)</td>\n",
       "      <td>(nan, nan, nan)</td>\n",
       "      <td>../BD-Image-Segmentation-Comp/train/case2/case...</td>\n",
       "      <td>../BD-Image-Segmentation-Comp/train/case2/case...</td>\n",
       "      <td>slice_0003_266_266_1.50_1.50.png</td>\n",
       "      <td>266</td>\n",
       "      <td>266</td>\n",
       "      <td>1.5</td>\n",
       "      <td>1.5</td>\n",
       "      <td>True</td>\n",
       "      <td>True</td>\n",
       "      <td>74.0</td>\n",
       "      <td>70682.0</td>\n",
       "      <td>0.001047</td>\n",
       "    </tr>\n",
       "    <tr>\n",
       "      <th>3</th>\n",
       "      <td>case2_day1_slice_0004</td>\n",
       "      <td>2</td>\n",
       "      <td>1</td>\n",
       "      <td>4</td>\n",
       "      <td>(0, 1, 2)</td>\n",
       "      <td>(nan, nan, nan)</td>\n",
       "      <td>../BD-Image-Segmentation-Comp/train/case2/case...</td>\n",
       "      <td>../BD-Image-Segmentation-Comp/train/case2/case...</td>\n",
       "      <td>slice_0004_266_266_1.50_1.50.png</td>\n",
       "      <td>266</td>\n",
       "      <td>266</td>\n",
       "      <td>1.5</td>\n",
       "      <td>1.5</td>\n",
       "      <td>True</td>\n",
       "      <td>True</td>\n",
       "      <td>78.0</td>\n",
       "      <td>70678.0</td>\n",
       "      <td>0.001104</td>\n",
       "    </tr>\n",
       "    <tr>\n",
       "      <th>4</th>\n",
       "      <td>case2_day1_slice_0005</td>\n",
       "      <td>2</td>\n",
       "      <td>1</td>\n",
       "      <td>5</td>\n",
       "      <td>(0, 1, 2)</td>\n",
       "      <td>(nan, nan, nan)</td>\n",
       "      <td>../BD-Image-Segmentation-Comp/train/case2/case...</td>\n",
       "      <td>../BD-Image-Segmentation-Comp/train/case2/case...</td>\n",
       "      <td>slice_0005_266_266_1.50_1.50.png</td>\n",
       "      <td>266</td>\n",
       "      <td>266</td>\n",
       "      <td>1.5</td>\n",
       "      <td>1.5</td>\n",
       "      <td>True</td>\n",
       "      <td>True</td>\n",
       "      <td>76.0</td>\n",
       "      <td>70680.0</td>\n",
       "      <td>0.001075</td>\n",
       "    </tr>\n",
       "  </tbody>\n",
       "</table>\n",
       "</div>\n",
       "      <button class=\"colab-df-convert\" onclick=\"convertToInteractive('df-678542f4-221c-4e5d-8351-23cfd55f2538')\"\n",
       "              title=\"Convert this dataframe to an interactive table.\"\n",
       "              style=\"display:none;\">\n",
       "        \n",
       "  <svg xmlns=\"http://www.w3.org/2000/svg\" height=\"24px\"viewBox=\"0 0 24 24\"\n",
       "       width=\"24px\">\n",
       "    <path d=\"M0 0h24v24H0V0z\" fill=\"none\"/>\n",
       "    <path d=\"M18.56 5.44l.94 2.06.94-2.06 2.06-.94-2.06-.94-.94-2.06-.94 2.06-2.06.94zm-11 1L8.5 8.5l.94-2.06 2.06-.94-2.06-.94L8.5 2.5l-.94 2.06-2.06.94zm10 10l.94 2.06.94-2.06 2.06-.94-2.06-.94-.94-2.06-.94 2.06-2.06.94z\"/><path d=\"M17.41 7.96l-1.37-1.37c-.4-.4-.92-.59-1.43-.59-.52 0-1.04.2-1.43.59L10.3 9.45l-7.72 7.72c-.78.78-.78 2.05 0 2.83L4 21.41c.39.39.9.59 1.41.59.51 0 1.02-.2 1.41-.59l7.78-7.78 2.81-2.81c.8-.78.8-2.07 0-2.86zM5.41 20L4 18.59l7.72-7.72 1.47 1.35L5.41 20z\"/>\n",
       "  </svg>\n",
       "      </button>\n",
       "      \n",
       "  <style>\n",
       "    .colab-df-container {\n",
       "      display:flex;\n",
       "      flex-wrap:wrap;\n",
       "      gap: 12px;\n",
       "    }\n",
       "\n",
       "    .colab-df-convert {\n",
       "      background-color: #E8F0FE;\n",
       "      border: none;\n",
       "      border-radius: 50%;\n",
       "      cursor: pointer;\n",
       "      display: none;\n",
       "      fill: #1967D2;\n",
       "      height: 32px;\n",
       "      padding: 0 0 0 0;\n",
       "      width: 32px;\n",
       "    }\n",
       "\n",
       "    .colab-df-convert:hover {\n",
       "      background-color: #E2EBFA;\n",
       "      box-shadow: 0px 1px 2px rgba(60, 64, 67, 0.3), 0px 1px 3px 1px rgba(60, 64, 67, 0.15);\n",
       "      fill: #174EA6;\n",
       "    }\n",
       "\n",
       "    [theme=dark] .colab-df-convert {\n",
       "      background-color: #3B4455;\n",
       "      fill: #D2E3FC;\n",
       "    }\n",
       "\n",
       "    [theme=dark] .colab-df-convert:hover {\n",
       "      background-color: #434B5C;\n",
       "      box-shadow: 0px 1px 3px 1px rgba(0, 0, 0, 0.15);\n",
       "      filter: drop-shadow(0px 1px 2px rgba(0, 0, 0, 0.3));\n",
       "      fill: #FFFFFF;\n",
       "    }\n",
       "  </style>\n",
       "\n",
       "      <script>\n",
       "        const buttonEl =\n",
       "          document.querySelector('#df-678542f4-221c-4e5d-8351-23cfd55f2538 button.colab-df-convert');\n",
       "        buttonEl.style.display =\n",
       "          google.colab.kernel.accessAllowed ? 'block' : 'none';\n",
       "\n",
       "        async function convertToInteractive(key) {\n",
       "          const element = document.querySelector('#df-678542f4-221c-4e5d-8351-23cfd55f2538');\n",
       "          const dataTable =\n",
       "            await google.colab.kernel.invokeFunction('convertToInteractive',\n",
       "                                                     [key], {});\n",
       "          if (!dataTable) return;\n",
       "\n",
       "          const docLinkHtml = 'Like what you see? Visit the ' +\n",
       "            '<a target=\"_blank\" href=https://colab.research.google.com/notebooks/data_table.ipynb>data table notebook</a>'\n",
       "            + ' to learn more about interactive tables.';\n",
       "          element.innerHTML = '';\n",
       "          dataTable['output_type'] = 'display_data';\n",
       "          await google.colab.output.renderOutput(dataTable, element);\n",
       "          const docLink = document.createElement('div');\n",
       "          docLink.innerHTML = docLinkHtml;\n",
       "          element.appendChild(docLink);\n",
       "        }\n",
       "      </script>\n",
       "    </div>\n",
       "  </div>\n",
       "  "
      ],
      "text/plain": [
       "                      id  case_id  day_id  slice_id      class  \\\n",
       "0  case2_day1_slice_0001        2       1         1  (0, 1, 2)   \n",
       "1  case2_day1_slice_0002        2       1         2  (0, 1, 2)   \n",
       "2  case2_day1_slice_0003        2       1         3  (0, 1, 2)   \n",
       "3  case2_day1_slice_0004        2       1         4  (0, 1, 2)   \n",
       "4  case2_day1_slice_0005        2       1         5  (0, 1, 2)   \n",
       "\n",
       "      segmentation                                               path  \\\n",
       "0  (nan, nan, nan)  ../BD-Image-Segmentation-Comp/train/case2/case...   \n",
       "1  (nan, nan, nan)  ../BD-Image-Segmentation-Comp/train/case2/case...   \n",
       "2  (nan, nan, nan)  ../BD-Image-Segmentation-Comp/train/case2/case...   \n",
       "3  (nan, nan, nan)  ../BD-Image-Segmentation-Comp/train/case2/case...   \n",
       "4  (nan, nan, nan)  ../BD-Image-Segmentation-Comp/train/case2/case...   \n",
       "\n",
       "                                           mask_path  \\\n",
       "0  ../BD-Image-Segmentation-Comp/train/case2/case...   \n",
       "1  ../BD-Image-Segmentation-Comp/train/case2/case...   \n",
       "2  ../BD-Image-Segmentation-Comp/train/case2/case...   \n",
       "3  ../BD-Image-Segmentation-Comp/train/case2/case...   \n",
       "4  ../BD-Image-Segmentation-Comp/train/case2/case...   \n",
       "\n",
       "                         slice_name  width  height  width_px  height_px  \\\n",
       "0  slice_0001_266_266_1.50_1.50.png    266     266       1.5        1.5   \n",
       "1  slice_0002_266_266_1.50_1.50.png    266     266       1.5        1.5   \n",
       "2  slice_0003_266_266_1.50_1.50.png    266     266       1.5        1.5   \n",
       "3  slice_0004_266_266_1.50_1.50.png    266     266       1.5        1.5   \n",
       "4  slice_0005_266_266_1.50_1.50.png    266     266       1.5        1.5   \n",
       "\n",
       "   is_created_mask  is_equalized  white_pixels  black_pixels  \\\n",
       "0             True          True          62.0       70694.0   \n",
       "1             True          True          63.0       70693.0   \n",
       "2             True          True          74.0       70682.0   \n",
       "3             True          True          78.0       70678.0   \n",
       "4             True          True          76.0       70680.0   \n",
       "\n",
       "   white_px/black_px  \n",
       "0           0.000877  \n",
       "1           0.000891  \n",
       "2           0.001047  \n",
       "3           0.001104  \n",
       "4           0.001075  "
      ]
     },
     "metadata": {},
     "output_type": "display_data"
    }
   ],
   "source": [
    "DATAFRAME_PATH = '/content/drive/Shareddrives/BIG DATA/PROGETTO_FT/U_Net_3D/dataframes/merged_df.csv'\n",
    "\n",
    "df = pd.read_csv(DATAFRAME_PATH)\n",
    "\n",
    "print(f\"DATAFRAME ORIGINALE:\\n\")\n",
    "df.head()"
   ]
  },
  {
   "attachments": {},
   "cell_type": "markdown",
   "metadata": {},
   "source": [
    "Abbiamo, quindi, voluto vedere quale fosse la **relazione tra la profondità del pixel** registrata e il **numero di slice** per caso clinico e giornata di osservazione"
   ]
  },
  {
   "cell_type": "code",
   "execution_count": null,
   "metadata": {},
   "outputs": [],
   "source": [
    "d1_50 = df.loc[df['width_px'] == 1.50].groupby(['case_id', 'day_id']).size()\n",
    "\n",
    "for row in pd.DataFrame(d1_50).iterrows():\n",
    "    if row[1][0] != 144:\n",
    "        print(f'(Case, Day) {row[0]} has {row[1][0]} slices')\n",
    "\n",
    "d1_63 = df.loc[df['width_px'] == 1.63].groupby(['case_id', 'day_id']).size()\n",
    "\n",
    "for row in pd.DataFrame(d1_63).iterrows():\n",
    "    if row[1][0] != 80:\n",
    "        print(row[0])"
   ]
  },
  {
   "attachments": {},
   "cell_type": "markdown",
   "metadata": {},
   "source": [
    "Dall'output della cella si evince che:\n",
    "1. tutti i casi in cui sono presenti slice con dimensione del pixel pari 1.5 mm appartengono a rilevamenti di 144 slice\n",
    "2. tutti i casi in cui sono presenti slice con dimensione del pixel pari a 1.63 mm appartengono a rilevamenti di 80 slice\n",
    "\n",
    "Sono possibili, quindi, solo due valori di partenza.\n",
    "\n",
    "Abbiamo provato a vedere come cambia la situazione considerando solo le slice segmentate"
   ]
  },
  {
   "cell_type": "code",
   "execution_count": null,
   "metadata": {},
   "outputs": [
    {
     "name": "stdout",
     "output_type": "stream",
     "text": [
      "\n",
      "In media, viene mantenuto il 42.32% delle \u001b[1mscansioni a profondità 1.50 mm\u001b[0m\n",
      "\n",
      "In media, viene mantenuto il 58.87% delle \u001b[1mscansioni a profondità 1.63 mm\u001b[0m\n",
      "\n"
     ]
    }
   ],
   "source": [
    "non_null_segm_df = df.loc[df['segmentation'] != '(nan, nan, nan)']\n",
    "\n",
    "d1_50 = non_null_segm_df.loc[non_null_segm_df['width_px'] == 1.50].groupby(['case_id', 'day_id']).size()\n",
    "\n",
    "print(f\"\\nIn media, viene mantenuto il {round(np.average(np.array(d1_50.unique(), dtype=np.float16))/144, ndigits=4)*100}% delle \\033[1mscansioni a profondità 1.50 mm\\033[0m\")\n",
    "\n",
    "d1_63 = non_null_segm_df.loc[non_null_segm_df['width_px'] == 1.63].groupby(['case_id', 'day_id']).size()\n",
    "\n",
    "print(f\"\\nIn media, viene mantenuto il {round(np.average(np.array(d1_63.unique(), dtype=np.float16))/80, ndigits=4)*100}% delle \\033[1mscansioni a profondità 1.63 mm\\033[0m\\n\")"
   ]
  },
  {
   "attachments": {},
   "cell_type": "markdown",
   "metadata": {},
   "source": [
    "Dai risultati si evince come, in modo non sorprendente rispetto alla fase di data preparation, le slice con dimensione del pixel a 1.50 mm siano generalmente **peggiori qualitativamente** rispetto a quelle con dimensione 1.60 mm (il ché giustificherebbe l'assenza di maschere realizzate manualmente dal personale medico)\n",
    "\n",
    "Un'altra considerazione che abbiamo dovuto fare, a seguito di ispezione visiva dei file, riguarda la possibilità per cui, in uno stesso caso clinico, possano essere presenti giornate di acquisizione con un **diverso numero di slice**. Abbiamo proceduto, pertanto, a individuare quali casi presentavano profondità variabili"
   ]
  },
  {
   "cell_type": "code",
   "execution_count": null,
   "metadata": {},
   "outputs": [
    {
     "data": {
      "text/plain": [
       "case_id\n",
       "34     1.630000\n",
       "35     1.589655\n",
       "89     1.515854\n",
       "117    1.589655\n",
       "118    1.528261\n",
       "131    1.515854\n",
       "146    1.528261\n",
       "Name: width_px, dtype: float64"
      ]
     },
     "metadata": {},
     "output_type": "display_data"
    }
   ],
   "source": [
    "def filter_function(x):\n",
    "    return not (x['width_px'].mean() == 1.50 or x['width_px'].mean() == 1.63)\n",
    "\n",
    "df_grouped_1 = df.groupby(['case_id']).filter(lambda x: filter_function(x)).groupby('case_id')['width_px'].mean()\n",
    "\n",
    "df_grouped_1.head(20)"
   ]
  },
  {
   "attachments": {},
   "cell_type": "markdown",
   "metadata": {},
   "source": [
    "## Statistica dei volumi"
   ]
  },
  {
   "attachments": {},
   "cell_type": "markdown",
   "metadata": {},
   "source": [
    "Dovendo operare con volumi segmentati, abbiamo continuato la nostra analisi delle profondità"
   ]
  },
  {
   "cell_type": "code",
   "execution_count": null,
   "metadata": {},
   "outputs": [
    {
     "name": "stdout",
     "output_type": "stream",
     "text": [
      "\n",
      "Inizio Costruzione \u001b[1mArray delle Profondità\u001b[0m\n",
      "\n"
     ]
    },
    {
     "name": "stderr",
     "output_type": "stream",
     "text": [
      "100%|\u001b[32m██████████\u001b[0m| 274/274 [00:00<00:00, 20698.06it/s]]"
     ]
    },
    {
     "name": "stdout",
     "output_type": "stream",
     "text": [
      "\n",
      "Fine Costruzione \u001b[1mArray delle Profondità\u001b[0m\n"
     ]
    },
    {
     "name": "stderr",
     "output_type": "stream",
     "text": [
      "\n"
     ]
    }
   ],
   "source": [
    "from tqdm import tqdm\n",
    "\n",
    "df_case_day = df.loc[df['segmentation'] != '(nan, nan, nan)']\n",
    "\n",
    "df_case_day = df_case_day.groupby(['case_id', 'day_id'])\n",
    "\n",
    "volume_depths = []\n",
    "\n",
    "print(f\"\\nInizio Costruzione \\033[1mArray delle Profondità\\033[0m\\n\")\n",
    "\n",
    "for group, group_df in tqdm(df_case_day, total=len(df_case_day), bar_format=bar_format_green):\n",
    "    depth = len(group_df)\n",
    "    volume_depths.append(depth)\n",
    "    \n",
    "volume_depths = np.array(volume_depths, dtype=np.uint8)\n",
    "\n",
    "print(f\"\\nFine Costruzione \\033[1mArray delle Profondità\\033[0m\")"
   ]
  },
  {
   "attachments": {},
   "cell_type": "markdown",
   "metadata": {},
   "source": [
    "Da cui risulta che"
   ]
  },
  {
   "cell_type": "code",
   "execution_count": null,
   "metadata": {},
   "outputs": [
    {
     "name": "stdout",
     "output_type": "stream",
     "text": [
      "\n",
      "In \u001b[4mmedia\u001b[0m, i volumi hanno profondità pari a 60 slices.\n",
      "\n",
      "La \u001b[4mprofondità massima\u001b[0m registrata è di 88 slices\n",
      "\n",
      "La \u001b[4mprofondità minima\u001b[0m registrata è di 30 slices\n",
      "\n",
      "La \u001b[4mmoda\u001b[0m delle profondità è di 61\n",
      "\n",
      "Si registra uno \u001b[4mscarto quadratico medio\u001b[0m di 11 slices\n"
     ]
    }
   ],
   "source": [
    "print(f\"\\nIn \\033[4mmedia\\033[0m, i volumi hanno profondità pari a {np.mean(volume_depths).astype(np.uint8)} slices.\")\n",
    "\n",
    "print(f\"\\nLa \\033[4mprofondità massima\\033[0m registrata è di {np.max(volume_depths).astype(np.uint8)} slices\")\n",
    "\n",
    "print(f\"\\nLa \\033[4mprofondità minima\\033[0m registrata è di {np.min(volume_depths).astype(np.uint8)} slices\")\n",
    "\n",
    "print(f\"\\nLa \\033[4mmoda\\033[0m delle profondità è di {np.argmax(np.bincount(volume_depths.astype(np.uint8))).astype(np.uint8)}\")\n",
    "\n",
    "scarto_q_medio = np.uint8(np.sqrt(np.square(np.subtract(volume_depths, np.mean(volume_depths).astype(np.uint8) * np.ones(len(volume_depths)))).mean()))\n",
    "\n",
    "print(f\"\\nSi registra uno \\033[4mscarto quadratico medio\\033[0m di {scarto_q_medio} slices\")"
   ]
  },
  {
   "attachments": {},
   "cell_type": "markdown",
   "metadata": {},
   "source": [
    "Presentiamo in forma grafica quanto appena trovato"
   ]
  },
  {
   "cell_type": "code",
   "execution_count": null,
   "metadata": {},
   "outputs": [
    {
     "data": {
      "image/png": "[encoded data removed]",
      "text/plain": [
       "<Figure size 640x480 with 1 Axes>"
      ]
     },
     "metadata": {},
     "output_type": "display_data"
    }
   ],
   "source": [
    "from matplotlib import pyplot as plt\n",
    "\n",
    "plt.hist(volume_depths.astype(np.uint8), bins=[_ for _ in range(100)], histtype='bar')\n",
    "plt.xlabel(f'Profondità dei volumi')\n",
    "plt.ylabel(f'No Volumi per prof.')\n",
    "plt.show()"
   ]
  },
  {
   "attachments": {},
   "cell_type": "markdown",
   "metadata": {},
   "source": [
    "Vista una tale diversificazione nelle profondità, ci siamo posti il problema se, e a quanto, fosse necessario **uniformare le profondità dei volumi**.\n",
    "\n",
    "Dopo una valutazione della distribuzione statistica degli elementi, da cui si evince una gaussiana a media 60, e visto che Unet-3D opera bene con profondità che sono potenza di 2, abbiamo deciso di uniformare la profondità dei volumi alla **potenza di 2 più vicina alla media**, ossia $2^6 = 64$, accettando piccoli tagli di informazione per i volumi più profondi e riducendo di molto il numero di padding nero necessario per i volumi più piccoli che si sarebbe avuto nel caso la profondità scelta fosse stata di 128 slice/volume"
   ]
  },
  {
   "attachments": {},
   "cell_type": "markdown",
   "metadata": {},
   "source": [
    "## Ridimensionamento dei volumi"
   ]
  },
  {
   "attachments": {},
   "cell_type": "markdown",
   "metadata": {},
   "source": [
    "Avendo convenuto sulla profondità unica per i volumi, abbiamo dovuto implementare una strategia incrementare la profondità dei volumi più piccoli fino a quella desiderata, e un'altra per il ritaglio dei volumi più grandi che consentisse di mantenere il maggior numero di informazioni, ossia di maschere.\n",
    "\n",
    "Nel primo caso, abbiamo optato per una strategia di **zero-padding**, per cui abbiamo aggiunto intorno al volume un numero di slice nere variabile, pari a $64 - |V|$, per $V$ volume.\n",
    "\n",
    "Nel secondo caso, abbiamo notato che le slice più segmentate (ossia che presentano il maggior numero di organi segmentati) sono quelle \"di mezzo\", mentre le slice iniziali e finali tendono ad avere un solo organo segmentat. Per questo motivo, abbiamo deciso di **tagliare** un numero variabile di slice **intorno al centro del volume**, in modo da preservare la maggior parte delle informazioni."
   ]
  },
  {
   "attachments": {},
   "cell_type": "markdown",
   "metadata": {},
   "source": [
    "### Elenco `import`"
   ]
  },
  {
   "cell_type": "code",
   "execution_count": null,
   "metadata": {},
   "outputs": [],
   "source": [
    "from glob import glob\n",
    "from tqdm import tqdm"
   ]
  },
  {
   "attachments": {},
   "cell_type": "markdown",
   "metadata": {},
   "source": [
    "### Elenco `path`"
   ]
  },
  {
   "cell_type": "code",
   "execution_count": null,
   "metadata": {},
   "outputs": [],
   "source": [
    "MASKS_SOURCE_PATH = '/content/drive/Shareddrives/BIG DATA/PROGETTO_FT/U_Net_3D/volumes/masks/'\n",
    "\n",
    "MASKS_DEST_PATH = '/content/drive/Shareddrives/BIG DATA/PROGETTO_FT/U_Net_3D/resized_volumes/masks/'\n",
    "\n",
    "SLICES_SOURCE_PATH = '/content/drive/Shareddrives/BIG DATA/PROGETTO_FT/U_Net_3D/volumes/slices/'\n",
    "\n",
    "SLICES_DEST_PATH = '/content/drive/Shareddrives/BIG DATA/PROGETTO_FT/U_Net_3D/resized_volumes/slices/'"
   ]
  },
  {
   "cell_type": "code",
   "execution_count": null,
   "metadata": {},
   "outputs": [],
   "source": [
    "DESIRED_SHAPE = (64, 256, 256)\n",
    "\n",
    "def zero_pad_resize_tif(original_volume: np.ndarray, desired_shape:tuple[int,int,int], output_file: str, debug=False):\n",
    "\n",
    "    depth, height, width = original_volume.shape\n",
    "\n",
    "    desired_depth = desired_shape[0]\n",
    "\n",
    "    resized_volume = np.zeros(desired_shape)\n",
    "    if debug is True:\n",
    "      print(f'\\n* \\033[1mDimensione iniziale\\033[0m del volume: {original_volume.shape}\\n')\n",
    "\n",
    "    if depth > desired_depth:\n",
    "        start = int((depth - desired_depth) / 2)\n",
    "        end = start + desired_depth\n",
    "        resized_volume[:, :, :] = original_volume[start:end, :, :]\n",
    "    else:\n",
    "        start = int((64 - depth) / 2)\n",
    "        end = start + depth\n",
    "        resized_volume[start:end, :, :] = original_volume\n",
    "    if debug is True:\n",
    "      print(f'* \\033[1mDimensione finale\\033[0m del volume: {resized_volume.shape}\\n')\n",
    "\n",
    "    if output_file is not None:\n",
    "        with tiff.TiffWriter(output_file, bigtiff=True) as tif:\n",
    "            tif.write(np.array(resized_volume, dtype=np.uint8), compression=('DEFLATE', 6))\n",
    "            if debug is True:\n",
    "              print(f\"\\033[1mSalvato\\033[0m Volume Ridimensionato in {output_file}\\n\")\n",
    "\n",
    "    return resized_volume\n"
   ]
  },
  {
   "attachments": {},
   "cell_type": "markdown",
   "metadata": {},
   "source": [
    "Per quanto concerne l'effettivo ridimensionamento dei volumi, esso avviene secondo il seguente listato"
   ]
  },
  {
   "cell_type": "code",
   "execution_count": null,
   "metadata": {},
   "outputs": [
    {
     "name": "stdout",
     "output_type": "stream",
     "text": [
      "* Inizio Creazione \u001b[1mVolumi Ridimensionati delle Maschere\u001b[0m\n",
      "\n"
     ]
    },
    {
     "name": "stderr",
     "output_type": "stream",
     "text": [
      "100%|\u001b[32m██████████\u001b[0m| 274/274 [02:10<00:00,  2.10it/s]]\n"
     ]
    },
    {
     "name": "stdout",
     "output_type": "stream",
     "text": [
      "\n",
      "* Fine Creazione \u001b[1mVolumi Ridimensionati delle Maschere\u001b[0m\n",
      "\n",
      "\n",
      "* Inizio Creazione \u001b[1mVolumi Ridimensionati delle Slice\u001b[0m\n",
      "\n"
     ]
    },
    {
     "name": "stderr",
     "output_type": "stream",
     "text": [
      "100%|\u001b[34m██████████\u001b[0m| 274/274 [02:57<00:00,  1.55it/s]]"
     ]
    },
    {
     "name": "stdout",
     "output_type": "stream",
     "text": [
      "\n",
      "* Fine Creazione \u001b[1mVolumi Ridimensionati delle Slice\u001b[0m\n",
      "\n",
      "\n",
      "Sono Stati Generati i Volumi di Dimensione \u001b[1m(64, 128, 128)\u001b[0m\n",
      "\n"
     ]
    },
    {
     "name": "stderr",
     "output_type": "stream",
     "text": [
      "\n"
     ]
    }
   ],
   "source": [
    "ORIGINAL_MASKS = glob(MASKS_SOURCE_PATH + '*.tif')\n",
    "ORIGINAL_SLICES = glob(SLICES_SOURCE_PATH + '*.tif')\n",
    "\n",
    "print(\"* Inizio Creazione \\033[1mVolumi Ridimensionati delle Maschere\\033[0m\\n\")\n",
    "\n",
    "for filename in tqdm(ORIGINAL_MASKS, total=len(ORIGINAL_MASKS), bar_format=bar_format_green):\n",
    "    volume = tiff.imread(filename)\n",
    "    filename_splits = filename.split('/')\n",
    "\n",
    "    zero_pad_resize_tif(original_volume=volume, desired_shape=DESIRED_SHAPE, output_file=MASKS_DEST_PATH + 'resized_' + filename_splits[-1])\n",
    "\n",
    "print(\"\\n* Fine Creazione \\033[1mVolumi Ridimensionati delle Maschere\\033[0m\\n\")\n",
    "\n",
    "print(\"\\n* Inizio Creazione \\033[1mVolumi Ridimensionati delle Slice\\033[0m\\n\")\n",
    "\n",
    "for filename in tqdm(ORIGINAL_SLICES, total=len(ORIGINAL_SLICES), bar_format=bar_format_blue):\n",
    "    volume = tiff.imread(filename)\n",
    "    filename_splits = filename.split('/')\n",
    "\n",
    "    zero_pad_resize_tif(original_volume=volume, desired_shape=DESIRED_SHAPE, output_file=SLICES_DEST_PATH + 'resized_' + filename_splits[-1])\n",
    "\n",
    "print(\"\\n* Fine Creazione \\033[1mVolumi Ridimensionati delle Slice\\033[0m\\n\")\n",
    "\n",
    "print(f\"\\nSono Stati Generati i Volumi di Dimensione \\033[1m{(64, 128, 128)}\\033[0m\\n\")"
   ]
  },
  {
   "attachments": {},
   "cell_type": "markdown",
   "metadata": {},
   "source": [
    "## **U-Net 3D** - Primo approccio"
   ]
  },
  {
   "attachments": {},
   "cell_type": "markdown",
   "metadata": {},
   "source": [
    "Per la segmentazione di immagini tridimensionali, il modello principe è **U-Net 3D**.\n",
    "\n",
    "L'architettura U-Net è composta da un **encoder**, un **bottleneck** e un **decoder**. \n",
    "1. L'encoder è una serie di blocchi convoluzionali seguiti da una max-pooling, che riducono la dimensione della feature map e aumentano il numero di filtri. Questi blocchi catturano le caratteristiche delle immagini di input a diverse scale. La max-pooling riduce la risoluzione spaziale delle feature map, ma mantiene le caratteristiche di alto livello.\n",
    "\n",
    "2. Il bottleneck è un blocco convoluzionale che riduce la dimensione della feature map in modo significativo, ma mantiene le caratteristiche di alto livello. Questo blocco è importante per ridurre il numero di parametri e prevenire l'overfitting.\n",
    "\n",
    "3. Il decoder è una serie di blocchi convoluzionali seguiti da una convoluzione trasposta, che ricostruisce la dimensione della feature map e riduce il numero di filtri. Questi blocchi fondono le informazioni delle feature map di diverse scale e ricostruiscono l'immagine di output. La convoluzione trasposta è utilizzata per aumentare la risoluzione spaziale della feature map.\n",
    "\n",
    "Infine, l'**output** è una convoluzione 3D con un kernel di dimensione $1\\times 1\\times 1$ e una funzione di attivazione **softmax**, che restituisce una distribuzione di probabilità su tutte le classi di output.\n",
    "\n",
    "Nel nostro caso, l'implementazione del modello è stata **manuale**, basandoci sulla struttura appena descritta, secondo il listato seguente.\n",
    "\n",
    "Per il nostro caso d'uso, abbiamo stabilito che l'`input_shape` predefinito è `(64, 128, 128, 1)`, che indica che l'input è un volume tridimensionale con dimensioni $64\\times 128\\times 128$ in scala di grigi. Il parametro `num_classes` indica il numero di classi di output, mentre `filters` indica il numero di filtri per ciascuna convoluzione.\n",
    "\n",
    "Tutti gli elementi dei vari layer (`Conv3D`, `MaxPooling3D`, ecc.) sono stati importati dal modulo `keras.layers`, mentre l'oggetto `Input` e il modello vero e proprio `Model` sono stati importati dal modulo `keras`.\n",
    "\n",
    "\n",
    "<center><img src=\"https://www.researchgate.net/profile/Mobarakol-Islam/publication/350625751/figure/fig1/AS:1009070836285440@1617592643115/Our-proposed-segmentation-architecture-3D-attention-UNet-by-composing-of-sequential.png\"</center> "
   ]
  },
  {
   "attachments": {},
   "cell_type": "markdown",
   "metadata": {},
   "source": [
    "### Elenco `import`"
   ]
  },
  {
   "cell_type": "code",
   "execution_count": null,
   "metadata": {},
   "outputs": [],
   "source": [
    "import cv2\n",
    "import numpy as np\n",
    "\n",
    "from glob import glob\n",
    "from sklearn.model_selection import train_test_split\n",
    "\n",
    "# Keras\n",
    "from keras.layers import Conv3D, BatchNormalization, MaxPooling3D, Conv3DTranspose, concatenate\n",
    "from keras import Model, Input\n",
    "import keras.backend as K\n",
    "\n",
    "# TensorFlow\n",
    "import tensorflow as tf"
   ]
  },
  {
   "attachments": {},
   "cell_type": "markdown",
   "metadata": {},
   "source": [
    "### Elenco `path`"
   ]
  },
  {
   "cell_type": "code",
   "execution_count": null,
   "metadata": {},
   "outputs": [
    {
     "name": "stdout",
     "output_type": "stream",
     "text": [
      "Sono presenti 274 volumi di scansioni\n",
      "\n",
      "Sono presenti 274 volumi di maschere\n",
      "\n"
     ]
    }
   ],
   "source": [
    "VOLUMES_PATH = sorted(glob('./dataset/slices/*.tif'))\n",
    "MASKS_PATH = sorted(glob('./dataset/masks/*.tif'))\n",
    "\n",
    "print(f'Sono presenti {len(VOLUMES_PATH)} volumi di scansioni\\n')\n",
    "print(f'Sono presenti {len(MASKS_PATH)} volumi di maschere\\n')"
   ]
  },
  {
   "attachments": {},
   "cell_type": "markdown",
   "metadata": {},
   "source": [
    "### Modello"
   ]
  },
  {
   "cell_type": "code",
   "execution_count": null,
   "metadata": {},
   "outputs": [
    {
     "name": "stdout",
     "output_type": "stream",
     "text": [
      "Model: \"model\"\n",
      "__________________________________________________________________________________________________\n",
      " Layer (type)                   Output Shape         Param #     Connected to                     \n",
      "==================================================================================================\n",
      " input_1 (InputLayer)           [(None, 64, 128, 12  0           []                               \n",
      "                                8, 1)]                                                            \n",
      "                                                                                                  \n",
      " conv3d (Conv3D)                (None, 64, 128, 128  448         ['input_1[0][0]']                \n",
      "                                , 16)                                                             \n",
      "                                                                                                  \n",
      " batch_normalization (BatchNorm  (None, 64, 128, 128  64         ['conv3d[0][0]']                 \n",
      " alization)                     , 16)                                                             \n",
      "                                                                                                  \n",
      " conv3d_1 (Conv3D)              (None, 64, 128, 128  6928        ['batch_normalization[0][0]']    \n",
      "                                , 16)                                                             \n",
      "                                                                                                  \n",
      " batch_normalization_1 (BatchNo  (None, 64, 128, 128  64         ['conv3d_1[0][0]']               \n",
      " rmalization)                   , 16)                                                             \n",
      "                                                                                                  \n",
      " max_pooling3d (MaxPooling3D)   (None, 32, 64, 64,   0           ['batch_normalization_1[0][0]']  \n",
      "                                16)                                                               \n",
      "                                                                                                  \n",
      " conv3d_2 (Conv3D)              (None, 32, 64, 64,   13856       ['max_pooling3d[0][0]']          \n",
      "                                32)                                                               \n",
      "                                                                                                  \n",
      " batch_normalization_2 (BatchNo  (None, 32, 64, 64,   128        ['conv3d_2[0][0]']               \n",
      " rmalization)                   32)                                                               \n",
      "                                                                                                  \n",
      " conv3d_3 (Conv3D)              (None, 32, 64, 64,   27680       ['batch_normalization_2[0][0]']  \n",
      "                                32)                                                               \n",
      "                                                                                                  \n",
      " batch_normalization_3 (BatchNo  (None, 32, 64, 64,   128        ['conv3d_3[0][0]']               \n",
      " rmalization)                   32)                                                               \n",
      "                                                                                                  \n",
      " max_pooling3d_1 (MaxPooling3D)  (None, 16, 32, 32,   0          ['batch_normalization_3[0][0]']  \n",
      "                                32)                                                               \n",
      "                                                                                                  \n",
      " conv3d_4 (Conv3D)              (None, 16, 32, 32,   55360       ['max_pooling3d_1[0][0]']        \n",
      "                                64)                                                               \n",
      "                                                                                                  \n",
      " batch_normalization_4 (BatchNo  (None, 16, 32, 32,   256        ['conv3d_4[0][0]']               \n",
      " rmalization)                   64)                                                               \n",
      "                                                                                                  \n",
      " conv3d_5 (Conv3D)              (None, 16, 32, 32,   110656      ['batch_normalization_4[0][0]']  \n",
      "                                64)                                                               \n",
      "                                                                                                  \n",
      " batch_normalization_5 (BatchNo  (None, 16, 32, 32,   256        ['conv3d_5[0][0]']               \n",
      " rmalization)                   64)                                                               \n",
      "                                                                                                  \n",
      " max_pooling3d_2 (MaxPooling3D)  (None, 8, 16, 16, 6  0          ['batch_normalization_5[0][0]']  \n",
      "                                4)                                                                \n",
      "                                                                                                  \n",
      " conv3d_6 (Conv3D)              (None, 8, 16, 16, 1  221312      ['max_pooling3d_2[0][0]']        \n",
      "                                28)                                                               \n",
      "                                                                                                  \n",
      " batch_normalization_6 (BatchNo  (None, 8, 16, 16, 1  512        ['conv3d_6[0][0]']               \n",
      " rmalization)                   28)                                                               \n",
      "                                                                                                  \n",
      " conv3d_7 (Conv3D)              (None, 8, 16, 16, 1  442496      ['batch_normalization_6[0][0]']  \n",
      "                                28)                                                               \n",
      "                                                                                                  \n",
      " batch_normalization_7 (BatchNo  (None, 8, 16, 16, 1  512        ['conv3d_7[0][0]']               \n",
      " rmalization)                   28)                                                               \n",
      "                                                                                                  \n",
      " max_pooling3d_3 (MaxPooling3D)  (None, 4, 8, 8, 128  0          ['batch_normalization_7[0][0]']  \n",
      "                                )                                                                 \n",
      "                                                                                                  \n",
      " conv3d_8 (Conv3D)              (None, 4, 8, 8, 256  884992      ['max_pooling3d_3[0][0]']        \n",
      "                                )                                                                 \n",
      "                                                                                                  \n",
      " batch_normalization_8 (BatchNo  (None, 4, 8, 8, 256  1024       ['conv3d_8[0][0]']               \n",
      " rmalization)                   )                                                                 \n",
      "                                                                                                  \n",
      " conv3d_9 (Conv3D)              (None, 4, 8, 8, 256  1769728     ['batch_normalization_8[0][0]']  \n",
      "                                )                                                                 \n",
      "                                                                                                  \n",
      " batch_normalization_9 (BatchNo  (None, 4, 8, 8, 256  1024       ['conv3d_9[0][0]']               \n",
      " rmalization)                   )                                                                 \n",
      "                                                                                                  \n",
      " conv3d_transpose (Conv3DTransp  (None, 8, 16, 16, 1  262272     ['batch_normalization_9[0][0]']  \n",
      " ose)                           28)                                                               \n",
      "                                                                                                  \n",
      " concatenate (Concatenate)      (None, 8, 16, 16, 2  0           ['batch_normalization_7[0][0]',  \n",
      "                                56)                               'conv3d_transpose[0][0]']       \n",
      "                                                                                                  \n",
      " conv3d_10 (Conv3D)             (None, 8, 16, 16, 1  884864      ['concatenate[0][0]']            \n",
      "                                28)                                                               \n",
      "                                                                                                  \n",
      " batch_normalization_10 (BatchN  (None, 8, 16, 16, 1  512        ['conv3d_10[0][0]']              \n",
      " ormalization)                  28)                                                               \n",
      "                                                                                                  \n",
      " conv3d_11 (Conv3D)             (None, 8, 16, 16, 1  442496      ['batch_normalization_10[0][0]'] \n",
      "                                28)                                                               \n",
      "                                                                                                  \n",
      " batch_normalization_11 (BatchN  (None, 8, 16, 16, 1  512        ['conv3d_11[0][0]']              \n",
      " ormalization)                  28)                                                               \n",
      "                                                                                                  \n",
      " conv3d_transpose_1 (Conv3DTran  (None, 16, 32, 32,   65600      ['batch_normalization_11[0][0]'] \n",
      " spose)                         64)                                                               \n",
      "                                                                                                  \n",
      " concatenate_1 (Concatenate)    (None, 16, 32, 32,   0           ['batch_normalization_5[0][0]',  \n",
      "                                128)                              'conv3d_transpose_1[0][0]']     \n",
      "                                                                                                  \n",
      " conv3d_12 (Conv3D)             (None, 16, 32, 32,   221248      ['concatenate_1[0][0]']          \n",
      "                                64)                                                               \n",
      "                                                                                                  \n",
      " batch_normalization_12 (BatchN  (None, 16, 32, 32,   256        ['conv3d_12[0][0]']              \n",
      " ormalization)                  64)                                                               \n",
      "                                                                                                  \n",
      " conv3d_13 (Conv3D)             (None, 16, 32, 32,   110656      ['batch_normalization_12[0][0]'] \n",
      "                                64)                                                               \n",
      "                                                                                                  \n",
      " batch_normalization_13 (BatchN  (None, 16, 32, 32,   256        ['conv3d_13[0][0]']              \n",
      " ormalization)                  64)                                                               \n",
      "                                                                                                  \n",
      " conv3d_transpose_2 (Conv3DTran  (None, 32, 64, 64,   16416      ['batch_normalization_13[0][0]'] \n",
      " spose)                         32)                                                               \n",
      "                                                                                                  \n",
      " concatenate_2 (Concatenate)    (None, 32, 64, 64,   0           ['batch_normalization_3[0][0]',  \n",
      "                                64)                               'conv3d_transpose_2[0][0]']     \n",
      "                                                                                                  \n",
      " conv3d_14 (Conv3D)             (None, 32, 64, 64,   55328       ['concatenate_2[0][0]']          \n",
      "                                32)                                                               \n",
      "                                                                                                  \n",
      " batch_normalization_14 (BatchN  (None, 32, 64, 64,   128        ['conv3d_14[0][0]']              \n",
      " ormalization)                  32)                                                               \n",
      "                                                                                                  \n",
      " conv3d_15 (Conv3D)             (None, 32, 64, 64,   27680       ['batch_normalization_14[0][0]'] \n",
      "                                32)                                                               \n",
      "                                                                                                  \n",
      " batch_normalization_15 (BatchN  (None, 32, 64, 64,   128        ['conv3d_15[0][0]']              \n",
      " ormalization)                  32)                                                               \n",
      "                                                                                                  \n",
      " conv3d_transpose_3 (Conv3DTran  (None, 64, 128, 128  4112       ['batch_normalization_15[0][0]'] \n",
      " spose)                         , 16)                                                             \n",
      "                                                                                                  \n",
      " concatenate_3 (Concatenate)    (None, 64, 128, 128  0           ['batch_normalization_1[0][0]',  \n",
      "                                , 32)                             'conv3d_transpose_3[0][0]']     \n",
      "                                                                                                  \n",
      " conv3d_16 (Conv3D)             (None, 64, 128, 128  13840       ['concatenate_3[0][0]']          \n",
      "                                , 16)                                                             \n",
      "                                                                                                  \n",
      " batch_normalization_16 (BatchN  (None, 64, 128, 128  64         ['conv3d_16[0][0]']              \n",
      " ormalization)                  , 16)                                                             \n",
      "                                                                                                  \n",
      " conv3d_17 (Conv3D)             (None, 64, 128, 128  6928        ['batch_normalization_16[0][0]'] \n",
      "                                , 16)                                                             \n",
      "                                                                                                  \n",
      " batch_normalization_17 (BatchN  (None, 64, 128, 128  64         ['conv3d_17[0][0]']              \n",
      " ormalization)                  , 16)                                                             \n",
      "                                                                                                  \n",
      " conv3d_18 (Conv3D)             (None, 64, 128, 128  68          ['batch_normalization_17[0][0]'] \n",
      "                                , 4)                                                              \n",
      "                                                                                                  \n",
      "==================================================================================================\n",
      "Total params: 5,650,852\n",
      "Trainable params: 5,647,908\n",
      "Non-trainable params: 2,944\n",
      "__________________________________________________________________________________________________\n",
      "None\n"
     ]
    }
   ],
   "source": [
    "def unet_3d(input_shape=(64, 128, 128, 1), num_classes=4, filters=16):\n",
    "    inputs = Input(shape=input_shape)\n",
    "    x = inputs\n",
    "\n",
    "    # Encoder\n",
    "    skips = []\n",
    "    for depth in range(4):\n",
    "        x = Conv3D(filters, 3, activation='relu', padding='same')(x)\n",
    "        x = BatchNormalization()(x)\n",
    "        x = Conv3D(filters, 3, activation='relu', padding='same')(x)\n",
    "        x = BatchNormalization()(x)\n",
    "        skips.append(x)\n",
    "        x = MaxPooling3D(2)(x)\n",
    "        filters *= 2\n",
    "\n",
    "    # Bottleneck\n",
    "    x = Conv3D(filters, 3, activation='relu', padding='same')(x)\n",
    "    x = BatchNormalization()(x)\n",
    "    x = Conv3D(filters, 3, activation='relu', padding='same')(x)\n",
    "    x = BatchNormalization()(x)\n",
    "\n",
    "    # Decoder\n",
    "    for depth in range(3, -1, -1):\n",
    "        filters //= 2\n",
    "        x = Conv3DTranspose(filters, 2, strides=(2, 2, 2), padding='same')(x)\n",
    "        x = concatenate([skips[depth], x])\n",
    "        x = Conv3D(filters, 3, activation='relu', padding='same')(x)\n",
    "        x = BatchNormalization()(x)\n",
    "        x = Conv3D(filters, 3, activation='relu', padding='same')(x)\n",
    "        x = BatchNormalization()(x)\n",
    "\n",
    "    # Output\n",
    "    outputs = Conv3D(num_classes, 1, activation='softmax')(x)\n",
    "\n",
    "    # Model\n",
    "    model = Model(inputs=inputs, outputs=outputs)\n",
    "\n",
    "    return model\n",
    "\n",
    "model = unet_3d()\n",
    "\n",
    "print(model.summary())"
   ]
  },
  {
   "attachments": {},
   "cell_type": "markdown",
   "metadata": {},
   "source": [
    "### Metriche"
   ]
  },
  {
   "attachments": {},
   "cell_type": "markdown",
   "metadata": {},
   "source": [
    "Per quanto concerne le metriche di valutazione dell'apprendimento e, successivamente, del testing, abbiamo voluto utilizzare due metriche, che sono considerate di riferimento nell'ambito della *image segmentation*, ossia il **coefficiente di Dice** e la **distanza di Hausdorff** (in questo caso implementata nella sua variante 3D).\n",
    "\n",
    "Il coefficiente di Dice, chiamato anche indice di Dice o **F1 score**, è una metrica di valutazione della similarità tra due insiemi di dati (qui immagini), ed è definito come il rapporto tra il doppio dell'area di intersezione tra i due insiemi e la somma delle aree dei due insiemi, o meglio \n",
    "$$ Dice(X,Y) = 2\\cdot \\frac{|X∩Y|}{|X|+|Y|}$$\n",
    "\n",
    "In altre parole, misura la **sovrapposizione tra i risultati ottenuti** dall'algoritmo **e la ground truth**, normalizzato rispetto alla dimensione dei due insiemi. Il valore del coefficiente di Dice varia tra 0 e 1, dove 1 indica una perfetta sovrapposizione e 0 indica una completa disuguaglianza.<br>\n",
    "In generale, quindi, un alto valore di coefficiente di Dice indica una buona performance dell'algoritmo di segmentazione, mentre un valore basso indica una scarsa performance.\n",
    "\n",
    "La distanza di Hausdorff, invece, viene calcolata come la **distanza massima tra i punti di un volume rispetto ai punti del volume di riferimento**. In altre parole, la distanza di Hausdorff rappresenta la massima distanza geometrica tra due volumi 3D, secondo la formula \n",
    "$$ H(A,B) = \\max(h(A,B),\\ h(B,A)) $$\n",
    "\n",
    "dove $h(A,B)$ e $h(B,A)$ sono, rispettivamente, la **distanza diretta** di Hausdorff da A a B e la distanza inversa da B ad A.<br>\n",
    "La distanza di Hausdorff è un'importante metrica di valutazione della performance per la segmentazione di volumi 3D, in quanto tiene conto della massima discrepanza tra il volume segmentato e quello di riferimento. In generale, un **basso valore** di distanza di Hausdorff indica una **buona performance** dell'algoritmo di segmentazione, mentre un alto valore indica una scarsa performance.\n",
    "\n",
    "Nella cella seguente sono presenti i listati delle due funzioni usate per il calcolo delle metriche, implementate attraverso operazioni aggregate di TensorFlow.\n"
   ]
  },
  {
   "cell_type": "code",
   "execution_count": null,
   "metadata": {},
   "outputs": [],
   "source": [
    "def hausdorff_3d(y_true, y_pred):\n",
    "\n",
    "    # calcola la distanza di Hausdorff diretta tra i due insiemi\n",
    "    d_hd1 = tf.reduce_max(tf.norm(tf.subtract(y_true, y_pred)))\n",
    "    # calcola la distanza di Hausdorff inversa\n",
    "    d_hd2 = tf.reduce_max(tf.norm(tf.subtract(y_pred, y_true)))\n",
    "    # restituisce la distanza di Hausdorff simmetrica\n",
    "    \n",
    "    return tf.reduce_max(tf.stack([d_hd1, d_hd2]))\n",
    "\n",
    "def dice_coefficient(y_true, y_pred, epsilon=1e-6):\n",
    "  y_true = tf.cast(y_true, tf.float32)\n",
    "  y_pred = tf.cast(y_pred, tf.float32)\n",
    "\n",
    "  intersection = tf.reduce_sum(y_true * y_pred)\n",
    "  sum_ = tf.reduce_sum(y_true + y_pred)\n",
    "\n",
    "  dice = tf.reduce_mean((2. * intersection + epsilon) / (sum_ + epsilon)) # si effettua una media\n",
    "  return dice"
   ]
  },
  {
   "attachments": {},
   "cell_type": "markdown",
   "metadata": {},
   "source": [
    "### Train/Test split"
   ]
  },
  {
   "attachments": {},
   "cell_type": "markdown",
   "metadata": {},
   "source": [
    "Non avendo a disposizione un test set dalla competizione, procediamo ad una suddivisione *artificiale* del training set, sfruttando la funzione `train_test_split` di Scikit-Learn, scegliendo come percentuale di test un valore compreso tra il 10% e il 20% (come da prassi in questo genere di problemi).\n",
    "\n",
    "Nello specifico, abbiamo optato per una percentuale del 15%.\n",
    "\n",
    "Successivamente, ricaviamo anche un validation set per la fase di validazione durante l'addestramento della rete, con una percentuale globale del 10% circa (12,5% del training set residuo).\n",
    "\n",
    "**DIVISIONE EFFETTIVA**: 75% - 10% - 15%"
   ]
  },
  {
   "cell_type": "code",
   "execution_count": null,
   "metadata": {},
   "outputs": [
    {
     "name": "stdout",
     "output_type": "stream",
     "text": [
      "Saranno usate \u001b[1;34m42\u001b[0m coppie (scansione, maschera) come \u001b[1;34mtest set\u001b[0m\n",
      "\n",
      "Saranno usate \u001b[1;34m203\u001b[0m coppie (scansione, maschera) come \u001b[1;34mtraining set\u001b[0m\n",
      "\n",
      "Saranno usate \u001b[1;34m29\u001b[0m coppie (scansione, maschera) \u001b[1;34mvalidation set\u001b[0m\n",
      "\n"
     ]
    }
   ],
   "source": [
    "train_files_paths, test_files_paths, train_labels_paths, test_labels_paths =\\\n",
    "  train_test_split(VOLUMES_PATH, MASKS_PATH, test_size=0.15, random_state=11)\n",
    "  \n",
    "print(f'Saranno usate \\033[1;34m{len(test_files_paths)}\\033[0m coppie (scansione, maschera) come \\033[1;34mtest set\\033[0m\\n')\n",
    "\n",
    "train_files_paths, validation_files_paths, train_labels_paths, validation_labels_paths =\\\n",
    "  train_test_split(train_files_paths, train_labels_paths, test_size=0.125, random_state=11)\n",
    "\n",
    "print(f'Saranno usate \\033[1;34m{len(train_files_paths)}\\033[0m coppie (scansione, maschera) come \\033[1;34mtraining set\\033[0m\\n')\n",
    "\n",
    "print(f'Saranno usate \\033[1;34m{len(validation_files_paths)}\\033[0m coppie (scansione, maschera) \\033[1;34mvalidation set\\033[0m\\n')"
   ]
  },
  {
   "attachments": {},
   "cell_type": "markdown",
   "metadata": {},
   "source": [
    "### Data Generation & Augmentation"
   ]
  },
  {
   "attachments": {},
   "cell_type": "markdown",
   "metadata": {},
   "source": [
    "Per quanto concerne la parte di **data augmentation**, le alterazioni delle immagini che abbiamo ritenuto probabili per il problema in analisi sono:\n",
    "\n",
    "1. *Rotazioni*, per cui abbiamo stimato (in eccesso) valori possibili di $\\pm$ 15°, dovute a possibili movimenti del paziente durante la scansione o a errori di posizionamento dello stesso;\n",
    "2. *Traslazioni* lungo gli assi $x$ e $y$, per cui abbiamo stimato valori possibili di $\\pm$ 10px, imputabili alle stesse cause delle rotazioni;\n",
    "3. *Flip orizzontale*, possibile solo per scelta degli operatori in fase di acquisizione\n",
    "4. *Rumore*, nello specifico si è scelto il rumore di Rician perché...\n",
    "\n",
    "Per implementare queste distorsioni, abbiamo realizzato la funzione `augment_data`, che accetta in input una coppia di volumi (scansioni e maschere corrispondenti) su cui vengono applicate le trasformazioni 1, 2 e 3 in modo casuale, mentre il rumore di Rician può essere applicato **solo alle scansioni**, dato che le maschere fornite sono realizzate manualmente dai tecnici.\n",
    "\n",
    "**N.B.**: l'implementazione del rumore di Rician è stata effettuata con produzione autonoma della funzione `add_rician_noise`"
   ]
  },
  {
   "cell_type": "code",
   "execution_count": null,
   "metadata": {},
   "outputs": [],
   "source": [
    "def add_rician_noise(img, noise_std=15):\n",
    "\n",
    "    '''\n",
    "        In questo caso, mean=0 perché il rumore gaussiano che viene generato ha media zero, ovvero è un rumore gaussiano bianco. \n",
    "        Il rumore di Rician viene generato come una combinazione di due rumori gaussiani, quindi se uno di questi rumori ha una \n",
    "        media diversa da zero, il rumore di Rician generato avrà una media diversa da zero. Tuttavia, per la maggior parte delle \n",
    "        applicazioni di aggiunta di rumore, si assume che il rumore abbia una media zero. In questo modo, il rumore aggiunto non \n",
    "        altera la distribuzione dei livelli di grigio dell'immagine originale.\n",
    "    '''\n",
    "\n",
    "    mean = 0\n",
    "\n",
    "    # Genera rumore di Rician\n",
    "    # 1. Genera rumore gaussiano bianco\n",
    "    noise = np.random.normal(mean, noise_std, img.shape)\n",
    "    noise = np.abs(noise + 1j * np.random.normal(mean, noise_std, img.shape))\n",
    "    noise = noise / np.sqrt(2)\n",
    "\n",
    "    # Aggiungi rumore all'immagine\n",
    "    noisy_img = img + noise\n",
    "    \n",
    "    return noisy_img"
   ]
  },
  {
   "cell_type": "code",
   "execution_count": null,
   "metadata": {},
   "outputs": [],
   "source": [
    "def augment_data(slice_volume:np.ndarray, mask_volume:np.ndarray, debug=False) -> tuple[np.ndarray]:\n",
    "    \"\"\"Funzione usata per la data augmentation.\n",
    "    \n",
    "    Le trasformazioni avvengono in modo casuale per la coppia di volumi (slice, maschera).\n",
    "    Tra le trasformazioni possibili abbiamo:\n",
    "    \n",
    "        - Rotazione +/- 15 gradi\n",
    "        - Traslazione +/- 5px\n",
    "        - Flip orizzontale\n",
    "        - Aggiunta del rumore di Rician (solo per slice_volume)\n",
    "\n",
    "    Args:\n",
    "        slice_volume (np.ndarray): Volume di slice su cui fare la augmentation\n",
    "        mask_volume (np.ndarray): Volume di maschere su cui fare la augmentation\n",
    "\n",
    "    Returns:\n",
    "        tuple[np.ndarray]: Coppia di volumi (slice, maschere) aumentati\n",
    "    \"\"\"\n",
    "    \n",
    "    data_rotation = round(np.random.uniform(-15, 15))\n",
    "    data_traslation_x = round(np.random.uniform(-5, 5))\n",
    "    data_traslation_y = round(np.random.uniform(-5, 5))\n",
    "    horizontal_flip = round(np.random.uniform(0, 1))\n",
    "    adds_rician_noise = round(np.random.uniform(0, 1))\n",
    "    \n",
    "    if debug is True:\n",
    "        print(f'Rotating of {data_rotation} degrees\\n')\n",
    "        print(f'Translating over (x,y) of ({data_traslation_x, data_traslation_y})\\n')\n",
    "        print(f'Does horizontal flip: {horizontal_flip}\\n')\n",
    "        print(f'Adds Rician noise: {adds_rician_noise}\\n')\n",
    "    \n",
    "    affine_trasl_matrix = np.float32(\n",
    "        [[1,0,data_traslation_x], \n",
    "         [0,1,data_traslation_y]]\n",
    "        )\n",
    "    \n",
    "    augm_slice = []\n",
    "    augm_masks = []\n",
    "    \n",
    "    for slice in slice_volume:\n",
    "        # Traslazione\n",
    "        slice = cv2.warpAffine(slice, affine_trasl_matrix, (slice.shape[0], slice.shape[1]))\n",
    "        # Rotazione\n",
    "        slice_center = tuple([slice.shape[0]/2, slice.shape[1]/2])\n",
    "        rotation_matrix = cv2.getRotationMatrix2D(slice_center, data_rotation, 1.0)\n",
    "        # Flip orizzontale\n",
    "        if horizontal_flip == 1:\n",
    "            slice = cv2.flip(slice, 1)\n",
    "        # Aggiunta rumore di Rician\n",
    "        if adds_rician_noise == 1:    \n",
    "            slice = add_rician_noise(slice)\n",
    "            \n",
    "        augm_slice.append(slice)\n",
    "        \n",
    "    for mask in mask_volume:\n",
    "        # Traslazione\n",
    "        mask = cv2.warpAffine(mask, affine_trasl_matrix, (mask.shape[0], mask.shape[1]))\n",
    "        # Rotazione\n",
    "        mask_center = tuple([mask.shape[0]/2, mask.shape[1]/2])\n",
    "        rotation_matrix = cv2.getRotationMatrix2D(mask_center, data_rotation, 1.0)\n",
    "        mask = cv2.warpAffine(mask, rotation_matrix, (mask.shape[0], mask.shape[1]))\n",
    "        # Flip orizzontale\n",
    "        if horizontal_flip == 1:\n",
    "            mask = cv2.flip(mask, 1)\n",
    "        augm_masks.append(mask)\n",
    "    \n",
    "    augm_slice = np.array(augm_slice)\n",
    "    augm_masks = np.array(augm_masks)\n",
    "    \n",
    "    return augm_slice, augm_masks"
   ]
  },
  {
   "attachments": {},
   "cell_type": "markdown",
   "metadata": {},
   "source": [
    "In aggiunta, abbiamo dovuto definire una nostra versione della funzione `to_categorical`, che genera una rappresentazione one-hot-encoded di un volume passato in input, per questioni di compatibilità e di adattamento dei dati al framework `keras`.\n",
    "\n",
    "Per gli scopi del progetto, il **numero di classi** scelto è 4, laddove la quarta classe è, in realtà, lo sfondo della maschera di segmentazione."
   ]
  },
  {
   "cell_type": "code",
   "execution_count": null,
   "metadata": {},
   "outputs": [],
   "source": [
    "def custom_to_categorical(volume: np.ndarray, num_classes=4, debug=False) -> np.ndarray:\n",
    "  \"\"\"Funzione usata per generare una rappresentazione one-hot-encoded di un volume\n",
    "\n",
    "  Args:\n",
    "      volume (np.ndarray): Volume di cui ottenere la rappresentazione one-hot\n",
    "      num_classes (int, optional): Numero di classi di segmentazione da individuare. Default a 4.\n",
    "      debug (bool, optional): Flag di debug. Default a False.\n",
    "\n",
    "  Returns:\n",
    "      np.ndarray: Volume in rappresentazione one-hot\n",
    "  \"\"\"\n",
    "  \n",
    "  \n",
    "  categorical_volume = np.zeros_like(volume[:,:,:,np.newaxis])\n",
    "  \n",
    "  categorical_volume_0 = categorical_volume\n",
    "  \n",
    "  for i in range(num_classes-1):\n",
    "    categorical_volume = np.concatenate([categorical_volume, categorical_volume_0], axis=3)\n",
    "  \n",
    "  if debug is True:\n",
    "    print(categorical_volume.shape)\n",
    "  \n",
    "  for i in range(volume.shape[0]):\n",
    "    volume_slice = volume[i]\n",
    "    \n",
    "    categorical_volume[i, volume_slice[:,:] < 80, 0] = 255\n",
    "    if debug is True:\n",
    "      print(f'Saved values of class 0\\n')\n",
    "      \n",
    "    categorical_volume[i, np.logical_and(volume_slice[:,:] == 80, volume_slice[:,:] < 160), 1] = 255\n",
    "    if debug is True:\n",
    "      print(f'Saved values of class 1\\n')\n",
    "      \n",
    "    categorical_volume[i, np.logical_and(volume_slice[:,:] == 160, volume_slice[:,:] < 240), 2] = 255\n",
    "    if debug is True:\n",
    "      print(f'Saved values of class 2\\n')\n",
    "      \n",
    "    categorical_volume[i, volume_slice[:,:] == 240, 3] = 255\n",
    "    if debug is True:\n",
    "      print(f'Saved values of class 3\\n')\n",
    "  \n",
    "  if debug is True:\n",
    "    print(f\"Created volume one-hot-encoded of shape: {categorical_volume.shape}\\n\")\n",
    "  \n",
    "  return np.array(categorical_volume, dtype=object)  "
   ]
  },
  {
   "attachments": {},
   "cell_type": "markdown",
   "metadata": {},
   "source": [
    "Per poter passare in input alla rete neurale tutto il dataset, senza saturare le risorse dei sistemi in uso, abbiamo deciso di implementare un DataGenerator customizzato per le nostre esigenze.\n",
    "Il problema di fondo è, infatti, che i data generator implementati nella classe `ImageDataGenerator` del modulo `keras.preprocessing.image` non sono pensati per operare con volumi 3D nè, tantomeno, hanno metodi che permettono di operare su singoli volumi `.tif`.\n",
    "\n",
    "Abbiamo, quindi, implementato una nuova classe `TiffDataGenerator`, che estende la classe `Sequence` di `keras.utils`, che riceve in input due percorsi e, opzionalmente, una `batch_size` e un flag per indicare se si vuole eseguire lo `shuffle` dei dati alla fine di ogni generazione.\n",
    "\n",
    "Il metodo `__getitem__` è quello che provvede alla generazione vera e propria dei dati da dare in pasto alla rete, in quanto implementa le già viste funzioni di data augmentation e converte i dati del volume della maschera nel formato *one-hot*, che è molto utile per problemi multiclasse.\n",
    "\n"
   ]
  },
  {
   "cell_type": "code",
   "execution_count": null,
   "metadata": {},
   "outputs": [],
   "source": [
    "import tifffile as tiff\n",
    "from keras.utils import Sequence\n",
    "\n",
    "class TiffDataGenerator(Sequence):\n",
    "    def __init__(self, tif_path_list, batch_size=1, shuffle=True):\n",
    "        self.tif_path_list = tif_path_list\n",
    "        self.batch_size = batch_size\n",
    "        self.shuffle = shuffle\n",
    "        self.indexes = np.arange(len(self.tif_path_list))\n",
    "        self.on_epoch_end()\n",
    "\n",
    "    def __len__(self):\n",
    "        return int(np.ceil(len(self.tif_path_list) / self.batch_size))\n",
    "\n",
    "    def __getitem__(self, index):\n",
    "        batch_indexes = self.indexes[index*self.batch_size:(index+1)*self.batch_size]\n",
    "        batch_paths = [self.tif_path_list[k] for k in batch_indexes]\n",
    "        batch_volumes = []\n",
    "        batch_masks = []\n",
    "        for path in batch_paths:\n",
    "            volume = tiff.imread(path[0]) / 255.0\n",
    "            mask = tiff.imread(path[1])\n",
    "            \n",
    "            volume, mask = augment_data(volume, mask)\n",
    "            mask = custom_to_categorical(mask, num_classes=4)\n",
    "\n",
    "            volume = volume.reshape((1,) + volume.shape + (1,))\n",
    "            mask = mask.reshape((1,) + mask.shape)\n",
    "\n",
    "            batch_volumes.append(volume)\n",
    "            batch_masks.append(np.asarray(mask / 255.0).astype(np.float16))\n",
    "\n",
    "        return np.vstack(batch_volumes), np.vstack(batch_masks)\n",
    "\n",
    "    def on_epoch_end(self):\n",
    "        if self.shuffle:\n",
    "            np.random.shuffle(self.indexes)\n",
    "\n",
    "    @classmethod\n",
    "    def from_paths(cls, volume_paths, mask_paths, batch_size=1, shuffle=True):\n",
    "        if len(volume_paths) != len(mask_paths):\n",
    "            raise ValueError(\"Il numero dei volumi nel batch deve essere uguale al numero di maschere\")\n",
    "        return cls(list(zip(volume_paths, mask_paths)), batch_size=batch_size, shuffle=shuffle)"
   ]
  },
  {
   "attachments": {},
   "cell_type": "markdown",
   "metadata": {},
   "source": [
    "### Parametri del modello e addestramento"
   ]
  },
  {
   "attachments": {},
   "cell_type": "markdown",
   "metadata": {},
   "source": [
    "<div style=\"display: flex; align-items: center; text-align: center\">\n",
    "  <img src=\"https://upload.wikimedia.org/wikipedia/commons/thumb/d/d0/Google_Colaboratory_SVG_Logo.svg/1280px-Google_Colaboratory_SVG_Logo.svg.png\" width='10%' height='10%'>\n",
    "  <h3 style=\"margin: 0 0 0 40px;\">Parametri del modello e addestramento</h3>\n",
    "</div>"
   ]
  },
  {
   "attachments": {},
   "cell_type": "markdown",
   "metadata": {},
   "source": [
    "Per quanto concerne i parametri del modello di Unet-3D descritto poc'anzi, quelli su cui abbiamo deciso di intervenire sono:\n",
    "* la `batch_size`, ossia il numero di coppie volumi passati in input alla rete, per cui abbiamo stabilito un valore di 8 (corrispondenti al caricamento di tensori di forma $16\\times 64\\times 128\\times 128$), in modo da non saturare la RAM della GPU e comunque avere un numero decente di volumi per sessione di addestramento,\n",
    "* il numero di `epochs`, ossia il numero di *passate* che il modello effettua sul dataset ricevuto in input, fissato ad un valore ritenuto elevato (nello specifico 300 `epochs`)."
   ]
  },
  {
   "cell_type": "code",
   "execution_count": null,
   "metadata": {},
   "outputs": [],
   "source": [
    "BATCH_SIZE = 4\n",
    "EPOCHS = 300\n",
    "CHECKPOINT_DIR = '/content/drive/Shareddrives/BIG DATA/PROGETTO_FT/U_Net_3D/models/checkpoints/checkpoint.hdf5'\n",
    "LOG_DIR = '/content/drive/Shareddrives/BIG DATA/PROGETTO_FT/U_Net_3D/models/logs/history_log.csv'"
   ]
  },
  {
   "attachments": {},
   "cell_type": "markdown",
   "metadata": {},
   "source": [
    "Successivamente, abbiamo definito le strategie di apprendimento dinamico che la rete avrebbe dovuto seguire attraverso l'implementazione di funzioni di callback. Nello specifico:"
   ]
  },
  {
   "cell_type": "code",
   "execution_count": null,
   "metadata": {},
   "outputs": [],
   "source": [
    "from keras.callbacks import EarlyStopping, ModelCheckpoint\n",
    "from keras.losses import CategoricalCrossentropy\n",
    "from keras.optimizers import Adam\n",
    "from tensorflow.keras.optimizers.schedules import ExponentialDecay"
   ]
  },
  {
   "attachments": {},
   "cell_type": "markdown",
   "metadata": {},
   "source": [
    "* *Early Stopping*, ossia la strategia per cui l'addestramento su un batch termina nel momento in cui una metrica sotto osservazione non migliora in modo sufficiente per un determinato numero di epoche. Prevedendo un comportamento diverso nelle prime fasi dell'addestramento (dove l'apprendimento risulta molto più rapido) e nelle fasi successive (dove i miglioramenti diventano meno palpabili), abbiamo implementato due oggetti della classe `EarlyStopping` del modulo `keras.callbacks` in cui sono attuate queste strategie (rispetto al monitoraggio della `val_loss`):\n",
    "  1. In `early_stopping_start` abbiamo stabilito un `min_delta`, ossia una variazione minima del parametro per il periodo di osservazione, più elevato e una `patience` più bassa, per far sì che il modello fosse lasciato libero di apprendere senza incorrere in overfitting;\n",
    "  2. In `early_stopping_late` abbiamo stabilito un `min_delta` decisamente più basso, aumentando il numero di epoche per la `patience`, in modo da permettere al modello di registrare variazioni significative della `val_loss`."
   ]
  },
  {
   "cell_type": "code",
   "execution_count": null,
   "metadata": {},
   "outputs": [],
   "source": [
    "# PRIME FASI ADDESTRAMENTO\n",
    "# early_stopping = EarlyStopping(\n",
    "#   monitor='val_loss', \n",
    "#   patience=3, \n",
    "#   min_delta=100\n",
    "# )\n",
    "\n",
    "# FASI SUCCESSIVE ADDESTRAMENTO\n",
    "early_stopping = EarlyStopping(\n",
    "  monitor='val_loss', \n",
    "  patience=5, \n",
    "  min_delta=0.01\n",
    ")"
   ]
  },
  {
   "attachments": {},
   "cell_type": "markdown",
   "metadata": {},
   "source": [
    "* *Exponential Decay*, ossia la strategia di variazione dinamica del learning rate in forma esponenziale, secondo la formula $$f (x) = a (1 + r)^x$$ dove:\n",
    "  1. $a$ è il learning rate iniziale, con cui inizia ogni epoca\n",
    "  2. $r$ è il tasso di variazione, con cui si determina la base della funzione esponenziale di variazione del `LR`\n",
    "  3. $x$ è il numero di intervalli di tempo per cui calcolare il valore aggiornato del `LR`"
   ]
  },
  {
   "cell_type": "code",
   "execution_count": null,
   "metadata": {},
   "outputs": [],
   "source": [
    "decayed_lr = ExponentialDecay(\n",
    "  initial_learning_rate=1e-3, \n",
    "  decay_steps=13,\n",
    "  decay_rate=0.95, \n",
    "  staircase=False\n",
    ")\n",
    "\n",
    "adam = Adam(\n",
    "  learning_rate=decayed_lr\n",
    ")"
   ]
  },
  {
   "attachments": {},
   "cell_type": "markdown",
   "metadata": {},
   "source": [
    "* *Model Checkpoint*, ossia uno strumento utile per mantenere i progressi del modello in fase di training. Nello specifico, abbiamo deciso di utilizzare un oggetto `ModelCheckpoint` del modulo `keras.callbacks`, che salva il checkpoint in una directory passata in input secondo delle modalità stabilite manualmente.<br>Innanzitutto, bisogna stabilire un `monitor`, ossia la quantità da valutare per stabilire quale checkpoint salvare; successivamente bisogna stabilire se salvare tutti i checkpoints di tutte le epoche, o solamente il migliore nel monitoraggio, attraverso il parametro `save_best_only`; infine, si deve stabilire se, nel file generato, si vogliono salvare solo i pesi della rete oppure l'intero modello attraverso il parametro `save_weights_only`"
   ]
  },
  {
   "cell_type": "code",
   "execution_count": null,
   "metadata": {},
   "outputs": [],
   "source": [
    "model_checkpoint = ModelCheckpoint(\n",
    "  filepath = CHECKPOINT_DIR,\n",
    "  monitor = 'val_loss', \n",
    "  save_best_only = True,\n",
    "  save_weights_only = False\n",
    ")"
   ]
  },
  {
   "attachments": {},
   "cell_type": "markdown",
   "metadata": {},
   "source": [
    "Infine, passiamo all'addestramento vero e proprio del modello attraverso il metodo `fit` dell'oggetto `keras.Model`, cui passiamo in input:\n",
    "* il Data Generator per il `train_set`, contenente i volumi sia delle scansioni che delle maschere (ossia le ground truths per il modello),\n",
    "* il numero di epoche,\n",
    "* dei `validation_data`, inseriti in quanto `model.fit` non supporta la `validation_split` quando riceve in input elementi di tipo `Sequence`, ottenuti attraverso una nuova istanza del Data Generator specifica per i percorsi di validazione ottenuti con la suddivisione fatta in precedenza,\n",
    "* le funzioni di Callback definite in precedenza e un numero di `steps_per_epoch` (di default pari a `len(dataset)/BATCH_SIZE`) posto a un valore arbitrario.\n",
    "\n",
    "Il metodo `fit` prevede anche un parametro `verbose`, che accetta valori tra 0 e 2, con cui si rende l'output del metodo più ricco di informazioni utili in fase di ottimizzazione del modello. In una prima fase tale parametro viene impostato pari a 2, ossia il livello massimo di verbosità dell'output, salvo poi essere impostato, ai fini di una maggiore facilità di comprensione e di una migliore presentazione del notebook, a 1.\n",
    "\n",
    "**N.B.** per garantire un addestramento continuo con le risorse a disposizione, si è deciso di integrare tutta la parte di caricamento del checkpoint, addestramento, salvataggio del checkpoint e logging all'interno di un ciclo python `while True`"
   ]
  },
  {
   "cell_type": "code",
   "execution_count": null,
   "metadata": {},
   "outputs": [],
   "source": [
    "import os\n",
    "\n",
    "train_files_generator = TiffDataGenerator.from_paths(\n",
    "  train_files_paths,\n",
    "  train_labels_paths, \n",
    "  batch_size=BATCH_SIZE\n",
    ")\n",
    "\n",
    "validation_files_generator = TiffDataGenerator.from_paths(\n",
    "  validation_files_paths, \n",
    "  validation_labels_paths, \n",
    "  batch_size=BATCH_SIZE\n",
    ")\n",
    "\n",
    "while True:\n",
    "  model = unet_3d()\n",
    "\n",
    "  model.compile(optimizer=adam, metrics=[hausdorff_3d, dice_coefficient], loss='categorical_crossentropy')\n",
    "\n",
    "  if os.path.isfile(CHECKPOINT_DIR):\n",
    "    model.load_weights(CHECKPOINT_DIR)\n",
    "    print(f'\\nCaricato il checkpoint in \\033[1;34m{CHECKPOINT_DIR}\\033[0m\\n')\n",
    "\n",
    "  history = model.fit(\n",
    "    train_files_generator, \n",
    "    epochs=EPOCHS,\n",
    "    validation_data=[validation_files_generator],\n",
    "    workers = 1,\n",
    "    verbose=2, \n",
    "    callbacks=[early_stopping, model_checkpoint]\n",
    "  )\n",
    "\n",
    "  print(f'\\nGenerato checkpoint in \\033[1;34m{CHECKPOINT_DIR}\\033[0m\\n')\n",
    "  print('-------------------------------------------------------------------\\n')\n",
    "\n",
    "  import pandas as pd\n",
    "\n",
    "  pd.DataFrame(history.history).to_csv(LOG_DIR)"
   ]
  },
  {
   "attachments": {},
   "cell_type": "markdown",
   "metadata": {},
   "source": [
    "> #### Variazioni dell'Early Stopping"
   ]
  },
  {
   "attachments": {},
   "cell_type": "markdown",
   "metadata": {},
   "source": [
    "Come parametro di valutazione per l'early stopping abbiamo scelto la `val_loss`. Quello che resta da determinare è la variazione minima del parametro e il numero di epoche da attenzionare come periodo di valutazione, rispettivamente rappresentati dal `min_delta` e dalla `patience`.\n",
    "\n",
    "1. Inizialmente, abbiamo posto il `min_delta` pari a `0.01` per una patience di `5 epochs`, ma il risultato è stato un **overfitting** della rete già al primo batch;\n",
    "\n",
    "2. Abbiamo pensato, quindi, di abbassare il numero di `epochs` per la `patience`, portandolo a `3`, tarando il `min_delta` verso l'alto (per esempio `0.05`), in modo da evitare l'overfitting dopo solo **8 volumi**, ma l'addestramento in fase primordiale ha allungato sensibilmente i tempi.\n",
    "\n",
    "3. Infine, abbiamo ideato la strategia descritta poc'anzi, per cui abbiamo tarato ulteriormente verso l'alto il `min_delta`, portandolo a `100`, ma abbiamo introdotto un secondo oggetto `EarlyStopping` per le fasi successive dell'addestramento, con un `min_delta` molto più basso, pari a `0.01`, e incrementando il numero di epoche di `patience`, adesso pari a `5`.\n",
    "\n"
   ]
  },
  {
   "attachments": {},
   "cell_type": "markdown",
   "metadata": {},
   "source": [
    "> #### Variazioni Learning Rate Scheduling"
   ]
  },
  {
   "attachments": {},
   "cell_type": "markdown",
   "metadata": {},
   "source": [
    "Come valore iniziale del `learning_rate` si è scelto `1e-3`, pensando ad una discesa del valore esponenziale attraverso una strategia di scheduling nota come **Exponential Decay**, implementata attraverso la classe omonima del pacchetto `tensorflow.keras.optimizers.schedules`.<br>\n",
    "Come $\\Delta _t$ per effettuare la variazione, si è dovuto scegliere un valore proporzionale al rapporto $\\frac{\\text{len}(D_s)}{|B|}$ , qui pari a 26. In una prima fase dell'addestramento si è voluto scegliere 13 come valore per `decay_steps`, mentre in una seconda fase, dopo che sono stati passati i primi volumi, tale valore è stato portato a 2.\n",
    "Come fattore di variazione, si è deciso di mantenere per tutta la durata dell'addestramento un valore di 0.95 per il `decay_rate`.\n"
   ]
  },
  {
   "attachments": {},
   "cell_type": "markdown",
   "metadata": {},
   "source": [
    "### Valutazioni sull'addestramento"
   ]
  },
  {
   "attachments": {},
   "cell_type": "markdown",
   "metadata": {},
   "source": [
    "Poiché il numero di volumi si è rivelato particolarmente basso e il numero di possibili trasformazioni rendevano estremamente variabili i vari campioni del training set, l'addestramento di un modello Unet-3D vergine si è rivelato particolarmente infruttuoso, fornendo metriche gravemente insufficienti e risultati che, già visivamente, mostravano pochissima precisione.\n",
    "\n",
    "Pertanto, non abbiamo voluto approfondire ulteriormente questo approccio e abbiamo cercato percorsi alternativi."
   ]
  },
  {
   "attachments": {},
   "cell_type": "markdown",
   "metadata": {},
   "source": [
    "## **U-Net 3D** - Secondo approccio"
   ]
  },
  {
   "attachments": {},
   "cell_type": "markdown",
   "metadata": {},
   "source": [
    "### Elenco `import`"
   ]
  },
  {
   "cell_type": "code",
   "execution_count": null,
   "metadata": {},
   "outputs": [],
   "source": [
    "import segmentation_models_3D as sm\n",
    "import tensorflow as tf\n",
    "import keras\n",
    "import keras.backend as K\n",
    "import numpy as np\n",
    "import cv2\n",
    "import tifffile as tiff\n",
    "\n",
    "from glob import glob\n",
    "from keras.utils import Sequence, to_categorical\n",
    "from keras.callbacks import EarlyStopping, ModelCheckpoint\n",
    "from matplotlib import pyplot as plt"
   ]
  },
  {
   "attachments": {},
   "cell_type": "markdown",
   "metadata": {},
   "source": [
    "### Elenco `path`"
   ]
  },
  {
   "cell_type": "code",
   "execution_count": null,
   "metadata": {},
   "outputs": [
    {
     "name": "stdout",
     "output_type": "stream",
     "text": [
      "Sono presenti 274 volumi di scansioni\n",
      "\n",
      "Sono presenti 274 volumi di maschere\n",
      "\n"
     ]
    }
   ],
   "source": [
    "VOLUMES_PATH = sorted(glob('./dataset/slices/*.tif'))\n",
    "MASKS_PATH = sorted(glob('./dataset/masks/*.tif'))\n",
    "\n",
    "print(f'Sono presenti {len(VOLUMES_PATH)} volumi di scansioni\\n')\n",
    "print(f'Sono presenti {len(MASKS_PATH)} volumi di maschere\\n')"
   ]
  },
  {
   "attachments": {},
   "cell_type": "markdown",
   "metadata": {},
   "source": [
    "### Modello"
   ]
  },
  {
   "attachments": {},
   "cell_type": "markdown",
   "metadata": {},
   "source": [
    "Essendo stato infruttuoso il tentativo di addestramento di un modello vergine di Unet-3D, abbiamo pensato potesse essere un'idea migliore quella di effettuare del **trasferimento di conoscenza**, utilizzando quindi una prima parte del modello (l'*encoder*) sotto forma di rete preaddestrata, il cosiddetto **backbone**, che avrebbe generato un input migliore per l'encoder grazie al fatto di avere parametri pesati sulla base di un addestramento precedente (certamente con più campioni).\n",
    "\n",
    "Nel seguente listato presentiamo quelle che sono le nostre scelte riguardo al backbone e agli altri parametri necessari alla creazione di una Unet-3D secondo la libreria `segmentation-models-3D`."
   ]
  },
  {
   "cell_type": "code",
   "execution_count": null,
   "metadata": {},
   "outputs": [],
   "source": [
    "ENCODER_WEIGHTS = 'imagenet'\n",
    "BACKBONE = 'resnet50' \n",
    "ACTIVATION = 'softmax'\n",
    "N_CLASSES = 4\n",
    "CHANNELS=3\n",
    "\n",
    "preprocess_input = sm.get_preprocessing(BACKBONE)"
   ]
  },
  {
   "cell_type": "code",
   "execution_count": null,
   "metadata": {},
   "outputs": [
    {
     "name": "stdout",
     "output_type": "stream",
     "text": [
      "Model: \"model_1\"\n",
      "__________________________________________________________________________________________________\n",
      " Layer (type)                   Output Shape         Param #     Connected to                     \n",
      "==================================================================================================\n",
      " data (InputLayer)              [(None, 64, 128, 12  0           []                               \n",
      "                                8, 3)]                                                            \n",
      "                                                                                                  \n",
      " bn_data (BatchNormalization)   (None, 64, 128, 128  9           ['data[0][0]']                   \n",
      "                                , 3)                                                              \n",
      "                                                                                                  \n",
      " zero_padding3d (ZeroPadding3D)  (None, 70, 134, 134  0          ['bn_data[0][0]']                \n",
      "                                , 3)                                                              \n",
      "                                                                                                  \n",
      " conv0 (Conv3D)                 (None, 32, 64, 64,   65856       ['zero_padding3d[0][0]']         \n",
      "                                64)                                                               \n",
      "                                                                                                  \n",
      " bn0 (BatchNormalization)       (None, 32, 64, 64,   256         ['conv0[0][0]']                  \n",
      "                                64)                                                               \n",
      "                                                                                                  \n",
      " relu0 (Activation)             (None, 32, 64, 64,   0           ['bn0[0][0]']                    \n",
      "                                64)                                                               \n",
      "                                                                                                  \n",
      " zero_padding3d_1 (ZeroPadding3  (None, 34, 66, 66,   0          ['relu0[0][0]']                  \n",
      " D)                             64)                                                               \n",
      "                                                                                                  \n",
      " pooling0 (MaxPooling3D)        (None, 16, 32, 32,   0           ['zero_padding3d_1[0][0]']       \n",
      "                                64)                                                               \n",
      "                                                                                                  \n",
      " stage1_unit1_bn1 (BatchNormali  (None, 16, 32, 32,   256        ['pooling0[0][0]']               \n",
      " zation)                        64)                                                               \n",
      "                                                                                                  \n",
      " stage1_unit1_relu1 (Activation  (None, 16, 32, 32,   0          ['stage1_unit1_bn1[0][0]']       \n",
      " )                              64)                                                               \n",
      "                                                                                                  \n",
      " stage1_unit1_conv1 (Conv3D)    (None, 16, 32, 32,   4096        ['stage1_unit1_relu1[0][0]']     \n",
      "                                64)                                                               \n",
      "                                                                                                  \n",
      " stage1_unit1_bn2 (BatchNormali  (None, 16, 32, 32,   256        ['stage1_unit1_conv1[0][0]']     \n",
      " zation)                        64)                                                               \n",
      "                                                                                                  \n",
      " stage1_unit1_relu2 (Activation  (None, 16, 32, 32,   0          ['stage1_unit1_bn2[0][0]']       \n",
      " )                              64)                                                               \n",
      "                                                                                                  \n",
      " zero_padding3d_2 (ZeroPadding3  (None, 18, 34, 34,   0          ['stage1_unit1_relu2[0][0]']     \n",
      " D)                             64)                                                               \n",
      "                                                                                                  \n",
      " stage1_unit1_conv2 (Conv3D)    (None, 16, 32, 32,   110592      ['zero_padding3d_2[0][0]']       \n",
      "                                64)                                                               \n",
      "                                                                                                  \n",
      " stage1_unit1_bn3 (BatchNormali  (None, 16, 32, 32,   256        ['stage1_unit1_conv2[0][0]']     \n",
      " zation)                        64)                                                               \n",
      "                                                                                                  \n",
      " stage1_unit1_relu3 (Activation  (None, 16, 32, 32,   0          ['stage1_unit1_bn3[0][0]']       \n",
      " )                              64)                                                               \n",
      "                                                                                                  \n",
      " stage1_unit1_conv3 (Conv3D)    (None, 16, 32, 32,   16384       ['stage1_unit1_relu3[0][0]']     \n",
      "                                256)                                                              \n",
      "                                                                                                  \n",
      " stage1_unit1_sc (Conv3D)       (None, 16, 32, 32,   16384       ['stage1_unit1_relu1[0][0]']     \n",
      "                                256)                                                              \n",
      "                                                                                                  \n",
      " add (Add)                      (None, 16, 32, 32,   0           ['stage1_unit1_conv3[0][0]',     \n",
      "                                256)                              'stage1_unit1_sc[0][0]']        \n",
      "                                                                                                  \n",
      " stage1_unit2_bn1 (BatchNormali  (None, 16, 32, 32,   1024       ['add[0][0]']                    \n",
      " zation)                        256)                                                              \n",
      "                                                                                                  \n",
      " stage1_unit2_relu1 (Activation  (None, 16, 32, 32,   0          ['stage1_unit2_bn1[0][0]']       \n",
      " )                              256)                                                              \n",
      "                                                                                                  \n",
      " stage1_unit2_conv1 (Conv3D)    (None, 16, 32, 32,   16384       ['stage1_unit2_relu1[0][0]']     \n",
      "                                64)                                                               \n",
      "                                                                                                  \n",
      " stage1_unit2_bn2 (BatchNormali  (None, 16, 32, 32,   256        ['stage1_unit2_conv1[0][0]']     \n",
      " zation)                        64)                                                               \n",
      "                                                                                                  \n",
      " stage1_unit2_relu2 (Activation  (None, 16, 32, 32,   0          ['stage1_unit2_bn2[0][0]']       \n",
      " )                              64)                                                               \n",
      "                                                                                                  \n",
      " zero_padding3d_3 (ZeroPadding3  (None, 18, 34, 34,   0          ['stage1_unit2_relu2[0][0]']     \n",
      " D)                             64)                                                               \n",
      "                                                                                                  \n",
      " stage1_unit2_conv2 (Conv3D)    (None, 16, 32, 32,   110592      ['zero_padding3d_3[0][0]']       \n",
      "                                64)                                                               \n",
      "                                                                                                  \n",
      " stage1_unit2_bn3 (BatchNormali  (None, 16, 32, 32,   256        ['stage1_unit2_conv2[0][0]']     \n",
      " zation)                        64)                                                               \n",
      "                                                                                                  \n",
      " stage1_unit2_relu3 (Activation  (None, 16, 32, 32,   0          ['stage1_unit2_bn3[0][0]']       \n",
      " )                              64)                                                               \n",
      "                                                                                                  \n",
      " stage1_unit2_conv3 (Conv3D)    (None, 16, 32, 32,   16384       ['stage1_unit2_relu3[0][0]']     \n",
      "                                256)                                                              \n",
      "                                                                                                  \n",
      " add_1 (Add)                    (None, 16, 32, 32,   0           ['stage1_unit2_conv3[0][0]',     \n",
      "                                256)                              'add[0][0]']                    \n",
      "                                                                                                  \n",
      " stage1_unit3_bn1 (BatchNormali  (None, 16, 32, 32,   1024       ['add_1[0][0]']                  \n",
      " zation)                        256)                                                              \n",
      "                                                                                                  \n",
      " stage1_unit3_relu1 (Activation  (None, 16, 32, 32,   0          ['stage1_unit3_bn1[0][0]']       \n",
      " )                              256)                                                              \n",
      "                                                                                                  \n",
      " stage1_unit3_conv1 (Conv3D)    (None, 16, 32, 32,   16384       ['stage1_unit3_relu1[0][0]']     \n",
      "                                64)                                                               \n",
      "                                                                                                  \n",
      " stage1_unit3_bn2 (BatchNormali  (None, 16, 32, 32,   256        ['stage1_unit3_conv1[0][0]']     \n",
      " zation)                        64)                                                               \n",
      "                                                                                                  \n",
      " stage1_unit3_relu2 (Activation  (None, 16, 32, 32,   0          ['stage1_unit3_bn2[0][0]']       \n",
      " )                              64)                                                               \n",
      "                                                                                                  \n",
      " zero_padding3d_4 (ZeroPadding3  (None, 18, 34, 34,   0          ['stage1_unit3_relu2[0][0]']     \n",
      " D)                             64)                                                               \n",
      "                                                                                                  \n",
      " stage1_unit3_conv2 (Conv3D)    (None, 16, 32, 32,   110592      ['zero_padding3d_4[0][0]']       \n",
      "                                64)                                                               \n",
      "                                                                                                  \n",
      " stage1_unit3_bn3 (BatchNormali  (None, 16, 32, 32,   256        ['stage1_unit3_conv2[0][0]']     \n",
      " zation)                        64)                                                               \n",
      "                                                                                                  \n",
      " stage1_unit3_relu3 (Activation  (None, 16, 32, 32,   0          ['stage1_unit3_bn3[0][0]']       \n",
      " )                              64)                                                               \n",
      "                                                                                                  \n",
      " stage1_unit3_conv3 (Conv3D)    (None, 16, 32, 32,   16384       ['stage1_unit3_relu3[0][0]']     \n",
      "                                256)                                                              \n",
      "                                                                                                  \n",
      " add_2 (Add)                    (None, 16, 32, 32,   0           ['stage1_unit3_conv3[0][0]',     \n",
      "                                256)                              'add_1[0][0]']                  \n",
      "                                                                                                  \n",
      " stage2_unit1_bn1 (BatchNormali  (None, 16, 32, 32,   1024       ['add_2[0][0]']                  \n",
      " zation)                        256)                                                              \n",
      "                                                                                                  \n",
      " stage2_unit1_relu1 (Activation  (None, 16, 32, 32,   0          ['stage2_unit1_bn1[0][0]']       \n",
      " )                              256)                                                              \n",
      "                                                                                                  \n",
      " stage2_unit1_conv1 (Conv3D)    (None, 16, 32, 32,   32768       ['stage2_unit1_relu1[0][0]']     \n",
      "                                128)                                                              \n",
      "                                                                                                  \n",
      " stage2_unit1_bn2 (BatchNormali  (None, 16, 32, 32,   512        ['stage2_unit1_conv1[0][0]']     \n",
      " zation)                        128)                                                              \n",
      "                                                                                                  \n",
      " stage2_unit1_relu2 (Activation  (None, 16, 32, 32,   0          ['stage2_unit1_bn2[0][0]']       \n",
      " )                              128)                                                              \n",
      "                                                                                                  \n",
      " zero_padding3d_5 (ZeroPadding3  (None, 18, 34, 34,   0          ['stage2_unit1_relu2[0][0]']     \n",
      " D)                             128)                                                              \n",
      "                                                                                                  \n",
      " stage2_unit1_conv2 (Conv3D)    (None, 8, 16, 16, 1  442368      ['zero_padding3d_5[0][0]']       \n",
      "                                28)                                                               \n",
      "                                                                                                  \n",
      " stage2_unit1_bn3 (BatchNormali  (None, 8, 16, 16, 1  512        ['stage2_unit1_conv2[0][0]']     \n",
      " zation)                        28)                                                               \n",
      "                                                                                                  \n",
      " stage2_unit1_relu3 (Activation  (None, 8, 16, 16, 1  0          ['stage2_unit1_bn3[0][0]']       \n",
      " )                              28)                                                               \n",
      "                                                                                                  \n",
      " stage2_unit1_conv3 (Conv3D)    (None, 8, 16, 16, 5  65536       ['stage2_unit1_relu3[0][0]']     \n",
      "                                12)                                                               \n",
      "                                                                                                  \n",
      " stage2_unit1_sc (Conv3D)       (None, 8, 16, 16, 5  131072      ['stage2_unit1_relu1[0][0]']     \n",
      "                                12)                                                               \n",
      "                                                                                                  \n",
      " add_3 (Add)                    (None, 8, 16, 16, 5  0           ['stage2_unit1_conv3[0][0]',     \n",
      "                                12)                               'stage2_unit1_sc[0][0]']        \n",
      "                                                                                                  \n",
      " stage2_unit2_bn1 (BatchNormali  (None, 8, 16, 16, 5  2048       ['add_3[0][0]']                  \n",
      " zation)                        12)                                                               \n",
      "                                                                                                  \n",
      " stage2_unit2_relu1 (Activation  (None, 8, 16, 16, 5  0          ['stage2_unit2_bn1[0][0]']       \n",
      " )                              12)                                                               \n",
      "                                                                                                  \n",
      " stage2_unit2_conv1 (Conv3D)    (None, 8, 16, 16, 1  65536       ['stage2_unit2_relu1[0][0]']     \n",
      "                                28)                                                               \n",
      "                                                                                                  \n",
      " stage2_unit2_bn2 (BatchNormali  (None, 8, 16, 16, 1  512        ['stage2_unit2_conv1[0][0]']     \n",
      " zation)                        28)                                                               \n",
      "                                                                                                  \n",
      " stage2_unit2_relu2 (Activation  (None, 8, 16, 16, 1  0          ['stage2_unit2_bn2[0][0]']       \n",
      " )                              28)                                                               \n",
      "                                                                                                  \n",
      " zero_padding3d_6 (ZeroPadding3  (None, 10, 18, 18,   0          ['stage2_unit2_relu2[0][0]']     \n",
      " D)                             128)                                                              \n",
      "                                                                                                  \n",
      " stage2_unit2_conv2 (Conv3D)    (None, 8, 16, 16, 1  442368      ['zero_padding3d_6[0][0]']       \n",
      "                                28)                                                               \n",
      "                                                                                                  \n",
      " stage2_unit2_bn3 (BatchNormali  (None, 8, 16, 16, 1  512        ['stage2_unit2_conv2[0][0]']     \n",
      " zation)                        28)                                                               \n",
      "                                                                                                  \n",
      " stage2_unit2_relu3 (Activation  (None, 8, 16, 16, 1  0          ['stage2_unit2_bn3[0][0]']       \n",
      " )                              28)                                                               \n",
      "                                                                                                  \n",
      " stage2_unit2_conv3 (Conv3D)    (None, 8, 16, 16, 5  65536       ['stage2_unit2_relu3[0][0]']     \n",
      "                                12)                                                               \n",
      "                                                                                                  \n",
      " add_4 (Add)                    (None, 8, 16, 16, 5  0           ['stage2_unit2_conv3[0][0]',     \n",
      "                                12)                               'add_3[0][0]']                  \n",
      "                                                                                                  \n",
      " stage2_unit3_bn1 (BatchNormali  (None, 8, 16, 16, 5  2048       ['add_4[0][0]']                  \n",
      " zation)                        12)                                                               \n",
      "                                                                                                  \n",
      " stage2_unit3_relu1 (Activation  (None, 8, 16, 16, 5  0          ['stage2_unit3_bn1[0][0]']       \n",
      " )                              12)                                                               \n",
      "                                                                                                  \n",
      " stage2_unit3_conv1 (Conv3D)    (None, 8, 16, 16, 1  65536       ['stage2_unit3_relu1[0][0]']     \n",
      "                                28)                                                               \n",
      "                                                                                                  \n",
      " stage2_unit3_bn2 (BatchNormali  (None, 8, 16, 16, 1  512        ['stage2_unit3_conv1[0][0]']     \n",
      " zation)                        28)                                                               \n",
      "                                                                                                  \n",
      " stage2_unit3_relu2 (Activation  (None, 8, 16, 16, 1  0          ['stage2_unit3_bn2[0][0]']       \n",
      " )                              28)                                                               \n",
      "                                                                                                  \n",
      " zero_padding3d_7 (ZeroPadding3  (None, 10, 18, 18,   0          ['stage2_unit3_relu2[0][0]']     \n",
      " D)                             128)                                                              \n",
      "                                                                                                  \n",
      " stage2_unit3_conv2 (Conv3D)    (None, 8, 16, 16, 1  442368      ['zero_padding3d_7[0][0]']       \n",
      "                                28)                                                               \n",
      "                                                                                                  \n",
      " stage2_unit3_bn3 (BatchNormali  (None, 8, 16, 16, 1  512        ['stage2_unit3_conv2[0][0]']     \n",
      " zation)                        28)                                                               \n",
      "                                                                                                  \n",
      " stage2_unit3_relu3 (Activation  (None, 8, 16, 16, 1  0          ['stage2_unit3_bn3[0][0]']       \n",
      " )                              28)                                                               \n",
      "                                                                                                  \n",
      " stage2_unit3_conv3 (Conv3D)    (None, 8, 16, 16, 5  65536       ['stage2_unit3_relu3[0][0]']     \n",
      "                                12)                                                               \n",
      "                                                                                                  \n",
      " add_5 (Add)                    (None, 8, 16, 16, 5  0           ['stage2_unit3_conv3[0][0]',     \n",
      "                                12)                               'add_4[0][0]']                  \n",
      "                                                                                                  \n",
      " stage2_unit4_bn1 (BatchNormali  (None, 8, 16, 16, 5  2048       ['add_5[0][0]']                  \n",
      " zation)                        12)                                                               \n",
      "                                                                                                  \n",
      " stage2_unit4_relu1 (Activation  (None, 8, 16, 16, 5  0          ['stage2_unit4_bn1[0][0]']       \n",
      " )                              12)                                                               \n",
      "                                                                                                  \n",
      " stage2_unit4_conv1 (Conv3D)    (None, 8, 16, 16, 1  65536       ['stage2_unit4_relu1[0][0]']     \n",
      "                                28)                                                               \n",
      "                                                                                                  \n",
      " stage2_unit4_bn2 (BatchNormali  (None, 8, 16, 16, 1  512        ['stage2_unit4_conv1[0][0]']     \n",
      " zation)                        28)                                                               \n",
      "                                                                                                  \n",
      " stage2_unit4_relu2 (Activation  (None, 8, 16, 16, 1  0          ['stage2_unit4_bn2[0][0]']       \n",
      " )                              28)                                                               \n",
      "                                                                                                  \n",
      " zero_padding3d_8 (ZeroPadding3  (None, 10, 18, 18,   0          ['stage2_unit4_relu2[0][0]']     \n",
      " D)                             128)                                                              \n",
      "                                                                                                  \n",
      " stage2_unit4_conv2 (Conv3D)    (None, 8, 16, 16, 1  442368      ['zero_padding3d_8[0][0]']       \n",
      "                                28)                                                               \n",
      "                                                                                                  \n",
      " stage2_unit4_bn3 (BatchNormali  (None, 8, 16, 16, 1  512        ['stage2_unit4_conv2[0][0]']     \n",
      " zation)                        28)                                                               \n",
      "                                                                                                  \n",
      " stage2_unit4_relu3 (Activation  (None, 8, 16, 16, 1  0          ['stage2_unit4_bn3[0][0]']       \n",
      " )                              28)                                                               \n",
      "                                                                                                  \n",
      " stage2_unit4_conv3 (Conv3D)    (None, 8, 16, 16, 5  65536       ['stage2_unit4_relu3[0][0]']     \n",
      "                                12)                                                               \n",
      "                                                                                                  \n",
      " add_6 (Add)                    (None, 8, 16, 16, 5  0           ['stage2_unit4_conv3[0][0]',     \n",
      "                                12)                               'add_5[0][0]']                  \n",
      "                                                                                                  \n",
      " stage3_unit1_bn1 (BatchNormali  (None, 8, 16, 16, 5  2048       ['add_6[0][0]']                  \n",
      " zation)                        12)                                                               \n",
      "                                                                                                  \n",
      " stage3_unit1_relu1 (Activation  (None, 8, 16, 16, 5  0          ['stage3_unit1_bn1[0][0]']       \n",
      " )                              12)                                                               \n",
      "                                                                                                  \n",
      " stage3_unit1_conv1 (Conv3D)    (None, 8, 16, 16, 2  131072      ['stage3_unit1_relu1[0][0]']     \n",
      "                                56)                                                               \n",
      "                                                                                                  \n",
      " stage3_unit1_bn2 (BatchNormali  (None, 8, 16, 16, 2  1024       ['stage3_unit1_conv1[0][0]']     \n",
      " zation)                        56)                                                               \n",
      "                                                                                                  \n",
      " stage3_unit1_relu2 (Activation  (None, 8, 16, 16, 2  0          ['stage3_unit1_bn2[0][0]']       \n",
      " )                              56)                                                               \n",
      "                                                                                                  \n",
      " zero_padding3d_9 (ZeroPadding3  (None, 10, 18, 18,   0          ['stage3_unit1_relu2[0][0]']     \n",
      " D)                             256)                                                              \n",
      "                                                                                                  \n",
      " stage3_unit1_conv2 (Conv3D)    (None, 4, 8, 8, 256  1769472     ['zero_padding3d_9[0][0]']       \n",
      "                                )                                                                 \n",
      "                                                                                                  \n",
      " stage3_unit1_bn3 (BatchNormali  (None, 4, 8, 8, 256  1024       ['stage3_unit1_conv2[0][0]']     \n",
      " zation)                        )                                                                 \n",
      "                                                                                                  \n",
      " stage3_unit1_relu3 (Activation  (None, 4, 8, 8, 256  0          ['stage3_unit1_bn3[0][0]']       \n",
      " )                              )                                                                 \n",
      "                                                                                                  \n",
      " stage3_unit1_conv3 (Conv3D)    (None, 4, 8, 8, 102  262144      ['stage3_unit1_relu3[0][0]']     \n",
      "                                4)                                                                \n",
      "                                                                                                  \n",
      " stage3_unit1_sc (Conv3D)       (None, 4, 8, 8, 102  524288      ['stage3_unit1_relu1[0][0]']     \n",
      "                                4)                                                                \n",
      "                                                                                                  \n",
      " add_7 (Add)                    (None, 4, 8, 8, 102  0           ['stage3_unit1_conv3[0][0]',     \n",
      "                                4)                                'stage3_unit1_sc[0][0]']        \n",
      "                                                                                                  \n",
      " stage3_unit2_bn1 (BatchNormali  (None, 4, 8, 8, 102  4096       ['add_7[0][0]']                  \n",
      " zation)                        4)                                                                \n",
      "                                                                                                  \n",
      " stage3_unit2_relu1 (Activation  (None, 4, 8, 8, 102  0          ['stage3_unit2_bn1[0][0]']       \n",
      " )                              4)                                                                \n",
      "                                                                                                  \n",
      " stage3_unit2_conv1 (Conv3D)    (None, 4, 8, 8, 256  262144      ['stage3_unit2_relu1[0][0]']     \n",
      "                                )                                                                 \n",
      "                                                                                                  \n",
      " stage3_unit2_bn2 (BatchNormali  (None, 4, 8, 8, 256  1024       ['stage3_unit2_conv1[0][0]']     \n",
      " zation)                        )                                                                 \n",
      "                                                                                                  \n",
      " stage3_unit2_relu2 (Activation  (None, 4, 8, 8, 256  0          ['stage3_unit2_bn2[0][0]']       \n",
      " )                              )                                                                 \n",
      "                                                                                                  \n",
      " zero_padding3d_10 (ZeroPadding  (None, 6, 10, 10, 2  0          ['stage3_unit2_relu2[0][0]']     \n",
      " 3D)                            56)                                                               \n",
      "                                                                                                  \n",
      " stage3_unit2_conv2 (Conv3D)    (None, 4, 8, 8, 256  1769472     ['zero_padding3d_10[0][0]']      \n",
      "                                )                                                                 \n",
      "                                                                                                  \n",
      " stage3_unit2_bn3 (BatchNormali  (None, 4, 8, 8, 256  1024       ['stage3_unit2_conv2[0][0]']     \n",
      " zation)                        )                                                                 \n",
      "                                                                                                  \n",
      " stage3_unit2_relu3 (Activation  (None, 4, 8, 8, 256  0          ['stage3_unit2_bn3[0][0]']       \n",
      " )                              )                                                                 \n",
      "                                                                                                  \n",
      " stage3_unit2_conv3 (Conv3D)    (None, 4, 8, 8, 102  262144      ['stage3_unit2_relu3[0][0]']     \n",
      "                                4)                                                                \n",
      "                                                                                                  \n",
      " add_8 (Add)                    (None, 4, 8, 8, 102  0           ['stage3_unit2_conv3[0][0]',     \n",
      "                                4)                                'add_7[0][0]']                  \n",
      "                                                                                                  \n",
      " stage3_unit3_bn1 (BatchNormali  (None, 4, 8, 8, 102  4096       ['add_8[0][0]']                  \n",
      " zation)                        4)                                                                \n",
      "                                                                                                  \n",
      " stage3_unit3_relu1 (Activation  (None, 4, 8, 8, 102  0          ['stage3_unit3_bn1[0][0]']       \n",
      " )                              4)                                                                \n",
      "                                                                                                  \n",
      " stage3_unit3_conv1 (Conv3D)    (None, 4, 8, 8, 256  262144      ['stage3_unit3_relu1[0][0]']     \n",
      "                                )                                                                 \n",
      "                                                                                                  \n",
      " stage3_unit3_bn2 (BatchNormali  (None, 4, 8, 8, 256  1024       ['stage3_unit3_conv1[0][0]']     \n",
      " zation)                        )                                                                 \n",
      "                                                                                                  \n",
      " stage3_unit3_relu2 (Activation  (None, 4, 8, 8, 256  0          ['stage3_unit3_bn2[0][0]']       \n",
      " )                              )                                                                 \n",
      "                                                                                                  \n",
      " zero_padding3d_11 (ZeroPadding  (None, 6, 10, 10, 2  0          ['stage3_unit3_relu2[0][0]']     \n",
      " 3D)                            56)                                                               \n",
      "                                                                                                  \n",
      " stage3_unit3_conv2 (Conv3D)    (None, 4, 8, 8, 256  1769472     ['zero_padding3d_11[0][0]']      \n",
      "                                )                                                                 \n",
      "                                                                                                  \n",
      " stage3_unit3_bn3 (BatchNormali  (None, 4, 8, 8, 256  1024       ['stage3_unit3_conv2[0][0]']     \n",
      " zation)                        )                                                                 \n",
      "                                                                                                  \n",
      " stage3_unit3_relu3 (Activation  (None, 4, 8, 8, 256  0          ['stage3_unit3_bn3[0][0]']       \n",
      " )                              )                                                                 \n",
      "                                                                                                  \n",
      " stage3_unit3_conv3 (Conv3D)    (None, 4, 8, 8, 102  262144      ['stage3_unit3_relu3[0][0]']     \n",
      "                                4)                                                                \n",
      "                                                                                                  \n",
      " add_9 (Add)                    (None, 4, 8, 8, 102  0           ['stage3_unit3_conv3[0][0]',     \n",
      "                                4)                                'add_8[0][0]']                  \n",
      "                                                                                                  \n",
      " stage3_unit4_bn1 (BatchNormali  (None, 4, 8, 8, 102  4096       ['add_9[0][0]']                  \n",
      " zation)                        4)                                                                \n",
      "                                                                                                  \n",
      " stage3_unit4_relu1 (Activation  (None, 4, 8, 8, 102  0          ['stage3_unit4_bn1[0][0]']       \n",
      " )                              4)                                                                \n",
      "                                                                                                  \n",
      " stage3_unit4_conv1 (Conv3D)    (None, 4, 8, 8, 256  262144      ['stage3_unit4_relu1[0][0]']     \n",
      "                                )                                                                 \n",
      "                                                                                                  \n",
      " stage3_unit4_bn2 (BatchNormali  (None, 4, 8, 8, 256  1024       ['stage3_unit4_conv1[0][0]']     \n",
      " zation)                        )                                                                 \n",
      "                                                                                                  \n",
      " stage3_unit4_relu2 (Activation  (None, 4, 8, 8, 256  0          ['stage3_unit4_bn2[0][0]']       \n",
      " )                              )                                                                 \n",
      "                                                                                                  \n",
      " zero_padding3d_12 (ZeroPadding  (None, 6, 10, 10, 2  0          ['stage3_unit4_relu2[0][0]']     \n",
      " 3D)                            56)                                                               \n",
      "                                                                                                  \n",
      " stage3_unit4_conv2 (Conv3D)    (None, 4, 8, 8, 256  1769472     ['zero_padding3d_12[0][0]']      \n",
      "                                )                                                                 \n",
      "                                                                                                  \n",
      " stage3_unit4_bn3 (BatchNormali  (None, 4, 8, 8, 256  1024       ['stage3_unit4_conv2[0][0]']     \n",
      " zation)                        )                                                                 \n",
      "                                                                                                  \n",
      " stage3_unit4_relu3 (Activation  (None, 4, 8, 8, 256  0          ['stage3_unit4_bn3[0][0]']       \n",
      " )                              )                                                                 \n",
      "                                                                                                  \n",
      " stage3_unit4_conv3 (Conv3D)    (None, 4, 8, 8, 102  262144      ['stage3_unit4_relu3[0][0]']     \n",
      "                                4)                                                                \n",
      "                                                                                                  \n",
      " add_10 (Add)                   (None, 4, 8, 8, 102  0           ['stage3_unit4_conv3[0][0]',     \n",
      "                                4)                                'add_9[0][0]']                  \n",
      "                                                                                                  \n",
      " stage3_unit5_bn1 (BatchNormali  (None, 4, 8, 8, 102  4096       ['add_10[0][0]']                 \n",
      " zation)                        4)                                                                \n",
      "                                                                                                  \n",
      " stage3_unit5_relu1 (Activation  (None, 4, 8, 8, 102  0          ['stage3_unit5_bn1[0][0]']       \n",
      " )                              4)                                                                \n",
      "                                                                                                  \n",
      " stage3_unit5_conv1 (Conv3D)    (None, 4, 8, 8, 256  262144      ['stage3_unit5_relu1[0][0]']     \n",
      "                                )                                                                 \n",
      "                                                                                                  \n",
      " stage3_unit5_bn2 (BatchNormali  (None, 4, 8, 8, 256  1024       ['stage3_unit5_conv1[0][0]']     \n",
      " zation)                        )                                                                 \n",
      "                                                                                                  \n",
      " stage3_unit5_relu2 (Activation  (None, 4, 8, 8, 256  0          ['stage3_unit5_bn2[0][0]']       \n",
      " )                              )                                                                 \n",
      "                                                                                                  \n",
      " zero_padding3d_13 (ZeroPadding  (None, 6, 10, 10, 2  0          ['stage3_unit5_relu2[0][0]']     \n",
      " 3D)                            56)                                                               \n",
      "                                                                                                  \n",
      " stage3_unit5_conv2 (Conv3D)    (None, 4, 8, 8, 256  1769472     ['zero_padding3d_13[0][0]']      \n",
      "                                )                                                                 \n",
      "                                                                                                  \n",
      " stage3_unit5_bn3 (BatchNormali  (None, 4, 8, 8, 256  1024       ['stage3_unit5_conv2[0][0]']     \n",
      " zation)                        )                                                                 \n",
      "                                                                                                  \n",
      " stage3_unit5_relu3 (Activation  (None, 4, 8, 8, 256  0          ['stage3_unit5_bn3[0][0]']       \n",
      " )                              )                                                                 \n",
      "                                                                                                  \n",
      " stage3_unit5_conv3 (Conv3D)    (None, 4, 8, 8, 102  262144      ['stage3_unit5_relu3[0][0]']     \n",
      "                                4)                                                                \n",
      "                                                                                                  \n",
      " add_11 (Add)                   (None, 4, 8, 8, 102  0           ['stage3_unit5_conv3[0][0]',     \n",
      "                                4)                                'add_10[0][0]']                 \n",
      "                                                                                                  \n",
      " stage3_unit6_bn1 (BatchNormali  (None, 4, 8, 8, 102  4096       ['add_11[0][0]']                 \n",
      " zation)                        4)                                                                \n",
      "                                                                                                  \n",
      " stage3_unit6_relu1 (Activation  (None, 4, 8, 8, 102  0          ['stage3_unit6_bn1[0][0]']       \n",
      " )                              4)                                                                \n",
      "                                                                                                  \n",
      " stage3_unit6_conv1 (Conv3D)    (None, 4, 8, 8, 256  262144      ['stage3_unit6_relu1[0][0]']     \n",
      "                                )                                                                 \n",
      "                                                                                                  \n",
      " stage3_unit6_bn2 (BatchNormali  (None, 4, 8, 8, 256  1024       ['stage3_unit6_conv1[0][0]']     \n",
      " zation)                        )                                                                 \n",
      "                                                                                                  \n",
      " stage3_unit6_relu2 (Activation  (None, 4, 8, 8, 256  0          ['stage3_unit6_bn2[0][0]']       \n",
      " )                              )                                                                 \n",
      "                                                                                                  \n",
      " zero_padding3d_14 (ZeroPadding  (None, 6, 10, 10, 2  0          ['stage3_unit6_relu2[0][0]']     \n",
      " 3D)                            56)                                                               \n",
      "                                                                                                  \n",
      " stage3_unit6_conv2 (Conv3D)    (None, 4, 8, 8, 256  1769472     ['zero_padding3d_14[0][0]']      \n",
      "                                )                                                                 \n",
      "                                                                                                  \n",
      " stage3_unit6_bn3 (BatchNormali  (None, 4, 8, 8, 256  1024       ['stage3_unit6_conv2[0][0]']     \n",
      " zation)                        )                                                                 \n",
      "                                                                                                  \n",
      " stage3_unit6_relu3 (Activation  (None, 4, 8, 8, 256  0          ['stage3_unit6_bn3[0][0]']       \n",
      " )                              )                                                                 \n",
      "                                                                                                  \n",
      " stage3_unit6_conv3 (Conv3D)    (None, 4, 8, 8, 102  262144      ['stage3_unit6_relu3[0][0]']     \n",
      "                                4)                                                                \n",
      "                                                                                                  \n",
      " add_12 (Add)                   (None, 4, 8, 8, 102  0           ['stage3_unit6_conv3[0][0]',     \n",
      "                                4)                                'add_11[0][0]']                 \n",
      "                                                                                                  \n",
      " stage4_unit1_bn1 (BatchNormali  (None, 4, 8, 8, 102  4096       ['add_12[0][0]']                 \n",
      " zation)                        4)                                                                \n",
      "                                                                                                  \n",
      " stage4_unit1_relu1 (Activation  (None, 4, 8, 8, 102  0          ['stage4_unit1_bn1[0][0]']       \n",
      " )                              4)                                                                \n",
      "                                                                                                  \n",
      " stage4_unit1_conv1 (Conv3D)    (None, 4, 8, 8, 512  524288      ['stage4_unit1_relu1[0][0]']     \n",
      "                                )                                                                 \n",
      "                                                                                                  \n",
      " stage4_unit1_bn2 (BatchNormali  (None, 4, 8, 8, 512  2048       ['stage4_unit1_conv1[0][0]']     \n",
      " zation)                        )                                                                 \n",
      "                                                                                                  \n",
      " stage4_unit1_relu2 (Activation  (None, 4, 8, 8, 512  0          ['stage4_unit1_bn2[0][0]']       \n",
      " )                              )                                                                 \n",
      "                                                                                                  \n",
      " zero_padding3d_15 (ZeroPadding  (None, 6, 10, 10, 5  0          ['stage4_unit1_relu2[0][0]']     \n",
      " 3D)                            12)                                                               \n",
      "                                                                                                  \n",
      " stage4_unit1_conv2 (Conv3D)    (None, 2, 4, 4, 512  7077888     ['zero_padding3d_15[0][0]']      \n",
      "                                )                                                                 \n",
      "                                                                                                  \n",
      " stage4_unit1_bn3 (BatchNormali  (None, 2, 4, 4, 512  2048       ['stage4_unit1_conv2[0][0]']     \n",
      " zation)                        )                                                                 \n",
      "                                                                                                  \n",
      " stage4_unit1_relu3 (Activation  (None, 2, 4, 4, 512  0          ['stage4_unit1_bn3[0][0]']       \n",
      " )                              )                                                                 \n",
      "                                                                                                  \n",
      " stage4_unit1_conv3 (Conv3D)    (None, 2, 4, 4, 204  1048576     ['stage4_unit1_relu3[0][0]']     \n",
      "                                8)                                                                \n",
      "                                                                                                  \n",
      " stage4_unit1_sc (Conv3D)       (None, 2, 4, 4, 204  2097152     ['stage4_unit1_relu1[0][0]']     \n",
      "                                8)                                                                \n",
      "                                                                                                  \n",
      " add_13 (Add)                   (None, 2, 4, 4, 204  0           ['stage4_unit1_conv3[0][0]',     \n",
      "                                8)                                'stage4_unit1_sc[0][0]']        \n",
      "                                                                                                  \n",
      " stage4_unit2_bn1 (BatchNormali  (None, 2, 4, 4, 204  8192       ['add_13[0][0]']                 \n",
      " zation)                        8)                                                                \n",
      "                                                                                                  \n",
      " stage4_unit2_relu1 (Activation  (None, 2, 4, 4, 204  0          ['stage4_unit2_bn1[0][0]']       \n",
      " )                              8)                                                                \n",
      "                                                                                                  \n",
      " stage4_unit2_conv1 (Conv3D)    (None, 2, 4, 4, 512  1048576     ['stage4_unit2_relu1[0][0]']     \n",
      "                                )                                                                 \n",
      "                                                                                                  \n",
      " stage4_unit2_bn2 (BatchNormali  (None, 2, 4, 4, 512  2048       ['stage4_unit2_conv1[0][0]']     \n",
      " zation)                        )                                                                 \n",
      "                                                                                                  \n",
      " stage4_unit2_relu2 (Activation  (None, 2, 4, 4, 512  0          ['stage4_unit2_bn2[0][0]']       \n",
      " )                              )                                                                 \n",
      "                                                                                                  \n",
      " zero_padding3d_16 (ZeroPadding  (None, 4, 6, 6, 512  0          ['stage4_unit2_relu2[0][0]']     \n",
      " 3D)                            )                                                                 \n",
      "                                                                                                  \n",
      " stage4_unit2_conv2 (Conv3D)    (None, 2, 4, 4, 512  7077888     ['zero_padding3d_16[0][0]']      \n",
      "                                )                                                                 \n",
      "                                                                                                  \n",
      " stage4_unit2_bn3 (BatchNormali  (None, 2, 4, 4, 512  2048       ['stage4_unit2_conv2[0][0]']     \n",
      " zation)                        )                                                                 \n",
      "                                                                                                  \n",
      " stage4_unit2_relu3 (Activation  (None, 2, 4, 4, 512  0          ['stage4_unit2_bn3[0][0]']       \n",
      " )                              )                                                                 \n",
      "                                                                                                  \n",
      " stage4_unit2_conv3 (Conv3D)    (None, 2, 4, 4, 204  1048576     ['stage4_unit2_relu3[0][0]']     \n",
      "                                8)                                                                \n",
      "                                                                                                  \n",
      " add_14 (Add)                   (None, 2, 4, 4, 204  0           ['stage4_unit2_conv3[0][0]',     \n",
      "                                8)                                'add_13[0][0]']                 \n",
      "                                                                                                  \n",
      " stage4_unit3_bn1 (BatchNormali  (None, 2, 4, 4, 204  8192       ['add_14[0][0]']                 \n",
      " zation)                        8)                                                                \n",
      "                                                                                                  \n",
      " stage4_unit3_relu1 (Activation  (None, 2, 4, 4, 204  0          ['stage4_unit3_bn1[0][0]']       \n",
      " )                              8)                                                                \n",
      "                                                                                                  \n",
      " stage4_unit3_conv1 (Conv3D)    (None, 2, 4, 4, 512  1048576     ['stage4_unit3_relu1[0][0]']     \n",
      "                                )                                                                 \n",
      "                                                                                                  \n",
      " stage4_unit3_bn2 (BatchNormali  (None, 2, 4, 4, 512  2048       ['stage4_unit3_conv1[0][0]']     \n",
      " zation)                        )                                                                 \n",
      "                                                                                                  \n",
      " stage4_unit3_relu2 (Activation  (None, 2, 4, 4, 512  0          ['stage4_unit3_bn2[0][0]']       \n",
      " )                              )                                                                 \n",
      "                                                                                                  \n",
      " zero_padding3d_17 (ZeroPadding  (None, 4, 6, 6, 512  0          ['stage4_unit3_relu2[0][0]']     \n",
      " 3D)                            )                                                                 \n",
      "                                                                                                  \n",
      " stage4_unit3_conv2 (Conv3D)    (None, 2, 4, 4, 512  7077888     ['zero_padding3d_17[0][0]']      \n",
      "                                )                                                                 \n",
      "                                                                                                  \n",
      " stage4_unit3_bn3 (BatchNormali  (None, 2, 4, 4, 512  2048       ['stage4_unit3_conv2[0][0]']     \n",
      " zation)                        )                                                                 \n",
      "                                                                                                  \n",
      " stage4_unit3_relu3 (Activation  (None, 2, 4, 4, 512  0          ['stage4_unit3_bn3[0][0]']       \n",
      " )                              )                                                                 \n",
      "                                                                                                  \n",
      " stage4_unit3_conv3 (Conv3D)    (None, 2, 4, 4, 204  1048576     ['stage4_unit3_relu3[0][0]']     \n",
      "                                8)                                                                \n",
      "                                                                                                  \n",
      " add_15 (Add)                   (None, 2, 4, 4, 204  0           ['stage4_unit3_conv3[0][0]',     \n",
      "                                8)                                'add_14[0][0]']                 \n",
      "                                                                                                  \n",
      " bn1 (BatchNormalization)       (None, 2, 4, 4, 204  8192        ['add_15[0][0]']                 \n",
      "                                8)                                                                \n",
      "                                                                                                  \n",
      " relu1 (Activation)             (None, 2, 4, 4, 204  0           ['bn1[0][0]']                    \n",
      "                                8)                                                                \n",
      "                                                                                                  \n",
      " decoder_stage0_upsampling (UpS  (None, 4, 8, 8, 204  0          ['relu1[0][0]']                  \n",
      " ampling3D)                     8)                                                                \n",
      "                                                                                                  \n",
      " decoder_stage0_concat (Concate  (None, 4, 8, 8, 307  0          ['decoder_stage0_upsampling[0][0]\n",
      " nate)                          2)                               ',                               \n",
      "                                                                  'stage4_unit1_relu1[0][0]']     \n",
      "                                                                                                  \n",
      " decoder_stage0a_conv (Conv3D)  (None, 4, 8, 8, 256  21233664    ['decoder_stage0_concat[0][0]']  \n",
      "                                )                                                                 \n",
      "                                                                                                  \n",
      " decoder_stage0a_bn (BatchNorma  (None, 4, 8, 8, 256  1024       ['decoder_stage0a_conv[0][0]']   \n",
      " lization)                      )                                                                 \n",
      "                                                                                                  \n",
      " decoder_stage0a_relu (Activati  (None, 4, 8, 8, 256  0          ['decoder_stage0a_bn[0][0]']     \n",
      " on)                            )                                                                 \n",
      "                                                                                                  \n",
      " decoder_stage0b_conv (Conv3D)  (None, 4, 8, 8, 256  1769472     ['decoder_stage0a_relu[0][0]']   \n",
      "                                )                                                                 \n",
      "                                                                                                  \n",
      " decoder_stage0b_bn (BatchNorma  (None, 4, 8, 8, 256  1024       ['decoder_stage0b_conv[0][0]']   \n",
      " lization)                      )                                                                 \n",
      "                                                                                                  \n",
      " decoder_stage0b_relu (Activati  (None, 4, 8, 8, 256  0          ['decoder_stage0b_bn[0][0]']     \n",
      " on)                            )                                                                 \n",
      "                                                                                                  \n",
      " decoder_stage1_upsampling (UpS  (None, 8, 16, 16, 2  0          ['decoder_stage0b_relu[0][0]']   \n",
      " ampling3D)                     56)                                                               \n",
      "                                                                                                  \n",
      " decoder_stage1_concat (Concate  (None, 8, 16, 16, 7  0          ['decoder_stage1_upsampling[0][0]\n",
      " nate)                          68)                              ',                               \n",
      "                                                                  'stage3_unit1_relu1[0][0]']     \n",
      "                                                                                                  \n",
      " decoder_stage1a_conv (Conv3D)  (None, 8, 16, 16, 1  2654208     ['decoder_stage1_concat[0][0]']  \n",
      "                                28)                                                               \n",
      "                                                                                                  \n",
      " decoder_stage1a_bn (BatchNorma  (None, 8, 16, 16, 1  512        ['decoder_stage1a_conv[0][0]']   \n",
      " lization)                      28)                                                               \n",
      "                                                                                                  \n",
      " decoder_stage1a_relu (Activati  (None, 8, 16, 16, 1  0          ['decoder_stage1a_bn[0][0]']     \n",
      " on)                            28)                                                               \n",
      "                                                                                                  \n",
      " decoder_stage1b_conv (Conv3D)  (None, 8, 16, 16, 1  442368      ['decoder_stage1a_relu[0][0]']   \n",
      "                                28)                                                               \n",
      "                                                                                                  \n",
      " decoder_stage1b_bn (BatchNorma  (None, 8, 16, 16, 1  512        ['decoder_stage1b_conv[0][0]']   \n",
      " lization)                      28)                                                               \n",
      "                                                                                                  \n",
      " decoder_stage1b_relu (Activati  (None, 8, 16, 16, 1  0          ['decoder_stage1b_bn[0][0]']     \n",
      " on)                            28)                                                               \n",
      "                                                                                                  \n",
      " decoder_stage2_upsampling (UpS  (None, 16, 32, 32,   0          ['decoder_stage1b_relu[0][0]']   \n",
      " ampling3D)                     128)                                                              \n",
      "                                                                                                  \n",
      " decoder_stage2_concat (Concate  (None, 16, 32, 32,   0          ['decoder_stage2_upsampling[0][0]\n",
      " nate)                          384)                             ',                               \n",
      "                                                                  'stage2_unit1_relu1[0][0]']     \n",
      "                                                                                                  \n",
      " decoder_stage2a_conv (Conv3D)  (None, 16, 32, 32,   663552      ['decoder_stage2_concat[0][0]']  \n",
      "                                64)                                                               \n",
      "                                                                                                  \n",
      " decoder_stage2a_bn (BatchNorma  (None, 16, 32, 32,   256        ['decoder_stage2a_conv[0][0]']   \n",
      " lization)                      64)                                                               \n",
      "                                                                                                  \n",
      " decoder_stage2a_relu (Activati  (None, 16, 32, 32,   0          ['decoder_stage2a_bn[0][0]']     \n",
      " on)                            64)                                                               \n",
      "                                                                                                  \n",
      " decoder_stage2b_conv (Conv3D)  (None, 16, 32, 32,   110592      ['decoder_stage2a_relu[0][0]']   \n",
      "                                64)                                                               \n",
      "                                                                                                  \n",
      " decoder_stage2b_bn (BatchNorma  (None, 16, 32, 32,   256        ['decoder_stage2b_conv[0][0]']   \n",
      " lization)                      64)                                                               \n",
      "                                                                                                  \n",
      " decoder_stage2b_relu (Activati  (None, 16, 32, 32,   0          ['decoder_stage2b_bn[0][0]']     \n",
      " on)                            64)                                                               \n",
      "                                                                                                  \n",
      " decoder_stage3_upsampling (UpS  (None, 32, 64, 64,   0          ['decoder_stage2b_relu[0][0]']   \n",
      " ampling3D)                     64)                                                               \n",
      "                                                                                                  \n",
      " decoder_stage3_concat (Concate  (None, 32, 64, 64,   0          ['decoder_stage3_upsampling[0][0]\n",
      " nate)                          128)                             ',                               \n",
      "                                                                  'relu0[0][0]']                  \n",
      "                                                                                                  \n",
      " decoder_stage3a_conv (Conv3D)  (None, 32, 64, 64,   110592      ['decoder_stage3_concat[0][0]']  \n",
      "                                32)                                                               \n",
      "                                                                                                  \n",
      " decoder_stage3a_bn (BatchNorma  (None, 32, 64, 64,   128        ['decoder_stage3a_conv[0][0]']   \n",
      " lization)                      32)                                                               \n",
      "                                                                                                  \n",
      " decoder_stage3a_relu (Activati  (None, 32, 64, 64,   0          ['decoder_stage3a_bn[0][0]']     \n",
      " on)                            32)                                                               \n",
      "                                                                                                  \n",
      " decoder_stage3b_conv (Conv3D)  (None, 32, 64, 64,   27648       ['decoder_stage3a_relu[0][0]']   \n",
      "                                32)                                                               \n",
      "                                                                                                  \n",
      " decoder_stage3b_bn (BatchNorma  (None, 32, 64, 64,   128        ['decoder_stage3b_conv[0][0]']   \n",
      " lization)                      32)                                                               \n",
      "                                                                                                  \n",
      " decoder_stage3b_relu (Activati  (None, 32, 64, 64,   0          ['decoder_stage3b_bn[0][0]']     \n",
      " on)                            32)                                                               \n",
      "                                                                                                  \n",
      " decoder_stage4_upsampling (UpS  (None, 64, 128, 128  0          ['decoder_stage3b_relu[0][0]']   \n",
      " ampling3D)                     , 32)                                                             \n",
      "                                                                                                  \n",
      " decoder_stage4a_conv (Conv3D)  (None, 64, 128, 128  13824       ['decoder_stage4_upsampling[0][0]\n",
      "                                , 16)                            ']                               \n",
      "                                                                                                  \n",
      " decoder_stage4a_bn (BatchNorma  (None, 64, 128, 128  64         ['decoder_stage4a_conv[0][0]']   \n",
      " lization)                      , 16)                                                             \n",
      "                                                                                                  \n",
      " decoder_stage4a_relu (Activati  (None, 64, 128, 128  0          ['decoder_stage4a_bn[0][0]']     \n",
      " on)                            , 16)                                                             \n",
      "                                                                                                  \n",
      " decoder_stage4b_conv (Conv3D)  (None, 64, 128, 128  6912        ['decoder_stage4a_relu[0][0]']   \n",
      "                                , 16)                                                             \n",
      "                                                                                                  \n",
      " decoder_stage4b_bn (BatchNorma  (None, 64, 128, 128  64         ['decoder_stage4b_conv[0][0]']   \n",
      " lization)                      , 16)                                                             \n",
      "                                                                                                  \n",
      " decoder_stage4b_relu (Activati  (None, 64, 128, 128  0          ['decoder_stage4b_bn[0][0]']     \n",
      " on)                            , 16)                                                             \n",
      "                                                                                                  \n",
      " final_conv (Conv3D)            (None, 64, 128, 128  1732        ['decoder_stage4b_relu[0][0]']   \n",
      "                                , 4)                                                              \n",
      "                                                                                                  \n",
      " softmax (Activation)           (None, 64, 128, 128  0           ['final_conv[0][0]']             \n",
      "                                , 4)                                                              \n",
      "                                                                                                  \n",
      "==================================================================================================\n",
      "Total params: 73,275,533\n",
      "Trainable params: 73,227,975\n",
      "Non-trainable params: 47,558\n",
      "__________________________________________________________________________________________________\n",
      "None\n"
     ]
    }
   ],
   "source": [
    "model = sm.Unet(BACKBONE, classes=N_CLASSES,\n",
    "                input_shape=(64, 128, 128, CHANNELS),\n",
    "                encoder_weights=ENCODER_WEIGHTS,\n",
    "                activation=ACTIVATION)\n",
    "\n",
    "print(model.summary())"
   ]
  },
  {
   "attachments": {},
   "cell_type": "markdown",
   "metadata": {},
   "source": [
    "### Metriche"
   ]
  },
  {
   "attachments": {},
   "cell_type": "markdown",
   "metadata": {},
   "source": [
    "Per quanto concerne le metriche di valutazione dell'apprendimento e, successivamente, del testing, abbiamo voluto utilizzare due metriche, che sono considerate di riferimento nell'ambito della *image segmentation*, ossia il **coefficiente di Dice** e la **distanza di Hausdorff** (in questo caso implementata nella sua variante 3D).\n",
    "\n",
    "Il coefficiente di Dice, chiamato anche indice di Dice o **F1 score**, è una metrica di valutazione della similarità tra due insiemi di dati (qui immagini), ed è definito come il rapporto tra il doppio dell'area di intersezione tra i due insiemi e la somma delle aree dei due insiemi, o meglio \n",
    "$$ Dice(X,Y) = 2\\cdot \\frac{|X∩Y|}{|X|+|Y|}$$\n",
    "\n",
    "In altre parole, misura la **sovrapposizione tra i risultati ottenuti** dall'algoritmo **e la ground truth**, normalizzato rispetto alla dimensione dei due insiemi. Il valore del coefficiente di Dice varia tra 0 e 1, dove 1 indica una perfetta sovrapposizione e 0 indica una completa disuguaglianza.<br>\n",
    "In generale, quindi, un alto valore di coefficiente di Dice indica una buona performance dell'algoritmo di segmentazione, mentre un valore basso indica una scarsa performance.\n",
    "\n",
    "La distanza di Hausdorff, invece, viene calcolata come la **distanza massima tra i punti di un volume rispetto ai punti del volume di riferimento**. In altre parole, la distanza di Hausdorff rappresenta la massima distanza geometrica tra due volumi 3D, secondo la formula \n",
    "$$ H(A,B) = \\max(h(A,B),\\ h(B,A)) $$\n",
    "\n",
    "dove $h(A,B)$ e $h(B,A)$ sono, rispettivamente, la **distanza diretta** di Hausdorff da A a B e la distanza inversa da B ad A.<br>\n",
    "La distanza di Hausdorff è un'importante metrica di valutazione della performance per la segmentazione di volumi 3D, in quanto tiene conto della massima discrepanza tra il volume segmentato e quello di riferimento. In generale, un **basso valore** di distanza di Hausdorff indica una **buona performance** dell'algoritmo di segmentazione, mentre un alto valore indica una scarsa performance.\n",
    "\n",
    "Nella cella seguente è presente il listato della sola distanza di Hausdorff, essendo il coefficiente di Dice implementato nella libreria `segmentation-models-3D` con il nome di **F1-Score**."
   ]
  },
  {
   "cell_type": "code",
   "execution_count": null,
   "metadata": {},
   "outputs": [],
   "source": [
    "def hausdorff_3d(y_true, y_pred):\n",
    "    y_pred = K.round(y_pred)\n",
    "\n",
    "    # calcola la distanza di Hausdorff diretta tra i due insiemi\n",
    "    d_hd1 = tf.reduce_max(tf.norm(tf.subtract(y_true, y_pred)))\n",
    "    # calcola la distanza di Hausdorff inversa\n",
    "    d_hd2 = tf.reduce_max(tf.norm(tf.subtract(y_pred, y_true)))\n",
    "    # restituisce la distanza di Hausdorff simmetrica\n",
    "    \n",
    "    return tf.reduce_max(tf.stack([d_hd1, d_hd2]))"
   ]
  },
  {
   "attachments": {},
   "cell_type": "markdown",
   "metadata": {},
   "source": [
    "### Train/Validation/Test split"
   ]
  },
  {
   "attachments": {},
   "cell_type": "markdown",
   "metadata": {},
   "source": [
    "Non avendo a disposizione un test set dalla competizione, procediamo ad una suddivisione artificiale del training set, sfruttando la funzione `train_test_split` di Scikit-Learn, scegliendo come percentuale di test un valore compreso tra il 10% e il 20% (come da prassi in questo genere di problemi).\n",
    "\n",
    "Nello specifico, abbiamo optato per una percentuale del 15%.\n",
    "\n",
    "Successivamente, ricaviamo anche un validation set per la fase di validazione durante l'addestramento della rete, con una percentuale globale del 10% circa (12,5% del training set residuo).\n",
    "\n",
    "**DIVISIONE EFFETTIVA**: 75% - 10% - 15%"
   ]
  },
  {
   "cell_type": "code",
   "execution_count": null,
   "metadata": {},
   "outputs": [
    {
     "name": "stdout",
     "output_type": "stream",
     "text": [
      "Saranno usate \u001b[1;34m42\u001b[0m coppie (scansione, maschera) come \u001b[1;34mtest set\u001b[0m\n",
      "\n",
      "Saranno usate \u001b[1;34m203\u001b[0m coppie (scansione, maschera) come \u001b[1;34mtraining set\u001b[0m\n",
      "\n",
      "Saranno usate \u001b[1;34m29\u001b[0m coppie (scansione, maschera) \u001b[1;34mvalidation set\u001b[0m\n",
      "\n"
     ]
    }
   ],
   "source": [
    "from sklearn.model_selection import train_test_split\n",
    "\n",
    "train_files_paths, test_files_paths, train_labels_paths, test_labels_paths =\\\n",
    "  train_test_split(VOLUMES_PATH, MASKS_PATH, test_size=0.15, random_state=11)\n",
    "  \n",
    "print(f'Saranno usate \\033[1;34m{len(test_files_paths)}\\033[0m coppie (scansione, maschera) come \\033[1;34mtest set\\033[0m\\n')\n",
    "\n",
    "train_files_paths, validation_files_paths, train_labels_paths, validation_labels_paths =\\\n",
    "  train_test_split(train_files_paths, train_labels_paths, test_size=0.125, random_state=11)\n",
    "  \n",
    "print(f'Saranno usate \\033[1;34m{len(train_files_paths)}\\033[0m coppie (scansione, maschera) come \\033[1;34mtraining set\\033[0m\\n')\n",
    "\n",
    "print(f'Saranno usate \\033[1;34m{len(validation_files_paths)}\\033[0m coppie (scansione, maschera) \\033[1;34mvalidation set\\033[0m\\n')\n"
   ]
  },
  {
   "attachments": {},
   "cell_type": "markdown",
   "metadata": {},
   "source": [
    "### Data Generation & Augmentation"
   ]
  },
  {
   "attachments": {},
   "cell_type": "markdown",
   "metadata": {},
   "source": [
    "Per quanto concerne la parte di **data augmentation**, le alterazioni delle immagini che abbiamo ritenuto probabili per il problema in analisi sono:\n",
    "\n",
    "1. *Rotazioni*, per cui abbiamo stimato (in eccesso) valori possibili di ± 15°, dovute a possibili movimenti del paziente durante la scansione o a errori di posizionamento dello stesso;\n",
    "2. *Traslazioni* lungo gli assi x e y, per cui abbiamo stimato valori possibili di $\\pm$10px, imputabili alle stesse cause delle rotazioni;\n",
    "3. *Flip orizzontale*, possibile solo per scelta degli operatori in fase di acquisizione;\n",
    "4. *Rumore*, nello specifico si è scelto il rumore di Rician perché...\n",
    "\n",
    "Per implementare queste distorsioni, abbiamo realizzato la funzione `augment_data`, che accetta in input una coppia di volumi (scansioni e maschere corrispondenti) su cui vengono applicate le trasformazioni 1, 2 e 3 in modo casuale, mentre il rumore di Rician può essere applicato **solo alle scansioni**, dato che le maschere fornite sono realizzate manualmente dai tecnici.\n",
    "\n",
    "**N.B.**: l'implementazione del rumore di Rician è stata effettuata con produzione autonoma della funzione `add_rician_noise`"
   ]
  },
  {
   "cell_type": "code",
   "execution_count": null,
   "metadata": {},
   "outputs": [],
   "source": [
    "def add_rician_noise(img, noise_std=15):\n",
    "\n",
    "    '''\n",
    "        In questo caso, mean=0 perché il rumore gaussiano che viene generato ha media zero, ovvero è un rumore gaussiano bianco. \n",
    "        Il rumore di Rician viene generato come una combinazione di due rumori gaussiani, quindi se uno di questi rumori ha una \n",
    "        media diversa da zero, il rumore di Rician generato avrà una media diversa da zero. Tuttavia, per la maggior parte delle \n",
    "        applicazioni di aggiunta di rumore, si assume che il rumore abbia una media zero. In questo modo, il rumore aggiunto non \n",
    "        altera la distribuzione dei livelli di grigio dell'immagine originale.\n",
    "    '''\n",
    "\n",
    "    mean = 0\n",
    "\n",
    "    # Genera rumore di Rician\n",
    "    # 1. Genera rumore gaussiano bianco\n",
    "    noise = np.random.normal(mean, noise_std, img.shape)\n",
    "    noise = np.abs(noise + 1j * np.random.normal(mean, noise_std, img.shape))\n",
    "    noise = noise / np.sqrt(2)\n",
    "\n",
    "    # Aggiungi rumore all'immagine\n",
    "    noisy_img = img + noise\n",
    "    \n",
    "    return noisy_img"
   ]
  },
  {
   "cell_type": "code",
   "execution_count": null,
   "metadata": {},
   "outputs": [],
   "source": [
    "def augment_data(slice_volume:np.ndarray, mask_volume:np.ndarray, debug=False):\n",
    "    \"\"\"Funzione usata per la data augmentation.\n",
    "    \n",
    "    Le trasformazioni avvengono in modo casuale per la coppia di volumi (slice, maschera).\n",
    "    Tra le trasformazioni possibili abbiamo:\n",
    "    \n",
    "        - Rotazione +/- 15 gradi\n",
    "        - Traslazione +/- 5px\n",
    "        - Flip orizzontale\n",
    "        - Aggiunta del rumore di Rician (solo per slice_volume)\n",
    "\n",
    "    Args:\n",
    "        slice_volume (np.ndarray): Volume di slice su cui fare la augmentation\n",
    "        mask_volume (np.ndarray): Volume di maschere su cui fare la augmentation\n",
    "\n",
    "    Returns:\n",
    "        tuple[np.ndarray]: Coppia di volumi (slice, maschere) aumentati\n",
    "    \"\"\"\n",
    "    \n",
    "    data_rotation = round(np.random.uniform(-15, 15))\n",
    "    data_traslation_x = round(np.random.uniform(-5, 5))\n",
    "    data_traslation_y = round(np.random.uniform(-5, 5))\n",
    "    horizontal_flip = round(np.random.uniform(0, 1))\n",
    "    adds_rician_noise = round(np.random.uniform(0, 1))\n",
    "    \n",
    "    if debug is True:\n",
    "        print(f'Rotating of {data_rotation} degrees\\n')\n",
    "        print(f'Translating over (x,y) of ({data_traslation_x, data_traslation_y})\\n')\n",
    "        print(f'Does horizontal flip: {horizontal_flip}\\n')\n",
    "        print(f'Adds Rician noise: {adds_rician_noise}\\n')\n",
    "    \n",
    "    affine_trasl_matrix = np.float32(\n",
    "        [[1,0,data_traslation_x], \n",
    "         [0,1,data_traslation_y]]\n",
    "        )\n",
    "    \n",
    "    augm_slice = []\n",
    "    augm_masks = []\n",
    "    \n",
    "    for slice in slice_volume:\n",
    "        # Traslazione\n",
    "        slice = cv2.warpAffine(slice, affine_trasl_matrix, (slice.shape[0], slice.shape[1]))\n",
    "        # Rotazione\n",
    "        slice_center = tuple([slice.shape[0]/2, slice.shape[1]/2])\n",
    "        rotation_matrix = cv2.getRotationMatrix2D(slice_center, data_rotation, 1.0)\n",
    "        # Flip orizzontale\n",
    "        if horizontal_flip == 1:\n",
    "            slice = cv2.flip(slice, 1)\n",
    "        # Aggiunta rumore di Rician\n",
    "        if adds_rician_noise == 1:    \n",
    "            slice = add_rician_noise(slice)\n",
    "            \n",
    "        augm_slice.append(slice)\n",
    "        \n",
    "    for mask in mask_volume:\n",
    "        # Traslazione\n",
    "        mask = cv2.warpAffine(mask, affine_trasl_matrix, (mask.shape[0], mask.shape[1]))\n",
    "        # Rotazione\n",
    "        mask_center = tuple([mask.shape[0]/2, mask.shape[1]/2])\n",
    "        rotation_matrix = cv2.getRotationMatrix2D(mask_center, data_rotation, 1.0)\n",
    "        mask = cv2.warpAffine(mask, rotation_matrix, (mask.shape[0], mask.shape[1]))\n",
    "        # Flip orizzontale\n",
    "        if horizontal_flip == 1:\n",
    "            mask = cv2.flip(mask, 1)\n",
    "        augm_masks.append(mask)\n",
    "    \n",
    "    augm_slice = np.array(augm_slice)\n",
    "    augm_masks = np.array(augm_masks)\n",
    "    \n",
    "    return augm_slice, augm_masks"
   ]
  },
  {
   "cell_type": "code",
   "execution_count": null,
   "metadata": {},
   "outputs": [],
   "source": [
    "def discretize(volume: np.ndarray) -> np.ndarray:\n",
    "    \"\"\" Funzione usata come generatore di input per la funzione to_categorical.\n",
    "    È specifica per il nostro problema di segmentazione a 4 classi.\n",
    "    \n",
    "    Args:\n",
    "        volume (np.ndarray): Volume da discretizzare\n",
    "    \n",
    "    Returns:\n",
    "        np.ndarray: Volume discretizzato\n",
    "    \n",
    "    \"\"\"\n",
    "    categorical_volume = np.zeros_like(volume)\n",
    "    \n",
    "    categorical_volume[volume == 0] = 0\n",
    "    categorical_volume[volume == 80] = 1\n",
    "    categorical_volume[volume == 160] = 2\n",
    "    categorical_volume[volume == 240] = 3\n",
    "    \n",
    "    return categorical_volume"
   ]
  },
  {
   "attachments": {},
   "cell_type": "markdown",
   "metadata": {},
   "source": [
    "Per poter passare in input alla rete neurale tutto il dataset, senza saturare le risorse dei sistemi in uso, abbiamo deciso di implementare un data generator customizzato per le nostre esigenze. Il problema di fondo è, infatti, che i data generator implementati nella classe `ImageDataGenerator` del modulo `keras.preprocessing.image` non sono pensati per operare con volumi 3D nè, tantomeno, hanno metodi che permettono di operare su singoli volumi `.tif`.\n",
    "\n",
    "Abbiamo, quindi, implementato una nuova classe `TiffDataGenerator`, che estende la classe `Sequence` di `keras.utils`, che riceve in input due percorsi e, opzionalmente, una `batch_size` e un flag per indicare se si vuole eseguire lo `shuffle` dei dati alla fine di ogni generazione.\n",
    "\n",
    "Il metodo `__getitem__` è quello che provvede alla generazione vera e propria dei dati da dare in pasto alla rete, in quanto implementa le già viste funzioni di data augmentation e converte i dati del volume della maschera nel formato *one-hot*, che è molto utile per problemi multiclasse."
   ]
  },
  {
   "cell_type": "code",
   "execution_count": null,
   "metadata": {},
   "outputs": [],
   "source": [
    "class TiffDataGenerator(Sequence):\n",
    "    def __init__(self, tif_path_list, batch_size=1, shuffle=True):\n",
    "        self.tif_path_list = tif_path_list\n",
    "        self.batch_size = batch_size\n",
    "        self.shuffle = shuffle\n",
    "        self.indexes = np.arange(len(self.tif_path_list))\n",
    "        self.on_epoch_end()\n",
    "\n",
    "    def __len__(self):\n",
    "        return int(np.ceil(len(self.tif_path_list) / self.batch_size))\n",
    "\n",
    "    def __getitem__(self, index):\n",
    "        batch_indexes = self.indexes[index*self.batch_size:(index+1)*self.batch_size]\n",
    "        batch_paths = [self.tif_path_list[k] for k in batch_indexes]\n",
    "        batch_volumes = []\n",
    "        batch_masks = []\n",
    "        for id, path in enumerate(batch_paths):\n",
    "            volume_0 = tiff.imread(path[0])\n",
    "            mask = tiff.imread(path[1])\n",
    "            \n",
    "            if id % 2 == 0:\n",
    "                volume_0, mask = augment_data(volume_0, mask)\n",
    "                \n",
    "            volume_0 = volume_0.reshape((1,) + volume_0.shape + (1,))\n",
    "            volume = np.concatenate([volume_0, volume_0], axis=4)\n",
    "            \n",
    "            volume = preprocess_input(np.concatenate([volume, volume_0], axis=4))\n",
    "            \n",
    "            mask = discretize(mask)\n",
    "            mask = to_categorical(mask)\n",
    "            \n",
    "            mask = mask.reshape((1,) + mask.shape)\n",
    "\n",
    "            batch_volumes.append(volume)\n",
    "            batch_masks.append(mask)\n",
    "\n",
    "        return np.vstack(batch_volumes), np.vstack(batch_masks)\n",
    "\n",
    "    def on_epoch_end(self):\n",
    "        if self.shuffle:\n",
    "            np.random.shuffle(self.indexes)\n",
    "\n",
    "    @classmethod\n",
    "    def from_paths(cls, volume_paths, mask_paths, batch_size=1, shuffle=True):\n",
    "        if len(volume_paths) != len(mask_paths):\n",
    "            raise ValueError(\"Il numero dei volumi nel batch deve essere uguale al numero di maschere\")\n",
    "        return cls(list(zip(volume_paths, mask_paths)), batch_size=batch_size, shuffle=shuffle)"
   ]
  },
  {
   "attachments": {},
   "cell_type": "markdown",
   "metadata": {},
   "source": [
    "---"
   ]
  },
  {
   "attachments": {},
   "cell_type": "markdown",
   "metadata": {},
   "source": [
    "<div style=\"display: flex; align-items: center; text-align: center\">\n",
    "  <img src=\"https://storage.googleapis.com/kaggle-competitions/kaggle/3136/media/kaggle-transparent.svg\" width='18%' height='18%'>\n",
    "  <h3 style=\"margin: 0 0 0 20px;\">Parametri del modello e addestramento</h3>\n",
    "</div>"
   ]
  },
  {
   "attachments": {},
   "cell_type": "markdown",
   "metadata": {},
   "source": [
    "Poiché la libreria `segmentation-models-3D` implementa di suo le funzioni di loss e le metriche più popolari, abbiamo deciso, per questo modello, di avvalerci degli oggetti `FScore` e `CategoricalCELoss` che implementano, rispettivamente, il coefficiente di Dice e la Categorical CrossEntropy. <br>\n",
    "Per quanto concerne la CrossEntropy, abbiamo deciso di diversificare la valutazione delle varie etichette utilizzando dei pesi personalizzati che dessero più rilevanza agli organi e meno allo sfondo: in particolare, tra i vari organi, abbiamo diversificato i pesi in relazione alla loro frequenza nel dataset, andando a penalizzare l'etichetta *large bowel* che si era rivelata la più frequente."
   ]
  },
  {
   "cell_type": "code",
   "execution_count": null,
   "metadata": {},
   "outputs": [],
   "source": [
    "LR = 0.0001\n",
    "\n",
    "# early_stopping = EarlyStopping(\n",
    "#   monitor='val_loss', \n",
    "#   patience=3, \n",
    "#   min_delta=0.075\n",
    "# )\n",
    "\n",
    "early_stopping = EarlyStopping(\n",
    "  monitor='val_hausdorff_3d', \n",
    "  patience=7, \n",
    "  min_delta=50\n",
    ")\n",
    "\n",
    "optim = keras.optimizers.Adam(LR)\n",
    "\n",
    "metrics = [sm.metrics.FScore(threshold=0.5), hausdorff_3d]\n",
    "\n",
    "categorical_ce = sm.losses.CategoricalCELoss([0.1, 0.2, 0.3, 0.4])"
   ]
  },
  {
   "cell_type": "code",
   "execution_count": null,
   "metadata": {},
   "outputs": [],
   "source": [
    "import os\n",
    "\n",
    "BATCH_SIZE = 2\n",
    "FIRST_TIME_CHECKPOINT_DIR = './models/checkpoints/new_v4_checkpoint.hdf5'\n",
    "LATER_CHECKPOINT_DIR = './models/checkpoints/new_v4_checkpoint.hdf5'\n",
    "LOG_DIR = './models/logs/'\n",
    "\n",
    "train_files_generator = TiffDataGenerator.from_paths(\n",
    "  train_files_paths,\n",
    "  train_labels_paths, \n",
    "  batch_size=BATCH_SIZE\n",
    ")\n",
    "\n",
    "validation_files_generator = TiffDataGenerator.from_paths(\n",
    "  validation_files_paths, \n",
    "  validation_labels_paths, \n",
    "  batch_size=BATCH_SIZE\n",
    ")\n",
    "\n",
    "i = 0\n",
    "\n",
    "while True:\n",
    "    \n",
    "    if i == 0:\n",
    "        CHECKPOINT_DIR = FIRST_TIME_CHECKPOINT_DIR\n",
    "    else:\n",
    "        CHECKPOINT_DIR = LATER_CHECKPOINT_DIR\n",
    "        \n",
    "    model_checkpoint = ModelCheckpoint(\n",
    "        filepath = CHECKPOINT_DIR,\n",
    "        monitor = 'hausdorff_3d', \n",
    "        save_best_only = True,\n",
    "        save_weights_only = False\n",
    "    )\n",
    "\n",
    "    model.compile(optimizer = optim, loss=categorical_ce, metrics=metrics)\n",
    "        \n",
    "    if os.path.isfile(CHECKPOINT_DIR):\n",
    "        model.load_weights(CHECKPOINT_DIR)\n",
    "        print(f'\\nCaricato il checkpoint in \\033[1;34m{CHECKPOINT_DIR}\\033[0m\\n')\n",
    "\n",
    "    history=model.fit(train_files_generator,\n",
    "              batch_size=BATCH_SIZE, \n",
    "              epochs=100,\n",
    "              verbose=1,\n",
    "              validation_data=[validation_files_generator],\n",
    "              callbacks=[early_stopping, model_checkpoint])\n",
    "    \n",
    "    print(f'\\nGenerato checkpoint in \\033[1;34m{CHECKPOINT_DIR}\\033[0m\\n')\n",
    "    print('-------------------------------------------------------------------\\n')\n",
    "\n",
    "    import pandas as pd\n",
    "\n",
    "    if not os.path.isdir(LOG_DIR):\n",
    "        os.mkdir(LOG_DIR)\n",
    "    \n",
    "    if os.path.isfile(LOG_DIR + 'v4_history_log.csv'):\n",
    "        old_df = pd.read_csv(LOG_DIR + 'v4_history_log.csv')\n",
    "        new_df = pd.DataFrame(history.history)\n",
    "        full_df = pd.concat([old_df, new_df])\n",
    "        full_df.to_csv(LOG_DIR + 'v4_history_log.csv')\n",
    "    else:\n",
    "        new_df = pd.DataFrame(history.history)\n",
    "        new_df.to_csv(LOG_DIR + 'v4_history_log.csv')\n",
    "\n",
    "    i = i+1"
   ]
  },
  {
   "attachments": {},
   "cell_type": "markdown",
   "metadata": {},
   "source": [
    "### Valutazioni sull'addestramento"
   ]
  },
  {
   "attachments": {},
   "cell_type": "markdown",
   "metadata": {},
   "source": [
    "Possiamo adesso valutare l'andamento del training, grazie al file generato, dove abbiamo loggato l'evoluzione di metriche e loss."
   ]
  },
  {
   "cell_type": "code",
   "execution_count": null,
   "metadata": {},
   "outputs": [
    {
     "data": {
      "text/html": [
       "<div>\n",
       "<style scoped>\n",
       "    .dataframe tbody tr th:only-of-type {\n",
       "        vertical-align: middle;\n",
       "    }\n",
       "\n",
       "    .dataframe tbody tr th {\n",
       "        vertical-align: top;\n",
       "    }\n",
       "\n",
       "    .dataframe thead th {\n",
       "        text-align: right;\n",
       "    }\n",
       "</style>\n",
       "<table border=\"1\" class=\"dataframe\">\n",
       "  <thead>\n",
       "    <tr style=\"text-align: right;\">\n",
       "      <th></th>\n",
       "      <th>loss</th>\n",
       "      <th>f1-score</th>\n",
       "      <th>hausdorff_3d</th>\n",
       "      <th>val_loss</th>\n",
       "      <th>val_f1-score</th>\n",
       "      <th>val_hausdorff_3d</th>\n",
       "    </tr>\n",
       "  </thead>\n",
       "  <tbody>\n",
       "    <tr>\n",
       "      <th>0</th>\n",
       "      <td>0.002248</td>\n",
       "      <td>0.709660</td>\n",
       "      <td>299.987213</td>\n",
       "      <td>0.003457</td>\n",
       "      <td>0.606423</td>\n",
       "      <td>331.477966</td>\n",
       "    </tr>\n",
       "    <tr>\n",
       "      <th>1</th>\n",
       "      <td>0.002186</td>\n",
       "      <td>0.714194</td>\n",
       "      <td>295.949646</td>\n",
       "      <td>0.003654</td>\n",
       "      <td>0.576850</td>\n",
       "      <td>302.685211</td>\n",
       "    </tr>\n",
       "    <tr>\n",
       "      <th>2</th>\n",
       "      <td>0.002193</td>\n",
       "      <td>0.711165</td>\n",
       "      <td>297.002014</td>\n",
       "      <td>0.003294</td>\n",
       "      <td>0.625814</td>\n",
       "      <td>311.837799</td>\n",
       "    </tr>\n",
       "    <tr>\n",
       "      <th>3</th>\n",
       "      <td>0.002185</td>\n",
       "      <td>0.713897</td>\n",
       "      <td>298.196777</td>\n",
       "      <td>0.003113</td>\n",
       "      <td>0.680588</td>\n",
       "      <td>303.735748</td>\n",
       "    </tr>\n",
       "    <tr>\n",
       "      <th>4</th>\n",
       "      <td>0.002166</td>\n",
       "      <td>0.716219</td>\n",
       "      <td>296.968231</td>\n",
       "      <td>0.003248</td>\n",
       "      <td>0.643975</td>\n",
       "      <td>293.750214</td>\n",
       "    </tr>\n",
       "  </tbody>\n",
       "</table>\n",
       "</div>"
      ],
      "text/plain": [
       "       loss  f1-score  hausdorff_3d  val_loss  val_f1-score  val_hausdorff_3d\n",
       "0  0.002248  0.709660    299.987213  0.003457      0.606423        331.477966\n",
       "1  0.002186  0.714194    295.949646  0.003654      0.576850        302.685211\n",
       "2  0.002193  0.711165    297.002014  0.003294      0.625814        311.837799\n",
       "3  0.002185  0.713897    298.196777  0.003113      0.680588        303.735748\n",
       "4  0.002166  0.716219    296.968231  0.003248      0.643975        293.750214"
      ]
     },
     "metadata": {},
     "output_type": "display_data"
    }
   ],
   "source": [
    "import pandas as pd\n",
    "\n",
    "history = pd.read_csv('./models/logs/v4_history_log.csv')\n",
    "\n",
    "history.head()"
   ]
  },
  {
   "cell_type": "code",
   "execution_count": null,
   "metadata": {},
   "outputs": [
    {
     "data": {
      "image/png": "[encoded data removed]",
      "text/plain": [
       "<Figure size 1500x500 with 3 Axes>"
      ]
     },
     "metadata": {},
     "output_type": "display_data"
    }
   ],
   "source": [
    "from matplotlib import pyplot as plt\n",
    "\n",
    "loss = np.array(history['loss'])\n",
    "val_loss = np.array(history['val_loss'])\n",
    "\n",
    "metr_hausdorff = np.array(history['hausdorff_3d'])\n",
    "metr_val_hausdorff = np.array(history['val_hausdorff_3d'])\n",
    "\n",
    "metr_f1_score = np.array(history['f1-score'])\n",
    "metr_val_f1_score = np.array(history['val_f1-score'])\n",
    "\n",
    "fig = plt.figure(figsize=(15, 5))\n",
    "\n",
    "plt.subplot(1,3,1)\n",
    "\n",
    "plt.plot(range(len(loss)), loss, label='loss')\n",
    "plt.plot(range(len(loss)), val_loss, label='val_loss')\n",
    "plt.legend()\n",
    "plt.title('Loss')\n",
    "\n",
    "plt.subplot(1,3,2)\n",
    "plt.plot(range(len(metr_f1_score)), metr_f1_score, label='f1_score')\n",
    "plt.plot(range(len(metr_f1_score)), metr_val_f1_score, label='val_f1_score')\n",
    "plt.legend()\n",
    "plt.title('F1-Score')\n",
    "\n",
    "plt.subplot(1,3,3)\n",
    "plt.plot(range(len(metr_hausdorff)), metr_hausdorff, label='hausdorff')\n",
    "plt.plot(range(len(metr_hausdorff)), metr_val_hausdorff, label='val_hausdorff')\n",
    "plt.legend()\n",
    "plt.title('Hausdorff-3D')\n",
    "\n",
    "plt.show()"
   ]
  },
  {
   "attachments": {},
   "cell_type": "markdown",
   "metadata": {},
   "source": [
    "Quello che si evince, sia per le metriche che per la funzione di loss, è un miglioramento graduale dei valori con il passare del tempo di **addestramento**, come atteso.<br>\n",
    "Discorso, in parte, diverso per quanto concerne i valori in fase di **validazione**, dove si può notare un andamento più altalenante nel corso delle epoche, ma che comunque evidenzia, in media, un miglioramento delle prestazioni della rete. Riteniamo che una tale altalenanza sia legata all'esiguo numero di volumi appartenenti al validation set, per cui il calcolo dei valori medi possono essere particolarmente variabili.\n"
   ]
  },
  {
   "attachments": {},
   "cell_type": "markdown",
   "metadata": {},
   "source": [
    "### Test del modello"
   ]
  },
  {
   "attachments": {},
   "cell_type": "markdown",
   "metadata": {},
   "source": [
    "A partire dal modello addestrato, di cui abbiamo salvato il miglior checkpoint in fase di addestramento, possiamo procedere alla valutazione delle prestazioni in fase di predizione.\n",
    "\n",
    "Per far ciò, ricreiamo lo scheletro del modello (inteso come la dichiarazione e la compilazione dello stesso) e carichiamo i pesi con la funzione `load_weights` dell'oggetto `Model`"
   ]
  },
  {
   "cell_type": "code",
   "execution_count": null,
   "metadata": {},
   "outputs": [],
   "source": [
    "model.compile(optimizer = optim, loss=categorical_ce, metrics=metrics)\n",
    "        \n",
    "model.load_weights('./models/checkpoints/new_v4_checkpoint_295_hausdorff.hdf5')"
   ]
  },
  {
   "attachments": {},
   "cell_type": "markdown",
   "metadata": {},
   "source": [
    "Carichiamo un volume di test e le maschere ad esso associate."
   ]
  },
  {
   "cell_type": "code",
   "execution_count": null,
   "metadata": {},
   "outputs": [],
   "source": [
    "test_volume_path = './dataset/slices/resized_volume_11_13_128_128_72.tif'\n",
    "\n",
    "test_mask_path = './dataset/masks/resized_volume_11_13_128_128_72.tif'\n",
    "\n",
    "test_volume = tiff.imread(test_volume_path)\n",
    "\n",
    "test_mask = tiff.imread(test_mask_path)"
   ]
  },
  {
   "attachments": {},
   "cell_type": "markdown",
   "metadata": {},
   "source": [
    "Processiamo volume e maschera come fatto dal data generator"
   ]
  },
  {
   "cell_type": "code",
   "execution_count": null,
   "metadata": {},
   "outputs": [],
   "source": [
    "test_volume = test_volume.reshape((1,) + test_volume.shape + (1,))\n",
    "\n",
    "volume = np.concatenate([test_volume, test_volume], axis=4)\n",
    "\n",
    "volume = preprocess_input(np.concatenate([volume, test_volume], axis=4))\n",
    "\n",
    "test_mask = discretize(test_mask)\n",
    "\n",
    "test_mask = to_categorical(test_mask, num_classes=4)\n",
    "\n",
    "test_mask = test_mask.reshape((1,) + test_mask.shape)"
   ]
  },
  {
   "attachments": {},
   "cell_type": "markdown",
   "metadata": {},
   "source": [
    "Effettuiamo, quindi, una valutazione delle prestazioni del modello sul volume e la rispettiva maschera"
   ]
  },
  {
   "cell_type": "code",
   "execution_count": null,
   "metadata": {},
   "outputs": [
    {
     "name": "stdout",
     "output_type": "stream",
     "text": [
      "1/1 [==============================] - 3s 3s/step - loss: 0.0014 - f1-score: 0.7669 - hausdorff_3d: 202.4994\n"
     ]
    }
   ],
   "source": [
    "metrics = model.evaluate(volume, test_mask, batch_size=1, verbose=1)"
   ]
  },
  {
   "attachments": {},
   "cell_type": "markdown",
   "metadata": {},
   "source": [
    "Osservando i valori per la **Categorical CrossEntropy** e per il **coefficiente di Dice**, è possibile dedurre che è possibile una previsione discreta da parte del modello.\n",
    "\n",
    "Passiamo, allora, alla generazione vera e propria del volume predetto, usando il metodo `predict` dell'oggetto `Model`"
   ]
  },
  {
   "cell_type": "code",
   "execution_count": null,
   "metadata": {},
   "outputs": [],
   "source": [
    "mask = model.predict(volume, batch_size=1, verbose=0)[0]"
   ]
  },
  {
   "attachments": {},
   "cell_type": "markdown",
   "metadata": {},
   "source": [
    "Poiché l'output della rete è una distribuzione di probabilità per ogni pixel che ne indica l'appartenenza a una delle quattro classi, usiamo la funzione `argmax` di NumPy per generare un'immagine in cui ogni pixel e assegnato alla classe più probabile"
   ]
  },
  {
   "cell_type": "code",
   "execution_count": null,
   "metadata": {},
   "outputs": [],
   "source": [
    "predicted_classes = np.argmax(mask, axis=-1)"
   ]
  },
  {
   "attachments": {},
   "cell_type": "markdown",
   "metadata": {},
   "source": [
    "Per valutare visivamente il risultato della previsione, dobbiamo prima riportare il volume di ground truth a 3 dimensioni in 1 canale (il passaggio in categorico lo ha portato a 4D in 4 canali).<br>\n",
    "Per far ciò, ricorriamo all'operazione inversa fatta in fase di traduzione del volume a dato categorico."
   ]
  },
  {
   "cell_type": "code",
   "execution_count": null,
   "metadata": {},
   "outputs": [
    {
     "name": "stdout",
     "output_type": "stream",
     "text": [
      "(64, 128, 128)\n"
     ]
    }
   ],
   "source": [
    "ground_truth = np.argmax(test_mask.squeeze(), axis=-1)"
   ]
  },
  {
   "attachments": {},
   "cell_type": "markdown",
   "metadata": {},
   "source": [
    "Possiamo, quindi, confrontare il risultato della predizione con la ground truth usando il modulo `pyplot` di `matplotlib` che, normalmente, permette di generare una vista navigabile del volume (con rotazioni e zoom in/out) ma che, all'interno di un notebook, genera la proiezione isometrica dello stesso in 2D."
   ]
  },
  {
   "cell_type": "code",
   "execution_count": null,
   "metadata": {},
   "outputs": [
    {
     "name": "stderr",
     "output_type": "stream",
     "text": [
      "/tmp/ipykernel_139200/3066851300.py:3: MatplotlibDeprecationWarning: The get_cmap function was deprecated in Matplotlib 3.7 and will be removed two minor releases later. Use ``matplotlib.colormaps[name]`` or ``matplotlib.colormaps.get_cmap(obj)`` instead.\n",
      "  cmap = plt.cm.get_cmap('tab10')\n"
     ]
    },
    {
     "data": {
      "image/png": "[encoded data removed]",
      "text/plain": [
       "<Figure size 1000x500 with 2 Axes>"
      ]
     },
     "metadata": {},
     "output_type": "display_data"
    }
   ],
   "source": [
    "fig = plt.figure(figsize=(10,5))\n",
    "\n",
    "cmap = plt.cm.get_cmap('tab10')\n",
    "\n",
    "ax1 = fig.add_subplot(1,2,1, projection='3d')\n",
    "ax1.set_box_aspect([1,1,1])\n",
    "ax1.voxels(predicted_classes, facecolors=cmap(predicted_classes))\n",
    "ax1.set_title('Predicted Volume', fontweight='bold')\n",
    "\n",
    "\n",
    "ax2 = fig.add_subplot(1,2,2, projection='3d')\n",
    "ax2.set_box_aspect([1,1,1])\n",
    "ax2.voxels(ground_truth, facecolors=cmap(ground_truth))\n",
    "ax2.set_title('Ground Truth Volume', fontweight='bold')\n",
    "\n",
    "# Mostrare il grafico\n",
    "plt.show()"
   ]
  },
  {
   "attachments": {},
   "cell_type": "markdown",
   "metadata": {},
   "source": [
    "A conferma di quanto ipotizzato osservando le metriche, possiamo notare come il modello abbia predetto discretamente bene il volume fornendo, anzi, forme più smussate dei vari organi. Possiamo, inoltre, valutare il risultato su singola slice, semplicemente selezionando un indice all'interno dei volumi"
   ]
  },
  {
   "cell_type": "code",
   "execution_count": null,
   "metadata": {},
   "outputs": [
    {
     "data": {
      "image/png": "[encoded data removed]",
      "text/plain": [
       "<Figure size 1000x500 with 2 Axes>"
      ]
     },
     "metadata": {},
     "output_type": "display_data"
    }
   ],
   "source": [
    "fig = plt.figure(figsize=(10, 5))\n",
    "\n",
    "plt.subplot(1,2,1)\n",
    "plt.imshow(predicted_classes[30])\n",
    "plt.title('Predicted Mask')\n",
    "\n",
    "plt.subplot(1,2,2)\n",
    "plt.imshow(ground_truth[30])\n",
    "plt.title('Ground Truth')\n",
    "\n",
    "plt.show()"
   ]
  },
  {
   "attachments": {},
   "cell_type": "markdown",
   "metadata": {},
   "source": [
    "<style>\n",
    "  footer {\n",
    "    color: #0f5b99;\n",
    "    background-color: #f7f7f7;\n",
    "    display: flex;\n",
    "    justify-content: space-between;\n",
    "    align-items: center;\n",
    "    padding: 10px;\n",
    "    box-shadow: 0 2px 4px rgba(0,0,0,0.2);\n",
    "  }\n",
    "  \n",
    "  footer p {\n",
    "    font-family: 'Montserrat', 'Arial', sans-serif;\n",
    "    font-size: 16px;\n",
    "    margin: 10px;\n",
    "    text-shadow: 1px 1px #f7f7f7;\n",
    "  }\n",
    "  \n",
    "  .team {\n",
    "    text-align: left;\n",
    "  }\n",
    "  \n",
    "  .subject {\n",
    "    text-align: center;\n",
    "  }\n",
    "  \n",
    "  .professor {\n",
    "    text-align: right;\n",
    "  }\n",
    "</style>\n",
    "<a href=\"#inizio\">\n",
    "  <footer>\n",
    "    <p class=\"team\"><strong>Vincenzo Fardella</strong> & <strong>Mario Tortorici</strong></p>\n",
    "    <p class=\"subject\"><strong>Big Data</strong> &copy; <strong>2023</strong></p>\n",
    "    <p class=\"professor\">Prof. <strong>Roberto Pirrone</strong></p>\n",
    "  </footer>\n",
    "</a>"
   ]
  }
 ],
 "metadata": {
  "language_info": {
   "name": "python"
  },
  "orig_nbformat": 4
 },
 "nbformat": 4,
 "nbformat_minor": 2
}
