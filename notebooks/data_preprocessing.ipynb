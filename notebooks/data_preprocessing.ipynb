{
 "cells": [
  {
   "attachments": {},
   "cell_type": "markdown",
   "metadata": {},
   "source": [
    "<style>\n",
    "  .navbar {\n",
    "    background-color: #f7f7f7;\n",
    "    display: flex;\n",
    "    justify-content: space-between;\n",
    "    align-items: center;\n",
    "    overflow: hidden;\n",
    "    font-family: 'Montserrat', 'Arial', sans-serif;\n",
    "    padding: 10px;\n",
    "    height: 90px;\n",
    "    box-shadow: 0 2px 4px rgba(0,0,0,0.2);\n",
    "  }\n",
    "\n",
    "  .navbar a {\n",
    "    font-size: 18px;\n",
    "    text-align: center;\n",
    "    padding: 14px 16px;\n",
    "    text-decoration: none;\n",
    "    transition: color 0.3s ease-in-out;\n",
    "    color: #0f5b99\n",
    "  }\n",
    "\n",
    "  .navbar a:hover {\n",
    "    background-color: #eaeaea;\n",
    "    color: #ff5500;\n",
    "  }\n",
    "\n",
    "  .navbar img {\n",
    "    height: 'auto';\n",
    "    width: 300px\n",
    "  }\n",
    "</style>\n",
    "\n",
    "<div class=\"navbar\" id=\"inizio\">\n",
    "  <a href=\"descrizione_problema.html\">Descrizione del problema</a>\n",
    "  <a href=\"data_preprocessing.html\">Data Preprocessing</a>\n",
    "  <a href=\"approccio_3D.html\">Approccio 3D</a>\n",
    "  <a href=\"approccio_2D.html\">Approccio 2D</a>\n",
    "  <a href=\"https://www.unipa.it\"><img src=\"https://www.unipa.it/redazioneweb/.content/immagini/logo-unipa-2020.png\"></a>\n",
    "</div>\n"
   ]
  },
  {
   "attachments": {},
   "cell_type": "markdown",
   "metadata": {},
   "source": [
    "# <strong> <center> STYLING DEL NOTEBOOK </center> </strong>\n",
    "---"
   ]
  },
  {
   "cell_type": "code",
   "execution_count": 1,
   "metadata": {},
   "outputs": [
    {
     "data": {
      "text/html": [
       "\n",
       "        <style>\n",
       "            @import url('https://fonts.googleapis.com/css?family=Montserrat&display=swap');\n",
       "            \n",
       "            * {\n",
       "                font-family: 'Montserrat', 'Arial', sans-serif;\n",
       "            }\n",
       "\n",
       "        </style>\n",
       "    "
      ],
      "text/plain": [
       "<IPython.core.display.HTML object>"
      ]
     },
     "execution_count": 1,
     "metadata": {},
     "output_type": "execute_result"
    }
   ],
   "source": [
    "from IPython.core.display import HTML\n",
    "\n",
    "HTML(\"\"\"\n",
    "        <style>\n",
    "            @import url('https://fonts.googleapis.com/css?family=Montserrat&display=swap');\n",
    "            \n",
    "            * {\n",
    "                font-family: 'Montserrat', 'Arial', sans-serif;\n",
    "            }\n",
    "\n",
    "        </style>\n",
    "    \"\"\")"
   ]
  },
  {
   "attachments": {},
   "cell_type": "markdown",
   "metadata": {},
   "source": [
    "# <strong> <center> DATA PREPROCESSING </center> </strong>\n",
    "---"
   ]
  },
  {
   "attachments": {},
   "cell_type": "markdown",
   "metadata": {},
   "source": [
    "La competizione da cui prende spunto questo progetto fornisce ai partecipanti un file strutturato `train.csv`, in cui sono catalogate, per ogni riga, un ID, un'etichetta di classificazione e una stringa RLE della maschera di segmentazione associata, e una cartella contenente le **scansioni MRI** di partenza, catalogate per caso clinico e giorno di osservazione.\n",
    "\n",
    "Avendo a disposizione questi dati, frutto del processo di **Data Collection**, lo step successivo prevede il **Data Preprocessing**: questa fase si compone di una serie di operazioni che permettono di dare maggiore struttura al dataset a disposizione e di ricavare importanti elementi statistici per le fasi successive del processo.  \n",
    "\n",
    "A seguito di una prima ispezione visiva e di uno studio preliminare del problema, compresa la metodologia di acquisizione MRI, opereremo sui\n",
    "file a disposizione secondo la seguente **outline**:\n",
    "\n",
    "<ol>\n",
    "    <li><a href=\"#paragrafo_1\" style=\"color: inherit; text-decoration: none;\"> Operazioni sul file <code>train.csv</code> </a></li>\n",
    "    <li><a href=\"#paragrafo_2\" style=\"color: inherit; text-decoration: none;\"> Raccolta e inventario delle immagini </a></li>\n",
    "    <li><a href=\"#paragrafo_3\" style=\"color: inherit; text-decoration: none;\"> Statistiche delle immagini </a></li>\n",
    "    <li><a href=\"#paragrafo_4\" style=\"color: inherit; text-decoration: none;\"> Operazioni sulle maschere </a></li>\n",
    "    <li><a href=\"#paragrafo_5\" style=\"color: inherit; text-decoration: none;\"> Operazioni sulle slice </a></li>\n",
    "    <li><a href=\"#paragrafo_6\" style=\"color: inherit; text-decoration: none;\"> Data Cleaning, Equalizzazione slice e Creazione maschere </a></li>\n",
    "    <li><a href=\"#paragrafo_7\" style=\"color: inherit; text-decoration: none;\"> Cropping e Resize di slice e maschere </a></li>\n",
    "</ol>"
   ]
  },
  {
   "attachments": {},
   "cell_type": "markdown",
   "metadata": {
    "id": "AwDiFU7MxdD7"
   },
   "source": [
    "# <center id='paragrafo_1'> <strong>1 &dash; OPERAZIONI SUL FILE `train.csv` </strong> </center>\n",
    "---"
   ]
  },
  {
   "attachments": {},
   "cell_type": "markdown",
   "metadata": {},
   "source": [
    "## Elenco `import`"
   ]
  },
  {
   "cell_type": "code",
   "execution_count": null,
   "metadata": {},
   "outputs": [],
   "source": [
    "import cv2 as cv\n",
    "import glob\n",
    "from joblib import Parallel, delayed\n",
    "import math\n",
    "import matplotlib.pyplot as plt\n",
    "import multiprocessing\n",
    "import numpy as np\n",
    "import os\n",
    "import pandas as pd\n",
    "import random\n",
    "import tensorflow as tf\n",
    "import tifffile as tiff\n",
    "\n",
    "from itertools import zip_longest \n",
    "from IPython.display import display\n",
    "from keras import layers\n",
    "from tqdm import tqdm\n",
    "\n",
    "os.environ[\"QT_QPA_PLATFORM\"] = \"xcb\""
   ]
  },
  {
   "attachments": {},
   "cell_type": "markdown",
   "metadata": {},
   "source": [
    "## Elenco `path`"
   ]
  },
  {
   "cell_type": "code",
   "execution_count": 4,
   "metadata": {},
   "outputs": [],
   "source": [
    "TRAIN_DIR = os.path.join('./train/')\n",
    "DATAFRAMES_DIR = os.path.join('./dataframes/')\n",
    "\n",
    "VOLUMES_DIR = os.path.join('./volumes/')\n",
    "DATASET_2D_DIR = os.path.join('./dataset_2D/')\n",
    "DATASET_3D_DIR = os.path.join('./dataset_3D/')\n",
    "\n",
    "SCANS_DIR = os.path.join(TRAIN_DIR, 'scans/')\n",
    "MASKS_DIR = os.path.join(TRAIN_DIR, 'masks/') \n",
    "\n",
    "TRAIN_CSV = os.path.join(DATAFRAMES_DIR, 'train.csv')"
   ]
  },
  {
   "attachments": {},
   "cell_type": "markdown",
   "metadata": {},
   "source": [
    "## Creazione delle cartelle"
   ]
  },
  {
   "cell_type": "code",
   "execution_count": null,
   "metadata": {},
   "outputs": [],
   "source": [
    "if not os.path.exists(VOLUMES_DIR):\n",
    "    os.mkdir(VOLUMES_DIR) \n",
    "    os.mkdir(f'{VOLUMES_DIR}slices/')\n",
    "    os.mkdir(f'{VOLUMES_DIR}masks/')\n",
    "\n",
    "if not os.path.exists(DATASET_2D_DIR):\n",
    "    os.mkdir(DATASET_2D_DIR)"
   ]
  },
  {
   "attachments": {},
   "cell_type": "markdown",
   "metadata": {},
   "source": [
    "## Creazione delle progress bar personalizzate"
   ]
  },
  {
   "cell_type": "code",
   "execution_count": 5,
   "metadata": {},
   "outputs": [],
   "source": [
    "bar_format_red = \"{l_bar}\\x1b[31m{bar}\\x1b[0m{r_bar}]\"\n",
    "bar_format_green = \"{l_bar}\\x1b[32m{bar}\\x1b[0m{r_bar}]\"\n",
    "bar_format_yellow = \"{l_bar}\\x1b[33m{bar}\\x1b[0m{r_bar}]\"\n",
    "bar_format_blue = \"{l_bar}\\x1b[34m{bar}\\x1b[0m{r_bar}]\"\n",
    "bar_format_magenta = \"{l_bar}\\x1b[35m{bar}\\x1b[0m{r_bar}]\"\n",
    "bar_format_cyan = \"{l_bar}\\x1b[36m{bar}\\x1b[0m{r_bar}]\""
   ]
  },
  {
   "attachments": {},
   "cell_type": "markdown",
   "metadata": {
    "id": "3mumDpYzxzQB"
   },
   "source": [
    "## Considerazioni preliminari"
   ]
  },
  {
   "attachments": {},
   "cell_type": "markdown",
   "metadata": {
    "id": "URVhRCwXv8w-"
   },
   "source": [
    "Inizialmente, proviamo ad aprire il contenuto del file **train.csv**, fornito dai creatori della competizione, per osservarne il contenuto e avere una comprensione preliminare del problema."
   ]
  },
  {
   "cell_type": "code",
   "execution_count": 6,
   "metadata": {
    "colab": {
     "base_uri": "https://localhost:8080/",
     "height": 206
    },
    "id": "OH7xaDdryH-E",
    "outputId": "a71d43ba-cd8a-41a7-cbee-e877f7b2685d"
   },
   "outputs": [
    {
     "data": {
      "text/html": [
       "<div>\n",
       "<style scoped>\n",
       "    .dataframe tbody tr th:only-of-type {\n",
       "        vertical-align: middle;\n",
       "    }\n",
       "\n",
       "    .dataframe tbody tr th {\n",
       "        vertical-align: top;\n",
       "    }\n",
       "\n",
       "    .dataframe thead th {\n",
       "        text-align: right;\n",
       "    }\n",
       "</style>\n",
       "<table border=\"1\" class=\"dataframe\">\n",
       "  <thead>\n",
       "    <tr style=\"text-align: right;\">\n",
       "      <th></th>\n",
       "      <th>id</th>\n",
       "      <th>class</th>\n",
       "      <th>segmentation</th>\n",
       "    </tr>\n",
       "  </thead>\n",
       "  <tbody>\n",
       "    <tr>\n",
       "      <th>0</th>\n",
       "      <td>case123_day20_slice_0001</td>\n",
       "      <td>large_bowel</td>\n",
       "      <td>NaN</td>\n",
       "    </tr>\n",
       "    <tr>\n",
       "      <th>1</th>\n",
       "      <td>case123_day20_slice_0001</td>\n",
       "      <td>small_bowel</td>\n",
       "      <td>NaN</td>\n",
       "    </tr>\n",
       "    <tr>\n",
       "      <th>2</th>\n",
       "      <td>case123_day20_slice_0001</td>\n",
       "      <td>stomach</td>\n",
       "      <td>NaN</td>\n",
       "    </tr>\n",
       "    <tr>\n",
       "      <th>3</th>\n",
       "      <td>case123_day20_slice_0002</td>\n",
       "      <td>large_bowel</td>\n",
       "      <td>NaN</td>\n",
       "    </tr>\n",
       "    <tr>\n",
       "      <th>4</th>\n",
       "      <td>case123_day20_slice_0002</td>\n",
       "      <td>small_bowel</td>\n",
       "      <td>NaN</td>\n",
       "    </tr>\n",
       "  </tbody>\n",
       "</table>\n",
       "</div>"
      ],
      "text/plain": [
       "                         id        class segmentation\n",
       "0  case123_day20_slice_0001  large_bowel          NaN\n",
       "1  case123_day20_slice_0001  small_bowel          NaN\n",
       "2  case123_day20_slice_0001      stomach          NaN\n",
       "3  case123_day20_slice_0002  large_bowel          NaN\n",
       "4  case123_day20_slice_0002  small_bowel          NaN"
      ]
     },
     "execution_count": 6,
     "metadata": {},
     "output_type": "execute_result"
    }
   ],
   "source": [
    "train_df = pd.read_csv(TRAIN_CSV)\n",
    "\n",
    "train_df.head()"
   ]
  },
  {
   "cell_type": "code",
   "execution_count": 7,
   "metadata": {
    "colab": {
     "base_uri": "https://localhost:8080/"
    },
    "id": "LoBuqOgiyS-r",
    "outputId": "ccadb701-5e79-4e27-9178-0e145f77bb95"
   },
   "outputs": [
    {
     "data": {
      "text/plain": [
       "115488"
      ]
     },
     "execution_count": 7,
     "metadata": {},
     "output_type": "execute_result"
    }
   ],
   "source": [
    "len(train_df)"
   ]
  },
  {
   "attachments": {},
   "cell_type": "markdown",
   "metadata": {
    "id": "RyPxFb01yWNZ"
   },
   "source": [
    "Il file presenta una struttura formata da **115488** righe per 3 colonne, ossia:\n",
    "\n",
    "* **id**, ossia l'identificativo associato ad un frame dell'acquisizione fatta in un dato giorno per uno specifico caso;\n",
    "* **class**, cio&eacute; l'organo presente nella scansione;\n",
    "* **segmentation**, ossia il segmento di immagine corrispondente all'organo individuato nella classe.\n",
    "\n",
    "La prima cosa che vogliamo andare a vedere è il numero di elementi per ogni classe."
   ]
  },
  {
   "cell_type": "code",
   "execution_count": 8,
   "metadata": {
    "colab": {
     "base_uri": "https://localhost:8080/"
    },
    "id": "L11sehqVyZEA",
    "outputId": "9d67a307-5adb-4789-817e-20d1dfc7ab88"
   },
   "outputs": [
    {
     "data": {
      "text/plain": [
       "array([38496, 38496, 38496])"
      ]
     },
     "execution_count": 8,
     "metadata": {},
     "output_type": "execute_result"
    }
   ],
   "source": [
    "class_counts = train_df['class'].value_counts()\n",
    "\n",
    "class_counts.values"
   ]
  },
  {
   "attachments": {},
   "cell_type": "markdown",
   "metadata": {
    "id": "38yQeWZKyd8H"
   },
   "source": [
    "Forniamo, quindi, una rappresentazione grafica di quanto trovato, tramite un grafico a barre in cui ad ogni colore è associata una\n",
    "classe di segmentazione."
   ]
  },
  {
   "cell_type": "code",
   "execution_count": 9,
   "metadata": {
    "colab": {
     "base_uri": "https://localhost:8080/",
     "height": 472
    },
    "id": "gHS_LFUUyfqK",
    "outputId": "bfccb3a7-c1a7-4e58-9c5e-30c55488b257"
   },
   "outputs": [
    {
     "data": {
      "image/png": "[encoded data removed]",
      "text/plain": [
       "<Figure size 640x480 with 1 Axes>"
      ]
     },
     "metadata": {},
     "output_type": "display_data"
    }
   ],
   "source": [
    "# Definizione dei colori delle barre\n",
    "colors = ['red', 'green', 'blue']\n",
    "\n",
    "# Creazione del grafico a barre\n",
    "plt.bar(class_counts.index, class_counts.values, color=[colors[i] for i in range(len(class_counts))])\n",
    "\n",
    "# Aggiunta delle etichette dell'asse x e y e del titolo del grafico\n",
    "plt.xlabel('Classe', fontweight='bold')\n",
    "plt.ylabel('Numero di Istanze', fontweight='bold')\n",
    "plt.title('Numero di Istanze per Classe', fontweight='bold')\n",
    "\n",
    "# Aggiunta delle etichette del valore\n",
    "for i, v in enumerate(class_counts.values):\n",
    "    plt.text(i, v, str(v), color='black', ha='center', va='bottom')\n",
    "\n",
    "# Mostrare il grafico\n",
    "plt.show()"
   ]
  },
  {
   "attachments": {},
   "cell_type": "markdown",
   "metadata": {
    "id": "qqji5oTpyfJM"
   },
   "source": [
    "Quello che notiamo è che il numero di elementi appartenenti ad ogni classe, **large_bowel**, **small_bowel** e **stomach**, è lo stesso, 38496, cosa ipotizzabile *ad occhio* nel dataframe precedentemente importato.\n",
    "\n",
    "L'altra colonna rilevante del dataframe è quella di *segmentation*, che viene usata per indicare le maschere corrispondenti all'organo classificato. Come prima cosa, vogliamo evidenziare solo le istanze del DataFrame che hanno una segmentazione non nulla (i.e. diversa da NaN)."
   ]
  },
  {
   "cell_type": "code",
   "execution_count": 10,
   "metadata": {
    "colab": {
     "base_uri": "https://localhost:8080/",
     "height": 472
    },
    "id": "cIvs1j5uy7u_",
    "outputId": "9fa88527-eaa6-4ce7-d110-25019f65c76d"
   },
   "outputs": [
    {
     "data": {
      "image/png": "[encoded data removed]",
      "text/plain": [
       "<Figure size 640x480 with 1 Axes>"
      ]
     },
     "metadata": {},
     "output_type": "display_data"
    }
   ],
   "source": [
    "# Eliminazione delle righe con valori mancanti nella colonna \"segmentation\"\n",
    "df_filtered = train_df.dropna(subset=['segmentation'])\n",
    "\n",
    "# Calcolo del numero di istanze per ogni classe nella colonna \"class\" del DataFrame filtrato\n",
    "class_counts = df_filtered['class'].value_counts()\n",
    "\n",
    "# Creazione del grafico a barre con colori personalizzati per ogni classe\n",
    "colors = ['red', 'green', 'blue']\n",
    "plt.bar(class_counts.index, class_counts.values, color=[colors[i] for i in range(len(class_counts))])\n",
    "\n",
    "# Aggiunta delle etichette dell'asse x e y e del titolo del grafico\n",
    "plt.xlabel('Classe', fontweight='bold')\n",
    "plt.ylabel('Numero di Istanze', fontweight='bold')\n",
    "plt.title('Numero di Istanze per Classe (con segmentazione non nulla)', fontweight='bold')\n",
    "\n",
    "# Aggiunta delle etichette del valore\n",
    "for i, v in enumerate(class_counts.values):\n",
    "    plt.text(i, v, str(v), color='black', ha='center', va='bottom')\n",
    "\n",
    "# Mostrare il grafico\n",
    "plt.show()"
   ]
  },
  {
   "attachments": {},
   "cell_type": "markdown",
   "metadata": {
    "id": "HZwbWRWXzFQr"
   },
   "source": [
    "Abbiamo costruito, a partire dal dataframe originale, un secondo dataframe, chiamato *df_filtered* tramite la funzione \n",
    "`dropna()` di `pandas.Dataframe` per eliminare le righe con valori mancanti (i.e. NaN) nella colonna *segmentation*.\n",
    "\n",
    "Successivamente, in maniera analoga al calcolo delle istanze di classe, abbiamo utilizzato il dataframe appena creato per calcolare il numero \n",
    "di istanze per ogni classe nella colonna *class*, utilizzando la funzione `value_counts()` di `pandas.Dataframe`. \n",
    "\n",
    "Infine, abbiamo creato un grafico a barre con i risultati e abbiamo aggiunto le etichette dell'asse x, dell'asse y e del titolo del grafico."
   ]
  },
  {
   "attachments": {},
   "cell_type": "markdown",
   "metadata": {
    "id": "EUS5J9Y1zMjh"
   },
   "source": [
    "## Prima preparazione"
   ]
  },
  {
   "attachments": {},
   "cell_type": "markdown",
   "metadata": {
    "id": "7_RSjHSPzR3f"
   },
   "source": [
    "L'obiettivo di questa seconda parte di operazioni sul file **train.csv** è quello di estrarre delle informazioni che possano tornare utili in fase di analisi del problema e di eventuali operazioni di *data cleaning* (visto l'elevato numero di slice prive di maschere è facile aspettarsi un calo drastico delle dimensioni del dataset).\n",
    "\n",
    "Inizialmente, effettuiamo una semplice conversione di notazione per la classificazione: piuttosto che usare una label categorica, passiamo ad una classificazione per valori interi discreti."
   ]
  },
  {
   "cell_type": "code",
   "execution_count": 11,
   "metadata": {
    "id": "WvpvuGQZzFmJ"
   },
   "outputs": [],
   "source": [
    "class_mapping = {'large_bowel': 0, 'small_bowel': 1, 'stomach': 2}\n",
    "\n",
    "train_df['class'] = train_df['class'].replace(class_mapping)"
   ]
  },
  {
   "attachments": {},
   "cell_type": "markdown",
   "metadata": {
    "id": "WZFM-ak-zcxK"
   },
   "source": [
    "Successivamente, a partire dalla colonna **id** del dataframe di partenza, si può osservare come ogni riga contenga informazioni circa la categorizzazione per numero del **caso** clinico, per **giornata** di osservazione e per **numero di frame** dell'acquisizione. L'obiettivo diventa, quindi, quello di estrarre le suddette informazioni e di ristrutturare il dataframe.\n",
    "\n",
    "Inizialmente, elaboriamo, per ogni riga, il valore di **id**, in modo da estrarre una lista di informazioni"
   ]
  },
  {
   "cell_type": "code",
   "execution_count": 12,
   "metadata": {
    "colab": {
     "base_uri": "https://localhost:8080/",
     "height": 206
    },
    "id": "Lw9P-r7HzdsF",
    "outputId": "d94bedea-8316-45f0-bd9c-dbf3071413bd"
   },
   "outputs": [
    {
     "data": {
      "text/html": [
       "<div>\n",
       "<style scoped>\n",
       "    .dataframe tbody tr th:only-of-type {\n",
       "        vertical-align: middle;\n",
       "    }\n",
       "\n",
       "    .dataframe tbody tr th {\n",
       "        vertical-align: top;\n",
       "    }\n",
       "\n",
       "    .dataframe thead th {\n",
       "        text-align: right;\n",
       "    }\n",
       "</style>\n",
       "<table border=\"1\" class=\"dataframe\">\n",
       "  <thead>\n",
       "    <tr style=\"text-align: right;\">\n",
       "      <th></th>\n",
       "      <th>0</th>\n",
       "      <th>1</th>\n",
       "      <th>2</th>\n",
       "      <th>3</th>\n",
       "    </tr>\n",
       "  </thead>\n",
       "  <tbody>\n",
       "    <tr>\n",
       "      <th>0</th>\n",
       "      <td>case123</td>\n",
       "      <td>day20</td>\n",
       "      <td>slice</td>\n",
       "      <td>0001</td>\n",
       "    </tr>\n",
       "    <tr>\n",
       "      <th>1</th>\n",
       "      <td>case123</td>\n",
       "      <td>day20</td>\n",
       "      <td>slice</td>\n",
       "      <td>0001</td>\n",
       "    </tr>\n",
       "    <tr>\n",
       "      <th>2</th>\n",
       "      <td>case123</td>\n",
       "      <td>day20</td>\n",
       "      <td>slice</td>\n",
       "      <td>0001</td>\n",
       "    </tr>\n",
       "    <tr>\n",
       "      <th>3</th>\n",
       "      <td>case123</td>\n",
       "      <td>day20</td>\n",
       "      <td>slice</td>\n",
       "      <td>0002</td>\n",
       "    </tr>\n",
       "    <tr>\n",
       "      <th>4</th>\n",
       "      <td>case123</td>\n",
       "      <td>day20</td>\n",
       "      <td>slice</td>\n",
       "      <td>0002</td>\n",
       "    </tr>\n",
       "  </tbody>\n",
       "</table>\n",
       "</div>"
      ],
      "text/plain": [
       "         0      1      2     3\n",
       "0  case123  day20  slice  0001\n",
       "1  case123  day20  slice  0001\n",
       "2  case123  day20  slice  0001\n",
       "3  case123  day20  slice  0002\n",
       "4  case123  day20  slice  0002"
      ]
     },
     "execution_count": 12,
     "metadata": {},
     "output_type": "execute_result"
    }
   ],
   "source": [
    "splits = train_df['id'].str.split(\"_\", n = 4, expand = True)\n",
    "\n",
    "splits.head()"
   ]
  },
  {
   "attachments": {},
   "cell_type": "markdown",
   "metadata": {
    "id": "rZVtSejrzhBi"
   },
   "source": [
    "Come si può vedere nella tabella precedente, le informazioni che possiamo estrarre si trovano nei chunk 0, 1 e 3. \n",
    "\n",
    "Ciò che ci interessa è, però, dare un'impostazione ai dati più quantitativa, per cui dobbiamo estrarre dai chunk 0 e 1, rispettivamente, il numero del caso e della giornata di osservazione, mentre il chunk 3 va solo inteso come un numero intero, per eliminare gli 0 iniziali."
   ]
  },
  {
   "cell_type": "code",
   "execution_count": 13,
   "metadata": {
    "colab": {
     "base_uri": "https://localhost:8080/",
     "height": 206
    },
    "id": "tJAH2TbWzhek",
    "outputId": "e482e4e8-9f44-4562-e5ed-3350dd595b2f"
   },
   "outputs": [
    {
     "data": {
      "text/html": [
       "<div>\n",
       "<style scoped>\n",
       "    .dataframe tbody tr th:only-of-type {\n",
       "        vertical-align: middle;\n",
       "    }\n",
       "\n",
       "    .dataframe tbody tr th {\n",
       "        vertical-align: top;\n",
       "    }\n",
       "\n",
       "    .dataframe thead th {\n",
       "        text-align: right;\n",
       "    }\n",
       "</style>\n",
       "<table border=\"1\" class=\"dataframe\">\n",
       "  <thead>\n",
       "    <tr style=\"text-align: right;\">\n",
       "      <th></th>\n",
       "      <th>id</th>\n",
       "      <th>class</th>\n",
       "      <th>segmentation</th>\n",
       "      <th>case_id</th>\n",
       "      <th>day_id</th>\n",
       "      <th>slice_id</th>\n",
       "    </tr>\n",
       "  </thead>\n",
       "  <tbody>\n",
       "    <tr>\n",
       "      <th>0</th>\n",
       "      <td>case123_day20_slice_0001</td>\n",
       "      <td>0</td>\n",
       "      <td>NaN</td>\n",
       "      <td>123</td>\n",
       "      <td>20</td>\n",
       "      <td>1</td>\n",
       "    </tr>\n",
       "    <tr>\n",
       "      <th>1</th>\n",
       "      <td>case123_day20_slice_0001</td>\n",
       "      <td>1</td>\n",
       "      <td>NaN</td>\n",
       "      <td>123</td>\n",
       "      <td>20</td>\n",
       "      <td>1</td>\n",
       "    </tr>\n",
       "    <tr>\n",
       "      <th>2</th>\n",
       "      <td>case123_day20_slice_0001</td>\n",
       "      <td>2</td>\n",
       "      <td>NaN</td>\n",
       "      <td>123</td>\n",
       "      <td>20</td>\n",
       "      <td>1</td>\n",
       "    </tr>\n",
       "    <tr>\n",
       "      <th>3</th>\n",
       "      <td>case123_day20_slice_0002</td>\n",
       "      <td>0</td>\n",
       "      <td>NaN</td>\n",
       "      <td>123</td>\n",
       "      <td>20</td>\n",
       "      <td>2</td>\n",
       "    </tr>\n",
       "    <tr>\n",
       "      <th>4</th>\n",
       "      <td>case123_day20_slice_0002</td>\n",
       "      <td>1</td>\n",
       "      <td>NaN</td>\n",
       "      <td>123</td>\n",
       "      <td>20</td>\n",
       "      <td>2</td>\n",
       "    </tr>\n",
       "  </tbody>\n",
       "</table>\n",
       "</div>"
      ],
      "text/plain": [
       "                         id  class segmentation  case_id  day_id  slice_id\n",
       "0  case123_day20_slice_0001      0          NaN      123      20         1\n",
       "1  case123_day20_slice_0001      1          NaN      123      20         1\n",
       "2  case123_day20_slice_0001      2          NaN      123      20         1\n",
       "3  case123_day20_slice_0002      0          NaN      123      20         2\n",
       "4  case123_day20_slice_0002      1          NaN      123      20         2"
      ]
     },
     "execution_count": 13,
     "metadata": {},
     "output_type": "execute_result"
    }
   ],
   "source": [
    "train_df['case_id'] = splits[0]\n",
    "train_df['day_id'] = splits[1]\n",
    "train_df['slice_id'] = splits[3].astype(int)\n",
    "\n",
    "train_df['case_id'] = train_df['case_id'].str.replace('case', '').astype(int) \n",
    "train_df['day_id'] = train_df['day_id'].str.replace('day', '').astype(int)\n",
    "\n",
    "train_df.head()"
   ]
  },
  {
   "cell_type": "code",
   "execution_count": 14,
   "metadata": {
    "colab": {
     "base_uri": "https://localhost:8080/"
    },
    "id": "6TpU6Z0SznG6",
    "outputId": "59d22456-4ad5-4b9f-9f21-31b34a73dcd1"
   },
   "outputs": [
    {
     "name": "stdout",
     "output_type": "stream",
     "text": [
      "Il numero delle righe coincide! Non esistono quindi casi che non hanno ALMENO un attributo di segmentazione.\n"
     ]
    }
   ],
   "source": [
    "filtered = train_df.groupby(['case_id', 'day_id'])\n",
    "\n",
    "count = 0\n",
    "\n",
    "for group in filtered:\n",
    "    count_nan = 0\n",
    "    for element in group[1]['segmentation']:\n",
    "        if pd.isna(element):\n",
    "            count_nan += 1\n",
    "    if count_nan == len(group[1]):\n",
    "        print(group[0])\n",
    "    count_nan = 0\n",
    "    count += 1\n",
    "if(count == len(filtered)):\n",
    "    print(\"Il numero delle righe coincide! Non esistono quindi casi che non hanno ALMENO un attributo di segmentazione.\")"
   ]
  },
  {
   "attachments": {},
   "cell_type": "markdown",
   "metadata": {
    "id": "OI4VGZQyzr3X"
   },
   "source": [
    "Adesso vogliamo compattare il dataframe, in modo che la singola riga contenga le informazioni della coppia `(class, segmentation)` per la tripla `(large_bowel, small_bowel, stomach)`, e ordinarlo in ordine crescente per numero del caso, giornata di osservazione e identificativo della scansione. Per farlo, dobbiamo:\n",
    "\n",
    "* Rimuovere le colonne *class* e *segmentation* e salvarlo in due liste opportune"
   ]
  },
  {
   "cell_type": "code",
   "execution_count": 15,
   "metadata": {
    "id": "FZsSOzsDzs1n"
   },
   "outputs": [],
   "source": [
    "classe = train_df.pop('class')\n",
    "segmentation = train_df.pop('segmentation')"
   ]
  },
  {
   "attachments": {},
   "cell_type": "markdown",
   "metadata": {
    "id": "tMy3oShrzvo2"
   },
   "source": [
    "* Raggruppare gli elementi in gruppi da tre e rimuovere i duplicati per *id*"
   ]
  },
  {
   "cell_type": "code",
   "execution_count": null,
   "metadata": {
    "id": "j8v_RW_Azw29"
   },
   "outputs": [],
   "source": [
    "grouped_segmentation = list(zip_longest(*[iter(segmentation)]*3, fillvalue=None))\n",
    "grouped_class = list(zip_longest(*[iter(classe)]*3, fillvalue=None))\n",
    "\n",
    "train_df = train_df.drop_duplicates(subset=['id'])\n",
    "\n",
    "train_df.insert(len(train_df.columns), 'class', grouped_class)\n",
    "train_df.insert(len(train_df.columns), 'segmentation', grouped_segmentation)\n",
    "\n",
    "# converto i valori dell'attributo 'segmentation' in stringhe\n",
    "train_df.loc[:, 'segmentation'] = train_df['segmentation'].apply(str)"
   ]
  },
  {
   "attachments": {},
   "cell_type": "markdown",
   "metadata": {
    "id": "QB3WYrVFz0aR"
   },
   "source": [
    "* Ordinare il dataframe per *case_id*, *day_id* e *slice_id*"
   ]
  },
  {
   "cell_type": "code",
   "execution_count": 17,
   "metadata": {
    "colab": {
     "base_uri": "https://localhost:8080/",
     "height": 206
    },
    "id": "jbkN3-Ujz0xH",
    "outputId": "abfe4ef9-85c8-49a2-dc7d-f286e9a604f2"
   },
   "outputs": [
    {
     "data": {
      "text/html": [
       "<div>\n",
       "<style scoped>\n",
       "    .dataframe tbody tr th:only-of-type {\n",
       "        vertical-align: middle;\n",
       "    }\n",
       "\n",
       "    .dataframe tbody tr th {\n",
       "        vertical-align: top;\n",
       "    }\n",
       "\n",
       "    .dataframe thead th {\n",
       "        text-align: right;\n",
       "    }\n",
       "</style>\n",
       "<table border=\"1\" class=\"dataframe\">\n",
       "  <thead>\n",
       "    <tr style=\"text-align: right;\">\n",
       "      <th></th>\n",
       "      <th>id</th>\n",
       "      <th>case_id</th>\n",
       "      <th>day_id</th>\n",
       "      <th>slice_id</th>\n",
       "      <th>class</th>\n",
       "      <th>segmentation</th>\n",
       "    </tr>\n",
       "  </thead>\n",
       "  <tbody>\n",
       "    <tr>\n",
       "      <th>0</th>\n",
       "      <td>case2_day1_slice_0001</td>\n",
       "      <td>2</td>\n",
       "      <td>1</td>\n",
       "      <td>1</td>\n",
       "      <td>(0, 1, 2)</td>\n",
       "      <td>(nan, nan, nan)</td>\n",
       "    </tr>\n",
       "    <tr>\n",
       "      <th>1</th>\n",
       "      <td>case2_day1_slice_0002</td>\n",
       "      <td>2</td>\n",
       "      <td>1</td>\n",
       "      <td>2</td>\n",
       "      <td>(0, 1, 2)</td>\n",
       "      <td>(nan, nan, nan)</td>\n",
       "    </tr>\n",
       "    <tr>\n",
       "      <th>2</th>\n",
       "      <td>case2_day1_slice_0003</td>\n",
       "      <td>2</td>\n",
       "      <td>1</td>\n",
       "      <td>3</td>\n",
       "      <td>(0, 1, 2)</td>\n",
       "      <td>(nan, nan, nan)</td>\n",
       "    </tr>\n",
       "    <tr>\n",
       "      <th>3</th>\n",
       "      <td>case2_day1_slice_0004</td>\n",
       "      <td>2</td>\n",
       "      <td>1</td>\n",
       "      <td>4</td>\n",
       "      <td>(0, 1, 2)</td>\n",
       "      <td>(nan, nan, nan)</td>\n",
       "    </tr>\n",
       "    <tr>\n",
       "      <th>4</th>\n",
       "      <td>case2_day1_slice_0005</td>\n",
       "      <td>2</td>\n",
       "      <td>1</td>\n",
       "      <td>5</td>\n",
       "      <td>(0, 1, 2)</td>\n",
       "      <td>(nan, nan, nan)</td>\n",
       "    </tr>\n",
       "  </tbody>\n",
       "</table>\n",
       "</div>"
      ],
      "text/plain": [
       "                      id  case_id  day_id  slice_id      class  \\\n",
       "0  case2_day1_slice_0001        2       1         1  (0, 1, 2)   \n",
       "1  case2_day1_slice_0002        2       1         2  (0, 1, 2)   \n",
       "2  case2_day1_slice_0003        2       1         3  (0, 1, 2)   \n",
       "3  case2_day1_slice_0004        2       1         4  (0, 1, 2)   \n",
       "4  case2_day1_slice_0005        2       1         5  (0, 1, 2)   \n",
       "\n",
       "      segmentation  \n",
       "0  (nan, nan, nan)  \n",
       "1  (nan, nan, nan)  \n",
       "2  (nan, nan, nan)  \n",
       "3  (nan, nan, nan)  \n",
       "4  (nan, nan, nan)  "
      ]
     },
     "execution_count": 17,
     "metadata": {},
     "output_type": "execute_result"
    }
   ],
   "source": [
    "train_df = train_df.sort_values(by=['case_id', 'day_id', 'slice_id'], ascending=True).reset_index(drop=True)\n",
    "\n",
    "train_df.head()"
   ]
  },
  {
   "attachments": {},
   "cell_type": "markdown",
   "metadata": {
    "id": "rj7fSX-Yz1ED"
   },
   "source": [
    "# <center id='paragrafo_2'> <strong>2 &dash; RACCOLTA E INVENTARIO DELLE IMMAGINI </strong> </center>\n",
    "---"
   ]
  },
  {
   "attachments": {},
   "cell_type": "markdown",
   "metadata": {
    "id": "uDA_KTcj0KwH"
   },
   "source": [
    "Dopo aver osservato alcuni aspetti interessanti sui dati forniti dal problema, vogliamo andare ad indagare maggiormente sulle immagini delle varie scansioni. Per evitare di avere un dataframe poco leggibile, umanamente parlando, ricorriamo ad un secondo dataframe, realizzato da zero, a partire dai percorsi estratti dalla cartella *train* e associati alle *scans*."
   ]
  },
  {
   "cell_type": "code",
   "execution_count": 18,
   "metadata": {
    "colab": {
     "base_uri": "https://localhost:8080/",
     "height": 206
    },
    "id": "VT1_f5Upz1dF",
    "outputId": "66eb084a-d90d-4666-df6e-1abf91121da2"
   },
   "outputs": [
    {
     "data": {
      "text/html": [
       "<div>\n",
       "<style scoped>\n",
       "    .dataframe tbody tr th:only-of-type {\n",
       "        vertical-align: middle;\n",
       "    }\n",
       "\n",
       "    .dataframe tbody tr th {\n",
       "        vertical-align: top;\n",
       "    }\n",
       "\n",
       "    .dataframe thead th {\n",
       "        text-align: right;\n",
       "    }\n",
       "</style>\n",
       "<table border=\"1\" class=\"dataframe\">\n",
       "  <thead>\n",
       "    <tr style=\"text-align: right;\">\n",
       "      <th></th>\n",
       "      <th>slice_path</th>\n",
       "    </tr>\n",
       "  </thead>\n",
       "  <tbody>\n",
       "    <tr>\n",
       "      <th>0</th>\n",
       "      <td>./train/case149/case149_day12/scans/slice_0100...</td>\n",
       "    </tr>\n",
       "    <tr>\n",
       "      <th>1</th>\n",
       "      <td>./train/case149/case149_day12/scans/slice_0084...</td>\n",
       "    </tr>\n",
       "    <tr>\n",
       "      <th>2</th>\n",
       "      <td>./train/case149/case149_day12/scans/slice_0080...</td>\n",
       "    </tr>\n",
       "    <tr>\n",
       "      <th>3</th>\n",
       "      <td>./train/case149/case149_day12/scans/slice_0108...</td>\n",
       "    </tr>\n",
       "    <tr>\n",
       "      <th>4</th>\n",
       "      <td>./train/case149/case149_day12/scans/slice_0038...</td>\n",
       "    </tr>\n",
       "  </tbody>\n",
       "</table>\n",
       "</div>"
      ],
      "text/plain": [
       "                                          slice_path\n",
       "0  ./train/case149/case149_day12/scans/slice_0100...\n",
       "1  ./train/case149/case149_day12/scans/slice_0084...\n",
       "2  ./train/case149/case149_day12/scans/slice_0080...\n",
       "3  ./train/case149/case149_day12/scans/slice_0108...\n",
       "4  ./train/case149/case149_day12/scans/slice_0038..."
      ]
     },
     "execution_count": 18,
     "metadata": {},
     "output_type": "execute_result"
    }
   ],
   "source": [
    "list_slices = glob.glob(TRAIN_DIR+'*/*/scans/*.png')\n",
    "\n",
    "image_details = pd.DataFrame({'slice_path':list_slices})\n",
    "\n",
    "image_details.head()"
   ]
  },
  {
   "attachments": {},
   "cell_type": "markdown",
   "metadata": {
    "id": "y8exvbj40aqd"
   },
   "source": [
    "Adesso, a partire dai persorsi individuati, possiamo andare ad estrarre le informazioni che ci interessa possano essere associati alle singole immagini:\n",
    "\n",
    "1. **Numero del caso**\n",
    "2. **Giorno di osservazione**\n",
    "3. **Numero della slice**\n",
    "4. **Altezza dell'immagine**\n",
    "5. **Larghezza dell'immagine**\n",
    "6. **Altezza del singolo pixel**\n",
    "7. **Larghezza del singolo pixel**"
   ]
  },
  {
   "cell_type": "code",
   "execution_count": 19,
   "metadata": {
    "id": "e8d0AX2K0a8d"
   },
   "outputs": [],
   "source": [
    "splits = image_details['slice_path'].str.split(\"/\", n = 6, expand = True)\n",
    "\n",
    "image_details[['case_id', 'day_id']] = splits[3].str.split(\"_\", expand = True)\n",
    "\n",
    "image_details['case_id'] = image_details['case_id'].str.replace('case', '').astype(int) \n",
    "image_details['day_id'] = image_details['day_id'].str.replace('day', '').astype(int)\n",
    "\n",
    "image_details['slice_name'] = splits[5]\n",
    "\n",
    "slice_info = image_details['slice_name'].str.split(n=6, expand=True, pat=\"_\")\n",
    "\n",
    "image_details['slice_id'] = slice_info[1].astype(int)\n",
    "\n",
    "image_details['width'] = slice_info[2].astype(int)\n",
    "image_details['height'] = slice_info[3].astype(int)\n",
    "\n",
    "image_details['width_px'] = slice_info[4].astype(float)\n",
    "image_details['height_px'] = slice_info[5].str.replace('.png', '', regex=False).astype(float)\n",
    "\n",
    "splits[4] = splits[4].str.replace('scans', 'masks')\n",
    "splits[5] = splits[5].str.replace('slice', 'mask_slice')\n",
    "\n",
    "percorsi_cartelle = splits.drop(columns=[5])\n",
    "\n",
    "percorsi_cartelle = percorsi_cartelle.apply(lambda x: '/'.join(x.astype(str)), axis=1)\n",
    "\n",
    "percorsi_maschere = splits.apply(lambda x: '/'.join(x.astype(str)), axis=1)\n",
    "\n",
    "image_details.insert(1, 'mask_path', percorsi_maschere)"
   ]
  },
  {
   "attachments": {},
   "cell_type": "markdown",
   "metadata": {},
   "source": [
    "A partire dalle informazioni estratte, possiamo preparare una struttura di directory che metta in parallelo, \n",
    "per caso clinico e giorno di osservazione, le slice e le maschere; di conseguenza, procediamo alla creazione\n",
    "delle cartelle che ospiteranno le maschere."
   ]
  },
  {
   "cell_type": "code",
   "execution_count": 37,
   "metadata": {
    "colab": {
     "base_uri": "https://localhost:8080/"
    },
    "id": "S0J1yVhDzOL1",
    "outputId": "c2bf0f5b-813a-49a2-a324-71a33d9fac3f"
   },
   "outputs": [
    {
     "name": "stdout",
     "output_type": "stream",
     "text": [
      "\n",
      "Inizio creazione cartelle maschere...\n",
      "\n"
     ]
    },
    {
     "name": "stderr",
     "output_type": "stream",
     "text": [
      "100%|\u001b[34m██████████\u001b[0m| 38496/38496 [00:00<00:00, 205339.68it/s]]"
     ]
    },
    {
     "name": "stdout",
     "output_type": "stream",
     "text": [
      "\n",
      "Fine creazione cartelle maschere.\n",
      "\n"
     ]
    },
    {
     "name": "stderr",
     "output_type": "stream",
     "text": [
      "\n"
     ]
    }
   ],
   "source": [
    "print(f\"\\nInizio creazione cartelle maschere...\\n\") \n",
    "for path in tqdm(percorsi_cartelle, total=len(percorsi_cartelle), bar_format=bar_format_blue):\n",
    "    # Creo la nuova cartella se non esiste già\n",
    "    if not os.path.exists(path):\n",
    "        os.mkdir(path) \n",
    "print(f\"\\nFine creazione cartelle maschere.\\n\")   "
   ]
  },
  {
   "attachments": {},
   "cell_type": "markdown",
   "metadata": {
    "id": "WhGDMpmG1Szj"
   },
   "source": [
    "Ordiniamo, quindi, in ordine **crescente** per numero del caso, giornata di osservazione e numero della slice, il dataframe appena costruito."
   ]
  },
  {
   "cell_type": "code",
   "execution_count": 38,
   "metadata": {
    "colab": {
     "base_uri": "https://localhost:8080/",
     "height": 337
    },
    "id": "v1IiK6ZU1Tlu",
    "outputId": "40e4f4ec-5942-4a74-bb19-64aa2e2f503e"
   },
   "outputs": [
    {
     "data": {
      "text/html": [
       "<div>\n",
       "<style scoped>\n",
       "    .dataframe tbody tr th:only-of-type {\n",
       "        vertical-align: middle;\n",
       "    }\n",
       "\n",
       "    .dataframe tbody tr th {\n",
       "        vertical-align: top;\n",
       "    }\n",
       "\n",
       "    .dataframe thead th {\n",
       "        text-align: right;\n",
       "    }\n",
       "</style>\n",
       "<table border=\"1\" class=\"dataframe\">\n",
       "  <thead>\n",
       "    <tr style=\"text-align: right;\">\n",
       "      <th></th>\n",
       "      <th>slice_path</th>\n",
       "      <th>mask_path</th>\n",
       "      <th>case_id</th>\n",
       "      <th>day_id</th>\n",
       "      <th>slice_name</th>\n",
       "      <th>slice_id</th>\n",
       "      <th>width</th>\n",
       "      <th>height</th>\n",
       "      <th>depth_px</th>\n",
       "    </tr>\n",
       "  </thead>\n",
       "  <tbody>\n",
       "    <tr>\n",
       "      <th>0</th>\n",
       "      <td>./train/case2/case2_day1/scans/slice_0001_266_...</td>\n",
       "      <td>./train/case2/case2_day1/masks/mask_slice_0001...</td>\n",
       "      <td>2</td>\n",
       "      <td>1</td>\n",
       "      <td>slice_0001_266_266_1.50_1.50.png</td>\n",
       "      <td>1</td>\n",
       "      <td>266</td>\n",
       "      <td>266</td>\n",
       "      <td>1.5</td>\n",
       "    </tr>\n",
       "    <tr>\n",
       "      <th>1</th>\n",
       "      <td>./train/case2/case2_day1/scans/slice_0002_266_...</td>\n",
       "      <td>./train/case2/case2_day1/masks/mask_slice_0002...</td>\n",
       "      <td>2</td>\n",
       "      <td>1</td>\n",
       "      <td>slice_0002_266_266_1.50_1.50.png</td>\n",
       "      <td>2</td>\n",
       "      <td>266</td>\n",
       "      <td>266</td>\n",
       "      <td>1.5</td>\n",
       "    </tr>\n",
       "    <tr>\n",
       "      <th>2</th>\n",
       "      <td>./train/case2/case2_day1/scans/slice_0003_266_...</td>\n",
       "      <td>./train/case2/case2_day1/masks/mask_slice_0003...</td>\n",
       "      <td>2</td>\n",
       "      <td>1</td>\n",
       "      <td>slice_0003_266_266_1.50_1.50.png</td>\n",
       "      <td>3</td>\n",
       "      <td>266</td>\n",
       "      <td>266</td>\n",
       "      <td>1.5</td>\n",
       "    </tr>\n",
       "    <tr>\n",
       "      <th>3</th>\n",
       "      <td>./train/case2/case2_day1/scans/slice_0004_266_...</td>\n",
       "      <td>./train/case2/case2_day1/masks/mask_slice_0004...</td>\n",
       "      <td>2</td>\n",
       "      <td>1</td>\n",
       "      <td>slice_0004_266_266_1.50_1.50.png</td>\n",
       "      <td>4</td>\n",
       "      <td>266</td>\n",
       "      <td>266</td>\n",
       "      <td>1.5</td>\n",
       "    </tr>\n",
       "    <tr>\n",
       "      <th>4</th>\n",
       "      <td>./train/case2/case2_day1/scans/slice_0005_266_...</td>\n",
       "      <td>./train/case2/case2_day1/masks/mask_slice_0005...</td>\n",
       "      <td>2</td>\n",
       "      <td>1</td>\n",
       "      <td>slice_0005_266_266_1.50_1.50.png</td>\n",
       "      <td>5</td>\n",
       "      <td>266</td>\n",
       "      <td>266</td>\n",
       "      <td>1.5</td>\n",
       "    </tr>\n",
       "  </tbody>\n",
       "</table>\n",
       "</div>"
      ],
      "text/plain": [
       "                                          slice_path  \\\n",
       "0  ./train/case2/case2_day1/scans/slice_0001_266_...   \n",
       "1  ./train/case2/case2_day1/scans/slice_0002_266_...   \n",
       "2  ./train/case2/case2_day1/scans/slice_0003_266_...   \n",
       "3  ./train/case2/case2_day1/scans/slice_0004_266_...   \n",
       "4  ./train/case2/case2_day1/scans/slice_0005_266_...   \n",
       "\n",
       "                                           mask_path  case_id  day_id  \\\n",
       "0  ./train/case2/case2_day1/masks/mask_slice_0001...        2       1   \n",
       "1  ./train/case2/case2_day1/masks/mask_slice_0002...        2       1   \n",
       "2  ./train/case2/case2_day1/masks/mask_slice_0003...        2       1   \n",
       "3  ./train/case2/case2_day1/masks/mask_slice_0004...        2       1   \n",
       "4  ./train/case2/case2_day1/masks/mask_slice_0005...        2       1   \n",
       "\n",
       "                         slice_name  slice_id  width  height  depth_px  \n",
       "0  slice_0001_266_266_1.50_1.50.png         1    266     266       1.5  \n",
       "1  slice_0002_266_266_1.50_1.50.png         2    266     266       1.5  \n",
       "2  slice_0003_266_266_1.50_1.50.png         3    266     266       1.5  \n",
       "3  slice_0004_266_266_1.50_1.50.png         4    266     266       1.5  \n",
       "4  slice_0005_266_266_1.50_1.50.png         5    266     266       1.5  "
      ]
     },
     "execution_count": 38,
     "metadata": {},
     "output_type": "execute_result"
    }
   ],
   "source": [
    "image_details = image_details.sort_values(by=['case_id', 'day_id', 'slice_id'], ascending=True).reset_index(drop=True)\n",
    "\n",
    "image_details.head()"
   ]
  },
  {
   "attachments": {},
   "cell_type": "markdown",
   "metadata": {
    "id": "QrMZmiq89sVg"
   },
   "source": [
    "Creiamo un nuovo dataframe, frutto dell'unione di `train_df` e `image_details`, secondo gli attributi comuni `case_id`, `day_id` e `slice_id`."
   ]
  },
  {
   "cell_type": "code",
   "execution_count": 39,
   "metadata": {
    "colab": {
     "base_uri": "https://localhost:8080/",
     "height": 531
    },
    "id": "Ozla4nGN-JtG",
    "outputId": "2ffb5f6a-db4d-40b5-90fd-f1d118162f9b"
   },
   "outputs": [
    {
     "data": {
      "text/html": [
       "<div>\n",
       "<style scoped>\n",
       "    .dataframe tbody tr th:only-of-type {\n",
       "        vertical-align: middle;\n",
       "    }\n",
       "\n",
       "    .dataframe tbody tr th {\n",
       "        vertical-align: top;\n",
       "    }\n",
       "\n",
       "    .dataframe thead th {\n",
       "        text-align: right;\n",
       "    }\n",
       "</style>\n",
       "<table border=\"1\" class=\"dataframe\">\n",
       "  <thead>\n",
       "    <tr style=\"text-align: right;\">\n",
       "      <th></th>\n",
       "      <th>id</th>\n",
       "      <th>case_id</th>\n",
       "      <th>day_id</th>\n",
       "      <th>slice_id</th>\n",
       "      <th>class</th>\n",
       "      <th>segmentation</th>\n",
       "      <th>slice_path</th>\n",
       "      <th>mask_path</th>\n",
       "      <th>slice_name</th>\n",
       "      <th>width</th>\n",
       "      <th>height</th>\n",
       "      <th>depth_px</th>\n",
       "    </tr>\n",
       "  </thead>\n",
       "  <tbody>\n",
       "    <tr>\n",
       "      <th>0</th>\n",
       "      <td>case2_day1_slice_0001</td>\n",
       "      <td>2</td>\n",
       "      <td>1</td>\n",
       "      <td>1</td>\n",
       "      <td>(0, 1, 2)</td>\n",
       "      <td>(nan, nan, nan)</td>\n",
       "      <td>./train/case2/case2_day1/scans/slice_0001_266_...</td>\n",
       "      <td>./train/case2/case2_day1/masks/mask_slice_0001...</td>\n",
       "      <td>slice_0001_266_266_1.50_1.50.png</td>\n",
       "      <td>266</td>\n",
       "      <td>266</td>\n",
       "      <td>1.5</td>\n",
       "    </tr>\n",
       "    <tr>\n",
       "      <th>1</th>\n",
       "      <td>case2_day1_slice_0002</td>\n",
       "      <td>2</td>\n",
       "      <td>1</td>\n",
       "      <td>2</td>\n",
       "      <td>(0, 1, 2)</td>\n",
       "      <td>(nan, nan, nan)</td>\n",
       "      <td>./train/case2/case2_day1/scans/slice_0002_266_...</td>\n",
       "      <td>./train/case2/case2_day1/masks/mask_slice_0002...</td>\n",
       "      <td>slice_0002_266_266_1.50_1.50.png</td>\n",
       "      <td>266</td>\n",
       "      <td>266</td>\n",
       "      <td>1.5</td>\n",
       "    </tr>\n",
       "    <tr>\n",
       "      <th>2</th>\n",
       "      <td>case2_day1_slice_0003</td>\n",
       "      <td>2</td>\n",
       "      <td>1</td>\n",
       "      <td>3</td>\n",
       "      <td>(0, 1, 2)</td>\n",
       "      <td>(nan, nan, nan)</td>\n",
       "      <td>./train/case2/case2_day1/scans/slice_0003_266_...</td>\n",
       "      <td>./train/case2/case2_day1/masks/mask_slice_0003...</td>\n",
       "      <td>slice_0003_266_266_1.50_1.50.png</td>\n",
       "      <td>266</td>\n",
       "      <td>266</td>\n",
       "      <td>1.5</td>\n",
       "    </tr>\n",
       "    <tr>\n",
       "      <th>3</th>\n",
       "      <td>case2_day1_slice_0004</td>\n",
       "      <td>2</td>\n",
       "      <td>1</td>\n",
       "      <td>4</td>\n",
       "      <td>(0, 1, 2)</td>\n",
       "      <td>(nan, nan, nan)</td>\n",
       "      <td>./train/case2/case2_day1/scans/slice_0004_266_...</td>\n",
       "      <td>./train/case2/case2_day1/masks/mask_slice_0004...</td>\n",
       "      <td>slice_0004_266_266_1.50_1.50.png</td>\n",
       "      <td>266</td>\n",
       "      <td>266</td>\n",
       "      <td>1.5</td>\n",
       "    </tr>\n",
       "    <tr>\n",
       "      <th>4</th>\n",
       "      <td>case2_day1_slice_0005</td>\n",
       "      <td>2</td>\n",
       "      <td>1</td>\n",
       "      <td>5</td>\n",
       "      <td>(0, 1, 2)</td>\n",
       "      <td>(nan, nan, nan)</td>\n",
       "      <td>./train/case2/case2_day1/scans/slice_0005_266_...</td>\n",
       "      <td>./train/case2/case2_day1/masks/mask_slice_0005...</td>\n",
       "      <td>slice_0005_266_266_1.50_1.50.png</td>\n",
       "      <td>266</td>\n",
       "      <td>266</td>\n",
       "      <td>1.5</td>\n",
       "    </tr>\n",
       "  </tbody>\n",
       "</table>\n",
       "</div>"
      ],
      "text/plain": [
       "                      id  case_id  day_id  slice_id      class  \\\n",
       "0  case2_day1_slice_0001        2       1         1  (0, 1, 2)   \n",
       "1  case2_day1_slice_0002        2       1         2  (0, 1, 2)   \n",
       "2  case2_day1_slice_0003        2       1         3  (0, 1, 2)   \n",
       "3  case2_day1_slice_0004        2       1         4  (0, 1, 2)   \n",
       "4  case2_day1_slice_0005        2       1         5  (0, 1, 2)   \n",
       "\n",
       "      segmentation                                         slice_path  \\\n",
       "0  (nan, nan, nan)  ./train/case2/case2_day1/scans/slice_0001_266_...   \n",
       "1  (nan, nan, nan)  ./train/case2/case2_day1/scans/slice_0002_266_...   \n",
       "2  (nan, nan, nan)  ./train/case2/case2_day1/scans/slice_0003_266_...   \n",
       "3  (nan, nan, nan)  ./train/case2/case2_day1/scans/slice_0004_266_...   \n",
       "4  (nan, nan, nan)  ./train/case2/case2_day1/scans/slice_0005_266_...   \n",
       "\n",
       "                                           mask_path  \\\n",
       "0  ./train/case2/case2_day1/masks/mask_slice_0001...   \n",
       "1  ./train/case2/case2_day1/masks/mask_slice_0002...   \n",
       "2  ./train/case2/case2_day1/masks/mask_slice_0003...   \n",
       "3  ./train/case2/case2_day1/masks/mask_slice_0004...   \n",
       "4  ./train/case2/case2_day1/masks/mask_slice_0005...   \n",
       "\n",
       "                         slice_name  width  height  depth_px  \n",
       "0  slice_0001_266_266_1.50_1.50.png    266     266       1.5  \n",
       "1  slice_0002_266_266_1.50_1.50.png    266     266       1.5  \n",
       "2  slice_0003_266_266_1.50_1.50.png    266     266       1.5  \n",
       "3  slice_0004_266_266_1.50_1.50.png    266     266       1.5  \n",
       "4  slice_0005_266_266_1.50_1.50.png    266     266       1.5  "
      ]
     },
     "execution_count": 39,
     "metadata": {},
     "output_type": "execute_result"
    }
   ],
   "source": [
    "merged_df = pd.merge(train_df, image_details, on=['case_id', 'day_id', 'slice_id'])\n",
    "merged_df.head()"
   ]
  },
  {
   "attachments": {},
   "cell_type": "markdown",
   "metadata": {
    "id": "62x1LStKB2dO"
   },
   "source": [
    "Inseriamo anche gli attributi `is_created_mask`, `is_equalized_slice` attualmente impostati a `False`, che serviranno successivamente."
   ]
  },
  {
   "cell_type": "code",
   "execution_count": 40,
   "metadata": {
    "id": "5Ot5hckMB7Bn"
   },
   "outputs": [],
   "source": [
    "merged_df['is_created_mask'] = [False] * merged_df.shape[0]\n",
    "merged_df['is_equalized_slice'] = [False] * merged_df.shape[0]"
   ]
  },
  {
   "attachments": {},
   "cell_type": "markdown",
   "metadata": {
    "id": "O3IxFpvT-RX1"
   },
   "source": [
    "Salviamo, quindi, il dataframe `merged_df` in un file csv, in modo da potervi accedere in qualsiasi momento:"
   ]
  },
  {
   "cell_type": "code",
   "execution_count": 41,
   "metadata": {
    "id": "D0h3rs7a-fYJ"
   },
   "outputs": [],
   "source": [
    "merged_df.to_csv(f'{DATAFRAMES_DIR}merged_df.csv', index=False)"
   ]
  },
  {
   "attachments": {},
   "cell_type": "markdown",
   "metadata": {
    "id": "6Y5_dpOY1cFG"
   },
   "source": [
    "# <center id='paragrafo_3'> <strong>3 &dash; STATISTICHE DELLE IMMAGINI </strong> </center>\n",
    "---"
   ]
  },
  {
   "attachments": {},
   "cell_type": "markdown",
   "metadata": {
    "id": "9sMo03bL1k2e"
   },
   "source": [
    "A seguito di ispezione visiva, abbiamo notato che alcune immagini erano, di base, qualitativamente migliori di altre. Quello che vogliamo fare, allora, è cercare di trovare qualche correlazione tra le caratteristiche dell'immagine e la sua qualità."
   ]
  },
  {
   "attachments": {},
   "cell_type": "markdown",
   "metadata": {
    "id": "a-JhukwQ1lp7"
   },
   "source": [
    "## Distribuzioni delle immagini in base alla profondità dei pixel "
   ]
  },
  {
   "attachments": {},
   "cell_type": "markdown",
   "metadata": {
    "id": "U1-jW8Zk13GD"
   },
   "source": [
    "Il dataframe ci permette di evidenziare la presenza di due possibili valori per la profondità delle immagini, ossia $1.50\\text{ mm}$ e $1.63\\text{ mm}$. Innanzitutto, proviamo ad osservare la distribuzione delle immagini sulla base dei suddetti valori."
   ]
  },
  {
   "cell_type": "code",
   "execution_count": 42,
   "metadata": {
    "colab": {
     "base_uri": "https://localhost:8080/"
    },
    "id": "IFZGeglC13Xh",
    "outputId": "1bc661f8-08ab-440f-e776-7dde544121e5"
   },
   "outputs": [
    {
     "name": "stdout",
     "output_type": "stream",
     "text": [
      "Il numero di immagini con pixel di profondità pari a \u001b[1;34m1.50 mm\u001b[0m è \u001b[1;34m37296\u001b[0m\n",
      "Il numero di immagini con pixel di profondità pari a \u001b[1;34m1.63 mm\u001b[0m è \u001b[1;34m1200\u001b[0m\n",
      "Il numero complessivo di immagini è \u001b[1;34m38496\u001b[0m, esattamente pari a \u001b[1;34m37296 + 1200\u001b[0m\n"
     ]
    }
   ],
   "source": [
    "num_images_150 = image_details.loc[(image_details['width_px'] == 1.50) & (image_details['height_px'] == 1.50)].shape[0]\n",
    "print(f\"Il numero di immagini con pixel di profondità pari a \\033[1;34m1.50 mm\\033[0m è \\033[1;34m{num_images_150}\\033[0m\")\n",
    "\n",
    "num_images_163 = image_details.loc[(image_details['width_px'] == 1.63) & (image_details['height_px'] == 1.63)].shape[0]\n",
    "print(f\"Il numero di immagini con pixel di profondità pari a \\033[1;34m1.63 mm\\033[0m è \\033[1;34m{num_images_163}\\033[0m\")\n",
    "\n",
    "print(f\"Il numero complessivo di immagini è \\033[1;34m{len(image_details)}\\033[0m, esattamente pari a \\033[1;34m{num_images_150} + {num_images_163}\\033[0m\")"
   ]
  },
  {
   "attachments": {},
   "cell_type": "markdown",
   "metadata": {
    "id": "KYaJtJne2LsJ"
   },
   "source": [
    "Avendo controllato che la somma di entrambi i numeri resituisse esattamente 38496, il numero complessivo di immagini, \n",
    "rappresentiamo tale distribuzione in un grafico a barre."
   ]
  },
  {
   "cell_type": "code",
   "execution_count": 43,
   "metadata": {
    "colab": {
     "base_uri": "https://localhost:8080/",
     "height": 473
    },
    "id": "gvGVwdPp2NwI",
    "outputId": "a63a21bd-b886-40f5-bb6c-fa97a6941d20"
   },
   "outputs": [
    {
     "data": {
      "image/png": "[encoded data removed]",
      "text/plain": [
       "<Figure size 640x480 with 1 Axes>"
      ]
     },
     "metadata": {},
     "output_type": "display_data"
    }
   ],
   "source": [
    "labels = ['1.50 mm', '1.63 mm']\n",
    "num_images = [num_images_150, num_images_163]\n",
    "\n",
    "colors = ['blue', 'orange']\n",
    "\n",
    "fig, ax = plt.subplots()\n",
    "ax.bar(labels, num_images, color=colors)\n",
    "\n",
    "ax.set_title('Numero di slice per profondità dei pixel', fontweight='bold')\n",
    "ax.set_xlabel('Profondità pixel', fontweight='bold')\n",
    "ax.set_ylabel('Numero di slice', fontweight='bold')\n",
    "\n",
    "# Aggiunta delle etichette del valore\n",
    "for i, v in enumerate(num_images):\n",
    "    plt.text(i, v, str(v), color='black', ha='center', va='bottom')\n",
    "\n",
    "plt.show()"
   ]
  },
  {
   "attachments": {},
   "cell_type": "markdown",
   "metadata": {
    "id": "fRaiI97R2k3G"
   },
   "source": [
    "## Relazioni tra profondità dei pixel e dimensioni dell'immagine"
   ]
  },
  {
   "attachments": {},
   "cell_type": "markdown",
   "metadata": {
    "id": "EpuWWXM23qWp"
   },
   "source": [
    "In questa seconda parte dell'indagine statistica, vogliamo andare a vedere anche quale sia l'associazione tra la dimensione dei pixel e la risultante dimensione complessiva dell'immagine, così come se questa possa avere un layout quadrato o in landscape.\n",
    "\n",
    "Per poter fare delle considerazioni, dobbiamo innanzitutto, vedere, per ogni dimensione del pixel, quali valori di altezza e larghezza globali si ottengono."
   ]
  },
  {
   "cell_type": "code",
   "execution_count": 44,
   "metadata": {
    "colab": {
     "base_uri": "https://localhost:8080/"
    },
    "id": "x5EpJTQw2lMp",
    "outputId": "69bbcc91-c402-45f6-9c63-d79635eff227"
   },
   "outputs": [
    {
     "name": "stdout",
     "output_type": "stream",
     "text": [
      "Le immagini associate a una profondità dei pixel pari a \u001b[1;34m1.50 mm\u001b[0m hanno una larghezza (in pixel) tra \u001b[1;34m[266 360 234]\u001b[0m\n",
      "Le immagini associate a una profondità dei pixel pari a \u001b[1;34m1.50 mm\u001b[0m hanno un'altezza (in pixel) tra \u001b[1;34m[266 310 234]\u001b[0m\n",
      "Le immagini associate a una profondità dei pixel pari a \u001b[1;34m1.63 mm\u001b[0m hanno una larghezza (in pixel) tra \u001b[1;34m[276]\u001b[0m\n",
      "Le immagini associate a una profondità dei pixel pari a \u001b[1;34m1.63 mm\u001b[0m hanno un'altezza (in pixel) tra \u001b[1;34m[276]\u001b[0m\n"
     ]
    }
   ],
   "source": [
    "widths_px_1_50 = image_details[(image_details['width_px'] == 1.50) & (image_details['height_px'] == 1.50)]['width'].unique()\n",
    "print(f\"Le immagini associate a una profondità dei pixel pari a \\033[1;34m1.50 mm\\033[0m hanno una larghezza (in pixel) tra \\033[1;34m{widths_px_1_50}\\033[0m\")\n",
    "\n",
    "heights_px_1_50 = image_details[(image_details['width_px'] == 1.50) & (image_details['height_px'] == 1.50)]['height'].unique()\n",
    "print(f\"Le immagini associate a una profondità dei pixel pari a \\033[1;34m1.50 mm\\033[0m hanno un'altezza (in pixel) tra \\033[1;34m{heights_px_1_50}\\033[0m\")\n",
    "\n",
    "widths_px_1_63 = image_details[(image_details['width_px'] == 1.63) & (image_details['height_px'] == 1.63)]['width'].unique()\n",
    "print(f\"Le immagini associate a una profondità dei pixel pari a \\033[1;34m1.63 mm\\033[0m hanno una larghezza (in pixel) tra \\033[1;34m{widths_px_1_63}\\033[0m\")\n",
    "\n",
    "heights_px_1_63 = image_details[(image_details['width_px'] == 1.63) & (image_details['height_px'] == 1.63)]['height'].unique()\n",
    "print(f\"Le immagini associate a una profondità dei pixel pari a \\033[1;34m1.63 mm\\033[0m hanno un'altezza (in pixel) tra \\033[1;34m{heights_px_1_63}\\033[0m\")"
   ]
  },
  {
   "attachments": {},
   "cell_type": "markdown",
   "metadata": {
    "id": "d8hihCMn31tD"
   },
   "source": [
    "Si evince che le slice con profondità dei pixel pari a $1.50 \\text{ mm}$ hanno dimensione variabile, mentre quelle a profondità pari a $1.63 \\text{ mm}$ hanno tutte la stessa dimensione $\\left(276\\times 276\\right)$ "
   ]
  },
  {
   "attachments": {},
   "cell_type": "markdown",
   "metadata": {
    "id": "JBUMVXQX39NE"
   },
   "source": [
    "## Statistica delle dimensioni globali delle immagini"
   ]
  },
  {
   "attachments": {},
   "cell_type": "markdown",
   "metadata": {
    "id": "i1yPQ-o-4C22"
   },
   "source": [
    "Volendo approfondire quanto visto nel paragrafo precedente, abbiamo pensato avesse senso indagare su quali fossero le dimensioni delle slice nel dataset. Motivati da questa curiosità, e ricercando possibili correlazioni statistiche con la qualità dell'immagine/con la presenza di segmentazione, cerchiamo, per ogni dimensione, i valori corrispondenti per l'altra dimensione.\n",
    "\n",
    "Come prima cosa, analizziamo le immagini in cui almeno una dimensione è $266 \\text{ px}$:"
   ]
  },
  {
   "cell_type": "code",
   "execution_count": 45,
   "metadata": {
    "colab": {
     "base_uri": "https://localhost:8080/"
    },
    "id": "DiIeKJeH39eR",
    "outputId": "c19f7606-4577-4407-c654-c86cf744ea39"
   },
   "outputs": [
    {
     "name": "stdout",
     "output_type": "stream",
     "text": [
      "Il numero di immagini con larghezza \u001b[1;34m266 px\u001b[0m è pari a: \u001b[1;34m25920\u001b[0m\n",
      "Il numero di immagini con altezza \u001b[1;34m266 px\u001b[0m è pari a: \u001b[1;34m25920\u001b[0m\n",
      "Il numero di immagini \u001b[1;34m266x266\u001b[0m è pari a: \u001b[1;34m25920\u001b[0m\n"
     ]
    }
   ],
   "source": [
    "num_images_266_width = image_details.loc[(image_details['width'] == 266)].shape[0]\n",
    "print(f\"Il numero di immagini con larghezza \\033[1;34m266 px\\033[0m è pari a: \\033[1;34m{num_images_266_width}\\033[0m\")\n",
    "\n",
    "num_images_266_height = image_details.loc[(image_details['height'] == 266)].shape[0]\n",
    "print(f\"Il numero di immagini con altezza \\033[1;34m266 px\\033[0m è pari a: \\033[1;34m{num_images_266_height}\\033[0m\")\n",
    "\n",
    "num_images_266x266 = image_details.loc[(image_details['width'] == 266) & (image_details['height'] == 266)].shape[0]\n",
    "print(f\"Il numero di immagini \\033[1;34m266x266\\033[0m è pari a: \\033[1;34m{num_images_266x266}\\033[0m\")"
   ]
  },
  {
   "attachments": {},
   "cell_type": "markdown",
   "metadata": {
    "id": "k_aUrkBX4HWQ"
   },
   "source": [
    "Ne abbiamo dedotto che le immagini con altezza o larghezza $266 \\text{ px}$ sono **quadrate**. Continuiamo, quindi, l'analisi con le immagini in cui almeno una dimensione è $234 \\text{ px}$:"
   ]
  },
  {
   "cell_type": "code",
   "execution_count": 46,
   "metadata": {
    "colab": {
     "base_uri": "https://localhost:8080/"
    },
    "id": "ugUUiJPZ4Hol",
    "outputId": "03bcdfc5-8599-4a8d-cbea-9e3d774e1c53"
   },
   "outputs": [
    {
     "name": "stdout",
     "output_type": "stream",
     "text": [
      "Il numero di immagini con larghezza \u001b[1;34m234 px\u001b[0m è pari a: \u001b[1;34m144\u001b[0m\n",
      "Il numero di immagini con altezza \u001b[1;34m234 px\u001b[0m è pari a: \u001b[1;34m144\u001b[0m\n",
      "Il numero di immagini \u001b[1;34m234x234\u001b[0m è pari a: \u001b[1;34m144\u001b[0m\n"
     ]
    }
   ],
   "source": [
    "num_images_234_width = image_details.loc[(image_details['width'] == 234)].shape[0]\n",
    "print(f\"Il numero di immagini con larghezza \\033[1;34m234 px\\033[0m è pari a: \\033[1;34m{num_images_234_width}\\033[0m\")\n",
    "\n",
    "num_images_234_height = image_details.loc[(image_details['height'] == 234)].shape[0]\n",
    "print(f\"Il numero di immagini con altezza \\033[1;34m234 px\\033[0m è pari a: \\033[1;34m{num_images_234_height}\\033[0m\")\n",
    "\n",
    "num_images_234x234 = image_details.loc[(image_details['width'] == 234) & (image_details['height'] == 234)].shape[0]\n",
    "print(f\"Il numero di immagini \\033[1;34m234x234\\033[0m è pari a: \\033[1;34m{num_images_234x234}\\033[0m\")"
   ]
  },
  {
   "attachments": {},
   "cell_type": "markdown",
   "metadata": {
    "id": "PKzsqq4O4MS7"
   },
   "source": [
    "Anche qui, risulta come una dimensione a $234 \\text{ px}$ sia associata a immagini **quadrate**. &Egrave; banale affermare che le rimanenti immagini a profondità $1.50 \\text{ mm}$ sono **rettangolari** $\\left( 360\\times 310 \\right)$.<br>\n",
    "Nel seguente listato, andiamo a provare quanto affermato:"
   ]
  },
  {
   "cell_type": "code",
   "execution_count": 47,
   "metadata": {
    "colab": {
     "base_uri": "https://localhost:8080/"
    },
    "id": "6MgyPa3d4LHM",
    "outputId": "ffcc31d5-5362-4ab1-9937-b2a7087c0f7e"
   },
   "outputs": [
    {
     "name": "stdout",
     "output_type": "stream",
     "text": [
      "Il numero di immagini con larghezza \u001b[1;34m360 px\u001b[0m è pari a: \u001b[1;34m11232\u001b[0m\n",
      "Il numero di immagini con altezza \u001b[1;34m310 px\u001b[0m è pari a: \u001b[1;34m11232\u001b[0m\n",
      "Il numero di immagini \u001b[1;34m360x310\u001b[0m è pari a: \u001b[1;34m11232\u001b[0m\n",
      "\n",
      "Il totale delle slice con profondità dei pixel pari a \u001b[1;34m1.50 mm\u001b[0m è: \u001b[1;34m37296\u001b[0m\n"
     ]
    }
   ],
   "source": [
    "num_images_360_width = image_details.loc[(image_details['width'] == 360)].shape[0]\n",
    "print(f\"\\nIl numero di immagini con larghezza \\033[1;34m360 px\\033[0m è pari a: \\033[1;34m{num_images_360_width}\\033[0m\")\n",
    "\n",
    "num_images_310_height = image_details.loc[(image_details['height'] == 310)].shape[0]\n",
    "print(f\"Il numero di immagini con altezza \\033[1;34m310 px\\033[0m è pari a: \\033[1;34m{num_images_310_height}\\033[0m\")\n",
    "\n",
    "num_images_360x310 = image_details.loc[(image_details['width'] == 360) & (image_details['height'] == 310)].shape[0]\n",
    "print(f\"Il numero di immagini \\033[1;34m360x310\\033[0m è pari a: \\033[1;34m{num_images_360x310}\\033[0m\")\n",
    "\n",
    "tot_slice = num_images_266x266 + num_images_234x234 + num_images_360x310\n",
    "print(f\"\\nIl totale delle slice con profondità dei pixel pari a \\033[1;34m1.50 mm\\033[0m è: \\033[1;34m{tot_slice}\\033[0m\")"
   ]
  },
  {
   "attachments": {},
   "cell_type": "markdown",
   "metadata": {
    "id": "8fk6EUhu4O8E"
   },
   "source": [
    "Osserviamo graficamente quanto affermato in questa sezione."
   ]
  },
  {
   "cell_type": "code",
   "execution_count": 48,
   "metadata": {
    "colab": {
     "base_uri": "https://localhost:8080/",
     "height": 472
    },
    "id": "nwg7Gh5k4QY5",
    "outputId": "dfd9c40b-2841-4811-e3a5-d0587469cfb4"
   },
   "outputs": [
    {
     "data": {
      "image/png": "[encoded data removed]",
      "text/plain": [
       "<Figure size 640x480 with 1 Axes>"
      ]
     },
     "metadata": {},
     "output_type": "display_data"
    }
   ],
   "source": [
    "labels = ['234x234', '266x266', '360x310']\n",
    "num_slices = [num_images_234x234, num_images_266x266, num_images_360x310]\n",
    "colors = ['grey', 'orange', 'blue']\n",
    "\n",
    "plt.bar(labels, num_slices, color=colors)\n",
    "plt.title('Numero di slice per profondità dei pixel con profondità 1.50 mm', fontweight='bold')\n",
    "plt.xlabel('Larghezza e altezza slice (in px)', fontweight='bold')\n",
    "plt.ylabel('Numero di slice', fontweight='bold')\n",
    "\n",
    "# Aggiunta delle etichette del valore\n",
    "for i, v in enumerate(num_slices):\n",
    "    plt.text(i, v, str(v), color='black', ha='center', va='bottom')\n",
    "\n",
    "plt.show()"
   ]
  },
  {
   "attachments": {},
   "cell_type": "markdown",
   "metadata": {
    "id": "AKUwurHik4co"
   },
   "source": [
    "## Statistiche dei volumi"
   ]
  },
  {
   "attachments": {},
   "cell_type": "markdown",
   "metadata": {
    "id": "P5VoySw7lJ8V"
   },
   "source": [
    "Volendo perseguire un approccio di analisi dei volumi (dato che le scansioni MRI generano volumi), abbiamo ritenuto opportuno controllare le profondità dei volumi del dataset, cercando una relazione con la profondità descritta nel campo `depth` associato alla singola slice.\n",
    "\n",
    "Il seguente codice presenta il controllo effettuato:"
   ]
  },
  {
   "cell_type": "code",
   "execution_count": 49,
   "metadata": {
    "id": "4zwI5uQ_lKud"
   },
   "outputs": [],
   "source": [
    "d1_50 = merged_df.loc[merged_df['depth_px'] == 1.50].groupby(['case_id', 'day_id']).size()\n",
    "\n",
    "for row in pd.DataFrame(d1_50).iterrows():\n",
    "    if row[1][0] != 144:\n",
    "        print(row[0])\n",
    "\n",
    "d1_63 = merged_df.loc[merged_df['depth_px'] == 1.63].groupby(['case_id', 'day_id']).size()\n",
    "\n",
    "for row in pd.DataFrame(d1_63).iterrows():\n",
    "    if row[1][0] != 80:\n",
    "        print(row[0])"
   ]
  },
  {
   "attachments": {},
   "cell_type": "markdown",
   "metadata": {
    "id": "EC6r4AFLlg9V"
   },
   "source": [
    "Non avendo ottenuto nulla in output in nessuno di entrambi i casi, possiamo affermare che le slice la cui profondità è $1.50\\ \\text{mm}$ appartengono sempre e comunque a giornate di acquisizioni costituite da **144 campioni** e che le slice la cui profondità è $1.63\\ \\text{mm}$ appartengono a giornate di acquisizioni costituite da **80 campioni**.\n",
    "\n",
    "Spinti dalla curiosità per questo diverso numero di scansioni, vogliamo capire se tale valore può essere associato ad uno specifico caso clinico (i.e. tutte le scansioni volumetriche associate al paziente X hanno 144 campioni) o se vi sono altri tipi di dipendenze. \\\n",
    "Usiamo il seguente listato per verificare questa ipotesi:"
   ]
  },
  {
   "cell_type": "code",
   "execution_count": 50,
   "metadata": {
    "id": "T4dYbVFi0CU8"
   },
   "outputs": [
    {
     "name": "stdout",
     "output_type": "stream",
     "text": [
      "Il \u001b[1;34mcaso 35\u001b[0m ha più valori unici dell'attributo '\u001b[1;34mdepth_px\u001b[0m'. In particolare essi sono pari a: \u001b[1;34m1.5 mm\u001b[0m e \u001b[1;34m1.63 mm\u001b[0m.\n",
      "Il \u001b[1;34mcaso 89\u001b[0m ha più valori unici dell'attributo '\u001b[1;34mdepth_px\u001b[0m'. In particolare essi sono pari a: \u001b[1;34m1.5 mm\u001b[0m e \u001b[1;34m1.63 mm\u001b[0m.\n",
      "Il \u001b[1;34mcaso 117\u001b[0m ha più valori unici dell'attributo '\u001b[1;34mdepth_px\u001b[0m'. In particolare essi sono pari a: \u001b[1;34m1.5 mm\u001b[0m e \u001b[1;34m1.63 mm\u001b[0m.\n",
      "Il \u001b[1;34mcaso 118\u001b[0m ha più valori unici dell'attributo '\u001b[1;34mdepth_px\u001b[0m'. In particolare essi sono pari a: \u001b[1;34m1.63 mm\u001b[0m e \u001b[1;34m1.5 mm\u001b[0m.\n",
      "Il \u001b[1;34mcaso 131\u001b[0m ha più valori unici dell'attributo '\u001b[1;34mdepth_px\u001b[0m'. In particolare essi sono pari a: \u001b[1;34m1.5 mm\u001b[0m e \u001b[1;34m1.63 mm\u001b[0m.\n",
      "Il \u001b[1;34mcaso 146\u001b[0m ha più valori unici dell'attributo '\u001b[1;34mdepth_px\u001b[0m'. In particolare essi sono pari a: \u001b[1;34m1.5 mm\u001b[0m e \u001b[1;34m1.63 mm\u001b[0m.\n"
     ]
    }
   ],
   "source": [
    "grouped = merged_df.groupby('case_id')\n",
    "\n",
    "for case_id, group in grouped:\n",
    "    \n",
    "    unique_depth_px = group['depth_px'].unique()\n",
    "    if len(unique_depth_px) != 1:\n",
    "        print(f\"Il \\033[1;34mcaso {case_id}\\033[0m ha più valori unici dell'attributo '\\033[1;34mdepth_px\\033[0m'. In particolare essi sono pari a: \\033[1;34m{unique_depth_px[0]} mm\\033[0m e \\033[1;34m{unique_depth_px[1]} mm\\033[0m.\")"
   ]
  },
  {
   "attachments": {},
   "cell_type": "markdown",
   "metadata": {
    "id": "qgekVGJ50I0-"
   },
   "source": [
    "A differenza di quanto ci aspettavamo, si rilevano alcuni casi, come il **131** e il **146**, in cui la profondità di acquisizione **non è rimasta costante nel periodo** di osservazione. A seguito di ispezione visiva, abbiamo constatato che per alcuni dei casi restituiti in output, vi sono delle giornate in cui la risoluzione spaziale e/o la profondità di acquisizione sono variate.\n",
    "\n",
    "Volendo capire il motivo di una tale variazione, abbiamo approfondito le possibili cause, rilevando che, in generale, quando si effettuano scansioni MRI per il tratto gastrointestinale, **la quantità di dati acquisiti dipende dal campo magnetico utilizzato e dalle impostazioni di acquisizione**. In particolare, con un campo magnetico più elevato e con una maggiore densità di dati acquisiti, si può ottenere una migliore risoluzione spaziale e, di conseguenza, una maggiore definizione delle strutture anatomiche.\n",
    "\n",
    "Tuttavia, in alcuni casi i **medici possono scegliere di utilizzare un campo magnetico inferiore e/o di ridurre la quantità di dati acquisiti** per motivi diversi, come ad esempio la necessità di ridurre il tempo di acquisizione, l'impossibilità di mantenere il paziente fermo per lunghi periodi di tempo o la necessità di limitare l'esposizione del paziente ai campi magnetici. \n",
    "Ad esempio, pazienti con problemi di claustrofobia potrebbero preferire una macchina con campo magnetico più basso, in quanto il tubo dello scanner è generalmente più corto e meno angusto rispetto alle macchine con campo magnetico più elevato. Inoltre, pazienti con pacemaker o altri dispositivi medici impiantati potrebbero non essere in grado di sottoporsi a una risonanza magnetica ad alto campo a causa dei rischi di interferenza magnetica.\n",
    "\n",
    "Inoltre, i tumori avanzati possono richiedere un campo magnetico più elevato per fornire immagini di qualità sufficiente per la diagnosi e la pianificazione del trattamento. Ciò è dovuto al fatto che i tumori avanzati possono avere una maggiore eterogeneità dei tessuti e una maggiore quantità di tessuto cicatriziale, che possono influire sulla qualità delle immagini. \n",
    "\n",
    "Quindi, se i casi con **144** scansioni giornaliere hanno una percentuale minore di maschere di segmentazione rispetto a quelli con **80** scansioni, dovrebbe essere perché **per i primi è stato utilizzato un campo magnetico inferiore e/o una quantità di dati acquisiti inferiore** rispetto ai secondi, con la ricaduta di una **minore risoluzione spaziale** e una **minore definizione delle strutture anatomiche** (cosa che ne ha reso difficile la segmentazione)."
   ]
  },
  {
   "attachments": {},
   "cell_type": "markdown",
   "metadata": {
    "id": "x3UsrmVO4bJc"
   },
   "source": [
    "## Statistiche della segmentazione"
   ]
  },
  {
   "attachments": {},
   "cell_type": "markdown",
   "metadata": {
    "id": "OOt374PA4jYR"
   },
   "source": [
    "Avendo evidenziato quelle che sono le possibili dimensioni per le slice del dataset, vogliamo capire quante immagini, per ogni dimensione, presentassero segmentazione, cercando di trovare una qualche correlazione con la qualità dell'immagine.\n",
    "\n",
    "Dal dataframe *image_details* estraiamo le righe le cui slice hanno data dimensione e calcoliamo i numeri relativi alla segmentazione:\n",
    "\n",
    "* $234\\times234$"
   ]
  },
  {
   "cell_type": "code",
   "execution_count": 51,
   "metadata": {
    "colab": {
     "base_uri": "https://localhost:8080/",
     "height": 337
    },
    "id": "pgIjsrHl4lMm",
    "outputId": "84dca9a7-196e-4642-a86b-ec3581f6e1a9"
   },
   "outputs": [
    {
     "data": {
      "text/html": [
       "<div>\n",
       "<style scoped>\n",
       "    .dataframe tbody tr th:only-of-type {\n",
       "        vertical-align: middle;\n",
       "    }\n",
       "\n",
       "    .dataframe tbody tr th {\n",
       "        vertical-align: top;\n",
       "    }\n",
       "\n",
       "    .dataframe thead th {\n",
       "        text-align: right;\n",
       "    }\n",
       "</style>\n",
       "<table border=\"1\" class=\"dataframe\">\n",
       "  <thead>\n",
       "    <tr style=\"text-align: right;\">\n",
       "      <th></th>\n",
       "      <th>slice_path</th>\n",
       "      <th>mask_path</th>\n",
       "      <th>case_id</th>\n",
       "      <th>day_id</th>\n",
       "      <th>slice_name</th>\n",
       "      <th>slice_id</th>\n",
       "      <th>width</th>\n",
       "      <th>height</th>\n",
       "      <th>depth_px</th>\n",
       "    </tr>\n",
       "  </thead>\n",
       "  <tbody>\n",
       "    <tr>\n",
       "      <th>0</th>\n",
       "      <td>./train/case139/case139_day0/scans/slice_0001_...</td>\n",
       "      <td>./train/case139/case139_day0/masks/mask_slice_...</td>\n",
       "      <td>139</td>\n",
       "      <td>0</td>\n",
       "      <td>slice_0001_234_234_1.50_1.50.png</td>\n",
       "      <td>1</td>\n",
       "      <td>234</td>\n",
       "      <td>234</td>\n",
       "      <td>1.5</td>\n",
       "    </tr>\n",
       "    <tr>\n",
       "      <th>1</th>\n",
       "      <td>./train/case139/case139_day0/scans/slice_0002_...</td>\n",
       "      <td>./train/case139/case139_day0/masks/mask_slice_...</td>\n",
       "      <td>139</td>\n",
       "      <td>0</td>\n",
       "      <td>slice_0002_234_234_1.50_1.50.png</td>\n",
       "      <td>2</td>\n",
       "      <td>234</td>\n",
       "      <td>234</td>\n",
       "      <td>1.5</td>\n",
       "    </tr>\n",
       "    <tr>\n",
       "      <th>2</th>\n",
       "      <td>./train/case139/case139_day0/scans/slice_0003_...</td>\n",
       "      <td>./train/case139/case139_day0/masks/mask_slice_...</td>\n",
       "      <td>139</td>\n",
       "      <td>0</td>\n",
       "      <td>slice_0003_234_234_1.50_1.50.png</td>\n",
       "      <td>3</td>\n",
       "      <td>234</td>\n",
       "      <td>234</td>\n",
       "      <td>1.5</td>\n",
       "    </tr>\n",
       "    <tr>\n",
       "      <th>3</th>\n",
       "      <td>./train/case139/case139_day0/scans/slice_0004_...</td>\n",
       "      <td>./train/case139/case139_day0/masks/mask_slice_...</td>\n",
       "      <td>139</td>\n",
       "      <td>0</td>\n",
       "      <td>slice_0004_234_234_1.50_1.50.png</td>\n",
       "      <td>4</td>\n",
       "      <td>234</td>\n",
       "      <td>234</td>\n",
       "      <td>1.5</td>\n",
       "    </tr>\n",
       "    <tr>\n",
       "      <th>4</th>\n",
       "      <td>./train/case139/case139_day0/scans/slice_0005_...</td>\n",
       "      <td>./train/case139/case139_day0/masks/mask_slice_...</td>\n",
       "      <td>139</td>\n",
       "      <td>0</td>\n",
       "      <td>slice_0005_234_234_1.50_1.50.png</td>\n",
       "      <td>5</td>\n",
       "      <td>234</td>\n",
       "      <td>234</td>\n",
       "      <td>1.5</td>\n",
       "    </tr>\n",
       "  </tbody>\n",
       "</table>\n",
       "</div>"
      ],
      "text/plain": [
       "                                          slice_path  \\\n",
       "0  ./train/case139/case139_day0/scans/slice_0001_...   \n",
       "1  ./train/case139/case139_day0/scans/slice_0002_...   \n",
       "2  ./train/case139/case139_day0/scans/slice_0003_...   \n",
       "3  ./train/case139/case139_day0/scans/slice_0004_...   \n",
       "4  ./train/case139/case139_day0/scans/slice_0005_...   \n",
       "\n",
       "                                           mask_path  case_id  day_id  \\\n",
       "0  ./train/case139/case139_day0/masks/mask_slice_...      139       0   \n",
       "1  ./train/case139/case139_day0/masks/mask_slice_...      139       0   \n",
       "2  ./train/case139/case139_day0/masks/mask_slice_...      139       0   \n",
       "3  ./train/case139/case139_day0/masks/mask_slice_...      139       0   \n",
       "4  ./train/case139/case139_day0/masks/mask_slice_...      139       0   \n",
       "\n",
       "                         slice_name  slice_id  width  height  depth_px  \n",
       "0  slice_0001_234_234_1.50_1.50.png         1    234     234       1.5  \n",
       "1  slice_0002_234_234_1.50_1.50.png         2    234     234       1.5  \n",
       "2  slice_0003_234_234_1.50_1.50.png         3    234     234       1.5  \n",
       "3  slice_0004_234_234_1.50_1.50.png         4    234     234       1.5  \n",
       "4  slice_0005_234_234_1.50_1.50.png         5    234     234       1.5  "
      ]
     },
     "execution_count": 51,
     "metadata": {},
     "output_type": "execute_result"
    }
   ],
   "source": [
    "image_details_234x234 = image_details[(image_details['width'] == 234) & (image_details['height'] == 234)].reset_index().drop(columns='index')\n",
    "image_details_234x234.head()"
   ]
  },
  {
   "cell_type": "code",
   "execution_count": 52,
   "metadata": {
    "colab": {
     "base_uri": "https://localhost:8080/"
    },
    "id": "UReP5bMO4mp8",
    "outputId": "f504e88f-0211-451c-b2bb-167ec4a795ce"
   },
   "outputs": [
    {
     "name": "stdout",
     "output_type": "stream",
     "text": [
      "Il numero di righe con l'attributo '\u001b[1;34msegmentation\u001b[0m' diverso da \u001b[1;34m(nan, nan, nan)\u001b[0m è \u001b[1;34m56\u001b[0m.\n",
      "Il numero delle righe totali è \u001b[1;34m144\u001b[0m.\n",
      "\n",
      "Ci sono esattamente \u001b[1;34m88\u001b[0m slice di dimensione \u001b[1;34m234x234\u001b[0m con maschere totalmente vuote.\n",
      "La percentuale di slice di dimensione \u001b[1;34m234x234\u001b[0m con maschere totalmente vuote è pari al \u001b[1;34m61.11%\u001b[0m\n"
     ]
    }
   ],
   "source": [
    "image_details_234x234_w_seg = image_details_234x234.merge(train_df, on=['case_id', 'day_id', 'slice_id']).drop_duplicates()\n",
    "\n",
    "count_234 = 0\n",
    "\n",
    "for index, row in image_details_234x234_w_seg.iterrows():\n",
    "    if row['segmentation'] == '(nan, nan, nan)':\n",
    "        count_234 += 1\n",
    "\n",
    "segmented_234 = image_details_234x234_w_seg.shape[0] - count_234\n",
    "\n",
    "print(f\"\\nIl numero di righe con l'attributo '\\033[1;34msegmentation\\033[0m' diverso da \\033[1;34m(nan, nan, nan)\\033[0m è \\033[1;34m{segmented_234}\\033[0m.\")\n",
    "print(f\"Il numero delle righe totali è \\033[1;34m{image_details_234x234.shape[0]}\\033[0m.\")\n",
    "print(f\"\\nCi sono esattamente \\033[1;34m{count_234}\\033[0m slice di dimensione \\033[1;34m234x234\\033[0m con maschere totalmente vuote.\")\n",
    "print(f\"La percentuale di slice di dimensione \\033[1;34m234x234\\033[0m con maschere totalmente vuote è pari al \\033[1;34m{round(count_234/image_details_234x234_w_seg.shape[0]*100, 2)}%\\033[0m\")"
   ]
  },
  {
   "attachments": {},
   "cell_type": "markdown",
   "metadata": {
    "id": "bKzLSknd4rNA"
   },
   "source": [
    "* $266\\times266$"
   ]
  },
  {
   "cell_type": "code",
   "execution_count": 53,
   "metadata": {
    "colab": {
     "base_uri": "https://localhost:8080/",
     "height": 531
    },
    "id": "V6BBZ9EG4vnd",
    "outputId": "6cb1dbcc-20c3-4e05-a2d6-cc98f7a0da7b"
   },
   "outputs": [
    {
     "data": {
      "text/html": [
       "<div>\n",
       "<style scoped>\n",
       "    .dataframe tbody tr th:only-of-type {\n",
       "        vertical-align: middle;\n",
       "    }\n",
       "\n",
       "    .dataframe tbody tr th {\n",
       "        vertical-align: top;\n",
       "    }\n",
       "\n",
       "    .dataframe thead th {\n",
       "        text-align: right;\n",
       "    }\n",
       "</style>\n",
       "<table border=\"1\" class=\"dataframe\">\n",
       "  <thead>\n",
       "    <tr style=\"text-align: right;\">\n",
       "      <th></th>\n",
       "      <th>slice_path</th>\n",
       "      <th>mask_path</th>\n",
       "      <th>case_id</th>\n",
       "      <th>day_id</th>\n",
       "      <th>slice_name</th>\n",
       "      <th>slice_id</th>\n",
       "      <th>width</th>\n",
       "      <th>height</th>\n",
       "      <th>depth_px</th>\n",
       "    </tr>\n",
       "  </thead>\n",
       "  <tbody>\n",
       "    <tr>\n",
       "      <th>0</th>\n",
       "      <td>./train/case2/case2_day1/scans/slice_0001_266_...</td>\n",
       "      <td>./train/case2/case2_day1/masks/mask_slice_0001...</td>\n",
       "      <td>2</td>\n",
       "      <td>1</td>\n",
       "      <td>slice_0001_266_266_1.50_1.50.png</td>\n",
       "      <td>1</td>\n",
       "      <td>266</td>\n",
       "      <td>266</td>\n",
       "      <td>1.5</td>\n",
       "    </tr>\n",
       "    <tr>\n",
       "      <th>1</th>\n",
       "      <td>./train/case2/case2_day1/scans/slice_0002_266_...</td>\n",
       "      <td>./train/case2/case2_day1/masks/mask_slice_0002...</td>\n",
       "      <td>2</td>\n",
       "      <td>1</td>\n",
       "      <td>slice_0002_266_266_1.50_1.50.png</td>\n",
       "      <td>2</td>\n",
       "      <td>266</td>\n",
       "      <td>266</td>\n",
       "      <td>1.5</td>\n",
       "    </tr>\n",
       "    <tr>\n",
       "      <th>2</th>\n",
       "      <td>./train/case2/case2_day1/scans/slice_0003_266_...</td>\n",
       "      <td>./train/case2/case2_day1/masks/mask_slice_0003...</td>\n",
       "      <td>2</td>\n",
       "      <td>1</td>\n",
       "      <td>slice_0003_266_266_1.50_1.50.png</td>\n",
       "      <td>3</td>\n",
       "      <td>266</td>\n",
       "      <td>266</td>\n",
       "      <td>1.5</td>\n",
       "    </tr>\n",
       "    <tr>\n",
       "      <th>3</th>\n",
       "      <td>./train/case2/case2_day1/scans/slice_0004_266_...</td>\n",
       "      <td>./train/case2/case2_day1/masks/mask_slice_0004...</td>\n",
       "      <td>2</td>\n",
       "      <td>1</td>\n",
       "      <td>slice_0004_266_266_1.50_1.50.png</td>\n",
       "      <td>4</td>\n",
       "      <td>266</td>\n",
       "      <td>266</td>\n",
       "      <td>1.5</td>\n",
       "    </tr>\n",
       "    <tr>\n",
       "      <th>4</th>\n",
       "      <td>./train/case2/case2_day1/scans/slice_0005_266_...</td>\n",
       "      <td>./train/case2/case2_day1/masks/mask_slice_0005...</td>\n",
       "      <td>2</td>\n",
       "      <td>1</td>\n",
       "      <td>slice_0005_266_266_1.50_1.50.png</td>\n",
       "      <td>5</td>\n",
       "      <td>266</td>\n",
       "      <td>266</td>\n",
       "      <td>1.5</td>\n",
       "    </tr>\n",
       "  </tbody>\n",
       "</table>\n",
       "</div>"
      ],
      "text/plain": [
       "                                          slice_path  \\\n",
       "0  ./train/case2/case2_day1/scans/slice_0001_266_...   \n",
       "1  ./train/case2/case2_day1/scans/slice_0002_266_...   \n",
       "2  ./train/case2/case2_day1/scans/slice_0003_266_...   \n",
       "3  ./train/case2/case2_day1/scans/slice_0004_266_...   \n",
       "4  ./train/case2/case2_day1/scans/slice_0005_266_...   \n",
       "\n",
       "                                           mask_path  case_id  day_id  \\\n",
       "0  ./train/case2/case2_day1/masks/mask_slice_0001...        2       1   \n",
       "1  ./train/case2/case2_day1/masks/mask_slice_0002...        2       1   \n",
       "2  ./train/case2/case2_day1/masks/mask_slice_0003...        2       1   \n",
       "3  ./train/case2/case2_day1/masks/mask_slice_0004...        2       1   \n",
       "4  ./train/case2/case2_day1/masks/mask_slice_0005...        2       1   \n",
       "\n",
       "                         slice_name  slice_id  width  height  depth_px  \n",
       "0  slice_0001_266_266_1.50_1.50.png         1    266     266       1.5  \n",
       "1  slice_0002_266_266_1.50_1.50.png         2    266     266       1.5  \n",
       "2  slice_0003_266_266_1.50_1.50.png         3    266     266       1.5  \n",
       "3  slice_0004_266_266_1.50_1.50.png         4    266     266       1.5  \n",
       "4  slice_0005_266_266_1.50_1.50.png         5    266     266       1.5  "
      ]
     },
     "execution_count": 53,
     "metadata": {},
     "output_type": "execute_result"
    }
   ],
   "source": [
    "image_details_266x266 = image_details[(image_details['width'] == 266) & (image_details['height'] == 266)].reset_index().drop(columns='index')\n",
    "image_details_266x266.head()"
   ]
  },
  {
   "cell_type": "code",
   "execution_count": 54,
   "metadata": {
    "colab": {
     "base_uri": "https://localhost:8080/"
    },
    "id": "GLZoxdFn4xMD",
    "outputId": "a58ece48-532f-45d8-c2f0-8685bf1a18cd"
   },
   "outputs": [
    {
     "name": "stdout",
     "output_type": "stream",
     "text": [
      "Il numero di record con l'attributo '\u001b[1;34msegmentation\u001b[0m' diverso da \u001b[1;34m(nan, nan, nan)\u001b[0m è \u001b[1;34m10955\u001b[0m.\n",
      "Il numero di record totali è \u001b[1;34m25920\u001b[0m.\n",
      "\n",
      "Ci sono esattamente \u001b[1;34m14965\u001b[0m slice di dimensione \u001b[1;34m266x266\u001b[0m con maschere totalmente vuote.\n",
      "La percentuale di slice di dimensione \u001b[1;34m266x266\u001b[0m con maschere totalmente vuote è pari al \u001b[1;34m57.74%\u001b[0m\n"
     ]
    }
   ],
   "source": [
    "image_details_266x266_w_seg = image_details_266x266.merge(train_df, on=['case_id', 'day_id', 'slice_id']).drop_duplicates()\n",
    "\n",
    "count_266 = 0\n",
    "\n",
    "for index, row in image_details_266x266_w_seg.iterrows():\n",
    "    if row['segmentation'] == '(nan, nan, nan)':\n",
    "        count_266 += 1\n",
    "\n",
    "segmented_266 = image_details_266x266_w_seg.shape[0] - count_266\n",
    "\n",
    "print(f\"\\nIl numero di record con l'attributo '\\033[1;34msegmentation\\033[0m' diverso da \\033[1;34m(nan, nan, nan)\\033[0m è \\033[1;34m{segmented_266}\\033[0m.\")\n",
    "print(f\"Il numero di record totali è \\033[1;34m{image_details_266x266_w_seg.shape[0]}\\033[0m.\")\n",
    "print(f\"\\nCi sono esattamente \\033[1;34m{count_266}\\033[0m slice di dimensione \\033[1;34m266x266\\033[0m con maschere totalmente vuote.\")\n",
    "print(f\"La percentuale di slice di dimensione \\033[1;34m266x266\\033[0m con maschere totalmente vuote è pari al \\033[1;34m{round(count_266/image_details_266x266_w_seg.shape[0]*100, 2)}%\\033[0m\")"
   ]
  },
  {
   "attachments": {},
   "cell_type": "markdown",
   "metadata": {
    "id": "xUBEzPnv4yU7"
   },
   "source": [
    "* $276\\times276$"
   ]
  },
  {
   "cell_type": "code",
   "execution_count": 55,
   "metadata": {
    "colab": {
     "base_uri": "https://localhost:8080/",
     "height": 337
    },
    "id": "VXvApocZ42Zj",
    "outputId": "26c9bcb5-a07d-479a-a440-db1b71d19790"
   },
   "outputs": [
    {
     "data": {
      "text/html": [
       "<div>\n",
       "<style scoped>\n",
       "    .dataframe tbody tr th:only-of-type {\n",
       "        vertical-align: middle;\n",
       "    }\n",
       "\n",
       "    .dataframe tbody tr th {\n",
       "        vertical-align: top;\n",
       "    }\n",
       "\n",
       "    .dataframe thead th {\n",
       "        text-align: right;\n",
       "    }\n",
       "</style>\n",
       "<table border=\"1\" class=\"dataframe\">\n",
       "  <thead>\n",
       "    <tr style=\"text-align: right;\">\n",
       "      <th></th>\n",
       "      <th>slice_path</th>\n",
       "      <th>mask_path</th>\n",
       "      <th>case_id</th>\n",
       "      <th>day_id</th>\n",
       "      <th>slice_name</th>\n",
       "      <th>slice_id</th>\n",
       "      <th>width</th>\n",
       "      <th>height</th>\n",
       "      <th>depth_px</th>\n",
       "    </tr>\n",
       "  </thead>\n",
       "  <tbody>\n",
       "    <tr>\n",
       "      <th>0</th>\n",
       "      <td>./train/case34/case34_day0/scans/slice_0001_27...</td>\n",
       "      <td>./train/case34/case34_day0/masks/mask_slice_00...</td>\n",
       "      <td>34</td>\n",
       "      <td>0</td>\n",
       "      <td>slice_0001_276_276_1.63_1.63.png</td>\n",
       "      <td>1</td>\n",
       "      <td>276</td>\n",
       "      <td>276</td>\n",
       "      <td>1.63</td>\n",
       "    </tr>\n",
       "    <tr>\n",
       "      <th>1</th>\n",
       "      <td>./train/case34/case34_day0/scans/slice_0002_27...</td>\n",
       "      <td>./train/case34/case34_day0/masks/mask_slice_00...</td>\n",
       "      <td>34</td>\n",
       "      <td>0</td>\n",
       "      <td>slice_0002_276_276_1.63_1.63.png</td>\n",
       "      <td>2</td>\n",
       "      <td>276</td>\n",
       "      <td>276</td>\n",
       "      <td>1.63</td>\n",
       "    </tr>\n",
       "    <tr>\n",
       "      <th>2</th>\n",
       "      <td>./train/case34/case34_day0/scans/slice_0003_27...</td>\n",
       "      <td>./train/case34/case34_day0/masks/mask_slice_00...</td>\n",
       "      <td>34</td>\n",
       "      <td>0</td>\n",
       "      <td>slice_0003_276_276_1.63_1.63.png</td>\n",
       "      <td>3</td>\n",
       "      <td>276</td>\n",
       "      <td>276</td>\n",
       "      <td>1.63</td>\n",
       "    </tr>\n",
       "    <tr>\n",
       "      <th>3</th>\n",
       "      <td>./train/case34/case34_day0/scans/slice_0004_27...</td>\n",
       "      <td>./train/case34/case34_day0/masks/mask_slice_00...</td>\n",
       "      <td>34</td>\n",
       "      <td>0</td>\n",
       "      <td>slice_0004_276_276_1.63_1.63.png</td>\n",
       "      <td>4</td>\n",
       "      <td>276</td>\n",
       "      <td>276</td>\n",
       "      <td>1.63</td>\n",
       "    </tr>\n",
       "    <tr>\n",
       "      <th>4</th>\n",
       "      <td>./train/case34/case34_day0/scans/slice_0005_27...</td>\n",
       "      <td>./train/case34/case34_day0/masks/mask_slice_00...</td>\n",
       "      <td>34</td>\n",
       "      <td>0</td>\n",
       "      <td>slice_0005_276_276_1.63_1.63.png</td>\n",
       "      <td>5</td>\n",
       "      <td>276</td>\n",
       "      <td>276</td>\n",
       "      <td>1.63</td>\n",
       "    </tr>\n",
       "  </tbody>\n",
       "</table>\n",
       "</div>"
      ],
      "text/plain": [
       "                                          slice_path  \\\n",
       "0  ./train/case34/case34_day0/scans/slice_0001_27...   \n",
       "1  ./train/case34/case34_day0/scans/slice_0002_27...   \n",
       "2  ./train/case34/case34_day0/scans/slice_0003_27...   \n",
       "3  ./train/case34/case34_day0/scans/slice_0004_27...   \n",
       "4  ./train/case34/case34_day0/scans/slice_0005_27...   \n",
       "\n",
       "                                           mask_path  case_id  day_id  \\\n",
       "0  ./train/case34/case34_day0/masks/mask_slice_00...       34       0   \n",
       "1  ./train/case34/case34_day0/masks/mask_slice_00...       34       0   \n",
       "2  ./train/case34/case34_day0/masks/mask_slice_00...       34       0   \n",
       "3  ./train/case34/case34_day0/masks/mask_slice_00...       34       0   \n",
       "4  ./train/case34/case34_day0/masks/mask_slice_00...       34       0   \n",
       "\n",
       "                         slice_name  slice_id  width  height  depth_px  \n",
       "0  slice_0001_276_276_1.63_1.63.png         1    276     276      1.63  \n",
       "1  slice_0002_276_276_1.63_1.63.png         2    276     276      1.63  \n",
       "2  slice_0003_276_276_1.63_1.63.png         3    276     276      1.63  \n",
       "3  slice_0004_276_276_1.63_1.63.png         4    276     276      1.63  \n",
       "4  slice_0005_276_276_1.63_1.63.png         5    276     276      1.63  "
      ]
     },
     "execution_count": 55,
     "metadata": {},
     "output_type": "execute_result"
    }
   ],
   "source": [
    "image_details_276x276 = image_details[(image_details['width'] == 276) & (image_details['height'] == 276)].reset_index().drop(columns='index')\n",
    "image_details_276x276.head()"
   ]
  },
  {
   "cell_type": "code",
   "execution_count": 56,
   "metadata": {
    "colab": {
     "base_uri": "https://localhost:8080/"
    },
    "id": "iEH2N_3g43zq",
    "outputId": "c1cc673b-ed6d-46b8-a939-21e9f39aa86e"
   },
   "outputs": [
    {
     "name": "stdout",
     "output_type": "stream",
     "text": [
      "Il numero di record con l'attributo '\u001b[1;34msegmentation\u001b[0m' diverso da \u001b[1;34m(nan, nan, nan)\u001b[0m è \u001b[1;34m718\u001b[0m.\n",
      "Il numero dei record totali è \u001b[1;34m1200\u001b[0m.\n",
      "\n",
      "Ci sono esattamente \u001b[1;34m482\u001b[0m slice di dimensione \u001b[1;34m276x276\u001b[0m con maschere totalmente vuote.\n",
      "La percentuale di slice di dimensione \u001b[1;34m276x276\u001b[0m con maschere totalmente vuote è pari al \u001b[1;34m40.17%\u001b[0m\n"
     ]
    }
   ],
   "source": [
    "image_details_276x276_w_seg = image_details_276x276.merge(train_df, on=['case_id', 'day_id', 'slice_id']).drop_duplicates()\n",
    "\n",
    "count_276 = 0\n",
    "\n",
    "for index, row in image_details_276x276_w_seg.iterrows():\n",
    "    if row['segmentation'] == '(nan, nan, nan)':\n",
    "        count_276 += 1\n",
    "\n",
    "segmented_276 = image_details_276x276_w_seg.shape[0] - count_276\n",
    "\n",
    "print(f\"\\nIl numero di record con l'attributo '\\033[1;34msegmentation\\033[0m' diverso da \\033[1;34m(nan, nan, nan)\\033[0m è \\033[1;34m{segmented_276}\\033[0m.\")\n",
    "print(f\"Il numero dei record totali è \\033[1;34m{image_details_276x276_w_seg.shape[0]}\\033[0m.\")\n",
    "print(f\"\\nCi sono esattamente \\033[1;34m{count_276}\\033[0m slice di dimensione \\033[1;34m276x276\\033[0m con maschere totalmente vuote.\")\n",
    "print(f\"La percentuale di slice di dimensione \\033[1;34m276x276\\033[0m con maschere totalmente vuote è pari al \\033[1;34m{round(count_276/image_details_276x276_w_seg.shape[0]*100, 2)}%\\033[0m\")"
   ]
  },
  {
   "attachments": {},
   "cell_type": "markdown",
   "metadata": {
    "id": "PsJXbS7e45Dz"
   },
   "source": [
    "* $360\\times310$"
   ]
  },
  {
   "cell_type": "code",
   "execution_count": 57,
   "metadata": {
    "colab": {
     "base_uri": "https://localhost:8080/",
     "height": 53
    },
    "id": "SvT8CL-n46bj",
    "outputId": "1826a560-1cbd-478d-819e-e0a69de9bbb1"
   },
   "outputs": [
    {
     "data": {
      "text/html": [
       "<div>\n",
       "<style scoped>\n",
       "    .dataframe tbody tr th:only-of-type {\n",
       "        vertical-align: middle;\n",
       "    }\n",
       "\n",
       "    .dataframe tbody tr th {\n",
       "        vertical-align: top;\n",
       "    }\n",
       "\n",
       "    .dataframe thead th {\n",
       "        text-align: right;\n",
       "    }\n",
       "</style>\n",
       "<table border=\"1\" class=\"dataframe\">\n",
       "  <thead>\n",
       "    <tr style=\"text-align: right;\">\n",
       "      <th></th>\n",
       "      <th>slice_path</th>\n",
       "      <th>mask_path</th>\n",
       "      <th>case_id</th>\n",
       "      <th>day_id</th>\n",
       "      <th>slice_name</th>\n",
       "      <th>slice_id</th>\n",
       "      <th>width</th>\n",
       "      <th>height</th>\n",
       "      <th>depth_px</th>\n",
       "    </tr>\n",
       "  </thead>\n",
       "  <tbody>\n",
       "    <tr>\n",
       "      <th>0</th>\n",
       "      <td>./train/case6/case6_day0/scans/slice_0001_360_...</td>\n",
       "      <td>./train/case6/case6_day0/masks/mask_slice_0001...</td>\n",
       "      <td>6</td>\n",
       "      <td>0</td>\n",
       "      <td>slice_0001_360_310_1.50_1.50.png</td>\n",
       "      <td>1</td>\n",
       "      <td>360</td>\n",
       "      <td>310</td>\n",
       "      <td>1.5</td>\n",
       "    </tr>\n",
       "    <tr>\n",
       "      <th>1</th>\n",
       "      <td>./train/case6/case6_day0/scans/slice_0002_360_...</td>\n",
       "      <td>./train/case6/case6_day0/masks/mask_slice_0002...</td>\n",
       "      <td>6</td>\n",
       "      <td>0</td>\n",
       "      <td>slice_0002_360_310_1.50_1.50.png</td>\n",
       "      <td>2</td>\n",
       "      <td>360</td>\n",
       "      <td>310</td>\n",
       "      <td>1.5</td>\n",
       "    </tr>\n",
       "    <tr>\n",
       "      <th>2</th>\n",
       "      <td>./train/case6/case6_day0/scans/slice_0003_360_...</td>\n",
       "      <td>./train/case6/case6_day0/masks/mask_slice_0003...</td>\n",
       "      <td>6</td>\n",
       "      <td>0</td>\n",
       "      <td>slice_0003_360_310_1.50_1.50.png</td>\n",
       "      <td>3</td>\n",
       "      <td>360</td>\n",
       "      <td>310</td>\n",
       "      <td>1.5</td>\n",
       "    </tr>\n",
       "    <tr>\n",
       "      <th>3</th>\n",
       "      <td>./train/case6/case6_day0/scans/slice_0004_360_...</td>\n",
       "      <td>./train/case6/case6_day0/masks/mask_slice_0004...</td>\n",
       "      <td>6</td>\n",
       "      <td>0</td>\n",
       "      <td>slice_0004_360_310_1.50_1.50.png</td>\n",
       "      <td>4</td>\n",
       "      <td>360</td>\n",
       "      <td>310</td>\n",
       "      <td>1.5</td>\n",
       "    </tr>\n",
       "    <tr>\n",
       "      <th>4</th>\n",
       "      <td>./train/case6/case6_day0/scans/slice_0005_360_...</td>\n",
       "      <td>./train/case6/case6_day0/masks/mask_slice_0005...</td>\n",
       "      <td>6</td>\n",
       "      <td>0</td>\n",
       "      <td>slice_0005_360_310_1.50_1.50.png</td>\n",
       "      <td>5</td>\n",
       "      <td>360</td>\n",
       "      <td>310</td>\n",
       "      <td>1.5</td>\n",
       "    </tr>\n",
       "  </tbody>\n",
       "</table>\n",
       "</div>"
      ],
      "text/plain": [
       "                                          slice_path  \\\n",
       "0  ./train/case6/case6_day0/scans/slice_0001_360_...   \n",
       "1  ./train/case6/case6_day0/scans/slice_0002_360_...   \n",
       "2  ./train/case6/case6_day0/scans/slice_0003_360_...   \n",
       "3  ./train/case6/case6_day0/scans/slice_0004_360_...   \n",
       "4  ./train/case6/case6_day0/scans/slice_0005_360_...   \n",
       "\n",
       "                                           mask_path  case_id  day_id  \\\n",
       "0  ./train/case6/case6_day0/masks/mask_slice_0001...        6       0   \n",
       "1  ./train/case6/case6_day0/masks/mask_slice_0002...        6       0   \n",
       "2  ./train/case6/case6_day0/masks/mask_slice_0003...        6       0   \n",
       "3  ./train/case6/case6_day0/masks/mask_slice_0004...        6       0   \n",
       "4  ./train/case6/case6_day0/masks/mask_slice_0005...        6       0   \n",
       "\n",
       "                         slice_name  slice_id  width  height  depth_px  \n",
       "0  slice_0001_360_310_1.50_1.50.png         1    360     310       1.5  \n",
       "1  slice_0002_360_310_1.50_1.50.png         2    360     310       1.5  \n",
       "2  slice_0003_360_310_1.50_1.50.png         3    360     310       1.5  \n",
       "3  slice_0004_360_310_1.50_1.50.png         4    360     310       1.5  \n",
       "4  slice_0005_360_310_1.50_1.50.png         5    360     310       1.5  "
      ]
     },
     "execution_count": 57,
     "metadata": {},
     "output_type": "execute_result"
    }
   ],
   "source": [
    "image_details_360x310 = image_details[(image_details['width'] == 360) & (image_details['height'] == 310)].reset_index().drop(columns='index')\n",
    "image_details_360x310.head()"
   ]
  },
  {
   "cell_type": "code",
   "execution_count": 58,
   "metadata": {
    "colab": {
     "base_uri": "https://localhost:8080/"
    },
    "id": "QCAHX8lg48l6",
    "outputId": "a2281f75-fbf9-4d4a-8db1-445ac4d6124f"
   },
   "outputs": [
    {
     "name": "stdout",
     "output_type": "stream",
     "text": [
      "Il numero di record con l'attributo '\u001b[1;34msegmentation\u001b[0m' diverso da \u001b[1;34m(nan, nan, nan)\u001b[0m è \u001b[1;34m4861\u001b[0m.\n",
      "Il numero di record totali è \u001b[1;34m11232\u001b[0m.\n",
      "\n",
      "Ci sono esattamente \u001b[1;34m6371\u001b[0m slice di dimensione \u001b[1;34m360x310\u001b[0m con maschere totalmente vuote.\n",
      "La percentuale di slice di dimensione \u001b[1;34m360x310\u001b[0m con maschere totalmente vuote è pari al \u001b[1;34m56.72%\u001b[0m\n"
     ]
    }
   ],
   "source": [
    "image_details_360x310_w_seg = image_details_360x310.merge(train_df, on=['case_id', 'day_id', 'slice_id']).drop_duplicates()\n",
    "\n",
    "count_360 = 0\n",
    "\n",
    "for index, row in image_details_360x310_w_seg.iterrows():\n",
    "    if row['segmentation'] == '(nan, nan, nan)':\n",
    "        count_360 += 1\n",
    "        \n",
    "segmented_360 = image_details_360x310_w_seg.shape[0] - count_360\n",
    "\n",
    "print(f\"\\nIl numero di record con l'attributo '\\033[1;34msegmentation\\033[0m' diverso da \\033[1;34m(nan, nan, nan)\\033[0m è \\033[1;34m{segmented_360}\\033[0m.\")\n",
    "print(f\"Il numero di record totali è \\033[1;34m{image_details_360x310_w_seg.shape[0]}\\033[0m.\")\n",
    "print(f\"\\nCi sono esattamente \\033[1;34m{count_360}\\033[0m slice di dimensione \\033[1;34m360x310\\033[0m con maschere totalmente vuote.\")\n",
    "print(f\"La percentuale di slice di dimensione \\033[1;34m360x310\\033[0m con maschere totalmente vuote è pari al \\033[1;34m{round(count_360/image_details_360x310_w_seg.shape[0]*100, 2)}%\\033[0m\")"
   ]
  },
  {
   "attachments": {},
   "cell_type": "markdown",
   "metadata": {
    "id": "5sm1W1Rt5FwS"
   },
   "source": [
    "Si evince che:\n",
    "\n",
    "1.  le immagini che contengono, in percentuale, la **maggior frequenza di segmentazioni** sono quelle da $276\\times276$ ($59.83\\ \\%$);\n",
    "2.  le immagini che congengono la **maggior frequenza di segmentazioni totalmente vuote** sono quelle da $234\\times234$ ($61.11\\ \\%$);\n",
    "3.  le immagini che contengono il **maggior numero di immagini segmentate**, in valore assoluto, sono quelle da $266\\times266$  ($10955$);\n",
    "4.  le immagini che contengono il **minor numero di immagini segmentate** sono quelle da $234\\times234$ ($56$).\n",
    "\n",
    "Osserviamo graficamente, quanto visto analiticamente:"
   ]
  },
  {
   "cell_type": "code",
   "execution_count": 59,
   "metadata": {
    "colab": {
     "base_uri": "https://localhost:8080/",
     "height": 487
    },
    "id": "grcmtabwS-n-",
    "outputId": "df291316-8917-4a53-d78b-1cf8445aa2e7"
   },
   "outputs": [
    {
     "data": {
      "image/png": "[encoded data removed]",
      "text/plain": [
       "<Figure size 1500x500 with 3 Axes>"
      ]
     },
     "metadata": {},
     "output_type": "display_data"
    }
   ],
   "source": [
    "labels = ['234x234', '266x266', '276x276', '360x310']\n",
    "counters1 = [count_234, count_266, count_276, count_360]\n",
    "counters2 = [segmented_234, segmented_266, segmented_276, segmented_360]\n",
    "counters3 = [(count_234 + segmented_234), (count_266 + segmented_266), (count_276 + segmented_276), (count_360 + segmented_360)]\n",
    "colors = ['red', 'green', 'blue', 'orange']\n",
    "lower_bound = 0\n",
    "upper_bound = count_266 + segmented_266 + 1000\n",
    "\n",
    "fig, (ax1, ax2, ax3) = plt.subplots(1, 3, figsize=(15, 5))\n",
    "\n",
    "ax1.bar(labels, counters1, color=colors)\n",
    "ax1.set_ybound(lower_bound, upper_bound)\n",
    "ax1.set_title('N° di maschere vuote per dimensione slice', fontweight='bold')\n",
    "ax1.set_ylabel('Numero di slice', fontweight='bold')\n",
    "\n",
    "# Aggiunta delle etichette del valore\n",
    "for i, v in enumerate(counters1):\n",
    "    ax1.annotate(str(v), xy=(i, v), ha='center', va='bottom')\n",
    "\n",
    "ax2.bar(labels, counters2, color=colors)\n",
    "ax2.set_ybound(lower_bound, upper_bound)\n",
    "ax2.set_title('N° di segmentazioni per dimensione slice', fontweight='bold')\n",
    "ax2.set_xlabel('Larghezza e altezza slice (in px)', fontweight='bold')\n",
    "\n",
    "# Aggiunta delle etichette del valore\n",
    "for i, v in enumerate(counters2):\n",
    "    ax2.annotate(str(v), xy=(i, v), ha='center', va='bottom')\n",
    "\n",
    "ax3.bar(labels, counters3, color=colors)\n",
    "ax3.set_ybound(lower_bound, upper_bound)\n",
    "ax3.set_title('Totale', fontweight='bold')\n",
    "\n",
    "# Aggiunta delle etichette del valore\n",
    "for i, v in enumerate(counters3):\n",
    "    ax3.annotate(str(v), xy=(i, v), ha='center', va='bottom')\n",
    "\n",
    "plt.show()"
   ]
  },
  {
   "attachments": {},
   "cell_type": "markdown",
   "metadata": {
    "id": "BVxjObP5-UUW"
   },
   "source": [
    "In definitiva, ricaviamo che:"
   ]
  },
  {
   "cell_type": "code",
   "execution_count": 60,
   "metadata": {
    "colab": {
     "base_uri": "https://localhost:8080/",
     "height": 235
    },
    "id": "TPJ9-HBl-cZ9",
    "outputId": "b0a39000-9813-4e09-c786-dc2dc7d963ab"
   },
   "outputs": [
    {
     "name": "stdout",
     "output_type": "stream",
     "text": [
      "In media, viene mantenuto il \u001b[1;34m42.32%\u001b[0m delle scansioni a profondità\u001b[1;34m 1.50 mm\u001b[0m\n",
      "\n",
      "In media, viene mantenuto il \u001b[1;34m58.87%\u001b[0m delle scansioni a profondità\u001b[1;34m 1.63 mm\u001b[0m\n",
      "\n"
     ]
    }
   ],
   "source": [
    "non_null_segm_df = merged_df.loc[merged_df['segmentation'] != '(nan, nan, nan)']\n",
    "\n",
    "d1_50 = non_null_segm_df.loc[non_null_segm_df['depth_px'] == 1.50].groupby(['case_id', 'day_id']).size()\n",
    "\n",
    "print(f\"In media, viene mantenuto il \\033[1;34m{round(np.average(np.array(d1_50.unique(), dtype=np.float16))/144, ndigits=4)*100}%\\033[0m delle scansioni a profondità\\033[1;34m 1.50 mm\\033[0m\\n\")\n",
    "\n",
    "d1_63 = non_null_segm_df.loc[non_null_segm_df['depth_px'] == 1.63].groupby(['case_id', 'day_id']).size()\n",
    "\n",
    "print(f\"In media, viene mantenuto il \\033[1;34m{round(np.average(np.array(d1_63.unique(), dtype=np.float16))/80, ndigits=4)*100}%\\033[0m delle scansioni a profondità\\033[1;34m 1.63 mm\\033[0m\\n\")"
   ]
  },
  {
   "attachments": {},
   "cell_type": "markdown",
   "metadata": {},
   "source": [
    "# <center id='paragrafo_4'> <strong>4 &dash; OPERAZIONI SULLE MASCHERE </strong> </center>\n",
    "---"
   ]
  },
  {
   "attachments": {},
   "cell_type": "markdown",
   "metadata": {},
   "source": [
    "Avendo visto, nei paragrafi precedenti, l'esistenza di una colonna per la segmentazione degli organi all'interno delle scansioni e dopo averne evidenziato la distribuzione, in funzione delle dimensioni delle immagini, in questa sezione ci occuperemo di tutte le operazioni che abbiamo ritenuto necessarie per l'elaborazione delle maschere.\n",
    "\n",
    "Come stabilito in fase di presentazione della competizione, le maschere di segmentazione del training set sono state fornite secondo la codifica **run-length**. \n",
    "\n",
    "Questa codifica (da ora RLE) è una semplice forma di **compressione** dei dati **senza perdita** di informazioni, che viene eseguita su sequenze con lo stesso valore che si verificano più volte consecutive. Codifica la sequenza per memorizzare un solo valore e il relativo conteggio.\n",
    "\n",
    "Consideriamo, ad esempio, una porzione di maschera presa dal file `train.csv`:\n",
    "**<center>24031 5 24296 7 24561 8 24825 10</center>** \n",
    "\n",
    "Contando da 0, gli elementi di posto **pari** indicano la posizione dei vari pixel nell'immagine vettorizzata, mentre gli elementi di posto **dispari** indicano la **lunghezza della run**, ovvero quante volte (meno uno) deve essere ripetuto il valore del pixel di riferimento.\n",
    "\n",
    "Nel nostro esempio, il pixel **24031** andrà ripetuto **4** volte, il pixel **24296** andrà ripetuto **6** volte e così via.\n",
    "\n",
    "Per sfruttare la codifica RLE delle maschere, procediamo all'implementazione delle funzioni per:\n",
    "\n",
    "* creare una maschera vuota\n",
    "* decodificare una stringa RLE\n",
    "* codificare un'immagine in una stringa RLE"
   ]
  },
  {
   "attachments": {},
   "cell_type": "markdown",
   "metadata": {},
   "source": [
    "## Creazione maschera vuota"
   ]
  },
  {
   "cell_type": "code",
   "execution_count": 61,
   "metadata": {},
   "outputs": [],
   "source": [
    "def crea_maschera_vuota(path: str, width: int, height: int):\n",
    "    \"\"\"Funzione usata per creare un segnaposto per una maschera\n",
    "    in un dato percorso\n",
    "\n",
    "    Args:\n",
    "        path (str): percorso in cui salvare la maschera vuota\n",
    "        width (int): larghezza desiderata per la maschera\n",
    "        height (int): altezza desiderata per la maschera\n",
    "    \"\"\"\n",
    "    # Creo una maschera vuota con le dimensioni dei pixel calcolate\n",
    "    mask = np.zeros((height, width), dtype=np.uint8)\n",
    "\n",
    "    cv.imwrite(path, mask)"
   ]
  },
  {
   "attachments": {},
   "cell_type": "markdown",
   "metadata": {},
   "source": [
    "&Egrave; una funzione molto semplice che serve a generare una maschera di larghezza e altezza desiderate, e a salvarla nel percorso specificato.\n",
    "\n",
    "Tornerà utile per generare le maschere di segmentazione."
   ]
  },
  {
   "attachments": {},
   "cell_type": "markdown",
   "metadata": {},
   "source": [
    "## Decodifica <strong>RLE</strong>"
   ]
  },
  {
   "cell_type": "code",
   "execution_count": 62,
   "metadata": {},
   "outputs": [],
   "source": [
    "def rle_decode(rle_code: str, height: int, width: int) -> np.ndarray:\n",
    "    \"\"\"Funzione usata per convertire una maschera codificata RLE in \n",
    "    un'immagine di data altezza e larghezza\n",
    "\n",
    "    Args:\n",
    "        rle_code (str): stringa rappresentativa della segmentazione RLE\n",
    "        height (int): altezza desiderata per l'immagine\n",
    "        width (int): larghezza desiderata per l'immagine\n",
    "\n",
    "    Returns:\n",
    "        np.ndarray: immagine della maschera associata alla stringa RLE\n",
    "    \"\"\"\n",
    "    # Verifica se la codifica è 'nan'\n",
    "    if str(rle_code) == \"nan\":\n",
    "        return np.zeros((height, width), dtype=np.uint8)\n",
    "    \n",
    "    # Trasforma la stringa in una lista di numeri interi e genera\n",
    "    # un array NumPy fatto da coppie di interi (secondo la notazione RLE)\n",
    "    rle_numbers = [int(i.strip(\"'\")) for i in rle_code.split()]\n",
    "    rle_pairs = np.array(rle_numbers).reshape(-1, 2)\n",
    "\n",
    "    # Crea un'immagine vuota\n",
    "    img = np.zeros(height*width, dtype=np.uint8)\n",
    "\n",
    "    # Colora i pixel coperti dalla maschera\n",
    "    for index, length in rle_pairs:\n",
    "        index -= 1\n",
    "        img[index:index+length] = 255\n",
    "\n",
    "    # Ridimensiona l'immagine e la restituisce\n",
    "    return img.reshape((height, width))"
   ]
  },
  {
   "attachments": {},
   "cell_type": "markdown",
   "metadata": {},
   "source": [
    "Osserviamo, in questo esempio, la funzione al lavoro:"
   ]
  },
  {
   "cell_type": "code",
   "execution_count": 63,
   "metadata": {},
   "outputs": [
    {
     "data": {
      "image/png": "[encoded data removed]",
      "text/plain": [
       "<Figure size 500x500 with 1 Axes>"
      ]
     },
     "metadata": {},
     "output_type": "display_data"
    }
   ],
   "source": [
    "rle_string = '22547 4 22822 11 23096 15 23371 17 23646 19 23921 21 24197 20 24473 17 24749 15 25026 13 ' +\\\n",
    "'25302 13 25579 22 25856 22 26134 21 26411 21 26688 21 26965 22 27241 22 27518 22 27794 22 28070 23 ' +\\\n",
    "'28346 9 28357 12 28622 9 28633 12 28899 7 28909 12 29175 7 29185 12 29452 4 29461 12 29737 12 30013 12 ' +\\\n",
    "'30289 11 30565 11 30842 9 31119 7 36644 4 36918 8 37193 9 37469 10 37745 10 38021 10 38297 10 38573 10 ' +\\\n",
    "'38849 10 39125 10 39402 8 39679 6'\n",
    "\n",
    "rle_dec_width = 276\n",
    "rle_dec_height = 276\n",
    "\n",
    "rle_dec_mask = rle_decode(rle_string, rle_dec_height, rle_dec_width)\n",
    "\n",
    "fig, ax = plt.subplots(nrows=1, ncols=1, figsize=(5,5))\n",
    "\n",
    "ax.set_title('Case 34, Day 0, Slice 50 - Segm. Mask for Large Bowel', fontweight='bold')\n",
    "\n",
    "plt.imshow(rle_dec_mask)\n",
    "plt.show()"
   ]
  },
  {
   "attachments": {},
   "cell_type": "markdown",
   "metadata": {},
   "source": [
    "## Codifica <strong> RLE </strong>"
   ]
  },
  {
   "cell_type": "code",
   "execution_count": 64,
   "metadata": {},
   "outputs": [],
   "source": [
    "def rle_encode(mask: np.ndarray) -> str:\n",
    "    \"\"\"Funzione usata per generare una codifica RLE a partire da una maschera binaria\n",
    "\n",
    "    Args:\n",
    "        mask (np.ndarray): maschera binaria da codificare in RLE\n",
    "\n",
    "    Returns:\n",
    "        str: codifica RLE della maschera\n",
    "    \"\"\"\n",
    "    \n",
    "    rle_string = \"\"\n",
    "    \n",
    "    mask = mask.flatten()\n",
    "\n",
    "    # Si aggiunge uno zero-padding alla maschera per evitare problemi di indicizzazione\n",
    "    padded_mask = np.pad(mask, (1,), mode=\"constant\")\n",
    "\n",
    "    # Inizializza l'indice corrente a 0\n",
    "    current_index = 0\n",
    "    \n",
    "    # Inizializza la lunghezza corrente a 0\n",
    "    current_length = 0\n",
    "\n",
    "    # Itera attraverso ciascun pixel della riga\n",
    "    for pixel in padded_mask:\n",
    "        # Se il pixel è 1 e il pixel precedente era 0, inizia una nuova sequenza\n",
    "        if pixel == 1 and padded_mask[current_index - 1] == 0:\n",
    "            rle_string += str(current_index) + \" \"\n",
    "            current_length = 1\n",
    "        # Se il pixel è 1 e il pixel precedente era 1, aumenta la lunghezza della sequenza corrente\n",
    "        elif pixel == 1 and padded_mask[current_index - 1] == 1:\n",
    "            current_length += 1\n",
    "        # Se il pixel è 0 e il pixel precedente era 1, termina la sequenza corrente\n",
    "        elif pixel == 0 and padded_mask[current_index - 1] == 1:\n",
    "            rle_string += str(current_length) + \" \"\n",
    "            current_length = 0\n",
    "        \n",
    "        # Incrementa l'indice corrente\n",
    "        current_index += 1\n",
    "\n",
    "    # Se c'è ancora una sequenza attiva alla fine della riga, termina la sequenza\n",
    "    if current_length != 0:\n",
    "        rle_string += str(current_length) + \" \"\n",
    "\n",
    "    # Restituisci la stringa RLE\n",
    "    return rle_string"
   ]
  },
  {
   "attachments": {},
   "cell_type": "markdown",
   "metadata": {},
   "source": [
    "Osserviamo, in quello che segue, come la funzione codifichi esattamente la maschera dell'esempio precedente"
   ]
  },
  {
   "cell_type": "code",
   "execution_count": 65,
   "metadata": {},
   "outputs": [
    {
     "name": "stdout",
     "output_type": "stream",
     "text": [
      "Maschera codificata come:\n",
      "\u001b[1;34m22547 4 22822 11 23096 15 23371 17 23646 19 23921 21 24197 20 24473 17 24749 15 25026 13 25302 13 25579 22 25856 22 26134 21 26411 21 26688 21 26965 22 27241 22 27518 22 27794 22 28070 23 28346 9 28357 12 28622 9 28633 12 28899 7 28909 12 29175 7 29185 12 29452 4 29461 12 29737 12 30013 12 30289 11 30565 11 30842 9 31119 7 36644 4 36918 8 37193 9 37469 10 37745 10 38021 10 38297 10 38573 10 38849 10 39125 10 39402 8 39679 6 \u001b[0m\n",
      "\n",
      "Stringa originale:\n",
      "\u001b[1;34m22547 4 22822 11 23096 15 23371 17 23646 19 23921 21 24197 20 24473 17 24749 15 25026 13 25302 13 25579 22 25856 22 26134 21 26411 21 26688 21 26965 22 27241 22 27518 22 27794 22 28070 23 28346 9 28357 12 28622 9 28633 12 28899 7 28909 12 29175 7 29185 12 29452 4 29461 12 29737 12 30013 12 30289 11 30565 11 30842 9 31119 7 36644 4 36918 8 37193 9 37469 10 37745 10 38021 10 38297 10 38573 10 38849 10 39125 10 39402 8 39679 6\u001b[0m\n",
      "\n"
     ]
    }
   ],
   "source": [
    "encoded_mask = rle_encode(rle_dec_mask/255)\n",
    "\n",
    "print(f\"Maschera codificata come:\\n\\033[1;34m{encoded_mask}\\033[0m\\n\")\n",
    "\n",
    "print(f\"Stringa originale:\\n\\033[1;34m{rle_string}\\033[0m\\n\")"
   ]
  },
  {
   "attachments": {},
   "cell_type": "markdown",
   "metadata": {},
   "source": [
    "## Sovrapposizione slice e maschera corrispondente "
   ]
  },
  {
   "attachments": {},
   "cell_type": "markdown",
   "metadata": {},
   "source": [
    "L'intenzione, avendo a disposizione le maschere, è quella di sovrapporle alle immagini, in modo da avere una migliore conoscenza del dominio in cui stiamo operando (i.e. saper individuare meglio a cosa corrisponde ogni segmento).\n",
    "\n",
    "Allo scopo, abbiamo previsto una funzione, `override_mask_on_img` (riportata nel listato seguente)."
   ]
  },
  {
   "cell_type": "code",
   "execution_count": 5,
   "metadata": {},
   "outputs": [],
   "source": [
    "def override_mask_on_img(mask_array: np.array, rgb_slice: cv.Mat) -> cv.Mat:\n",
    "    \"\"\"Funzione usata per sovrapporre una maschera ad un'immagine\n",
    "\n",
    "    Args:\n",
    "        mask_array (np.array): maschera da sovrapporre\n",
    "        rgb_slice (Mat): immagine su cui applicare la maschera\n",
    "\n",
    "    Returns:\n",
    "        Mat: immagine con maschera sovrapposta\n",
    "    \"\"\"\n",
    "    \n",
    "    bool_index = mask_array != (0, 0, 0)\n",
    "\n",
    "    rgb_slice[bool_index] = mask_array[bool_index]\n",
    "\n",
    "    return rgb_slice"
   ]
  },
  {
   "attachments": {},
   "cell_type": "markdown",
   "metadata": {},
   "source": [
    "Ecco un esempio di codice che mostra l'output della funzione appena descritta."
   ]
  },
  {
   "cell_type": "code",
   "execution_count": 10,
   "metadata": {},
   "outputs": [
    {
     "data": {
      "image/png": "[encoded data removed]",
      "text/plain": [
       "<Figure size 640x480 with 1 Axes>"
      ]
     },
     "metadata": {},
     "output_type": "display_data"
    }
   ],
   "source": [
    "mask = cv.imread(\"../train/case118/case118_day0/masks/mask_slice_0031_276_276_1.63_1.63.png\")\n",
    "rgb_slice = cv.imread(\"../train/case118/case118_day0/scans/slice_0031_276_276_1.63_1.63.png\")\n",
    "\n",
    "overriden_w_mask = override_mask_on_img(mask_array=mask, rgb_slice=rgb_slice)\n",
    "\n",
    "plt.imshow(np.array(overriden_w_mask), cmap='bone')\n",
    "plt.show()"
   ]
  },
  {
   "attachments": {},
   "cell_type": "markdown",
   "metadata": {
    "id": "pDBQ0Vq4DweU"
   },
   "source": [
    "# <center id='paragrafo_5'> <strong>5 &dash; OPERAZIONI SULLE SLICE </strong> </center>\n",
    "---"
   ]
  },
  {
   "attachments": {},
   "cell_type": "markdown",
   "metadata": {},
   "source": [
    "## Equalizzazione delle slice "
   ]
  },
  {
   "attachments": {},
   "cell_type": "markdown",
   "metadata": {},
   "source": [
    "Un appunto va fatto alla qualità media delle immagini, di cui abbiamo avuto un assaggio nelle sezioni precedenti: i casi in cui sono facilmente distinguibili gli elementi dell'immagine sono pochi, mentre è più generale il caso di immagini **totalmente nere** o **poco contrastate**.\n",
    "\n",
    "È necessario, allora, implementare una funzione che migliori la qualità delle scansioni presenti nel dataset. Nello specifico uno strumento che ben si presta al miglioramento del contrasto per immagini monocromatiche è l'equalizzazione dell'istogramma: riteniamo, infatti, che le immagini meno contrastate contengano comunque dell'informazione e, semplicemente, la poca qualità visiva sia data da un istogramma molto compattato sui neri; l'equalizzazione dell'istogramma permette di ottenere una distribuzione delle intensità **più uniforme**, con un conseguente miglioramento del contrasto.\n",
    "\n",
    "Da un punto di vista implementativo, definiamo una funzione che, dato in input il percorso dell'immagine, la equalizza e la sovrascrive con la versione migliorata."
   ]
  },
  {
   "cell_type": "code",
   "execution_count": 67,
   "metadata": {},
   "outputs": [],
   "source": [
    "def equalizza_immagini(path: str):\n",
    "    \n",
    "    \"\"\"Funzione usata per equalizzare un'immagine e sovrascriverla all'originale\n",
    "\n",
    "    Args:\n",
    "        path (str): percorso in cui salvare l'immagine\n",
    "    \"\"\"\n",
    "    \n",
    "    img = cv.imread(path, 0) \n",
    "\n",
    "    equ = cv.equalizeHist(img)\n",
    "    \n",
    "    cv.imwrite(path, equ)"
   ]
  },
  {
   "attachments": {},
   "cell_type": "markdown",
   "metadata": {},
   "source": [
    "# <center id='paragrafo_6'> <strong>6 &dash; DATA CLEANING, EQUALIZZAZIONE SLICE E CREAZIONE MASCHERE </strong> </center>\n",
    "---"
   ]
  },
  {
   "attachments": {},
   "cell_type": "markdown",
   "metadata": {},
   "source": [
    "## Data cleaning "
   ]
  },
  {
   "attachments": {},
   "cell_type": "markdown",
   "metadata": {},
   "source": [
    "Partendo dal dataframe **merged_df** ne viene creato uno nuovo, chiamato **merged_df_w_segmentation**, dal quale si vanno ad eliminare le righe e le corrispondenti slice il cui attributo `segmentation` non è presente. "
   ]
  },
  {
   "cell_type": "code",
   "execution_count": 68,
   "metadata": {},
   "outputs": [
    {
     "name": "stderr",
     "output_type": "stream",
     "text": [
      "100%|\u001b[32m██████████\u001b[0m| 38496/38496 [02:40<00:00, 240.12it/s]]\n"
     ]
    },
    {
     "data": {
      "text/html": [
       "<div>\n",
       "<style scoped>\n",
       "    .dataframe tbody tr th:only-of-type {\n",
       "        vertical-align: middle;\n",
       "    }\n",
       "\n",
       "    .dataframe tbody tr th {\n",
       "        vertical-align: top;\n",
       "    }\n",
       "\n",
       "    .dataframe thead th {\n",
       "        text-align: right;\n",
       "    }\n",
       "</style>\n",
       "<table border=\"1\" class=\"dataframe\">\n",
       "  <thead>\n",
       "    <tr style=\"text-align: right;\">\n",
       "      <th></th>\n",
       "      <th>id</th>\n",
       "      <th>case_id</th>\n",
       "      <th>day_id</th>\n",
       "      <th>slice_id</th>\n",
       "      <th>class</th>\n",
       "      <th>segmentation</th>\n",
       "      <th>slice_path</th>\n",
       "      <th>mask_path</th>\n",
       "      <th>slice_name</th>\n",
       "      <th>width</th>\n",
       "      <th>height</th>\n",
       "      <th>depth_px</th>\n",
       "      <th>is_created_mask</th>\n",
       "      <th>is_equalized_slice</th>\n",
       "    </tr>\n",
       "  </thead>\n",
       "  <tbody>\n",
       "    <tr>\n",
       "      <th>0</th>\n",
       "      <td>case2_day1_slice_0050</td>\n",
       "      <td>2</td>\n",
       "      <td>1</td>\n",
       "      <td>50</td>\n",
       "      <td>(0, 1, 2)</td>\n",
       "      <td>(nan, nan, '30207 7 30471 13 30733 19 30996 22...</td>\n",
       "      <td>./train/case2/case2_day1/scans/slice_0050_266_...</td>\n",
       "      <td>./train/case2/case2_day1/masks/mask_slice_0050...</td>\n",
       "      <td>slice_0050_266_266_1.50_1.50.png</td>\n",
       "      <td>266</td>\n",
       "      <td>266</td>\n",
       "      <td>1.5</td>\n",
       "      <td>False</td>\n",
       "      <td>False</td>\n",
       "    </tr>\n",
       "    <tr>\n",
       "      <th>1</th>\n",
       "      <td>case2_day1_slice_0051</td>\n",
       "      <td>2</td>\n",
       "      <td>1</td>\n",
       "      <td>51</td>\n",
       "      <td>(0, 1, 2)</td>\n",
       "      <td>(nan, nan, '29942 9 30204 15 30466 20 30730 23...</td>\n",
       "      <td>./train/case2/case2_day1/scans/slice_0051_266_...</td>\n",
       "      <td>./train/case2/case2_day1/masks/mask_slice_0051...</td>\n",
       "      <td>slice_0051_266_266_1.50_1.50.png</td>\n",
       "      <td>266</td>\n",
       "      <td>266</td>\n",
       "      <td>1.5</td>\n",
       "      <td>False</td>\n",
       "      <td>False</td>\n",
       "    </tr>\n",
       "    <tr>\n",
       "      <th>2</th>\n",
       "      <td>case2_day1_slice_0052</td>\n",
       "      <td>2</td>\n",
       "      <td>1</td>\n",
       "      <td>52</td>\n",
       "      <td>(0, 1, 2)</td>\n",
       "      <td>(nan, nan, '29412 6 29675 11 29938 17 30201 20...</td>\n",
       "      <td>./train/case2/case2_day1/scans/slice_0052_266_...</td>\n",
       "      <td>./train/case2/case2_day1/masks/mask_slice_0052...</td>\n",
       "      <td>slice_0052_266_266_1.50_1.50.png</td>\n",
       "      <td>266</td>\n",
       "      <td>266</td>\n",
       "      <td>1.5</td>\n",
       "      <td>False</td>\n",
       "      <td>False</td>\n",
       "    </tr>\n",
       "    <tr>\n",
       "      <th>3</th>\n",
       "      <td>case2_day1_slice_0053</td>\n",
       "      <td>2</td>\n",
       "      <td>1</td>\n",
       "      <td>53</td>\n",
       "      <td>(0, 1, 2)</td>\n",
       "      <td>(nan, nan, '28614 13 28878 17 29142 19 29407 2...</td>\n",
       "      <td>./train/case2/case2_day1/scans/slice_0053_266_...</td>\n",
       "      <td>./train/case2/case2_day1/masks/mask_slice_0053...</td>\n",
       "      <td>slice_0053_266_266_1.50_1.50.png</td>\n",
       "      <td>266</td>\n",
       "      <td>266</td>\n",
       "      <td>1.5</td>\n",
       "      <td>False</td>\n",
       "      <td>False</td>\n",
       "    </tr>\n",
       "    <tr>\n",
       "      <th>4</th>\n",
       "      <td>case2_day1_slice_0054</td>\n",
       "      <td>2</td>\n",
       "      <td>1</td>\n",
       "      <td>54</td>\n",
       "      <td>(0, 1, 2)</td>\n",
       "      <td>(nan, nan, '25429 7 25694 10 25960 11 26226 12...</td>\n",
       "      <td>./train/case2/case2_day1/scans/slice_0054_266_...</td>\n",
       "      <td>./train/case2/case2_day1/masks/mask_slice_0054...</td>\n",
       "      <td>slice_0054_266_266_1.50_1.50.png</td>\n",
       "      <td>266</td>\n",
       "      <td>266</td>\n",
       "      <td>1.5</td>\n",
       "      <td>False</td>\n",
       "      <td>False</td>\n",
       "    </tr>\n",
       "  </tbody>\n",
       "</table>\n",
       "</div>"
      ],
      "text/plain": [
       "                      id  case_id  day_id  slice_id      class  \\\n",
       "0  case2_day1_slice_0050        2       1        50  (0, 1, 2)   \n",
       "1  case2_day1_slice_0051        2       1        51  (0, 1, 2)   \n",
       "2  case2_day1_slice_0052        2       1        52  (0, 1, 2)   \n",
       "3  case2_day1_slice_0053        2       1        53  (0, 1, 2)   \n",
       "4  case2_day1_slice_0054        2       1        54  (0, 1, 2)   \n",
       "\n",
       "                                        segmentation  \\\n",
       "0  (nan, nan, '30207 7 30471 13 30733 19 30996 22...   \n",
       "1  (nan, nan, '29942 9 30204 15 30466 20 30730 23...   \n",
       "2  (nan, nan, '29412 6 29675 11 29938 17 30201 20...   \n",
       "3  (nan, nan, '28614 13 28878 17 29142 19 29407 2...   \n",
       "4  (nan, nan, '25429 7 25694 10 25960 11 26226 12...   \n",
       "\n",
       "                                          slice_path  \\\n",
       "0  ./train/case2/case2_day1/scans/slice_0050_266_...   \n",
       "1  ./train/case2/case2_day1/scans/slice_0051_266_...   \n",
       "2  ./train/case2/case2_day1/scans/slice_0052_266_...   \n",
       "3  ./train/case2/case2_day1/scans/slice_0053_266_...   \n",
       "4  ./train/case2/case2_day1/scans/slice_0054_266_...   \n",
       "\n",
       "                                           mask_path  \\\n",
       "0  ./train/case2/case2_day1/masks/mask_slice_0050...   \n",
       "1  ./train/case2/case2_day1/masks/mask_slice_0051...   \n",
       "2  ./train/case2/case2_day1/masks/mask_slice_0052...   \n",
       "3  ./train/case2/case2_day1/masks/mask_slice_0053...   \n",
       "4  ./train/case2/case2_day1/masks/mask_slice_0054...   \n",
       "\n",
       "                         slice_name  width  height  depth_px  is_created_mask  \\\n",
       "0  slice_0050_266_266_1.50_1.50.png    266     266       1.5            False   \n",
       "1  slice_0051_266_266_1.50_1.50.png    266     266       1.5            False   \n",
       "2  slice_0052_266_266_1.50_1.50.png    266     266       1.5            False   \n",
       "3  slice_0053_266_266_1.50_1.50.png    266     266       1.5            False   \n",
       "4  slice_0054_266_266_1.50_1.50.png    266     266       1.5            False   \n",
       "\n",
       "   is_equalized_slice  \n",
       "0               False  \n",
       "1               False  \n",
       "2               False  \n",
       "3               False  \n",
       "4               False  "
      ]
     },
     "execution_count": 68,
     "metadata": {},
     "output_type": "execute_result"
    }
   ],
   "source": [
    "merged_df_w_segmentation = merged_df\n",
    "\n",
    "for index, row in tqdm(merged_df_w_segmentation.iterrows(), total=len(merged_df_w_segmentation), bar_format=bar_format_green):\n",
    "    if row['segmentation'] == '(nan, nan, nan)':\n",
    "        merged_df_w_segmentation.drop(index, inplace=True)\n",
    "        \n",
    "merged_df_w_segmentation = merged_df_w_segmentation.reset_index(drop=True)\n",
    "\n",
    "# salvo il DataFrame in formato CSV\n",
    "merged_df_w_segmentation.to_csv(f'{DATAFRAMES_DIR}merged_df_w_segmentation.csv', index=False)\n",
    "\n",
    "merged_df_w_segmentation.head()"
   ]
  },
  {
   "attachments": {},
   "cell_type": "markdown",
   "metadata": {},
   "source": [
    "## Equalizzazione slice "
   ]
  },
  {
   "attachments": {},
   "cell_type": "markdown",
   "metadata": {},
   "source": [
    "Iniziamo le operazioni sulle immagini iterando su tutte le righe del dataframe **merged_df**, quindi equalizzando e sovrascrivendo tutte le immagini indicate in `slice_path`. \\\n",
    "Per farlo, usiamo il seguente listato:"
   ]
  },
  {
   "cell_type": "code",
   "execution_count": 75,
   "metadata": {},
   "outputs": [
    {
     "name": "stdout",
     "output_type": "stream",
     "text": [
      "\n",
      "Inizio equalizzazione slice...\n",
      "\n"
     ]
    },
    {
     "name": "stderr",
     "output_type": "stream",
     "text": [
      "100%|\u001b[34m██████████\u001b[0m| 16590/16590 [00:02<00:00, 5737.91it/s]]\n"
     ]
    },
    {
     "name": "stdout",
     "output_type": "stream",
     "text": [
      "\n",
      "Fine equalizzazione slice.\n",
      "\n"
     ]
    }
   ],
   "source": [
    "merged_df_w_segmentation = pd.read_csv(f'{DATAFRAMES_DIR}merged_df_w_segmentation.csv')\n",
    "\n",
    "# Imposta il numero di processi in parallelo\n",
    "num_cores = multiprocessing.cpu_count()\n",
    "\n",
    "def equalizza_immagini_parallel(row):\n",
    "    if row['is_equalized_slice'] == False:\n",
    "        equalizza_immagini(row['slice_path'])\n",
    "\n",
    "print(f\"\\nInizio equalizzazione slice...\\n\")\n",
    "\n",
    "# Esegui la funzione in parallelo su ogni riga del DataFrame\n",
    "Parallel(n_jobs=num_cores)(delayed(equalizza_immagini_parallel)(row) for index, row in tqdm(merged_df_w_segmentation.iterrows(), total=len(merged_df_w_segmentation), bar_format=bar_format_blue))\n",
    "\n",
    "print(f\"\\nFine equalizzazione slice.\\n\")\n",
    "\n",
    "merged_df_w_segmentation['is_equalized_slice'] = True\n",
    "\n",
    "# Salva il DataFrame in formato CSV\n",
    "merged_df_w_segmentation.to_csv(f'{DATAFRAMES_DIR}merged_df_w_segmentation.csv', index=False)\n"
   ]
  },
  {
   "attachments": {},
   "cell_type": "markdown",
   "metadata": {},
   "source": [
    "Il risultato dell'equalizzazione è andato oltre le aspettative, dato che immagini quasi totalmente nere (una percentuale di pixel bianchi minima) sono poi risultate in immagini qualitativamente buone, come si può vedere nell'esempio seguente."
   ]
  },
  {
   "cell_type": "code",
   "execution_count": 70,
   "metadata": {},
   "outputs": [
    {
     "data": {
      "image/png": "[encoded data removed]",
      "text/plain": [
       "<Figure size 2000x500 with 4 Axes>"
      ]
     },
     "metadata": {},
     "output_type": "display_data"
    }
   ],
   "source": [
    "fig, (ax1, ax2, ax3, ax4) = plt.subplots(1,4,figsize=(20,5))\n",
    "\n",
    "ax1.set_title('Immagine originale')\n",
    "ax1.set_xlabel(\"Caso 2 - Giorno 2 - Slice 81\")\n",
    "ax2.set_title('Immagine equalizzata')\n",
    "ax3.set_title('Istogramma originale')\n",
    "ax4.set_title('Istogramma equalizzato')\n",
    "\n",
    "original = cv.imread(f'./images_nb/2_2_81_original.png')\n",
    "equalised = cv.imread(f'./images_nb/2_2_81_equalised.png')\n",
    "\n",
    "ax1.imshow(original)\n",
    "ax2.imshow(equalised)\n",
    "ax3.plot([_ for _ in range(256)], cv.calcHist([original], [0], None, [256], [0, 256]))\n",
    "ax4.plot([_ for _ in range(256)], cv.calcHist([equalised], [0], None, [256], [0, 256]))\n",
    "\n",
    "plt.show()"
   ]
  },
  {
   "attachments": {},
   "cell_type": "markdown",
   "metadata": {},
   "source": [
    "## Creazione maschere "
   ]
  },
  {
   "attachments": {},
   "cell_type": "markdown",
   "metadata": {},
   "source": [
    "Avendo ottenuto un modo di decodificare delle stringhe RLE, vista l'enorme mole di dati e il formato *a triple* del nostro dataframe, pensiamo sia una buona idea la decodifica di tutte le segmentazioni per la generazione delle maschere associate ad ogni slice, salvata opportunamente nella cartella determinata da `mask_path` all'interno del dataframe. \n",
    "In questo modo, possiamo lavorare più immediatamente con le maschere e le immagini, senza doverle generare ad ogni esecuzione.\n",
    "\n",
    "Per far ciò, iteriamo su tutte le righe del dataframe **merged_df** (`row`), eseguendo la seguente porzione di codice:"
   ]
  },
  {
   "cell_type": "code",
   "execution_count": 71,
   "metadata": {},
   "outputs": [
    {
     "name": "stdout",
     "output_type": "stream",
     "text": [
      "\n",
      "Inizio creazione maschere di segmentazione...\n",
      "\n"
     ]
    },
    {
     "name": "stderr",
     "output_type": "stream",
     "text": [
      "100%|\u001b[33m██████████\u001b[0m| 16590/16590 [00:05<00:00, 2851.48it/s]]\n"
     ]
    },
    {
     "name": "stdout",
     "output_type": "stream",
     "text": [
      "\n",
      "Fine creazione maschere di segmentazione.\n",
      "\n"
     ]
    }
   ],
   "source": [
    "merged_df_w_segmentation = pd.read_csv(f'{DATAFRAMES_DIR}merged_df_w_segmentation.csv')\n",
    "\n",
    "# Imposta il numero di processi in parallelo\n",
    "num_cores = multiprocessing.cpu_count()\n",
    "\n",
    "def create_mask(row):\n",
    "    if row['is_created_mask'] == False: \n",
    "        \n",
    "        rle_triple = row['segmentation'].strip('()').split(', ')\n",
    "        \n",
    "        l_b_segment = rle_decode(rle_triple[0], row['height'], row['width'])\n",
    "        s_b_segment = rle_decode(rle_triple[1], row['height'], row['width'])\n",
    "        s_segment = rle_decode(rle_triple[2], row['height'], row['width'])\n",
    "        \n",
    "        gray_mask = cv.add(l_b_segment, cv.add(s_b_segment, s_segment))\n",
    "        \n",
    "        gray_mask[l_b_segment != 0] = 80\n",
    "        gray_mask[s_b_segment != 0] = 160\n",
    "        gray_mask[s_segment != 0] = 240\n",
    "        \n",
    "        cv.imwrite(row['mask_path'], gray_mask)\n",
    "\n",
    "print(f\"\\nInizio creazione maschere di segmentazione...\\n\")\n",
    "\n",
    "Parallel(n_jobs=num_cores)(delayed(create_mask)(row) for _, row in tqdm(merged_df_w_segmentation.iterrows(), total=len(merged_df_w_segmentation), bar_format=bar_format_yellow))\n",
    "\n",
    "print(f\"\\nFine creazione maschere di segmentazione.\\n\")\n",
    "\n",
    "merged_df_w_segmentation['is_created_mask'] = True\n",
    "\n",
    "# Salva il DataFrame in formato CSV\n",
    "merged_df_w_segmentation.to_csv(f'{DATAFRAMES_DIR}merged_df_w_segmentation.csv', index=False)"
   ]
  },
  {
   "attachments": {},
   "cell_type": "markdown",
   "metadata": {},
   "source": [
    "# <center id='paragrafo_7'> <strong>7 &dash; CROPPING E RESIZE DI SLICE E MASCHERE </strong> </center>\n",
    "---"
   ]
  },
  {
   "attachments": {},
   "cell_type": "markdown",
   "metadata": {},
   "source": [
    "L'ultima operazione di data preprocessing consiste nell'omogeneizzare le dimensioni del dataset. Come visto nelle sezioni precedenti, abbiamo un numero abbastanza variabile di dimensioni e di layout, con quest'ultimo che spesso comporta l'acquisizione di parti non utili alla segmentazione del tratto gastrointestinale.\n",
    "\n",
    "L'obiettivo di questa sezione è quella di **portare tutte le immagini alla stessa dimensione**, senza alterare l'*aspect ratio* della stessa. \\\n",
    "Innanzitutto, consideriamo le immagini rettangolari $360 \\times 310$:\n",
    "\n",
    "* Queste immagini presentano un layout in formato landscape, e costituiscono un *unicum* all'interno del dataset (oltretutto, rendono impossibile un\n",
    "resize diretto dell'immagine in quanto verrebbe alterato l'*aspect ratio*);\n",
    "* Osservandole è visibile come presentino contenuto non correlato al tratto gastrointestinale, quindi si può **tagliare del contenuto** per portarlo\n",
    " a un layout di tipo *portrait*\n",
    "\n",
    "In virtù di queste considerazioni, e notando che il tratto gastrointestinale si trova praticamente al centro di queste scansioni, scegliamo di tagliarle\n",
    "di `25px` a destra e a sinistra, per ottenere una shape `(310, 310)`.\n",
    "\n",
    "Una volta rese quadrate tutte le immagini, possiamo operare un resize dell'intero dataset ad una shape desiderata, senza che queste comporti una grande perdita di dettaglio: la dimensione scelta è `(256, 256)`. \\\n",
    "Nel seguente listato vengono effettuate tutte le operazioni descritte."
   ]
  },
  {
   "cell_type": "code",
   "execution_count": 72,
   "metadata": {},
   "outputs": [],
   "source": [
    "ALTEZZA = 256\n",
    "LARGHEZZA = 256"
   ]
  },
  {
   "cell_type": "code",
   "execution_count": null,
   "metadata": {},
   "outputs": [
    {
     "name": "stdout",
     "output_type": "stream",
     "text": [
      "\n",
      "Inizio cropping e resize di maschere e slices...\n",
      "\n"
     ]
    },
    {
     "name": "stderr",
     "output_type": "stream",
     "text": [
      "100%|\u001b[32m██████████\u001b[0m| 16590/16590 [01:13<00:00, 226.67it/s]]\n"
     ]
    },
    {
     "name": "stdout",
     "output_type": "stream",
     "text": [
      "\n",
      "Operazione avvenuta con successo!\n",
      "\n"
     ]
    }
   ],
   "source": [
    "merged_df_w_segmentation = pd.read_csv(f'{DATAFRAMES_DIR}merged_df_w_segmentation.csv')\n",
    "\n",
    "print(f\"\\nInizio cropping e resize di maschere e slices...\\n\")\n",
    "\n",
    "for index, riga in tqdm(merged_df_w_segmentation.iterrows(), total=len(merged_df_w_segmentation), bar_format=bar_format_green):\n",
    "\n",
    "  # faccio un controllo per vedere se ho a che fare con immagini rettangolari\n",
    "  if(riga['width'] == 360 & riga['height'] == 310):\n",
    "\n",
    "    # se il controllo da esito positivo, effettuo il cropping dell'immagine\n",
    "    scan = cv.imread(riga['slice_path'])[:, 25:335]\n",
    "    maschera = cv.imread(riga['mask_path'])[:, 25:335]\n",
    "\n",
    "    cv.imwrite(riga['slice_path'], scan)\n",
    "    cv.imwrite(riga['mask_path'], maschera)\n",
    "  \n",
    "  # a prescindere dalla dimensione delle immagini, effettuo un resize, in modo\n",
    "  # da avere tutte le immagini di dimensione 256x256 \n",
    "\n",
    "  scan = cv.imread(riga['slice_path'])\n",
    "  maschera = cv.imread(riga['mask_path'])\n",
    "        \n",
    "  resized_scan = cv.resize(scan, [LARGHEZZA, ALTEZZA])\n",
    "  resized_mask = cv.resize(maschera, [LARGHEZZA, ALTEZZA]) \n",
    "        \n",
    "  cv.imwrite(riga['slice_path'], resized_scan)\n",
    "  cv.imwrite(riga['mask_path'], resized_mask)\n",
    "\n",
    "print(f\"\\nOperazione avvenuta con successo!\\n\")\n",
    "\n",
    "# aggiorno il dataframe, in modo da avere persistenza \n",
    "merged_df_w_segmentation['width'] = LARGHEZZA\n",
    "merged_df_w_segmentation['height'] = ALTEZZA\n",
    "\n",
    "# sovrascrivo il dataframe aggiornato\n",
    "merged_df_w_segmentation.to_csv(f'{DATAFRAMES_DIR}merged_df_w_segmentation.csv', index=False)"
   ]
  },
  {
   "attachments": {},
   "cell_type": "markdown",
   "metadata": {},
   "source": [
    "<style>\n",
    "  footer {\n",
    "    color: #0f5b99;\n",
    "    background-color: #f7f7f7;\n",
    "    display: flex;\n",
    "    justify-content: space-between;\n",
    "    align-items: center;\n",
    "    padding: 10px;\n",
    "    box-shadow: 0 2px 4px rgba(0,0,0,0.2);\n",
    "  }\n",
    "  \n",
    "  footer p {\n",
    "    font-family: 'Montserrat', 'Arial', sans-serif;\n",
    "    font-size: 16px;\n",
    "    margin: 10px;\n",
    "    text-shadow: 1px 1px #f7f7f7;\n",
    "  }\n",
    "  \n",
    "  .team {\n",
    "    text-align: left;\n",
    "  }\n",
    "  \n",
    "  .subject {\n",
    "    text-align: center;\n",
    "  }\n",
    "  \n",
    "  .professor {\n",
    "    text-align: right;\n",
    "  }\n",
    "</style>\n",
    "<a href=\"#inizio\">\n",
    "  <footer>\n",
    "    <p class=\"team\"><strong>Vincenzo Fardella</strong> & <strong>Mario Tortorici</strong></p>\n",
    "    <p class=\"subject\"><strong>Big Data</strong> &copy; <strong>2023</strong></p>\n",
    "    <p class=\"professor\">Prof. <strong>Roberto Pirrone</strong></p>\n",
    "  </footer>\n",
    "</a>"
   ]
  }
 ],
 "metadata": {
  "colab": {
   "collapsed_sections": [
    "AwDiFU7MxdD7",
    "rj7fSX-Yz1ED",
    "fRaiI97R2k3G",
    "JBUMVXQX39NE",
    "AKUwurHik4co"
   ],
   "provenance": []
  },
  "gpuClass": "standard",
  "kernelspec": {
   "display_name": "Python 3 (ipykernel)",
   "language": "python",
   "name": "python3"
  },
  "language_info": {
   "codemirror_mode": {
    "name": "ipython",
    "version": 3
   },
   "file_extension": ".py",
   "mimetype": "text/x-python",
   "name": "python",
   "nbconvert_exporter": "python",
   "pygments_lexer": "ipython3",
   "version": "3.10.6"
  },
  "widgets": {
   "application/vnd.jupyter.widget-state+json": {
    "state": {},
    "version_major": 1,
    "version_minor": 0
   }
  }
 },
 "nbformat": 4,
 "nbformat_minor": 1
}
