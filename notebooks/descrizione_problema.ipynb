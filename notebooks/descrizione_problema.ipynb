{
 "cells": [
  {
   "attachments": {},
   "cell_type": "markdown",
   "metadata": {},
   "source": [
    "<style>\n",
    "  .navbar {\n",
    "    background-color: #f7f7f7;\n",
    "    display: flex;\n",
    "    justify-content: space-between;\n",
    "    align-items: center;\n",
    "    overflow: hidden;\n",
    "    font-family: 'Montserrat', 'Arial', sans-serif;\n",
    "    padding: 10px;\n",
    "    height: 90px;\n",
    "    box-shadow: 0 2px 4px rgba(0,0,0,0.2);\n",
    "  }\n",
    "\n",
    "  .navbar a {\n",
    "    font-size: 18px;\n",
    "    text-align: center;\n",
    "    padding: 14px 16px;\n",
    "    text-decoration: none;\n",
    "    transition: color 0.3s ease-in-out;\n",
    "    color: #0f5b99\n",
    "  }\n",
    "\n",
    "  .navbar a:hover {\n",
    "    background-color: #eaeaea;\n",
    "    color: #ff5500;\n",
    "  }\n",
    "\n",
    "  .navbar img {\n",
    "    height: 'auto';\n",
    "    width: 300px\n",
    "  }\n",
    "</style>\n",
    "\n",
    "<div class=\"navbar\" id=\"inizio\">\n",
    "  <a href=\"descrizione_problema.html\">Descrizione del problema</a>\n",
    "  <a href=\"data_preprocessing.html\">Data Preprocessing</a>\n",
    "  <a href=\"approccio_3D.html\">Approccio 3D</a>\n",
    "  <a href=\"approccio_2D.html\">Approccio 2D</a>\n",
    "  <a href=\"https://www.unipa.it\"><img src=\"https://www.unipa.it/redazioneweb/.content/immagini/logo-unipa-2020.png\"></a>\n",
    "</div>\n"
   ]
  },
  {
   "attachments": {},
   "cell_type": "markdown",
   "metadata": {},
   "source": [
    "# <strong> <center> STYLING DEL NOTEBOOK </center> </strong>\n",
    "---"
   ]
  },
  {
   "cell_type": "code",
   "execution_count": 1,
   "metadata": {},
   "outputs": [
    {
     "data": {
      "text/html": [
       "\n",
       "        <style>\n",
       "            @import url('https://fonts.googleapis.com/css?family=Montserrat&display=swap');\n",
       "            \n",
       "            * {\n",
       "                font-family: 'Montserrat', 'Arial', sans-serif;\n",
       "            }\n",
       "\n",
       "        </style>\n",
       "    "
      ],
      "text/plain": [
       "<IPython.core.display.HTML object>"
      ]
     },
     "execution_count": 1,
     "metadata": {},
     "output_type": "execute_result"
    }
   ],
   "source": [
    "from IPython.core.display import HTML\n",
    "\n",
    "HTML(\"\"\"\n",
    "        <style>\n",
    "            @import url('https://fonts.googleapis.com/css?family=Montserrat&display=swap');\n",
    "            \n",
    "            * {\n",
    "                font-family: 'Montserrat', 'Arial', sans-serif;\n",
    "            }\n",
    "\n",
    "        </style>\n",
    "    \"\"\")"
   ]
  },
  {
   "attachments": {},
   "cell_type": "markdown",
   "metadata": {},
   "source": [
    "# <strong> <center> DESCRIZIONE DEL PROBLEMA </center> </strong>\n",
    "---"
   ]
  },
  {
   "attachments": {},
   "cell_type": "markdown",
   "metadata": {},
   "source": [
    "Nel 2019, si stima che in tutto il mondo siano state diagnosticate 5 milioni di persone con un **tumore del tratto gastrointestinale**. Di questi pazienti, circa la metà può essere sottoposta a radioterapia, di solito somministrata per 10-15 minuti al giorno per 1-6 settimane. \n",
    "\n",
    "Gli oncologi radioterapisti cercano di somministrare dosi elevate di radiazioni utilizzando fasci di raggi X puntati sui tumori, evitando lo stomaco e l'intestino. Con le nuove tecnologie, come i **sistemi integrati di risonanza magnetica e acceleratore lineare**, noti anche come *MR-Linac*, gli oncologi sono in grado di visualizzare la posizione giornaliera del tumore e dell'intestino, che può variare di giorno in giorno. \n",
    "\n",
    "In queste scansioni, gli oncologi radioterapisti devono delineare **manualmente** la posizione dello stomaco e dell'intestino per regolare la direzione dei fasci di raggi X in modo da **aumentare** la dose erogata al tumore ed **evitare** lo stomaco e l'intestino. Si tratta di un processo lungo e laborioso che può prolungare i trattamenti da 15 minuti al giorno a un'ora al giorno, il che può essere difficile da tollerare per i pazienti, a meno che *il deep learning non aiuti ad automatizzare il processo di segmentazione*. Un metodo per segmentare lo stomaco e l'intestino renderebbe i trattamenti molto più veloci e consentirebbe a un maggior numero di pazienti di ricevere un trattamento più efficace.\n",
    "\n",
    "L'**UW-Madison Carbone Cancer Center** è un pioniere della radioterapia basata sulla risonanza magnetica e dal 2015 tratta i pazienti con *radioterapia guidata dalla risonanza magnetica in base alla loro anatomia quotidiana*.\n",
    "\n",
    "L'obiettivo è creare un modello per segmentare automaticamente lo stomaco e l'intestino nelle scansioni MRI, basandosi su un data set di queste scansioni per trovare soluzioni creative di deep learning che aiutino i pazienti oncologici a ricevere cure migliori.\n",
    "\n",
    "<center><img src=\"https://lh5.googleusercontent.com/zbBUgbj1jyZxyu3r1vr5zKKr8yK1hSdwAM3HpD_n6j2W-5-wKP3ZRusi_3yskSgnC-tMRKqOEtLycbLkTWCJAUe4Cylv_VsW81DYI4ray02uZLeSnlzAuZRIU7L2Q0KURYSMqFI\" alt = \"Tumore allo stomaco\" width=\"380px\" height=\"380px\"/></center> \n",
    "\n",
    "In questa figura, il tumore (linea spessa rosa) è vicino allo stomaco (linea spessa rossa). Al tumore vengono indirizzate dosi elevate di radiazioni, evitando lo stomaco. I livelli di dose sono rappresentati dall'arcobaleno dei contorni, con le dosi più alte rappresentate dal rosso e quelle più basse dal verde.\n",
    "\n",
    "Il cancro è già abbastanza pesante, ma la soluzione al problema permetterebbe agli oncologi radioterapisti di somministrare in modo sicuro dosi più elevate di radiazioni ai tumori, evitando lo stomaco e l'intestino. Questo renderà più veloci i trattamenti quotidiani dei pazienti oncologici e consentirà loro di ottenere cure più efficaci con meno effetti collaterali e un migliore controllo del cancro a lungo termine."
   ]
  },
  {
   "attachments": {},
   "cell_type": "markdown",
   "metadata": {},
   "source": [
    "## Valutazione"
   ]
  },
  {
   "attachments": {},
   "cell_type": "markdown",
   "metadata": {},
   "source": [
    "La bontà della nostra soluzione viene valutata tramite il coefficiente di Dice e la distanza 3D di Hausdorff. \n",
    "\n",
    "Il **coefficiente di Dice** può essere utilizzato per confrontare il rapporto tra i pixel di una segmentazione prevista e la corrispondente *ground truth*, secondo la seguente legge:\n",
    "\n",
    "$$\n",
    "D_c = \\begin{cases} \n",
    "0 && X\\wedge Y vuoti \\\\\n",
    "2\\cdot \\frac{|X\\cap Y|}{|X|+|Y|} && altrimenti\n",
    "\\end{cases}\n",
    "$$\n",
    "\n",
    "dove $X$ è l'insieme dei *pixel previsti* e $Y$ è la *ground truth*. \n",
    "\n",
    "La **distanza di Hausdorff** è un metodo per calcolare la distanza tra due oggetti di segmentazione A e B, considerando il **punto più lontano di A** dal **punto più vicino di B**.\n",
    "Per applicare Hausdorff in 3D, costruiamo volumi 3D, combinando ogni segmentazione 2D con una profondità di slice come coordinata Z, per poi calcolare la distanza (ai fini della competizione la profondità di slice è settata a 0.1. Le posizioni previste/attese dei pixel sono normalizzate con la dimensione dell’immagine, in modo da ottenere un punteggio in $\\left[ 0-1\\right]$."
   ]
  },
  {
   "attachments": {},
   "cell_type": "markdown",
   "metadata": {},
   "source": [
    "## Dataset"
   ]
  },
  {
   "attachments": {},
   "cell_type": "markdown",
   "metadata": {},
   "source": [
    "Le annotazioni di addestramento sono fornite come **maschere codificate in RLE** e le immagini sono in formato `*.png` a 16 bit e in **scala di grigi**.\n",
    "\n",
    "Ogni caso nel dataset è rappresentato da *più serie di slice di scansione* (ogni serie è identificata dal giorno in cui è stata effettuata la scansione). Alcuni dati sono divisi per tempo (i primi giorni di un caso sono nel training set, i giorni successivi sono nel test set), mentre altri sono divisi per caso - l'intero caso è nel training set o nel test set. \n",
    "\n",
    "L'obiettivo che ci si pone (sulla base della [competizione](https://www.kaggle.com/competitions/uw-madison-gi-tract-image-segmentation) da cui è tratto il problema) è quello di essere in grado di generalizzare sia casi parzialmente visti che **interamente non visti**."
   ]
  },
  {
   "attachments": {},
   "cell_type": "markdown",
   "metadata": {},
   "source": [
    "<style>\n",
    "  footer {\n",
    "    color: #0f5b99;\n",
    "    background-color: #f7f7f7;\n",
    "    align-items: center;\n",
    "    padding: 10px;\n",
    "    box-shadow: 0 2px 4px rgba(0,0,0,0.2);\n",
    "  }\n",
    "\n",
    "  footer ul {\n",
    "    width: 100%;\n",
    "    display: inline-flex;\n",
    "    justify-content: space-evenly;\n",
    "  }\n",
    "\n",
    "  footer ul>li {\n",
    "    list-style: none;\n",
    "    font-size: 16px;\n",
    "    margin: 10px;\n",
    "    text-shadow: 1px 1px #f7f7f7;\n",
    "  }\n",
    "\n",
    "  footer p {\n",
    "    font-family: 'Montserrat', 'Arial', sans-serif;\n",
    "    font-size: 16px;\n",
    "    margin: 10px;\n",
    "    text-shadow: 1px 1px #f7f7f7;\n",
    "  }\n",
    "</style>\n",
    "<a href=\"#inizio\">\n",
    "  <footer>\n",
    "    <ul>\n",
    "      <li><strong>Vincenzo Fardella</strong> & <strong>Mario Tortorici</strong></li>\n",
    "      <li><strong>Big Data</strong> &copy; <strong>2023</strong></li>\n",
    "      <li>Prof. <strong>Roberto Pirrone</strong></li>\n",
    "    </ul>\n",
    "  </footer>\n",
    "</a>"
   ]
  }
 ],
 "metadata": {
  "kernelspec": {
   "display_name": "Python 3 (ipykernel)",
   "language": "python",
   "name": "python3"
  },
  "language_info": {
   "codemirror_mode": {
    "name": "ipython",
    "version": 3
   },
   "file_extension": ".py",
   "mimetype": "text/x-python",
   "name": "python",
   "nbconvert_exporter": "python",
   "pygments_lexer": "ipython3",
   "version": "3.11.2"
  }
 },
 "nbformat": 4,
 "nbformat_minor": 2
}
